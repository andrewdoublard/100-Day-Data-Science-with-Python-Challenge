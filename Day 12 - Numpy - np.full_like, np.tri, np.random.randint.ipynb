{
 "cells": [
  {
   "cell_type": "markdown",
   "id": "356cf43c",
   "metadata": {},
   "source": [
    "## Exercise 1\n",
    "#### The following array is given:\n",
    "\n",
    "A = np.array([[4.99, 3.49, 9.99],\n",
    "              [1.99, 9.99, 14.99],\n",
    "              [14.99, 2.39, 7.29]])\n",
    "\n",
    "#### Using Numpy create an array of the same shape and data type as the given array and fill it with a constant value = 9.99. Print this array to the console.\n",
    "\n",
    "Tip: Use the np.full_like() function."
   ]
  },
  {
   "cell_type": "code",
   "execution_count": 1,
   "id": "91ca52fc",
   "metadata": {},
   "outputs": [
    {
     "name": "stdout",
     "output_type": "stream",
     "text": [
      "[[9.99 9.99 9.99]\n",
      " [9.99 9.99 9.99]\n",
      " [9.99 9.99 9.99]]\n"
     ]
    }
   ],
   "source": [
    "import numpy as np\n",
    "\n",
    "A = np.array([[4.99, 3.49, 9.99], \n",
    "              [1.99, 9.99, 14.99], \n",
    "              [14.99, 2.39, 7.29]])\n",
    "\n",
    "E1 = np.full_like(A, 9.99)\n",
    "\n",
    "print(E1)"
   ]
  },
  {
   "cell_type": "markdown",
   "id": "1d197a58",
   "metadata": {},
   "source": [
    "#### Note:\n",
    "\n",
    "- The np.full_like is used to create a new array with the same shape and type as a given array, but filled with a specified value. This function is useful when you want to initialize an array that matches the dimensions and type of another array but with a uniform value.\n",
    "\n",
    "\n",
    "- np.full_like(a, fill_value, dtype=None, order='K', subok=True, shape=None)"
   ]
  },
  {
   "cell_type": "markdown",
   "id": "ad33f02b",
   "metadata": {},
   "source": [
    "## Exercise 2\n",
    "#### Using Numpy create a two-dimensional array (lower triangular matrix):\n",
    "\n",
    "array([[1., 0., 0., 0., 0.],\n",
    "       [1., 1., 0., 0., 0.],\n",
    "       [1., 1., 1., 0., 0.],\n",
    "       [1., 1., 1., 1., 0.],\n",
    "       [1., 1., 1., 1., 1.]])\n",
    "\n",
    "#### In response, print result to the console.\n",
    "\n",
    "Tip: Use the np.tri() function."
   ]
  },
  {
   "cell_type": "code",
   "execution_count": 2,
   "id": "e4752e52",
   "metadata": {},
   "outputs": [
    {
     "name": "stdout",
     "output_type": "stream",
     "text": [
      "[[1. 0. 0. 0. 0.]\n",
      " [1. 1. 0. 0. 0.]\n",
      " [1. 1. 1. 0. 0.]\n",
      " [1. 1. 1. 1. 0.]\n",
      " [1. 1. 1. 1. 1.]]\n"
     ]
    }
   ],
   "source": [
    "E2 = np.tri(5, 5, k=0)\n",
    "print(E2)"
   ]
  },
  {
   "cell_type": "markdown",
   "id": "cd09186d",
   "metadata": {},
   "source": [
    "#### Note:\n",
    "\n",
    "The np.tri function in NumPy is used to create a triangular matrix, which is a matrix where all the elements above (or below) the main diagonal are zero"
   ]
  },
  {
   "cell_type": "markdown",
   "id": "b7139298",
   "metadata": {},
   "source": [
    "## Exercise 3\n",
    "#### Using Numpy create any 3-dimensional array with shape (2, 3, 4) and assign to variable A."
   ]
  },
  {
   "cell_type": "code",
   "execution_count": 8,
   "id": "eee9deac",
   "metadata": {},
   "outputs": [
    {
     "name": "stdout",
     "output_type": "stream",
     "text": [
      "[[[ 0  1  2  3]\n",
      "  [ 4  5  6  7]\n",
      "  [ 8  9 10 11]]\n",
      "\n",
      " [[12 13 14 15]\n",
      "  [16 17 18 19]\n",
      "  [20 21 22 23]]]\n"
     ]
    }
   ],
   "source": [
    "A = np.arange(24).reshape(2,3,4)\n",
    "print(A)"
   ]
  },
  {
   "cell_type": "markdown",
   "id": "e8bf1bbc",
   "metadata": {},
   "source": [
    "## Exercise 4\n",
    "#### Using Numpy create a two-dimensional array with shape of (200, 300) filled with random values from 0 to 255 (inclusive) with data type np.uint8."
   ]
  },
  {
   "cell_type": "code",
   "execution_count": 9,
   "id": "13928ed2",
   "metadata": {},
   "outputs": [
    {
     "name": "stdout",
     "output_type": "stream",
     "text": [
      "[[ 32 176 101 ...  73  23 245]\n",
      " [161 213 250 ... 249 232 176]\n",
      " [123  77 187 ... 178 194 111]\n",
      " ...\n",
      " [211 125 238 ...  54 105 162]\n",
      " [152 116 239 ...  96 171  48]\n",
      " [107   4   3 ...  32  14 219]]\n"
     ]
    }
   ],
   "source": [
    "E4 = np.random.randint(0, 255, (200,300), np.uint8)\n",
    "print(E4)"
   ]
  },
  {
   "cell_type": "markdown",
   "id": "253da860",
   "metadata": {},
   "source": [
    "#### Note:\n",
    "\n",
    "- The np.random.randint function in NumPy is used to generate an array of random integers within a specified range. This function is particularly useful for creating arrays of random integers for simulations, testing, and other applications that require random data.\n",
    "\n",
    "- np.random.randint(low, high=None, size=None, dtype=int)"
   ]
  }
 ],
 "metadata": {
  "kernelspec": {
   "display_name": "Python 3 (ipykernel)",
   "language": "python",
   "name": "python3"
  },
  "language_info": {
   "codemirror_mode": {
    "name": "ipython",
    "version": 3
   },
   "file_extension": ".py",
   "mimetype": "text/x-python",
   "name": "python",
   "nbconvert_exporter": "python",
   "pygments_lexer": "ipython3",
   "version": "3.9.13"
  }
 },
 "nbformat": 4,
 "nbformat_minor": 5
}
