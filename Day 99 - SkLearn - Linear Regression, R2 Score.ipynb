{
 "cells": [
  {
   "cell_type": "markdown",
   "id": "cb0e17a2",
   "metadata": {},
   "source": [
    "## Exercise 1:\n",
    "#### The load_boston() function from the scikit-learn package was used to load the data into the raw_data variable. Then, based on the 'data' and 'target' keys of the raw_data object, the df DataFrame was prepared as shown below:\n",
    "\n",
    "#### The df object was copied to the data variable. Then the target column was popped out from the data object and assigned to the target variable.\n",
    "\n",
    "#### Using the train_test_split() function, split the data (data, target) into train and test sets (use the parameter random_datate=42) and assign to the following variables:\n",
    "\n",
    "- data_train, target_train\n",
    "\n",
    "- data_test, target_test\n",
    "\n",
    "#### In response, print the shapes of the following objects: data_train, target_train, data_test, target_test"
   ]
  },
  {
   "cell_type": "code",
   "execution_count": 1,
   "id": "219541be",
   "metadata": {},
   "outputs": [
    {
     "name": "stdout",
     "output_type": "stream",
     "text": [
      "Shape of data_train = (15480, 8)\n",
      "Shape of target_train = (15480,)\n",
      "Shape of data_test = (5160, 8)\n",
      "Shape of target_test = (5160,)\n"
     ]
    }
   ],
   "source": [
    "import numpy as np\n",
    "import pandas as pd\n",
    "\n",
    "from sklearn.datasets import fetch_california_housing ## Changed due to unethical nature of load_boston\n",
    "from sklearn.model_selection import train_test_split\n",
    "\n",
    "\n",
    "pd.set_option('display.max_columns', 15)\n",
    "pd.set_option('display.width', 150)\n",
    "raw_data = fetch_california_housing()\n",
    "\n",
    "df = pd.DataFrame(\n",
    "    data=np.c_[raw_data.data, raw_data.target],\n",
    "    columns=list(raw_data.feature_names) + ['target'],\n",
    ")\n",
    "\n",
    "data = df.copy()\n",
    "target = data.pop('target')\n",
    "\n",
    "data_train, data_test, target_train, target_test = train_test_split(data, target, random_state = 42)\n",
    "\n",
    "print(f'Shape of data_train = {data_train.shape}')\n",
    "print(f'Shape of target_train = {target_train.shape}')\n",
    "print(f'Shape of data_test = {data_test.shape}')\n",
    "print(f'Shape of target_test = {target_test.shape}')"
   ]
  },
  {
   "cell_type": "markdown",
   "id": "9c45a6cf",
   "metadata": {},
   "source": [
    "## Exercise 2:\n",
    "\n",
    "- Using the LinearRegression class (with default parameters) from the scikit-learn package, create a linear regression model. Fit the model on the train data and evaluate on the test data.\n",
    "\n",
    "- In response, print the R^2 score of this model to the console as shown below."
   ]
  },
  {
   "cell_type": "code",
   "execution_count": 10,
   "id": "e00b294e",
   "metadata": {},
   "outputs": [
    {
     "name": "stdout",
     "output_type": "stream",
     "text": [
      "0.5911\n"
     ]
    }
   ],
   "source": [
    "from sklearn.linear_model import LinearRegression\n",
    "\n",
    "linreg = LinearRegression()\n",
    "\n",
    "linreg.fit(data_train, target_train)\n",
    "\n",
    "r2_score = linreg.score(data_test, target_test)\n",
    "\n",
    "print(f'{r2_score:.4f}')"
   ]
  }
 ],
 "metadata": {
  "kernelspec": {
   "display_name": "Python 3 (ipykernel)",
   "language": "python",
   "name": "python3"
  },
  "language_info": {
   "codemirror_mode": {
    "name": "ipython",
    "version": 3
   },
   "file_extension": ".py",
   "mimetype": "text/x-python",
   "name": "python",
   "nbconvert_exporter": "python",
   "pygments_lexer": "ipython3",
   "version": "3.9.13"
  }
 },
 "nbformat": 4,
 "nbformat_minor": 5
}
