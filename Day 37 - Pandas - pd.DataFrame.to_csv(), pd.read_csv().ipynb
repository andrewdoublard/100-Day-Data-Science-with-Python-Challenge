{
 "cells": [
  {
   "cell_type": "markdown",
   "id": "cbc958fd",
   "metadata": {},
   "source": [
    "## Exercise 1\n",
    "#### The following df DataFrame is given:\n",
    "#### Extract first 50 rows from the df object and save to the 'dataframe50.csv' file."
   ]
  },
  {
   "cell_type": "code",
   "execution_count": 2,
   "id": "6f14c0b1",
   "metadata": {},
   "outputs": [],
   "source": [
    "import numpy as np\n",
    "import pandas as pd\n",
    "\n",
    "\n",
    "np.random.seed(42)\n",
    "data_dict = {\n",
    "    'normal': np.random.normal(loc=0, scale=1, size=1000),\n",
    "    'uniform': np.random.uniform(low=0, high=1, size=1000),\n",
    "    'binomial': np.random.binomial(n=1, p=0.2, size=1000),\n",
    "}\n",
    "\n",
    "df = pd.DataFrame(\n",
    "    data=data_dict, index=pd.date_range('2020-01-01', periods=1000)\n",
    ")\n",
    "\n",
    "E1 = df.head(50)\n",
    "\n",
    "E1.to_csv('DS_100Day_Day37_E1.csv')"
   ]
  },
  {
   "cell_type": "markdown",
   "id": "22d5c947",
   "metadata": {},
   "source": [
    "#### Notes:\n",
    "\n",
    "- The to_csv() method in pandas is used to write a DataFrame to a CSV (Comma-Separated Values) file. \n",
    "    - path_or_buf: String or file handle, specifying the file path or object to write to.\n",
    "    - sep: String, default ',', the delimiter to use.\n",
    "    - index: Boolean, default True, whether to include the row index.\n",
    "    - header: Boolean or list of strings, default True, whether to include the header row.\n",
    "    - columns: List of strings, specifying which columns to write."
   ]
  },
  {
   "cell_type": "markdown",
   "id": "64eec9e8",
   "metadata": {},
   "source": [
    "## Exercise 2\n",
    "#### The 'dataframe50.csv' file is attached to this exercise. Load this file into the df_new variable (remember to load the index correctly) and print the df_new variable to the console."
   ]
  },
  {
   "cell_type": "code",
   "execution_count": 4,
   "id": "5a3fea7c",
   "metadata": {},
   "outputs": [
    {
     "name": "stdout",
     "output_type": "stream",
     "text": [
      "    Unnamed: 0    normal   uniform  binomial\n",
      "0   2020-01-01  0.496714  0.167483         0\n",
      "1   2020-01-02 -0.138264  0.104568         0\n",
      "2   2020-01-03  0.647689  0.636430         0\n",
      "3   2020-01-04  1.523030  0.706476         0\n",
      "4   2020-01-05 -0.234153  0.031586         1\n",
      "5   2020-01-06 -0.234137  0.936212         0\n",
      "6   2020-01-07  1.579213  0.051971         0\n",
      "7   2020-01-08  0.767435  0.541296         0\n",
      "8   2020-01-09 -0.469474  0.709061         1\n",
      "9   2020-01-10  0.542560  0.870969         0\n",
      "10  2020-01-11 -0.463418  0.714087         0\n",
      "11  2020-01-12 -0.465730  0.801728         0\n",
      "12  2020-01-13  0.241962  0.339450         0\n",
      "13  2020-01-14 -1.913280  0.814825         0\n",
      "14  2020-01-15 -1.724918  0.080115         0\n",
      "15  2020-01-16 -0.562288  0.894817         1\n",
      "16  2020-01-17 -1.012831  0.547592         0\n",
      "17  2020-01-18  0.314247  0.817298         0\n",
      "18  2020-01-19 -0.908024  0.452318         1\n",
      "19  2020-01-20 -1.412304  0.643578         0\n",
      "20  2020-01-21  1.465649  0.526403         0\n",
      "21  2020-01-22 -0.225776  0.731590         0\n",
      "22  2020-01-23  0.067528  0.081630         0\n",
      "23  2020-01-24 -1.424748  0.060352         0\n",
      "24  2020-01-25 -0.544383  0.247103         1\n",
      "25  2020-01-26  0.110923  0.159545         0\n",
      "26  2020-01-27 -1.150994  0.871784         0\n",
      "27  2020-01-28  0.375698  0.219214         0\n",
      "28  2020-01-29 -0.600639  0.975865         1\n",
      "29  2020-01-30 -0.291694  0.336896         1\n",
      "30  2020-01-31 -0.601707  0.182118         1\n",
      "31  2020-02-01  1.852278  0.789699         0\n",
      "32  2020-02-02 -0.013497  0.658708         0\n",
      "33  2020-02-03 -1.057711  0.498196         0\n",
      "34  2020-02-04  0.822545  0.555364         0\n",
      "35  2020-02-05 -1.220844  0.719202         0\n",
      "36  2020-02-06  0.208864  0.228455         0\n",
      "37  2020-02-07 -1.959670  0.996334         0\n",
      "38  2020-02-08 -1.328186  0.974793         0\n",
      "39  2020-02-09  0.196861  0.650326         0\n",
      "40  2020-02-10  0.738467  0.199542         0\n",
      "41  2020-02-11  0.171368  0.680228         0\n",
      "42  2020-02-12 -0.115648  0.072198         0\n",
      "43  2020-02-13 -0.301104  0.030653         0\n",
      "44  2020-02-14 -1.478522  0.257683         0\n",
      "45  2020-02-15 -0.719844  0.462623         0\n",
      "46  2020-02-16 -0.460639  0.868273         0\n",
      "47  2020-02-17  1.057122  0.727169         0\n",
      "48  2020-02-18  0.343618  0.742707         1\n",
      "49  2020-02-19 -1.763040  0.425493         0\n"
     ]
    }
   ],
   "source": [
    "df_new = pd.read_csv('DS_100Day_Day37_E1.csv')\n",
    "\n",
    "print(df_new)"
   ]
  },
  {
   "cell_type": "markdown",
   "id": "4f383f00",
   "metadata": {},
   "source": [
    "#### Notes:\n",
    "\n",
    "- The read_csv() method in pandas is used to read a CSV (Comma-Separated Values) file into a DataFrame. It offers various options to customize how the data is read, such as specifying the delimiter, defining column names, setting index columns, selecting specific columns to load, and parsing dates."
   ]
  }
 ],
 "metadata": {
  "kernelspec": {
   "display_name": "Python 3 (ipykernel)",
   "language": "python",
   "name": "python3"
  },
  "language_info": {
   "codemirror_mode": {
    "name": "ipython",
    "version": 3
   },
   "file_extension": ".py",
   "mimetype": "text/x-python",
   "name": "python",
   "nbconvert_exporter": "python",
   "pygments_lexer": "ipython3",
   "version": "3.9.13"
  }
 },
 "nbformat": 4,
 "nbformat_minor": 5
}
