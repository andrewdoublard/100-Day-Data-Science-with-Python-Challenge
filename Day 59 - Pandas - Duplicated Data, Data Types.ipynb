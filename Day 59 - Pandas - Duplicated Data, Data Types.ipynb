{
 "cells": [
  {
   "cell_type": "markdown",
   "id": "81f0808f",
   "metadata": {},
   "source": [
    "## Exercise 1\n",
    "#### The df DataFrame is given below. Check for duplicate rows in this object and print these row/rows."
   ]
  },
  {
   "cell_type": "code",
   "execution_count": 2,
   "id": "77eece46",
   "metadata": {},
   "outputs": [
    {
     "name": "stdout",
     "output_type": "stream",
     "text": [
      "     age   sex    bmi  children smoker     region    charges\n",
      "581   19  male  30.59         0     no  northwest  1639.5631\n"
     ]
    }
   ],
   "source": [
    "import pandas as pd\n",
    "\n",
    "\n",
    "url = (\n",
    "    'https://storage.googleapis.com/esmartdata-courses-files/'\n",
    "    'ml-course/insurance.csv'\n",
    ")\n",
    "df = pd.read_csv(url)\n",
    "\n",
    "print(df[df.duplicated()])"
   ]
  },
  {
   "cell_type": "markdown",
   "id": "0307e01d",
   "metadata": {},
   "source": [
    "#### Notes:\n",
    "\n",
    "- The .duplicated() method in pandas is used to identify duplicate rows in a DataFrame or Series. It returns a Boolean Series indicating whether each row is a duplicate or not. This method is helpful for filtering out or flagging duplicate data."
   ]
  },
  {
   "cell_type": "markdown",
   "id": "8a99f262",
   "metadata": {},
   "source": [
    "## Exercise 2\n",
    "#### The df DataFrame is given below. Remove duplicates from this object.\n",
    "\n",
    "#### In response, using pd.DataFrame.info() print some information about this DataFrame to the console."
   ]
  },
  {
   "cell_type": "code",
   "execution_count": 3,
   "id": "281f0786",
   "metadata": {},
   "outputs": [
    {
     "name": "stdout",
     "output_type": "stream",
     "text": [
      "<class 'pandas.core.frame.DataFrame'>\n",
      "Int64Index: 1337 entries, 0 to 1337\n",
      "Data columns (total 7 columns):\n",
      " #   Column    Non-Null Count  Dtype  \n",
      "---  ------    --------------  -----  \n",
      " 0   age       1337 non-null   int64  \n",
      " 1   sex       1337 non-null   object \n",
      " 2   bmi       1337 non-null   float64\n",
      " 3   children  1337 non-null   int64  \n",
      " 4   smoker    1337 non-null   object \n",
      " 5   region    1337 non-null   object \n",
      " 6   charges   1337 non-null   float64\n",
      "dtypes: float64(2), int64(2), object(3)\n",
      "memory usage: 83.6+ KB\n",
      "None\n"
     ]
    }
   ],
   "source": [
    "df.drop(df[df.duplicated()].index, inplace=True)\n",
    "\n",
    "print(df.info())"
   ]
  },
  {
   "cell_type": "markdown",
   "id": "8f7ab483",
   "metadata": {},
   "source": [
    "#### Notes:\n",
    "\n",
    "- .index will recieve the index of the duplicate(s) so the drop function can delete the row(s).\n",
    "- The drop_duplicates() method is the easiest way however, as it is a built-in function that allows you to remove duplicate rows from a DataFrame."
   ]
  },
  {
   "cell_type": "markdown",
   "id": "4c73f65d",
   "metadata": {},
   "source": [
    "## Exercise 3\n",
    "#### The df DataFrame is given below. Print to the console only columns with the object type.\n",
    "Tip: Use the pd.DataFrame.select_dtypes()."
   ]
  },
  {
   "cell_type": "code",
   "execution_count": 5,
   "id": "f7251366",
   "metadata": {},
   "outputs": [
    {
     "name": "stdout",
     "output_type": "stream",
     "text": [
      "         sex smoker     region\n",
      "0     female    yes  southwest\n",
      "1       male     no  southeast\n",
      "2       male     no  southeast\n",
      "3       male     no  northwest\n",
      "4       male     no  northwest\n",
      "...      ...    ...        ...\n",
      "1333    male     no  northwest\n",
      "1334  female     no  northeast\n",
      "1335  female     no  southeast\n",
      "1336  female     no  southwest\n",
      "1337  female    yes  northwest\n",
      "\n",
      "[1337 rows x 3 columns]\n"
     ]
    }
   ],
   "source": [
    "print(df.select_dtypes(include = 'object'))"
   ]
  },
  {
   "cell_type": "markdown",
   "id": "92787576",
   "metadata": {},
   "source": [
    "#### Notes:\n",
    "\n",
    "- The select_dtypes() method in pandas is used to select columns in a DataFrame based on their data types. This is particularly useful when you want to perform operations on columns of a specific type."
   ]
  }
 ],
 "metadata": {
  "kernelspec": {
   "display_name": "Python 3 (ipykernel)",
   "language": "python",
   "name": "python3"
  },
  "language_info": {
   "codemirror_mode": {
    "name": "ipython",
    "version": 3
   },
   "file_extension": ".py",
   "mimetype": "text/x-python",
   "name": "python",
   "nbconvert_exporter": "python",
   "pygments_lexer": "ipython3",
   "version": "3.9.13"
  }
 },
 "nbformat": 4,
 "nbformat_minor": 5
}
