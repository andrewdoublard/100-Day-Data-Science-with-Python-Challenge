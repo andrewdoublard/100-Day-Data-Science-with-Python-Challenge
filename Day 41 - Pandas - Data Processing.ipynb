{
 "cells": [
  {
   "cell_type": "markdown",
   "id": "f21e774d",
   "metadata": {},
   "source": [
    "## Exercise 1\n",
    "#### The following url is given:\n",
    "#### Using pandas load this file into DataFrame and assign to the df variable. In response, print the first five rows to the console."
   ]
  },
  {
   "cell_type": "code",
   "execution_count": 3,
   "id": "7c66f18a",
   "metadata": {},
   "outputs": [
    {
     "name": "stdout",
     "output_type": "stream",
     "text": [
      "   customerID  gender  SeniorCitizen Partner Dependents  tenure PhoneService  \\\n",
      "0  7590-VHVEG  Female              0     Yes         No       1           No   \n",
      "1  5575-GNVDE    Male              0      No         No      34          Yes   \n",
      "2  3668-QPYBK    Male              0      No         No       2          Yes   \n",
      "3  7795-CFOCW    Male              0      No         No      45           No   \n",
      "4  9237-HQITU  Female              0      No         No       2          Yes   \n",
      "\n",
      "      MultipleLines InternetService OnlineSecurity  ... DeviceProtection  \\\n",
      "0  No phone service             DSL             No  ...               No   \n",
      "1                No             DSL            Yes  ...              Yes   \n",
      "2                No             DSL            Yes  ...               No   \n",
      "3  No phone service             DSL            Yes  ...              Yes   \n",
      "4                No     Fiber optic             No  ...               No   \n",
      "\n",
      "  TechSupport StreamingTV StreamingMovies        Contract PaperlessBilling  \\\n",
      "0          No          No              No  Month-to-month              Yes   \n",
      "1          No          No              No        One year               No   \n",
      "2          No          No              No  Month-to-month              Yes   \n",
      "3         Yes          No              No        One year               No   \n",
      "4          No          No              No  Month-to-month              Yes   \n",
      "\n",
      "               PaymentMethod MonthlyCharges  TotalCharges Churn  \n",
      "0           Electronic check          29.85         29.85    No  \n",
      "1               Mailed check          56.95        1889.5    No  \n",
      "2               Mailed check          53.85        108.15   Yes  \n",
      "3  Bank transfer (automatic)          42.30       1840.75    No  \n",
      "4           Electronic check          70.70        151.65   Yes  \n",
      "\n",
      "[5 rows x 21 columns]\n"
     ]
    }
   ],
   "source": [
    "import pandas as pd\n",
    " \n",
    " \n",
    "URL = (\n",
    "    'https://ml-repository-krakers.s3-eu-west-1.amazonaws.com/kaggle+/'\n",
    "    'churn_modelling/Telco-Customer-Churn.csv'\n",
    ")\n",
    "\n",
    "df = pd.read_csv(URL)\n",
    "\n",
    "print(df.head(5))"
   ]
  },
  {
   "cell_type": "markdown",
   "id": "37825c53",
   "metadata": {},
   "source": [
    "#### Notes:\n",
    "\n",
    "- URL strings are used for accessing and retrieving data from web servers and other online resources."
   ]
  },
  {
   "cell_type": "markdown",
   "id": "7c4def6f",
   "metadata": {},
   "source": [
    "## Exercise 2\n",
    "#### The df DataFrame is given below. Calculate the number of missing values for each variable. In response, print result to the console."
   ]
  },
  {
   "cell_type": "code",
   "execution_count": 5,
   "id": "616f7ece",
   "metadata": {},
   "outputs": [
    {
     "name": "stdout",
     "output_type": "stream",
     "text": [
      "customerID          0\n",
      "gender              0\n",
      "SeniorCitizen       0\n",
      "Partner             0\n",
      "Dependents          0\n",
      "tenure              0\n",
      "PhoneService        0\n",
      "MultipleLines       0\n",
      "InternetService     0\n",
      "OnlineSecurity      0\n",
      "OnlineBackup        0\n",
      "DeviceProtection    0\n",
      "TechSupport         0\n",
      "StreamingTV         0\n",
      "StreamingMovies     0\n",
      "Contract            0\n",
      "PaperlessBilling    0\n",
      "PaymentMethod       0\n",
      "MonthlyCharges      0\n",
      "TotalCharges        0\n",
      "Churn               0\n",
      "dtype: int64\n"
     ]
    }
   ],
   "source": [
    "print(df.isnull().sum())"
   ]
  },
  {
   "cell_type": "markdown",
   "id": "046dbf87",
   "metadata": {},
   "source": [
    "#### Notes:\n",
    "\n",
    "- isnull(): Identifies missing values in the DataFrame and returns a DataFrame of the same shape with True (missing) and False (not missing) values.\n",
    "- sum(): Aggregates the count of missing values for each column."
   ]
  },
  {
   "cell_type": "markdown",
   "id": "69395385",
   "metadata": {},
   "source": [
    "## Exercise 3\n",
    "#### The df DataFrame is given below. Please note the TotalCharges column. The type of this column is set to object. Try to guess why this happened.\n",
    "\n",
    "- Tip: Look at the distribution of this variable.\n",
    "\n",
    "#### We have a space character in this column. In this case, pandas read the entire column as an object type. As an analyst, we have to deal with such problems.\n",
    "\n",
    "#### Try to replace this missing values of the TotalCharges column with its median.\n",
    "\n",
    "#### In response, print distribution of the TotalCharges variable to the console."
   ]
  },
  {
   "cell_type": "code",
   "execution_count": 8,
   "id": "03f53acf",
   "metadata": {},
   "outputs": [
    {
     "name": "stdout",
     "output_type": "stream",
     "text": [
      "1397.475    11\n",
      "20.200      11\n",
      "19.750       9\n",
      "20.050       8\n",
      "19.900       8\n",
      "            ..\n",
      "6849.400     1\n",
      "692.350      1\n",
      "130.150      1\n",
      "3211.900     1\n",
      "6844.500     1\n",
      "Name: TotalCharges, Length: 6531, dtype: int64\n"
     ]
    }
   ],
   "source": [
    "# Calculation of the median for the TotalCharges column\n",
    "median = df['TotalCharges'][df['TotalCharges'] != ' '].median()\n",
    " \n",
    "# Fill the missing values with median\n",
    "df.loc[df['TotalCharges'] == ' ', 'TotalCharges'] = median\n",
    " \n",
    "# Convert TotalCharges column to float type\n",
    "df['TotalCharges'] = df['TotalCharges'].astype('float')\n",
    " \n",
    "print(df['TotalCharges'].value_counts())"
   ]
  },
  {
   "cell_type": "markdown",
   "id": "89f347fd",
   "metadata": {},
   "source": [
    "#### Notes:\n",
    "\n",
    "- 1) Calculates of the median for the TotalCharges column, using filtering (which returns a boolean series) to exclude any spaces that represent missing or invalid data.\n",
    "- 2) Replaces any spaces (missing values) in the TotalCharges column with the calculated median.\n",
    "- 3) The TotalCharges column is converted to a float type for analysis and calculations.\n",
    "- 4) The value_counts() method is called on the TotalCharges column to display the frequency of unique values. This is useful for understanding the distribution of values in the column."
   ]
  }
 ],
 "metadata": {
  "kernelspec": {
   "display_name": "Python 3 (ipykernel)",
   "language": "python",
   "name": "python3"
  },
  "language_info": {
   "codemirror_mode": {
    "name": "ipython",
    "version": 3
   },
   "file_extension": ".py",
   "mimetype": "text/x-python",
   "name": "python",
   "nbconvert_exporter": "python",
   "pygments_lexer": "ipython3",
   "version": "3.9.13"
  }
 },
 "nbformat": 4,
 "nbformat_minor": 5
}
