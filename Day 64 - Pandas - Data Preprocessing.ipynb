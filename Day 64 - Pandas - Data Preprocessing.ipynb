{
 "cells": [
  {
   "cell_type": "markdown",
   "id": "7644eaa6",
   "metadata": {},
   "source": [
    "## Exercise 1\n",
    "#### The df DataFrame is given below. Convert following columns:\n",
    "\n",
    "- size -> category\n",
    "\n",
    "- color -> category\n",
    "\n",
    "- gender -> category\n",
    "\n",
    "- weight -> float\n",
    "\n",
    "- bought -> category\n",
    "\n",
    "#### In response, print basic information about this DataFrame to the console."
   ]
  },
  {
   "cell_type": "code",
   "execution_count": 9,
   "id": "3e5b3f53",
   "metadata": {},
   "outputs": [
    {
     "name": "stdout",
     "output_type": "stream",
     "text": [
      "<class 'pandas.core.frame.DataFrame'>\n",
      "RangeIndex: 5 entries, 0 to 4\n",
      "Data columns (total 6 columns):\n",
      " #   Column  Non-Null Count  Dtype   \n",
      "---  ------  --------------  -----   \n",
      " 0   size    5 non-null      category\n",
      " 1   color   5 non-null      category\n",
      " 2   gender  5 non-null      category\n",
      " 3   price   5 non-null      float64 \n",
      " 4   weight  5 non-null      int64   \n",
      " 5   bought  5 non-null      category\n",
      "dtypes: category(4), float64(1), int64(1)\n",
      "memory usage: 740.0 bytes\n",
      "None\n"
     ]
    }
   ],
   "source": [
    "import pandas as pd\n",
    "\n",
    "\n",
    "data = {\n",
    "    'size': ['XL', 'L', 'M', 'L', 'M'],\n",
    "    'color': ['red', 'green', 'blue', 'green', 'red'],\n",
    "    'gender': ['female', 'male', 'male', 'female', 'female'],\n",
    "    'price': [199.0, 89.0, 99.0, 129.0, 79.0],\n",
    "    'weight': [500, 450, 300, 380, 410],\n",
    "    'bought': ['yes', 'no', 'yes', 'no', 'yes']\n",
    "}\n",
    "\n",
    "df = pd.DataFrame(data)\n",
    "\n",
    "## Iterating over a list of the columns to change to category type\n",
    "for col in list(df[['size', 'color', 'gender', 'bought']].columns):\n",
    "    df[col] = df[col].astype('category')\n",
    "\n",
    "## Setting the sole column to change to float type.\n",
    "df['weight'].astype('float64')\n",
    "\n",
    "#print\n",
    "print(df.info())"
   ]
  },
  {
   "cell_type": "markdown",
   "id": "33265d7f",
   "metadata": {},
   "source": [
    "## Exercise 2\n",
    "#### The df DataFrame is given below. Using the pd.get_dummies() function, transform all categorical variables to 0-1 encoding as shown below and print result to the console."
   ]
  },
  {
   "cell_type": "code",
   "execution_count": 14,
   "id": "4015c6f7",
   "metadata": {},
   "outputs": [
    {
     "name": "stdout",
     "output_type": "stream",
     "text": [
      "   price  weight  size_L  size_M  size_XL  color_blue  color_green  color_red  \\\n",
      "0  199.0     500       0       0        1           0            0          1   \n",
      "1   89.0     450       1       0        0           0            1          0   \n",
      "2   99.0     300       0       1        0           1            0          0   \n",
      "3  129.0     380       1       0        0           0            1          0   \n",
      "4   79.0     410       0       1        0           0            0          1   \n",
      "\n",
      "   gender_female  gender_male  bought_no  bought_yes  \n",
      "0              1            0          0           1  \n",
      "1              0            1          1           0  \n",
      "2              0            1          0           1  \n",
      "3              1            0          1           0  \n",
      "4              1            0          0           1  \n"
     ]
    }
   ],
   "source": [
    "\n",
    "print(pd.get_dummies(df))"
   ]
  },
  {
   "cell_type": "markdown",
   "id": "915325a2",
   "metadata": {},
   "source": [
    "## Exercise 3\n",
    "#### The df DataFrame is given below. Using the get_dummies() function, transform all categorical variables to 0-1 encoding as shown below. Use the drop_first=True argument.\n",
    "\n",
    "#### In response, print result to the console."
   ]
  },
  {
   "cell_type": "code",
   "execution_count": 13,
   "id": "4354bbd2",
   "metadata": {},
   "outputs": [
    {
     "name": "stdout",
     "output_type": "stream",
     "text": [
      "   price  weight  size_M  size_XL  color_green  color_red  gender_male  \\\n",
      "0  199.0     500       0        1            0          1            0   \n",
      "1   89.0     450       0        0            1          0            1   \n",
      "2   99.0     300       1        0            0          0            1   \n",
      "3  129.0     380       0        0            1          0            0   \n",
      "4   79.0     410       1        0            0          1            0   \n",
      "\n",
      "   bought_yes  \n",
      "0           1  \n",
      "1           0  \n",
      "2           1  \n",
      "3           0  \n",
      "4           1  \n"
     ]
    }
   ],
   "source": [
    "print(pd.get_dummies(df, drop_first = True))"
   ]
  }
 ],
 "metadata": {
  "kernelspec": {
   "display_name": "Python 3 (ipykernel)",
   "language": "python",
   "name": "python3"
  },
  "language_info": {
   "codemirror_mode": {
    "name": "ipython",
    "version": 3
   },
   "file_extension": ".py",
   "mimetype": "text/x-python",
   "name": "python",
   "nbconvert_exporter": "python",
   "pygments_lexer": "ipython3",
   "version": "3.9.13"
  }
 },
 "nbformat": 4,
 "nbformat_minor": 5
}
