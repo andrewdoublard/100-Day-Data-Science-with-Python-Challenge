{
 "cells": [
  {
   "cell_type": "markdown",
   "id": "05fcdffc",
   "metadata": {},
   "source": [
    "## Exercise 1\n",
    "#### Convert the first column of the companies DataFrame to index. In response, print companies DataFrame to the console."
   ]
  },
  {
   "cell_type": "code",
   "execution_count": 1,
   "id": "15c9479b",
   "metadata": {},
   "outputs": [
    {
     "name": "stdout",
     "output_type": "stream",
     "text": [
      "            price   ticker\n",
      "company                   \n",
      "Amazon     2375.0  AMZN.US\n",
      "Microsoft   178.6  MSFT.US\n",
      "Facebook    179.2    FB.US\n"
     ]
    }
   ],
   "source": [
    "import pandas as pd\n",
    "\n",
    "\n",
    "data_dict = {\n",
    "    'company': ['Amazon', 'Microsoft', 'Facebook'],\n",
    "    'price': [2375.00, 178.6, 179.2],\n",
    "    'ticker': ['AMZN.US', 'MSFT.US', 'FB.US']\n",
    "}\n",
    "\n",
    "companies = pd.DataFrame(data=data_dict)\n",
    "\n",
    "E1 = companies.set_index('company')\n",
    "\n",
    "print(E1)"
   ]
  },
  {
   "cell_type": "markdown",
   "id": "c507cefb",
   "metadata": {},
   "source": [
    "#### Note:\n",
    "\n",
    "- set_index: Use this method to set a specific column as the index."
   ]
  },
  {
   "cell_type": "markdown",
   "id": "6f02b082",
   "metadata": {},
   "source": [
    "## Exercise 2\n",
    "#### Create the DatetimeIndex object containing the yyyy-mm-dd format dates for all days from January 2020 and assign it to the date_range variable. In response, print this variable to the console."
   ]
  },
  {
   "cell_type": "code",
   "execution_count": 3,
   "id": "f228e1a7",
   "metadata": {},
   "outputs": [
    {
     "name": "stdout",
     "output_type": "stream",
     "text": [
      "DatetimeIndex(['2020-01-01', '2020-01-02', '2020-01-03', '2020-01-04',\n",
      "               '2020-01-05', '2020-01-06', '2020-01-07', '2020-01-08',\n",
      "               '2020-01-09', '2020-01-10',\n",
      "               ...\n",
      "               '2021-01-22', '2021-01-23', '2021-01-24', '2021-01-25',\n",
      "               '2021-01-26', '2021-01-27', '2021-01-28', '2021-01-29',\n",
      "               '2021-01-30', '2021-01-31'],\n",
      "              dtype='datetime64[ns]', length=397, freq='D')\n"
     ]
    }
   ],
   "source": [
    "E2 = pd.date_range(start='2020-01-01', end='2021-01-31', periods=None, freq='D')\n",
    "\n",
    "print(E2)"
   ]
  },
  {
   "cell_type": "markdown",
   "id": "16a0c667",
   "metadata": {},
   "source": [
    "#### Note:\n",
    "\n",
    "- If you specify start and periods: The date range will begin at the start date and extend for the specified number of periods, each separated by the frequency freq (default is daily).\n",
    "- If you specify end and periods: The date range will end at the end date and go backward for the specified number of periods, each separated by the frequency freq.\n",
    "- If you specify start, end, and periods: This will raise an error because pd.date_range cannot handle all three parameters together as it creates ambiguity."
   ]
  },
  {
   "cell_type": "markdown",
   "id": "22c5fdae",
   "metadata": {},
   "source": [
    "## Exercise 3\n",
    "#### Create the DatetimeIndex object containing the dates in the yyyy-mm-dd format for all Mondays from 2020 and assign it to the date_range variable. Print this variable to the console."
   ]
  },
  {
   "cell_type": "code",
   "execution_count": 6,
   "id": "73f13982",
   "metadata": {},
   "outputs": [
    {
     "name": "stdout",
     "output_type": "stream",
     "text": [
      "DatetimeIndex(['2020-01-06', '2020-01-13', '2020-01-20', '2020-01-27',\n",
      "               '2020-02-03', '2020-02-10', '2020-02-17', '2020-02-24',\n",
      "               '2020-03-02', '2020-03-09', '2020-03-16', '2020-03-23',\n",
      "               '2020-03-30', '2020-04-06', '2020-04-13', '2020-04-20',\n",
      "               '2020-04-27', '2020-05-04', '2020-05-11', '2020-05-18',\n",
      "               '2020-05-25', '2020-06-01', '2020-06-08', '2020-06-15',\n",
      "               '2020-06-22', '2020-06-29', '2020-07-06', '2020-07-13',\n",
      "               '2020-07-20', '2020-07-27', '2020-08-03', '2020-08-10',\n",
      "               '2020-08-17', '2020-08-24', '2020-08-31', '2020-09-07',\n",
      "               '2020-09-14', '2020-09-21', '2020-09-28', '2020-10-05',\n",
      "               '2020-10-12', '2020-10-19', '2020-10-26', '2020-11-02',\n",
      "               '2020-11-09', '2020-11-16', '2020-11-23', '2020-11-30',\n",
      "               '2020-12-07', '2020-12-14', '2020-12-21', '2020-12-28'],\n",
      "              dtype='datetime64[ns]', freq='W-MON')\n"
     ]
    }
   ],
   "source": [
    "date_range = pd.date_range(start = '2020-01-01', end = '2020-12-31', freq = 'W-MON')\n",
    "\n",
    "print(date_range)"
   ]
  },
  {
   "cell_type": "markdown",
   "id": "92ed9dd8",
   "metadata": {},
   "source": [
    "#### Notes\n",
    "\n",
    "- Main freq:\n",
    "\n",
    "    - 'B': Business day frequency (excluding weekends).\n",
    "    - 'C': Custom business day frequency (excluding weekends and holidays if specified).\n",
    "    - 'D': Daily frequency.\n",
    "    - 'W': Weekly frequency (default is Sunday).\n",
    "    - 'W-MON': Weekly frequency with Mondays. (MON, TUE,...)\n",
    "    - 'M': Month end frequency.\n",
    "    - 'MS': Month start frequency.\n",
    "    - 'Q': Quarter end frequency.\n",
    "    - 'QS': Quarter start frequency."
   ]
  }
 ],
 "metadata": {
  "kernelspec": {
   "display_name": "Python 3 (ipykernel)",
   "language": "python",
   "name": "python3"
  },
  "language_info": {
   "codemirror_mode": {
    "name": "ipython",
    "version": 3
   },
   "file_extension": ".py",
   "mimetype": "text/x-python",
   "name": "python",
   "nbconvert_exporter": "python",
   "pygments_lexer": "ipython3",
   "version": "3.9.13"
  }
 },
 "nbformat": 4,
 "nbformat_minor": 5
}
