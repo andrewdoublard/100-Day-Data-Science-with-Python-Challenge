{
 "cells": [
  {
   "cell_type": "markdown",
   "id": "97154895",
   "metadata": {},
   "source": [
    "## Exercise 1:\n",
    "#### The load_boston() function from the scikit-learn package was used to load the data into the raw_data variable. Then, based on the 'data' and 'target' keys of the raw_data object, the df DataFrame was prepared as shown below:\n",
    "\n",
    "#### The df object was copied to the data variable. Then the target column was popped out from the data object and assigned to the target variable.\n",
    "\n",
    "#### Using the train_test_split() function, the data (data, target) was splitted into train and test sets and assigned to the variables:\n",
    "\n",
    "- data_train, target_train\n",
    "\n",
    "- data_test, target_test\n",
    "\n",
    "#### The LinearRegression class from the scikit-learn package was used to create a linear regression model. The model was fitted on the training data. Make predictions based on the model on the test data and assign the result to target_pred variable. In response, print this variable to the console."
   ]
  },
  {
   "cell_type": "code",
   "execution_count": 1,
   "id": "6a76b074",
   "metadata": {},
   "outputs": [
    {
     "name": "stdout",
     "output_type": "stream",
     "text": [
      "[0.72412832 1.76677807 2.71151581 ... 1.72382152 2.34689276 3.52917352]\n"
     ]
    }
   ],
   "source": [
    "import numpy as np\n",
    "import pandas as pd\n",
    "\n",
    "from sklearn.datasets import fetch_california_housing ## Changed due to unethical nature of load_boston\n",
    "from sklearn.model_selection import train_test_split\n",
    "from sklearn.linear_model import LinearRegression\n",
    "\n",
    "\n",
    "pd.set_option('display.max_columns', 15)\n",
    "pd.set_option('display.width', 150)\n",
    "raw_data = fetch_california_housing()\n",
    "\n",
    "df = pd.DataFrame(\n",
    "    data=np.c_[raw_data.data, raw_data.target],\n",
    "    columns=list(raw_data.feature_names) + ['target'],\n",
    ")\n",
    "\n",
    "data = df.copy()\n",
    "target = data.pop('target')\n",
    "\n",
    "(\n",
    "    data_train,\n",
    "    data_test,\n",
    "    target_train,\n",
    "    target_test,\n",
    ") = train_test_split(data, target, random_state=42)\n",
    "\n",
    "regressor = LinearRegression()\n",
    "regressor.fit(data_train, target_train)\n",
    "\n",
    "target_pred = regressor.predict(data_test)\n",
    "\n",
    "print(target_pred)"
   ]
  },
  {
   "cell_type": "markdown",
   "id": "faba1110",
   "metadata": {},
   "source": [
    "## Exercise 2:\n",
    "\n",
    "#### Create a new DataFrame object named predictions that will have four columns:\n",
    "\n",
    "- target_test\n",
    "\n",
    "- target_pred\n",
    "\n",
    "- error (the difference between target_pred and target_test)\n",
    "\n",
    "- abs_error (the absolute value of the error column)\n",
    "\n",
    "#### In response, print the first ten rows of the predictions DataFrame to the console."
   ]
  },
  {
   "cell_type": "code",
   "execution_count": 9,
   "id": "e1584fcb",
   "metadata": {},
   "outputs": [
    {
     "name": "stdout",
     "output_type": "stream",
     "text": [
      "   target_test  target_pred     error  abs_error\n",
      "0      0.47700     0.724128  0.247128   0.247128\n",
      "1      0.45800     1.766778  1.308778   1.308778\n",
      "2      5.00001     2.711516 -2.288494   2.288494\n",
      "3      2.18600     2.836012  0.650012   0.650012\n",
      "4      2.78000     2.603755 -0.176245   0.176245\n",
      "5      1.58700     2.011968  0.424968   0.424968\n",
      "6      1.98200     2.640159  0.658159   0.658159\n",
      "7      1.57500     2.166153  0.591153   0.591153\n",
      "8      3.40000     2.746566 -0.653434   0.653434\n",
      "9      4.46600     3.904158 -0.561842   0.561842\n"
     ]
    }
   ],
   "source": [
    "target_to_df = np.column_stack((target_test, target_pred))\n",
    "\n",
    "predictions = pd.DataFrame(data = target_to_df, columns = ['target_test', 'target_pred'])\n",
    "\n",
    "predictions['error'] = predictions['target_pred'] - predictions['target_test']\n",
    "predictions['abs_error'] = np.abs(predictions['target_pred'] - predictions['target_test'])\n",
    "\n",
    "print(predictions.head(10))"
   ]
  },
  {
   "cell_type": "markdown",
   "id": "73c6a794",
   "metadata": {},
   "source": [
    "## Exercise 3:\n",
    "\n",
    "#### Use the GradientBoostingRegressor class (with the parameter random_state=42) from the scikit-learn package to create a regression model. Fit the model on the train data and evaluate on the test data. In response, print R^2 score of this model to the console as shown below."
   ]
  },
  {
   "cell_type": "code",
   "execution_count": 11,
   "id": "6fe8f4ca",
   "metadata": {},
   "outputs": [
    {
     "name": "stdout",
     "output_type": "stream",
     "text": [
      "0.7811978514001833\n"
     ]
    }
   ],
   "source": [
    "from sklearn.ensemble import GradientBoostingRegressor\n",
    "\n",
    "gbreg = GradientBoostingRegressor(random_state = 42)\n",
    "\n",
    "gbreg.fit(data_train, target_train)\n",
    "\n",
    "score = gbreg.score(data_test, target_test)\n",
    "\n",
    "print(score)"
   ]
  }
 ],
 "metadata": {
  "kernelspec": {
   "display_name": "Python 3 (ipykernel)",
   "language": "python",
   "name": "python3"
  },
  "language_info": {
   "codemirror_mode": {
    "name": "ipython",
    "version": 3
   },
   "file_extension": ".py",
   "mimetype": "text/x-python",
   "name": "python",
   "nbconvert_exporter": "python",
   "pygments_lexer": "ipython3",
   "version": "3.9.13"
  }
 },
 "nbformat": 4,
 "nbformat_minor": 5
}
