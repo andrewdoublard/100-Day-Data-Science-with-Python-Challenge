{
 "cells": [
  {
   "cell_type": "markdown",
   "id": "766b9872",
   "metadata": {},
   "source": [
    "## Exercise 1:\n",
    "#### The predictions.csv file contains predictions for a certain regression model:\n",
    "\n",
    "- y_true describes the actual, observed values\n",
    "\n",
    "- y_pred describes the values predicted by model\n",
    "\n",
    "#### Load this file into a DataFrame. Then implement a function called mean_absolute_error() that computes the mean absolute error.\n",
    "\n",
    "#### Using this function, calculate the MAE value for this model and print result to the console as shown below."
   ]
  },
  {
   "cell_type": "code",
   "execution_count": 5,
   "id": "5571ab96",
   "metadata": {},
   "outputs": [
    {
     "name": "stdout",
     "output_type": "stream",
     "text": [
      "MAE = 6.791794588005249\n"
     ]
    }
   ],
   "source": [
    "import numpy as np\n",
    "import pandas as pd\n",
    "from sklearn.metrics import mean_absolute_error\n",
    "\n",
    "df = pd.read_csv('predictions.csv')\n",
    "\n",
    "E1 = mean_absolute_error(df['y_true'], df['y_pred'])\n",
    "\n",
    "print(f'MAE = {E1}')"
   ]
  },
  {
   "cell_type": "markdown",
   "id": "aa766582",
   "metadata": {},
   "source": [
    "#### Notes:\n",
    "\n",
    "- Computes the average of the absolute differences between predicted values and actual values, measuring the accuracy of a model."
   ]
  },
  {
   "cell_type": "markdown",
   "id": "fd00a5a2",
   "metadata": {},
   "source": [
    "## Exercise 2:\n",
    "#### Implement a function called mean_squared_error() that computes the mean squared error.\n",
    "#### Using this function, calculate the MSE value for this model and print result to the console as shown below."
   ]
  },
  {
   "cell_type": "code",
   "execution_count": 7,
   "id": "e75e2375",
   "metadata": {},
   "outputs": [
    {
     "name": "stdout",
     "output_type": "stream",
     "text": [
      "MSE = 74.9471\n"
     ]
    }
   ],
   "source": [
    "from sklearn.metrics import mean_squared_error\n",
    "\n",
    "df = pd.read_csv('predictions.csv')\n",
    "\n",
    "E2 = mean_squared_error(df['y_true'], df['y_pred'])\n",
    "\n",
    "print(f'MSE = {E2:.4f}')"
   ]
  },
  {
   "cell_type": "markdown",
   "id": "99b50f55",
   "metadata": {},
   "source": [
    "## Exercise 3:\n",
    "#### The following df DataFrame is given:\n",
    "\n",
    "#### Implement the sigmoid() function using the numpy package.\n",
    "\n",
    "#### Using the implemented function, calculate sigmoid values for the variable var1 and assign to the new column 'var1_sigmoid'.\n",
    "\n",
    "#### In response, print the df DataFrame to the console."
   ]
  },
  {
   "cell_type": "code",
   "execution_count": 8,
   "id": "7d9ea354",
   "metadata": {},
   "outputs": [
    {
     "name": "stdout",
     "output_type": "stream",
     "text": [
      "       var1  var1_sigmoid\n",
      "0  0.496714      0.621687\n",
      "1 -0.138264      0.465489\n",
      "2  0.647689      0.656489\n",
      "3  1.523030      0.820984\n",
      "4 -0.234153      0.441728\n",
      "5 -0.234137      0.441732\n",
      "6  1.579213      0.829093\n",
      "7  0.767435      0.682966\n",
      "8 -0.469474      0.384741\n",
      "9  0.542560      0.632408\n"
     ]
    }
   ],
   "source": [
    "np.random.seed(42)\n",
    "df = pd.DataFrame(data=np.random.randn(10), columns=['var1'])\n",
    "\n",
    "def sigmoid(x):\n",
    "    return 1 / (1 + np.exp(-x))\n",
    " \n",
    " \n",
    "df['var1_sigmoid'] = df['var1'].apply(sigmoid)\n",
    "print(df)"
   ]
  },
  {
   "cell_type": "markdown",
   "id": "bf747e36",
   "metadata": {},
   "source": [
    "#### Notes:\n",
    "\n",
    "- The np.exp() function in NumPy computes the exponential of all elements in an array."
   ]
  }
 ],
 "metadata": {
  "kernelspec": {
   "display_name": "Python 3 (ipykernel)",
   "language": "python",
   "name": "python3"
  },
  "language_info": {
   "codemirror_mode": {
    "name": "ipython",
    "version": 3
   },
   "file_extension": ".py",
   "mimetype": "text/x-python",
   "name": "python",
   "nbconvert_exporter": "python",
   "pygments_lexer": "ipython3",
   "version": "3.9.13"
  }
 },
 "nbformat": 4,
 "nbformat_minor": 5
}
