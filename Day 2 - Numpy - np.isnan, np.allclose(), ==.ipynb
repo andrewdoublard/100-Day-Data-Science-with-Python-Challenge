{
 "cells": [
  {
   "cell_type": "markdown",
   "id": "5b068ccb",
   "metadata": {},
   "source": [
    "## Exercise 1\n",
    "#### Check if the following array has missing data (np.isnan()):"
   ]
  },
  {
   "cell_type": "code",
   "execution_count": 1,
   "id": "451296e3",
   "metadata": {},
   "outputs": [],
   "source": [
    "import numpy as np\n",
    "\n",
    "\n",
    "A = np.array([[3, 2, 1, np.nan],\n",
    "              [5, np.nan, 1, 6]])"
   ]
  },
  {
   "cell_type": "code",
   "execution_count": 3,
   "id": "d0b4a2b4",
   "metadata": {},
   "outputs": [
    {
     "data": {
      "text/plain": [
       "array([[False, False, False,  True],\n",
       "       [False,  True, False, False]])"
      ]
     },
     "execution_count": 3,
     "metadata": {},
     "output_type": "execute_result"
    }
   ],
   "source": [
    "np.isnan(A)"
   ]
  },
  {
   "cell_type": "markdown",
   "id": "d7fbb798",
   "metadata": {},
   "source": [
    "#### Note\n",
    "np.isnan() is used to check for the presence of NaN (Not a Number) values in an array. It returns a boolean array of the same shape as the input array, where each element is True if the corresponding element in the input is NaN, and False otherwise."
   ]
  },
  {
   "cell_type": "markdown",
   "id": "3fed7e09",
   "metadata": {},
   "source": [
    "## Exercise 2\n",
    "#### Check if the following arrays are equal (element-wise) using np.allclose():"
   ]
  },
  {
   "cell_type": "code",
   "execution_count": 5,
   "id": "20eac0c8",
   "metadata": {},
   "outputs": [],
   "source": [
    "A = np.array([0.4, 0.5, 0.3])\n",
    "B = np.array([0.39999999, 0.5000001, 0.3])"
   ]
  },
  {
   "cell_type": "code",
   "execution_count": 6,
   "id": "a564693c",
   "metadata": {},
   "outputs": [
    {
     "data": {
      "text/plain": [
       "True"
      ]
     },
     "execution_count": 6,
     "metadata": {},
     "output_type": "execute_result"
    }
   ],
   "source": [
    "np.allclose(A,B)"
   ]
  },
  {
   "cell_type": "markdown",
   "id": "1ccd5f9f",
   "metadata": {},
   "source": [
    "#### Note\n",
    "np.allclose in NumPy is used to determine whether two arrays are element-wise equal within a certain tolerance."
   ]
  },
  {
   "cell_type": "markdown",
   "id": "02044df2",
   "metadata": {},
   "source": [
    "## Exercise 3\n",
    "#### Check if the following arrays are equal (element-wise):\n",
    "(Use the comparison operator == in this exercise and print the result)"
   ]
  },
  {
   "cell_type": "code",
   "execution_count": 10,
   "id": "e3841310",
   "metadata": {},
   "outputs": [],
   "source": [
    "A = np.array([0.4, 0.5, 0.3])\n",
    "B = np.array([0.3999999999, 0.5000000001, 0.3])"
   ]
  },
  {
   "cell_type": "code",
   "execution_count": 11,
   "id": "360c2d1c",
   "metadata": {},
   "outputs": [
    {
     "name": "stdout",
     "output_type": "stream",
     "text": [
      "[False False  True]\n"
     ]
    }
   ],
   "source": [
    "result = A==B\n",
    "print(result)"
   ]
  },
  {
   "cell_type": "markdown",
   "id": "9ab6b349",
   "metadata": {},
   "source": [
    "#### Note\n",
    "'==' is used to check for exact equality between elements of two arrays, returning a boolean array of the same shape indicating element-wise equality."
   ]
  },
  {
   "cell_type": "code",
   "execution_count": null,
   "id": "5ee688dc",
   "metadata": {},
   "outputs": [],
   "source": []
  }
 ],
 "metadata": {
  "kernelspec": {
   "display_name": "Python 3 (ipykernel)",
   "language": "python",
   "name": "python3"
  },
  "language_info": {
   "codemirror_mode": {
    "name": "ipython",
    "version": 3
   },
   "file_extension": ".py",
   "mimetype": "text/x-python",
   "name": "python",
   "nbconvert_exporter": "python",
   "pygments_lexer": "ipython3",
   "version": "3.9.13"
  }
 },
 "nbformat": 4,
 "nbformat_minor": 5
}
