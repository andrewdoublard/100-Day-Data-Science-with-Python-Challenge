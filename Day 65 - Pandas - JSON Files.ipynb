{
 "cells": [
  {
   "cell_type": "markdown",
   "id": "0117d2d0",
   "metadata": {},
   "source": [
    "## Exercise 1\n",
    "#### The market.json file is attached to this exercise. Load this file using pandas into DataFrame and assign to df variable.\n",
    "#### In response, print this DataFrame to the console."
   ]
  },
  {
   "cell_type": "code",
   "execution_count": 1,
   "id": "1bd0da60",
   "metadata": {},
   "outputs": [
    {
     "name": "stdout",
     "output_type": "stream",
     "text": [
      "                       profile   time     price  change pct_change  \\\n",
      "0              ^AEX (Holandia)  14:12    548.73    7.95   (+1.47%)   \n",
      "1               ^ATX (Austria)  14:11   2147.90   17.68   (+0.83%)   \n",
      "2               ^ATXC (Grecja)  14:13    621.82   -2.80   (-0.45%)   \n",
      "3              ^BEL20 (Belgia)  14:11   3251.39   30.51   (+0.95%)   \n",
      "4                 ^BUX (Węgry)  14:12  32831.01  534.27   (+1.65%)   \n",
      "5             ^CAC40 (Francja)  14:12   4839.46   66.62   (+1.40%)   \n",
      "6                ^DAX (Niemcy)  14:14  12758.52  164.13   (+1.30%)   \n",
      "7   ^FTSE100 (Wielka Brytania)  14:12   5945.44  115.98   (+1.99%)   \n",
      "8   ^FTSE250 (Wielka Brytania)  14:12  17038.88  217.22   (+1.29%)   \n",
      "9            ^FTSEMIB (Włochy)  14:12  19080.16  184.57   (+0.98%)   \n",
      "10         ^IBEX35 (Hiszpania)  14:12   6755.80  107.20   (+1.61%)   \n",
      "11             ^OMXC20 (Dania)  14:27   1336.57    0.58   (+0.04%)   \n",
      "12         ^OMXH25 (Finlandia)  14:26  10037.06   21.87   (+0.22%)   \n",
      "13           ^OMXS30 (Szwecja)  14:27   1802.43   20.51   (+1.15%)   \n",
      "14           ^OSEAX (Norwegia)  14:12    739.99    1.36   (+0.18%)   \n",
      "15         ^PSI20 (Portugalia)  14:13   4119.97   -1.97   (-0.05%)   \n",
      "16              ^PX50 (Czechy)  14:12    870.57    2.52   (+0.29%)   \n",
      "17             ^RDXEUR (Rosja)  14:11   1264.48    2.21   (+0.18%)   \n",
      "18                ^RTS (Rosja)  14:11   1524.18   -2.09   (-0.14%)   \n",
      "19           ^SMI (Szwajcaria)  14:11  10371.42   15.85   (+0.15%)   \n",
      "20             ^XU100 (Turcja)  14:12   1104.41    8.25   (+0.75%)   \n",
      "21              WIG20 (Polska)  14:29   1695.96    2.87   (+0.17%)   \n",
      "\n",
      "    reference_price      open       low      high  \n",
      "0            540.78    546.55    544.72    550.72  \n",
      "1           2130.22   2131.47   2118.71   2163.92  \n",
      "2            624.62    627.48    621.82    631.70  \n",
      "3           3220.88   3252.21   3228.77   3266.11  \n",
      "4          32296.74  32421.05  32421.05  32865.43  \n",
      "5           4772.84   4824.17   4803.91   4871.45  \n",
      "6          12594.39  12737.32  12688.33  12830.70  \n",
      "7           5829.46   5829.46   5829.46   5974.88  \n",
      "8          16821.66  16821.66  16821.66  17123.31  \n",
      "9          18895.59  19080.18  18944.29  19231.99  \n",
      "10          6648.60   6717.80   6681.60   6781.10  \n",
      "11          1335.99   1338.82   1322.42   1338.82  \n",
      "12         10015.19  10052.81  10024.27  10107.86  \n",
      "13          1781.92   1791.67   1789.70   1814.53  \n",
      "14           738.63    738.46    738.03    744.44  \n",
      "15          4121.94   4141.19   4119.97   4156.11  \n",
      "16           868.05    868.53    862.45    873.37  \n",
      "17          1262.27   1263.78   1259.57   1274.42  \n",
      "18          1526.27   1526.27   1521.70   1541.51  \n",
      "19         10355.57  10368.65  10334.54  10439.74  \n",
      "20          1096.16   1101.04   1098.82   1106.06  \n",
      "21          1693.09   1701.26   1695.36   1712.27  \n"
     ]
    }
   ],
   "source": [
    "import pandas as pd\n",
    "\n",
    "df = pd.read_json('market.json')\n",
    "\n",
    "print(df)"
   ]
  },
  {
   "cell_type": "markdown",
   "id": "fc07e08c",
   "metadata": {},
   "source": [
    "## Exercise 2\n",
    "#### The df DataFrame is given below. Extract the country name from the first column and assign to 'country' column as shown below.\n",
    "\n",
    "#### In response, print result to the console."
   ]
  },
  {
   "cell_type": "code",
   "execution_count": 2,
   "id": "0c2cbe91",
   "metadata": {},
   "outputs": [
    {
     "name": "stdout",
     "output_type": "stream",
     "text": [
      "                       profile   time     price  change pct_change  \\\n",
      "0              ^AEX (Holandia)  14:12    548.73    7.95   (+1.47%)   \n",
      "1               ^ATX (Austria)  14:11   2147.90   17.68   (+0.83%)   \n",
      "2               ^ATXC (Grecja)  14:13    621.82   -2.80   (-0.45%)   \n",
      "3              ^BEL20 (Belgia)  14:11   3251.39   30.51   (+0.95%)   \n",
      "4                 ^BUX (Węgry)  14:12  32831.01  534.27   (+1.65%)   \n",
      "5             ^CAC40 (Francja)  14:12   4839.46   66.62   (+1.40%)   \n",
      "6                ^DAX (Niemcy)  14:14  12758.52  164.13   (+1.30%)   \n",
      "7   ^FTSE100 (Wielka Brytania)  14:12   5945.44  115.98   (+1.99%)   \n",
      "8   ^FTSE250 (Wielka Brytania)  14:12  17038.88  217.22   (+1.29%)   \n",
      "9            ^FTSEMIB (Włochy)  14:12  19080.16  184.57   (+0.98%)   \n",
      "10         ^IBEX35 (Hiszpania)  14:12   6755.80  107.20   (+1.61%)   \n",
      "11             ^OMXC20 (Dania)  14:27   1336.57    0.58   (+0.04%)   \n",
      "12         ^OMXH25 (Finlandia)  14:26  10037.06   21.87   (+0.22%)   \n",
      "13           ^OMXS30 (Szwecja)  14:27   1802.43   20.51   (+1.15%)   \n",
      "14           ^OSEAX (Norwegia)  14:12    739.99    1.36   (+0.18%)   \n",
      "15         ^PSI20 (Portugalia)  14:13   4119.97   -1.97   (-0.05%)   \n",
      "16              ^PX50 (Czechy)  14:12    870.57    2.52   (+0.29%)   \n",
      "17             ^RDXEUR (Rosja)  14:11   1264.48    2.21   (+0.18%)   \n",
      "18                ^RTS (Rosja)  14:11   1524.18   -2.09   (-0.14%)   \n",
      "19           ^SMI (Szwajcaria)  14:11  10371.42   15.85   (+0.15%)   \n",
      "20             ^XU100 (Turcja)  14:12   1104.41    8.25   (+0.75%)   \n",
      "21              WIG20 (Polska)  14:29   1695.96    2.87   (+0.17%)   \n",
      "\n",
      "    reference_price      open       low      high          country  \n",
      "0            540.78    546.55    544.72    550.72         Holandia  \n",
      "1           2130.22   2131.47   2118.71   2163.92          Austria  \n",
      "2            624.62    627.48    621.82    631.70           Grecja  \n",
      "3           3220.88   3252.21   3228.77   3266.11           Belgia  \n",
      "4          32296.74  32421.05  32421.05  32865.43            Węgry  \n",
      "5           4772.84   4824.17   4803.91   4871.45          Francja  \n",
      "6          12594.39  12737.32  12688.33  12830.70           Niemcy  \n",
      "7           5829.46   5829.46   5829.46   5974.88  Wielka Brytania  \n",
      "8          16821.66  16821.66  16821.66  17123.31  Wielka Brytania  \n",
      "9          18895.59  19080.18  18944.29  19231.99           Włochy  \n",
      "10          6648.60   6717.80   6681.60   6781.10        Hiszpania  \n",
      "11          1335.99   1338.82   1322.42   1338.82            Dania  \n",
      "12         10015.19  10052.81  10024.27  10107.86        Finlandia  \n",
      "13          1781.92   1791.67   1789.70   1814.53          Szwecja  \n",
      "14           738.63    738.46    738.03    744.44         Norwegia  \n",
      "15          4121.94   4141.19   4119.97   4156.11       Portugalia  \n",
      "16           868.05    868.53    862.45    873.37           Czechy  \n",
      "17          1262.27   1263.78   1259.57   1274.42            Rosja  \n",
      "18          1526.27   1526.27   1521.70   1541.51            Rosja  \n",
      "19         10355.57  10368.65  10334.54  10439.74       Szwajcaria  \n",
      "20          1096.16   1101.04   1098.82   1106.06           Turcja  \n",
      "21          1693.09   1701.26   1695.36   1712.27           Polska  \n"
     ]
    }
   ],
   "source": [
    "df['country'] = (\n",
    "    df['profile']\n",
    "    .str.split(n=1, expand=True)[1]\n",
    "    .apply(lambda item: item[1:-1])\n",
    ")\n",
    "print(df)"
   ]
  },
  {
   "cell_type": "markdown",
   "id": "501826d4",
   "metadata": {},
   "source": [
    "#### Notes:\n",
    "\n",
    "- str.split(n=1, expand=True)[1]: Splits the string in the profile column at the first space, returning the second part (index [1]).\n",
    "- .apply(lambda item: item[1:-1]): Removes the first and last characters (assumed to be brackets) from each string.\n",
    "- Result: Extracts and cleans the text within brackets from the profile column."
   ]
  },
  {
   "cell_type": "markdown",
   "id": "89db73f7",
   "metadata": {},
   "source": [
    "## Exercise 3\n",
    "#### The df DataFrame is given below. Extract country names (sorted alphabetically) that occur more than once as a list and print it to the console."
   ]
  },
  {
   "cell_type": "code",
   "execution_count": 8,
   "id": "0d6ca56c",
   "metadata": {},
   "outputs": [
    {
     "name": "stdout",
     "output_type": "stream",
     "text": [
      "Index(['Rosja', 'Wielka Brytania'], dtype='object')\n"
     ]
    }
   ],
   "source": [
    "print(\n",
    "    sorted(\n",
    "        df['country']\n",
    "        .value_counts()[df['country'].value_counts() > 1]\n",
    "        .index\n",
    "    )\n",
    ")"
   ]
  },
  {
   "cell_type": "markdown",
   "id": "cfddca37",
   "metadata": {},
   "source": [
    "#### Notes:\n",
    "\n",
    "- .index: Retrieves the index of this filtered Series, which contains the names of the countries that are duplicated.\n",
    "- sorted(...): Takes the index (list of duplicated country names) and sorts it in ascending alphabetical order. The sorted() function returns a new sorted list."
   ]
  }
 ],
 "metadata": {
  "kernelspec": {
   "display_name": "Python 3 (ipykernel)",
   "language": "python",
   "name": "python3"
  },
  "language_info": {
   "codemirror_mode": {
    "name": "ipython",
    "version": 3
   },
   "file_extension": ".py",
   "mimetype": "text/x-python",
   "name": "python",
   "nbconvert_exporter": "python",
   "pygments_lexer": "ipython3",
   "version": "3.9.13"
  }
 },
 "nbformat": 4,
 "nbformat_minor": 5
}
