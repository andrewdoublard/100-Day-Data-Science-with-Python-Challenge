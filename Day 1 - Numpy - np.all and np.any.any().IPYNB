{
 "cells": [
  {
   "cell_type": "markdown",
   "id": "35fedd04",
   "metadata": {},
   "source": [
    "## Pre-Exercise \n",
    "\n",
    "#### Print the version of Python."
   ]
  },
  {
   "cell_type": "code",
   "execution_count": 1,
   "id": "08d31cc1",
   "metadata": {},
   "outputs": [
    {
     "name": "stdout",
     "output_type": "stream",
     "text": [
      "3.9.13 (main, Aug 25 2022, 23:51:50) [MSC v.1916 64 bit (AMD64)]\n"
     ]
    }
   ],
   "source": [
    "import sys\n",
    "print(sys.version)"
   ]
  },
  {
   "cell_type": "markdown",
   "id": "375d1164",
   "metadata": {},
   "source": [
    "## Exercise 1\n",
    "\n",
    "#### Use the np.all() function to check if the following numpy arrays return the logical value true."
   ]
  },
  {
   "cell_type": "code",
   "execution_count": 2,
   "id": "da923645",
   "metadata": {},
   "outputs": [],
   "source": [
    "import numpy as np\n",
    "\n",
    "\n",
    "A = np.array([[3, 2, 1, 4],\n",
    "              [5, 2, 1, 6]])\n",
    "\n",
    "B = np.array([[3, 2, 1, 4],\n",
    "              [5, 2, 0, 6]])\n",
    "\n",
    "C = np.array([[True, False, False],\n",
    "              [True, True, True]])\n",
    "\n",
    "D = np.array([0.1, 0.3])"
   ]
  },
  {
   "cell_type": "code",
   "execution_count": 3,
   "id": "98373f10",
   "metadata": {},
   "outputs": [
    {
     "name": "stdout",
     "output_type": "stream",
     "text": [
      "Array A = True\n",
      "Array B = False\n",
      "Array C = False\n",
      "Array D = True\n"
     ]
    }
   ],
   "source": [
    "print(\"Array A =\", np.all(A))\n",
    "print(\"Array B =\", np.all(B))\n",
    "print(\"Array C =\", np.all(C))\n",
    "print(\"Array D =\", np.all(D))"
   ]
  },
  {
   "cell_type": "markdown",
   "id": "dba2abdc",
   "metadata": {},
   "source": [
    "#### Note on np.all()\n",
    "True indicates that every element in the array is True (non-zero for numerical arrays).\n",
    "False indicates that there is at least one element in the array that is False (zero for numerical arrays)."
   ]
  },
  {
   "cell_type": "markdown",
   "id": "73fe3e32",
   "metadata": {},
   "source": [
    "## Exercise 2\n",
    "\n",
    "#### Check if all elements from the following arrays return the logical value True along the axis with index 1:"
   ]
  },
  {
   "cell_type": "code",
   "execution_count": 4,
   "id": "8b47a0e0",
   "metadata": {},
   "outputs": [],
   "source": [
    "import numpy as np\n",
    "\n",
    "\n",
    "A = np.array([[3, 2, 1, 4],\n",
    "              [5, 2, 1, 6]])\n",
    "\n",
    "B = np.array([[3, 2, 1, 4],\n",
    "              [5, 2, 0, 6]])\n",
    "\n",
    "C = np.array([[True, False, False],\n",
    "              [True, True, True]])"
   ]
  },
  {
   "cell_type": "code",
   "execution_count": 6,
   "id": "a63d3bca",
   "metadata": {},
   "outputs": [
    {
     "name": "stdout",
     "output_type": "stream",
     "text": [
      "Array A = [ True  True]\n",
      "Array B = [ True False]\n",
      "Array C = [False  True]\n"
     ]
    }
   ],
   "source": [
    "print(\"Array A =\", np.all(A, axis = 1))\n",
    "print(\"Array B =\", np.all(B, axis = 1))\n",
    "print(\"Array C =\", np.all(C, axis = 1))\n"
   ]
  },
  {
   "cell_type": "markdown",
   "id": "f5d71738",
   "metadata": {},
   "source": [
    "## Exercise 3\n",
    "#### Check if any element of the following arrays returns the logical value True:"
   ]
  },
  {
   "cell_type": "code",
   "execution_count": 7,
   "id": "059f3cc8",
   "metadata": {},
   "outputs": [],
   "source": [
    "import numpy as np\n",
    "\n",
    "\n",
    "A = np.array([[0, 0, 0],\n",
    "              [0, 0, 0]])\n",
    "\n",
    "B = np.array([[0, 0, 0],\n",
    "              [0, 1, 0]])\n",
    "\n",
    "C = np.array([[False, False, False],\n",
    "              [True, False, False]])\n",
    "\n",
    "D = np.array([[0.1, 0.0]])"
   ]
  },
  {
   "cell_type": "code",
   "execution_count": 9,
   "id": "a0577a79",
   "metadata": {},
   "outputs": [
    {
     "name": "stdout",
     "output_type": "stream",
     "text": [
      "Array A = False\n",
      "Array B = True\n",
      "Array C = True\n",
      "Array D = True\n"
     ]
    }
   ],
   "source": [
    "print(\"Array A =\", np.any(A))\n",
    "print(\"Array B =\", np.any(B))\n",
    "print(\"Array C =\", np.any(C))\n",
    "print(\"Array D =\", np.any(D))"
   ]
  },
  {
   "cell_type": "markdown",
   "id": "a4371b19",
   "metadata": {},
   "source": [
    "#### Note on np.any()\n",
    "\n",
    "The function np.any() in NumPy is used to check whether any element in an array evaluates to True."
   ]
  },
  {
   "cell_type": "markdown",
   "id": "81dc9ae1",
   "metadata": {},
   "source": [
    "## Exercise 4\n",
    "#### Check if any element of the following arrays returns the logical value True along the axis with index 0: "
   ]
  },
  {
   "cell_type": "code",
   "execution_count": 11,
   "id": "0073b703",
   "metadata": {},
   "outputs": [],
   "source": [
    "import numpy as np\n",
    "\n",
    "\n",
    "A = np.array([[0, 0, 0],\n",
    "              [0, 0, 0]])\n",
    "\n",
    "B = np.array([[0, 0, 0],\n",
    "              [0, 1, 0]])\n",
    "\n",
    "C = np.array([[False, False, False],\n",
    "              [True, False, False]])\n",
    "\n",
    "D = np.array([[0.1, 0.0]])"
   ]
  },
  {
   "cell_type": "code",
   "execution_count": 12,
   "id": "a9ebc1a6",
   "metadata": {},
   "outputs": [
    {
     "name": "stdout",
     "output_type": "stream",
     "text": [
      "Array A = [False False False]\n",
      "Array B = [False  True False]\n",
      "Array C = [ True False False]\n",
      "Array D = [ True False]\n"
     ]
    }
   ],
   "source": [
    "print(\"Array A =\", np.any(A, axis = 0))\n",
    "print(\"Array B =\", np.any(B, axis = 0))\n",
    "print(\"Array C =\", np.any(C, axis = 0))\n",
    "print(\"Array D =\", np.any(D, axis = 0))"
   ]
  },
  {
   "cell_type": "markdown",
   "id": "7438a054",
   "metadata": {},
   "source": [
    "#### Alternative solutions using For Loop:\n",
    "    \n",
    "    for name, array in zip(list('ABCD'), [A, B, C, D]):\n",
    "    print(f'{name}: {np.any(array, axis=0)}')\n",
    "    \n",
    "This is a for loop that iterates over the iterable of tuples produced by zip().\n",
    "On each iteration, it unpacks the tuple into two variables: name and array.\n",
    "In the first iteration, name will be 'A' and array will be the array A.\n",
    "In the second iteration, name will be 'B' and array will be the array B.\n",
    "This pattern continues for C and D."
   ]
  },
  {
   "cell_type": "code",
   "execution_count": null,
   "id": "1554faff",
   "metadata": {},
   "outputs": [],
   "source": []
  }
 ],
 "metadata": {
  "kernelspec": {
   "display_name": "Python 3 (ipykernel)",
   "language": "python",
   "name": "python3"
  },
  "language_info": {
   "codemirror_mode": {
    "name": "ipython",
    "version": 3
   },
   "file_extension": ".py",
   "mimetype": "text/x-python",
   "name": "python",
   "nbconvert_exporter": "python",
   "pygments_lexer": "ipython3",
   "version": "3.9.13"
  }
 },
 "nbformat": 4,
 "nbformat_minor": 5
}
