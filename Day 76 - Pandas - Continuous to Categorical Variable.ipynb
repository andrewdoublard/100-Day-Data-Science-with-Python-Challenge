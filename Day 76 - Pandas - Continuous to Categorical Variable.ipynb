{
 "cells": [
  {
   "cell_type": "markdown",
   "id": "1999c83a",
   "metadata": {},
   "source": [
    "## Exercise 1\n",
    "#### The df DataFrame is given below:\n",
    "\n",
    "#### Extract columns of object type from this DataFrame. Then fill in all the missing values for these columns with the value 'empty'.\n",
    "\n",
    "#### Assign the result to the df_object variable and print it to the console."
   ]
  },
  {
   "cell_type": "code",
   "execution_count": 5,
   "id": "3d9c8dfc",
   "metadata": {},
   "outputs": [
    {
     "name": "stdout",
     "output_type": "stream",
     "text": [
      "    size  color  gender bought\n",
      "0     XL    red  female    yes\n",
      "1      L  green    male     no\n",
      "2      M   blue   empty    yes\n",
      "3  empty  green  female     no\n",
      "4      M    red  female    yes\n",
      "5      M  green    male     no\n"
     ]
    }
   ],
   "source": [
    "import numpy as np\n",
    "import pandas as pd\n",
    "from sklearn.impute import SimpleImputer\n",
    "\n",
    "\n",
    "data = {\n",
    "    'size': ['XL', 'L', 'M', np.nan, 'M', 'M'],\n",
    "    'color': ['red', 'green', 'blue', 'green', 'red', 'green'],\n",
    "    'gender': ['female', 'male', np.nan, 'female', 'female', 'male'],\n",
    "    'price': [199.0, 89.0, np.nan, 129.0, 79.0, 89.0],\n",
    "    'weight': [500, 450, 300, np.nan, 410, np.nan],\n",
    "    'bought': ['yes', 'no', 'yes', 'no', 'yes', 'no']\n",
    "}\n",
    "\n",
    "df = pd.DataFrame(data=data)\n",
    "\n",
    "df_object = df.select_dtypes(include = 'object')\n",
    "\n",
    "imputer = SimpleImputer(missing_values=np.nan, strategy='constant', fill_value = 'empty')\n",
    "\n",
    "df_object = pd.DataFrame(imputer.fit_transform(df_object), columns=df_object.columns)\n",
    "\n",
    "print(df_object)"
   ]
  },
  {
   "cell_type": "markdown",
   "id": "43cd1795",
   "metadata": {},
   "source": [
    "#### Notes:\n",
    "\n",
    "- Remember that the imputer with fit_transform returns an array, hence this has to be reconverted back into a dataframe.\n",
    "- Another way would be df_object = df.select_dtypes(include=['object']).fillna('empty')\n",
    "    - Use Method 1 (SimpleImputer) when:\n",
    "        - You need more flexibility or plan to integrate this step into a machine learning pipeline.\n",
    "        - You may want to switch to more complex imputation strategies later.\n",
    "    - Use Method 2 (fillna) when:\n",
    "        - You need a quick, straightforward way to fill missing values in object columns.\n",
    "        - Performance and simplicity are priorities, especially when working outside a machine learning context."
   ]
  },
  {
   "cell_type": "markdown",
   "id": "ee823dbc",
   "metadata": {},
   "source": [
    "## Exercise 2\n",
    "\n",
    "#### Discretize the weight column. Divide the values of this column into three intervals of equal width. Assign the result to a new column 'weight_cut' as shown below.\n",
    "\n",
    "#### In response, print the df object to the console."
   ]
  },
  {
   "cell_type": "code",
   "execution_count": 6,
   "id": "28ad2685",
   "metadata": {},
   "outputs": [
    {
     "name": "stdout",
     "output_type": "stream",
     "text": [
      "   weight        weight_cut\n",
      "0    75.0  (67.977, 75.667]\n",
      "1    78.5  (75.667, 83.333]\n",
      "2    85.0    (83.333, 91.0]\n",
      "3    91.0    (83.333, 91.0]\n",
      "4    84.5    (83.333, 91.0]\n",
      "5    83.0  (75.667, 83.333]\n",
      "6    68.0  (67.977, 75.667]\n"
     ]
    }
   ],
   "source": [
    "df = pd.DataFrame(data={'weight': [75., 78.5, 85., 91., 84.5, 83., 68.]})\n",
    "\n",
    "df['weight_cut'] = pd.cut(df['weight'], bins=3)\n",
    "print(df)"
   ]
  },
  {
   "cell_type": "markdown",
   "id": "db06affe",
   "metadata": {},
   "source": [
    "#### Notes:\n",
    "\n",
    "- The .cut() method is used to segment and sort data values into discrete bins or intervals. This is particularly useful when you need to transform continuous numerical data into categorical data.\n",
    "- Args:\n",
    "    - x: The input array or Series to be binned.\n",
    "    - bins: Defines the bin edges. It can be an integer (specifying the number of bins) or a sequence of scalars (specifying the exact bin edges).\n",
    "    - right: Indicates whether the bins include the rightmost edge (default is True).\n",
    "    - labels: Used to label the resulting bins. If not provided, the bins are returned as intervals."
   ]
  },
  {
   "cell_type": "markdown",
   "id": "44b927b7",
   "metadata": {},
   "source": [
    "## Exercise 3\n",
    "\n",
    "#### Discretize the column weight into three intervals with the given boundaries:\n",
    "\n",
    "- (60, 75]\n",
    "\n",
    "- (75, 80]\n",
    "\n",
    "- (80, 95]\n",
    "\n",
    "#### Assign the result to the new column 'weight_cut' as shown below.\n",
    "\n",
    "#### In response, print the df DataFrame to the console."
   ]
  },
  {
   "cell_type": "code",
   "execution_count": 10,
   "id": "81ff4da5",
   "metadata": {},
   "outputs": [
    {
     "name": "stdout",
     "output_type": "stream",
     "text": [
      "   weight weight_cut\n",
      "0    75.0   (60, 75]\n",
      "1    78.5   (75, 80]\n",
      "2    85.0   (80, 95]\n",
      "3    91.0   (80, 95]\n",
      "4    84.5   (80, 95]\n",
      "5    83.0   (80, 95]\n",
      "6    68.0   (60, 75]\n"
     ]
    }
   ],
   "source": [
    "df = pd.DataFrame(data={'weight': [75., 78.5, 85., 91., 84.5, 83., 68.]})\n",
    "\n",
    "df['weight_cut'] = pd.cut(df['weight'], bins=[60, 75, 80, 95])\n",
    "print(df)"
   ]
  },
  {
   "cell_type": "markdown",
   "id": "6b3f137d",
   "metadata": {},
   "source": [
    "## Exercise 4\n",
    "\n",
    "#### Discretize the column weight into three intervals with the given boundaries:\n",
    "\n",
    "- (60, 75]\n",
    "\n",
    "- (75, 80]\n",
    "\n",
    "- (80, 95]\n",
    "\n",
    "#### and bound to them the following labels:\n",
    "\n",
    "- light\n",
    "\n",
    "- normal\n",
    "\n",
    "- heavy\n",
    "\n",
    "#### Assign the result to the new column 'weight_cut' as show below.\n",
    "\n",
    "#### In response, print the df DataFrame to the console."
   ]
  },
  {
   "cell_type": "code",
   "execution_count": 11,
   "id": "769d1bb7",
   "metadata": {},
   "outputs": [
    {
     "name": "stdout",
     "output_type": "stream",
     "text": [
      "   weight weight_cut\n",
      "0    75.0      light\n",
      "1    78.5     normal\n",
      "2    85.0      heavy\n",
      "3    91.0      heavy\n",
      "4    84.5      heavy\n",
      "5    83.0      heavy\n",
      "6    68.0      light\n"
     ]
    }
   ],
   "source": [
    "df = pd.DataFrame(data={'weight': [75., 78.5, 85., 91., 84.5, 83., 68.]})\n",
    "\n",
    "df['weight_cut'] = pd.cut(df['weight'], bins=[60, 75, 80, 95], labels = ['light', 'normal', 'heavy'])\n",
    "print(df)"
   ]
  }
 ],
 "metadata": {
  "kernelspec": {
   "display_name": "Python 3 (ipykernel)",
   "language": "python",
   "name": "python3"
  },
  "language_info": {
   "codemirror_mode": {
    "name": "ipython",
    "version": 3
   },
   "file_extension": ".py",
   "mimetype": "text/x-python",
   "name": "python",
   "nbconvert_exporter": "python",
   "pygments_lexer": "ipython3",
   "version": "3.9.13"
  }
 },
 "nbformat": 4,
 "nbformat_minor": 5
}
