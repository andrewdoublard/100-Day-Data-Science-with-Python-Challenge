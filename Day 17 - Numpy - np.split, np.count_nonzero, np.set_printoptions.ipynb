{
 "cells": [
  {
   "cell_type": "markdown",
   "id": "ad46d21f",
   "metadata": {},
   "source": [
    "## Exercise 1\n",
    "#### The following two-dimensional array is given:\n",
    "\n",
    "A = np.random.randint(low=0, high=7, size=(5, 8))\n",
    "A[:, :2] = 0\n",
    "A[:, -2:] = 1\n",
    "\n",
    "\n",
    "#### Split this array into three parts:\n",
    "\n",
    "- the first two columns assign to the A1 variable\n",
    "\n",
    "- the next four columns assign to the A2 variable\n",
    "\n",
    "- the last two columns assign to the A3 variable\n",
    "\n",
    "#### In response, print these arrays to the console as shown below.\n",
    "\n",
    "Tip: Use the function np.split()."
   ]
  },
  {
   "cell_type": "code",
   "execution_count": 3,
   "id": "dc13f13d",
   "metadata": {},
   "outputs": [
    {
     "name": "stdout",
     "output_type": "stream",
     "text": [
      "[[0 0]\n",
      " [0 0]\n",
      " [0 0]\n",
      " [0 0]\n",
      " [0 0]]\n",
      "[[4 6 2 4]\n",
      " [6 2 2 4]\n",
      " [1 3 5 5]\n",
      " [3 1 5 4]\n",
      " [2 6 1 3]]\n",
      "[[1 1]\n",
      " [1 1]\n",
      " [1 1]\n",
      " [1 1]\n",
      " [1 1]]\n"
     ]
    }
   ],
   "source": [
    "import numpy as np\n",
    "\n",
    "\n",
    "np.random.seed(42)\n",
    "\n",
    "A = np.random.randint(low=0, high=7, size=(5, 8))\n",
    "A[:, :2] = 0\n",
    "A[:, -2:] = 1\n",
    "\n",
    "A1, A2, A3 = np.split(A, [2, 6], axis=1)\n",
    "print(A1)\n",
    "print(A2)\n",
    "print(A3)"
   ]
  },
  {
   "cell_type": "markdown",
   "id": "42649f27",
   "metadata": {},
   "source": [
    "#### Notes:\n",
    "\n",
    "\n",
    "- The numpy.split() function in NumPy is used to split an array into multiple sub-arrays. This function has several variations depending on how you want to split the array. Here’s a basic overview of its syntax and usage:\n",
    "\n",
    "- The array you want to split.\n",
    "- indices_or_sections: This can be an integer or a 1-D array.\n",
    "    - If it's an integer, it determines the number of equal parts the array will be split into.\n",
    "    - If it's an array, it specifies the points where the split will occur.\n",
    "- axis: The axis along which to split the array. By default, it is 0 (the first axis)."
   ]
  },
  {
   "cell_type": "markdown",
   "id": "c29a0e21",
   "metadata": {},
   "source": [
    "## Exercise 2\n",
    "#### The following array is given:\n",
    "\n",
    "A = np.random.randint(low=0, high=2, size=(10, 6))\n",
    "\n",
    "#### Calculate the total number of non-zero elements in this array and print it to the console.\n",
    "\n",
    "Tip: Use the np.count_nonzero() function."
   ]
  },
  {
   "cell_type": "code",
   "execution_count": 4,
   "id": "813e44c5",
   "metadata": {},
   "outputs": [
    {
     "name": "stdout",
     "output_type": "stream",
     "text": [
      "31\n"
     ]
    }
   ],
   "source": [
    "np.random.seed(42)\n",
    "\n",
    "A = np.random.randint(low=0, high=2, size=(10, 6))\n",
    "\n",
    "print(np.count_nonzero(A))"
   ]
  },
  {
   "cell_type": "markdown",
   "id": "613b1aa4",
   "metadata": {},
   "source": [
    "#### Note:\n",
    "\n",
    "- The np.count_nonzero() function in NumPy counts the number of non-zero elements in an array. It can operate on the entire array or along a specific axis. This function is useful for quickly determining how many non-zero elements are present in the data."
   ]
  },
  {
   "cell_type": "markdown",
   "id": "c2fcd46a",
   "metadata": {},
   "source": [
    "## Exercise 3\n",
    "#### The following array is given below:\n",
    "\n",
    "A = np.random.randn(10, 4)\n",
    "\n",
    "#### Set the Numpy option to print arrays with specified precision. Set precision to 4 and print this array."
   ]
  },
  {
   "cell_type": "code",
   "execution_count": 9,
   "id": "25f3c29e",
   "metadata": {},
   "outputs": [
    {
     "name": "stdout",
     "output_type": "stream",
     "text": [
      "[[ 0.4967 -0.1383  0.6477  1.523 ]\n",
      " [-0.2342 -0.2341  1.5792  0.7674]\n",
      " [-0.4695  0.5426 -0.4634 -0.4657]\n",
      " [ 0.242  -1.9133 -1.7249 -0.5623]\n",
      " [-1.0128  0.3142 -0.908  -1.4123]\n",
      " [ 1.4656 -0.2258  0.0675 -1.4247]\n",
      " [-0.5444  0.1109 -1.151   0.3757]\n",
      " [-0.6006 -0.2917 -0.6017  1.8523]\n",
      " [-0.0135 -1.0577  0.8225 -1.2208]\n",
      " [ 0.2089 -1.9597 -1.3282  0.1969]]\n"
     ]
    }
   ],
   "source": [
    "np.random.seed(42)\n",
    "\n",
    "A = np.random.randn(10, 4)\n",
    "\n",
    "np.set_printoptions(precision =4)\n",
    "\n",
    "print(A)"
   ]
  },
  {
   "cell_type": "markdown",
   "id": "91ee696c",
   "metadata": {},
   "source": [
    "#### Note:\n",
    "\n",
    "The function np.set_printoptions() in NumPy is used to control the way arrays are printed. The parameter precision specifies the number of digits of precision for floating-point output and suppress, whether or not suppress printing of small floating-point values using scientific notation (default is False)."
   ]
  },
  {
   "cell_type": "markdown",
   "id": "4eeedff5",
   "metadata": {},
   "source": [
    "## Exercise 4\n",
    "\n",
    "#### The following array is given:\n",
    "\n",
    "A = np.array([1.2e-6, 1.7e-7])\n",
    "\n",
    "#### Set the precision to 8 and also set the appropriate Numpy option to suppress mathematical notation and print this array to the console."
   ]
  },
  {
   "cell_type": "code",
   "execution_count": 13,
   "id": "1bdb10eb",
   "metadata": {},
   "outputs": [
    {
     "name": "stdout",
     "output_type": "stream",
     "text": [
      "[0.0000012  0.00000017]\n"
     ]
    }
   ],
   "source": [
    "A = np.array([1.2e-6, 1.7e-7])\n",
    "\n",
    "np.set_printoptions(precision = 8, suppress = True)\n",
    "\n",
    "print(A)"
   ]
  }
 ],
 "metadata": {
  "kernelspec": {
   "display_name": "Python 3 (ipykernel)",
   "language": "python",
   "name": "python3"
  },
  "language_info": {
   "codemirror_mode": {
    "name": "ipython",
    "version": 3
   },
   "file_extension": ".py",
   "mimetype": "text/x-python",
   "name": "python",
   "nbconvert_exporter": "python",
   "pygments_lexer": "ipython3",
   "version": "3.9.13"
  }
 },
 "nbformat": 4,
 "nbformat_minor": 5
}
