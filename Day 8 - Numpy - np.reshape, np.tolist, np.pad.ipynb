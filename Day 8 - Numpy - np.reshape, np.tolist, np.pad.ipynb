{
 "cells": [
  {
   "cell_type": "markdown",
   "id": "672fe6e0",
   "metadata": {},
   "source": [
    "## Exercise 1\n",
    "#### Using Numpy create and convert the following array into the list:\n",
    "\n",
    "\n",
    "\n",
    "array([[ 0,  1,  2,  3],\n",
    "       [ 4,  5,  6,  7],\n",
    "       [ 8,  9, 10, 11]])\n",
    "\n",
    "\n",
    "#### In response, print list to the console.\n",
    "\n",
    "\n",
    "\n",
    "Tip: Use the np.array.tolist() method."
   ]
  },
  {
   "cell_type": "code",
   "execution_count": 3,
   "id": "4e5a33a8",
   "metadata": {},
   "outputs": [
    {
     "name": "stdout",
     "output_type": "stream",
     "text": [
      "[[0, 1, 2, 3], [4, 5, 6, 7], [8, 9, 10, 11]]\n"
     ]
    }
   ],
   "source": [
    "import numpy as np\n",
    "\n",
    "A = np.arange(12).reshape(-1,4)\n",
    "\n",
    "A_List = A.tolist()\n",
    "\n",
    "print(A_List)"
   ]
  },
  {
   "cell_type": "markdown",
   "id": "cc19acba",
   "metadata": {},
   "source": [
    "#### Note:\n",
    "\n",
    "The tolist() method in NumPy is used to convert a NumPy array into a nested Python list. Each element of the array is converted to the corresponding Python type (e.g., NumPy's int64 to Python's int)."
   ]
  },
  {
   "cell_type": "markdown",
   "id": "fe1d154f",
   "metadata": {},
   "source": [
    "## Exercise 2\n",
    "#### The following array is given:\n",
    "\n",
    "\n",
    "\n",
    "array([[ 0,  1,  2,  3],\n",
    "       [ 4,  5,  6,  7],\n",
    "       [ 8,  9, 10, 11]])\n",
    "\n",
    "\n",
    "#### Using the slice operator, transform this array into the following:\n",
    "\n",
    "\n",
    "\n",
    "array([[ 8,  9, 10, 11],\n",
    "       [ 4,  5,  6,  7],\n",
    "       [ 0,  1,  2,  3]])\n",
    "\n",
    "\n",
    "#### In response, print transformed array to the console.\n",
    "\n"
   ]
  },
  {
   "cell_type": "code",
   "execution_count": 4,
   "id": "5abc4bab",
   "metadata": {},
   "outputs": [
    {
     "name": "stdout",
     "output_type": "stream",
     "text": [
      "[[ 8  9 10 11]\n",
      " [ 4  5  6  7]\n",
      " [ 0  1  2  3]]\n"
     ]
    }
   ],
   "source": [
    "A_sliced = A[::-1]\n",
    "print(A_sliced)"
   ]
  },
  {
   "cell_type": "markdown",
   "id": "6eb5b788",
   "metadata": {},
   "source": [
    "#### Note:\n",
    "\n",
    "1) sequence[start:stop:step]\n",
    "\n",
    "2) The slice [::-1] in Python is used to reverse a sequence. This works for lists, tuples, strings, and NumPy arrays. When applied to a NumPy array, it reverses the order of the elements along a specified axis."
   ]
  },
  {
   "cell_type": "markdown",
   "id": "cf4e4995",
   "metadata": {},
   "source": [
    "## Exercise 3\n",
    "#### The following array:\n",
    "\n",
    "\n",
    "\n",
    "array([[1., 1., 1., 1.],\n",
    "       [1., 1., 1., 1.],\n",
    "       [1., 1., 1., 1.],\n",
    "       [1., 1., 1., 1.]])\n",
    "\n",
    "\n",
    "#### transform to this array:\n",
    "\n",
    "\n",
    "\n",
    "array([[0., 0., 0., 0., 0., 0.],\n",
    "       [0., 1., 1., 1., 1., 0.],\n",
    "       [0., 1., 1., 1., 1., 0.],\n",
    "       [0., 1., 1., 1., 1., 0.],\n",
    "       [0., 1., 1., 1., 1., 0.],\n",
    "       [0., 0., 0., 0., 0., 0.]])\n",
    "\n",
    "\n",
    "#### In response, print transformed array to the console.\n",
    "\n",
    "\n",
    "\n",
    "Tip: Use the np.pad() function."
   ]
  },
  {
   "cell_type": "code",
   "execution_count": 8,
   "id": "9bbf8259",
   "metadata": {},
   "outputs": [
    {
     "name": "stdout",
     "output_type": "stream",
     "text": [
      "[[0. 0. 0. 0. 0. 0.]\n",
      " [0. 1. 1. 1. 1. 0.]\n",
      " [0. 1. 1. 1. 1. 0.]\n",
      " [0. 1. 1. 1. 1. 0.]\n",
      " [0. 1. 1. 1. 1. 0.]\n",
      " [0. 0. 0. 0. 0. 0.]]\n"
     ]
    }
   ],
   "source": [
    "B = np.array([[1., 1., 1., 1.], [1., 1., 1., 1.], [1., 1., 1., 1.], [1., 1., 1., 1.]])\n",
    "\n",
    "\n",
    "B_pad = np.pad(B, pad_width = 1)\n",
    "print (B_pad)\n",
    "\n",
    "\n",
    "## Could also use the following to create B --> B = np.ones(shape=(4, 4))"
   ]
  },
  {
   "cell_type": "markdown",
   "id": "59273006",
   "metadata": {},
   "source": [
    "#### Note:\n",
    "The np.pad() function in NumPy is used to pad an array with a specified constant, edge, or custom values. "
   ]
  }
 ],
 "metadata": {
  "kernelspec": {
   "display_name": "Python 3 (ipykernel)",
   "language": "python",
   "name": "python3"
  },
  "language_info": {
   "codemirror_mode": {
    "name": "ipython",
    "version": 3
   },
   "file_extension": ".py",
   "mimetype": "text/x-python",
   "name": "python",
   "nbconvert_exporter": "python",
   "pygments_lexer": "ipython3",
   "version": "3.9.13"
  }
 },
 "nbformat": 4,
 "nbformat_minor": 5
}
