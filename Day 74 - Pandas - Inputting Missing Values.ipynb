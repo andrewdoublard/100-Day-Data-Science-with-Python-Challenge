{
 "cells": [
  {
   "cell_type": "markdown",
   "id": "684d3435",
   "metadata": {},
   "source": [
    "## Exercise 1\n",
    "#### The following dictionary is given:\n",
    "#### From this dictionary create a DataFrame object and assign to the df variable.\n",
    "#### Then check for the missing values for each column (in percent) and print it to console as shown below. Round the result to two decimal places."
   ]
  },
  {
   "cell_type": "code",
   "execution_count": 3,
   "id": "487f75d5",
   "metadata": {},
   "outputs": [
    {
     "name": "stdout",
     "output_type": "stream",
     "text": [
      "size      0.17\n",
      "color     0.00\n",
      "gender    0.17\n",
      "price     0.17\n",
      "weight    0.33\n",
      "bought    0.00\n",
      "dtype: float64\n"
     ]
    }
   ],
   "source": [
    "import numpy as np\n",
    "import pandas as pd\n",
    "\n",
    "\n",
    "data = {\n",
    "    'size': ['XL', 'L', 'M', np.nan, 'M', 'M'],\n",
    "    'color': ['red', 'green', 'blue', 'green', 'red', 'green'],\n",
    "    'gender': ['female', 'male', np.nan, 'female', 'female', 'male'],\n",
    "    'price': [199.0, 89.0, np.nan, 129.0, 79.0, 89.0],\n",
    "    'weight': [500, 450, 300, np.nan, 410, np.nan],\n",
    "    'bought': ['yes', 'no', 'yes', 'no', 'yes', 'no']\n",
    "}\n",
    "\n",
    "df = pd.DataFrame(data)\n",
    "\n",
    "result = df.isnull().sum() / len(df)\n",
    "result = result.round(2)\n",
    "\n",
    "print(result)"
   ]
  },
  {
   "cell_type": "markdown",
   "id": "f4e25e76",
   "metadata": {},
   "source": [
    "## Exercise 2:\n",
    "\n",
    "#### Using the scikit-learn package and the SimpleImputer class, fill in the missing data for the column weight with the average value. Assign changes to the df DataFrame.\n",
    "\n",
    "#### In response, print the df DataFrame to the console."
   ]
  },
  {
   "cell_type": "code",
   "execution_count": 4,
   "id": "1b50e3fe",
   "metadata": {},
   "outputs": [
    {
     "name": "stdout",
     "output_type": "stream",
     "text": [
      "  size  color  gender  price  weight bought\n",
      "0   XL    red  female  199.0   500.0    yes\n",
      "1    L  green    male   89.0   450.0     no\n",
      "2    M   blue     NaN    NaN   300.0    yes\n",
      "3  NaN  green  female  129.0   415.0     no\n",
      "4    M    red  female   79.0   410.0    yes\n",
      "5    M  green    male   89.0   415.0     no\n"
     ]
    }
   ],
   "source": [
    "from sklearn.impute import SimpleImputer\n",
    "\n",
    "imputer = SimpleImputer(strategy='mean')\n",
    "\n",
    "df[['weight']] = imputer.fit_transform(df[['weight']])\n",
    "print(df)"
   ]
  },
  {
   "cell_type": "markdown",
   "id": "6fdfa0ee",
   "metadata": {},
   "source": [
    "#### Notes:\n",
    "\n",
    "- missing_values: The placeholder for the missing values, default is np.nan.\n",
    "- strategy: The imputation strategy. Options include:\n",
    "    - 'mean': Replaces missing values with the mean of the column.\n",
    "    - 'median': Replaces missing values with the median of the column.\n",
    "    - 'most_frequent': Replaces missing values with the most frequent value in the column.\n",
    "    - 'constant': Replaces missing values with a specified constant (use the fill_value parameter).\n",
    "- Then fit the imputer to the dataframe: df_imputed = pd.DataFrame(imputer.fit_transform(df), columns=df.columns)"
   ]
  },
  {
   "cell_type": "markdown",
   "id": "7cd39797",
   "metadata": {},
   "source": [
    "## Exercise 3\n",
    "\n",
    "#### Missing data for the column weight was replaced with the average value of this column using the SimpleImputer class.\n",
    "\n",
    "#### Print the average value that was replaced with the missing values in the weight column."
   ]
  },
  {
   "cell_type": "code",
   "execution_count": 6,
   "id": "7e4a6ffa",
   "metadata": {},
   "outputs": [
    {
     "name": "stdout",
     "output_type": "stream",
     "text": [
      "415.0\n"
     ]
    }
   ],
   "source": [
    "print(imputer.statistics_[0])"
   ]
  },
  {
   "cell_type": "markdown",
   "id": "805b5da3",
   "metadata": {},
   "source": [
    "#### Notes:\n",
    "\n",
    "- The imputer_statistics_ attribute in the SimpleImputer class is an array that stores the statistics computed during the fitting process, which are then used to replace missing values. These statistics are calculated based on the strategy you specified (e.g., mean, median, most frequent, or a constant).\n",
    "- [0] index returns the first value or the array, as it's mean they will all be the same."
   ]
  }
 ],
 "metadata": {
  "kernelspec": {
   "display_name": "Python 3 (ipykernel)",
   "language": "python",
   "name": "python3"
  },
  "language_info": {
   "codemirror_mode": {
    "name": "ipython",
    "version": 3
   },
   "file_extension": ".py",
   "mimetype": "text/x-python",
   "name": "python",
   "nbconvert_exporter": "python",
   "pygments_lexer": "ipython3",
   "version": "3.9.13"
  }
 },
 "nbformat": 4,
 "nbformat_minor": 5
}
