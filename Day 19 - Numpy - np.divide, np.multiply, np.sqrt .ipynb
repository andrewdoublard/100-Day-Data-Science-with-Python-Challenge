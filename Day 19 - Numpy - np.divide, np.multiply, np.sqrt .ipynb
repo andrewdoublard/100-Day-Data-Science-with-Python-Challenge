{
 "cells": [
  {
   "cell_type": "markdown",
   "id": "4cff3f98",
   "metadata": {},
   "source": [
    "## Exercise 1\n",
    "#### The following arrays are given.\n",
    "\n",
    "#### Calculate arithmetic means of these arrays (elementwise) and print result to the console."
   ]
  },
  {
   "cell_type": "code",
   "execution_count": 2,
   "id": "5c71cfc4",
   "metadata": {},
   "outputs": [
    {
     "name": "stdout",
     "output_type": "stream",
     "text": [
      "[[3.5 3.5 5.5 3.5]\n",
      " [5.5 3.  1.5 5.5]]\n"
     ]
    }
   ],
   "source": [
    "import numpy as np\n",
    "\n",
    "\n",
    "A = np.array([[3, 4, 9, 2],\n",
    "              [5, 3, 2, 5]])\n",
    "B = np.array([[4, 3, 2, 5],\n",
    "              [6, 3, 1, 6]])\n",
    "\n",
    "E1 = np.divide(np.add(A, B), 2)\n",
    "\n",
    "print(E1)"
   ]
  },
  {
   "cell_type": "markdown",
   "id": "1d7de6c5",
   "metadata": {},
   "source": [
    "## Exercise 2\n",
    "#### The following arrays are given:\n",
    "\n",
    "#### Multiply these arrays (elementwise) and print result to the console."
   ]
  },
  {
   "cell_type": "code",
   "execution_count": 3,
   "id": "a83366f6",
   "metadata": {},
   "outputs": [
    {
     "name": "stdout",
     "output_type": "stream",
     "text": [
      "[[12 12 18 10]\n",
      " [30  9  2 30]]\n"
     ]
    }
   ],
   "source": [
    "A = np.array([[3, 4, 9, 2],\n",
    "              [5, 3, 2, 5]])\n",
    "B = np.array([[4, 3, 2, 5],\n",
    "              [6, 3, 1, 6]])\n",
    "\n",
    "E2 = np.multiply(A,B)\n",
    "\n",
    "print(E2)"
   ]
  },
  {
   "cell_type": "markdown",
   "id": "e6ed4b4d",
   "metadata": {},
   "source": [
    "## Exercise 3\n",
    "#### The following array is given:\n",
    "\n",
    "#### Calculate the square root of each element of this array and print result to the console.\n",
    "\n",
    "Tip: Use the np.sqrt() function."
   ]
  },
  {
   "cell_type": "code",
   "execution_count": 4,
   "id": "909aa7a9",
   "metadata": {},
   "outputs": [
    {
     "name": "stdout",
     "output_type": "stream",
     "text": [
      "[[1.73205081 2.         3.         1.41421356]\n",
      " [2.23606798 1.73205081 1.41421356 2.23606798]]\n"
     ]
    }
   ],
   "source": [
    "A = np.array([[3, 4, 9, 2],\n",
    "              [5, 3, 2, 5]])\n",
    "\n",
    "E3 = np.sqrt(A)\n",
    "\n",
    "print(E3)"
   ]
  }
 ],
 "metadata": {
  "kernelspec": {
   "display_name": "Python 3 (ipykernel)",
   "language": "python",
   "name": "python3"
  },
  "language_info": {
   "codemirror_mode": {
    "name": "ipython",
    "version": 3
   },
   "file_extension": ".py",
   "mimetype": "text/x-python",
   "name": "python",
   "nbconvert_exporter": "python",
   "pygments_lexer": "ipython3",
   "version": "3.9.13"
  }
 },
 "nbformat": 4,
 "nbformat_minor": 5
}
