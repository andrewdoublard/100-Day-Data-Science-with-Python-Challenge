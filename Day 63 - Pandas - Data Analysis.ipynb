{
 "cells": [
  {
   "cell_type": "markdown",
   "id": "abb08fa6",
   "metadata": {},
   "source": [
    "## Exercise 1\n",
    "#### The corr DataFrame is given below. Extract charges column (as a DataFrame object), sort the values in descending order and print it to the console."
   ]
  },
  {
   "cell_type": "code",
   "execution_count": 5,
   "id": "c451aea4",
   "metadata": {},
   "outputs": [
    {
     "name": "stdout",
     "output_type": "stream",
     "text": [
      "                   charges\n",
      "charges           1.000000\n",
      "smoker_yes        0.787251\n",
      "age               0.299008\n",
      "bmi               0.198341\n",
      "region_southeast  0.073982\n",
      "children          0.067998\n",
      "sex_male          0.057292\n",
      "region_northwest -0.039905\n",
      "region_southwest -0.043210\n"
     ]
    }
   ],
   "source": [
    "import pandas as pd\n",
    "\n",
    "url = (\n",
    "    'https://storage.googleapis.com/esmartdata-courses-files/'\n",
    "    'ml-course/insurance.csv'\n",
    ")\n",
    "df = pd.read_csv(url)\n",
    "for col in list(df.select_dtypes(include=['object']).columns):\n",
    "    df[col] = df[col].astype('category')\n",
    "df_dummies = pd.get_dummies(df, drop_first=True)\n",
    "corr = df_dummies.corr()\n",
    "\n",
    "\n",
    "print(corr[['charges']].sort_values(by='charges', ascending=False))"
   ]
  },
  {
   "cell_type": "markdown",
   "id": "b833446e",
   "metadata": {},
   "source": [
    "#### Notes:\n",
    "\n",
    "- Single brackets ([]): Access a single column as a Series.\n",
    "- Double brackets ([[]]): Access a single column as a DataFrame.\n",
    "- In this context, the double brackets ensure that you are working with a DataFrame, allowing for DataFrame-specific methods like sort_values."
   ]
  },
  {
   "cell_type": "markdown",
   "id": "030e205e",
   "metadata": {},
   "source": [
    "## Exercise 2\n",
    "#### The df DataFrame is given below. Make a copy of the df_dummies and assign to data variable. Then pop the charges column from this object and assign it to the target variable.\n",
    "\n",
    "#### In response, print the first five rows of data DataFrame, print blank line and the first five rows of target DataFrame."
   ]
  },
  {
   "cell_type": "code",
   "execution_count": 6,
   "id": "4c2feaa7",
   "metadata": {},
   "outputs": [
    {
     "name": "stdout",
     "output_type": "stream",
     "text": [
      "0    16884.92400\n",
      "1     1725.55230\n",
      "2     4449.46200\n",
      "3    21984.47061\n",
      "4     3866.85520\n",
      "Name: charges, dtype: float64\n",
      "\n",
      "1333    10600.5483\n",
      "1334     2205.9808\n",
      "1335     1629.8335\n",
      "1336     2007.9450\n",
      "1337    29141.3603\n",
      "Name: charges, dtype: float64\n"
     ]
    }
   ],
   "source": [
    "data = df_dummies.copy()\n",
    "\n",
    "target = data['charges']\n",
    "\n",
    "print(target.head())\n",
    "print('')\n",
    "print(target.tail())"
   ]
  },
  {
   "cell_type": "markdown",
   "id": "59447f9c",
   "metadata": {},
   "source": [
    "#### Notes:\n",
    "\n",
    "- Use data.pop('charges') when you want to extract a column and simultaneously remove it from the original DataFrame. Use data['charges'] if you only need to reference or work with the column without altering the original DataFrame."
   ]
  },
  {
   "cell_type": "markdown",
   "id": "28adcb78",
   "metadata": {},
   "source": [
    "## Exercise 3\n",
    "#### Create the DataFrame from the following dictionary and assign it to the df variable:\n",
    "\n",
    "#### In response, print df to the console."
   ]
  },
  {
   "cell_type": "code",
   "execution_count": 9,
   "id": "514e5685",
   "metadata": {},
   "outputs": [
    {
     "name": "stdout",
     "output_type": "stream",
     "text": [
      "  size  color  gender  price  weight bought\n",
      "0   XL    red  female  199.0     500    yes\n",
      "1    L  green    male   89.0     450     no\n",
      "2    M   blue    male   99.0     300    yes\n",
      "3    L  green  female  129.0     380     no\n",
      "4    M    red  female   79.0     410    yes\n"
     ]
    }
   ],
   "source": [
    "data = {\n",
    "    'size': ['XL', 'L', 'M', 'L', 'M'],\n",
    "    'color': ['red', 'green', 'blue', 'green', 'red'],\n",
    "    'gender': ['female', 'male', 'male', 'female', 'female'],\n",
    "    'price': [199.0, 89.0, 99.0, 129.0, 79.0],\n",
    "    'weight': [500, 450, 300, 380, 410],\n",
    "    'bought': ['yes', 'no', 'yes', 'no', 'yes']\n",
    "}\n",
    "\n",
    "df = pd.DataFrame(data)\n",
    "\n",
    "print(df)"
   ]
  }
 ],
 "metadata": {
  "kernelspec": {
   "display_name": "Python 3 (ipykernel)",
   "language": "python",
   "name": "python3"
  },
  "language_info": {
   "codemirror_mode": {
    "name": "ipython",
    "version": 3
   },
   "file_extension": ".py",
   "mimetype": "text/x-python",
   "name": "python",
   "nbconvert_exporter": "python",
   "pygments_lexer": "ipython3",
   "version": "3.9.13"
  }
 },
 "nbformat": 4,
 "nbformat_minor": 5
}
