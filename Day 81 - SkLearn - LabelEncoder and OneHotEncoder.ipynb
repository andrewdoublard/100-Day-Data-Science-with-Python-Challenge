{
 "cells": [
  {
   "cell_type": "markdown",
   "id": "a6961d2d",
   "metadata": {},
   "source": [
    "## Exercise 1\n",
    "\n",
    "#### Using the LabelEncoder class from the scikit-learn package encode target variable - bought as shown below and assign the result to the df DataFrame.\n",
    "\n",
    "#### In response, print the df DataFrame to the console."
   ]
  },
  {
   "cell_type": "code",
   "execution_count": 3,
   "id": "42e3a4d7",
   "metadata": {},
   "outputs": [
    {
     "name": "stdout",
     "output_type": "stream",
     "text": [
      "  size  color  gender  price  weight  bought\n",
      "0   XL    red  female  199.0   500.0       1\n",
      "1    L  green    male   89.0   450.0       0\n",
      "2    M   blue    male   99.0   300.0       1\n",
      "3    L  green  female  129.0   380.0       0\n",
      "4    M    red  female   79.0   410.0       1\n"
     ]
    }
   ],
   "source": [
    "import pandas as pd\n",
    "from sklearn.preprocessing import LabelEncoder\n",
    "\n",
    "\n",
    "data = {\n",
    "    'size': ['XL', 'L', 'M', 'L', 'M'],\n",
    "    'color': ['red', 'green', 'blue', 'green', 'red'],\n",
    "    'gender': ['female', 'male', 'male', 'female', 'female'],\n",
    "    'price': [199.0, 89.0, 99.0, 129.0, 79.0],\n",
    "    'weight': [500, 450, 300, 380, 410],\n",
    "    'bought': ['yes', 'no', 'yes', 'no', 'yes']\n",
    "}\n",
    "\n",
    "df = pd.DataFrame(data=data)\n",
    "for col in ['size', 'color', 'gender', 'bought']:\n",
    "    df[col] = df[col].astype('category')\n",
    "df['weight'] = df['weight'].astype('float')\n",
    "      \n",
    "le = LabelEncoder()\n",
    "      \n",
    "df['bought'] = le.fit_transform(df['bought'])\n",
    "      \n",
    "print(df)"
   ]
  },
  {
   "cell_type": "markdown",
   "id": "f5b4fb60",
   "metadata": {},
   "source": [
    "#### Notes:\n",
    "\n",
    "- LabelEncoder(): This is a class in scikit-learn used to convert categorical data (labels) into numerical format. It assigns a unique integer to each unique category in the data.\n",
    "\n",
    "- le.fit_transform(): This method first fits the LabelEncoder to the data (i.e., learns the mapping from categories to integers) and then transforms the categorical labels into their corresponding integer values in one step.\n",
    "\n",
    "- Use Case: It’s commonly used for preprocessing categorical data in machine learning pipelines, allowing models that require numerical input to handle categorical variables."
   ]
  },
  {
   "cell_type": "markdown",
   "id": "57093db7",
   "metadata": {},
   "source": [
    "## Exercise 2:\n",
    "#### Using the OneHotEncoder from the scikit-learn package, encode the size column as a one-hot numeric array. (set the parameter sparse=False).\n",
    "\n",
    "#### In response, print the encoded size column to the console (don't assign changes to the df DataFrame). Also print the encoding categories to the console as shown below."
   ]
  },
  {
   "cell_type": "code",
   "execution_count": 5,
   "id": "d9037237",
   "metadata": {},
   "outputs": [
    {
     "name": "stdout",
     "output_type": "stream",
     "text": [
      "[[0. 0. 1.]\n",
      " [1. 0. 0.]\n",
      " [0. 1. 0.]\n",
      " [1. 0. 0.]\n",
      " [0. 1. 0.]]\n",
      "[array(['L', 'M', 'XL'], dtype=object)]\n"
     ]
    }
   ],
   "source": [
    "import pandas as pd\n",
    "from sklearn.preprocessing import OneHotEncoder\n",
    "\n",
    "\n",
    "data = {\n",
    "    'size': ['XL', 'L', 'M', 'L', 'M'],\n",
    "    'color': ['red', 'green', 'blue', 'green', 'red'],\n",
    "    'gender': ['female', 'male', 'male', 'female', 'female'],\n",
    "    'price': [199.0, 89.0, 99.0, 129.0, 79.0],\n",
    "    'weight': [500, 450, 300, 380, 410],\n",
    "    'bought': ['yes', 'no', 'yes', 'no', 'yes']\n",
    "}\n",
    "\n",
    "df = pd.DataFrame(data=data)\n",
    "for col in ['size', 'color', 'gender', 'bought']:\n",
    "    df[col] = df[col].astype('category')\n",
    "df['weight'] = df['weight'].astype('float')\n",
    "\n",
    "enc = OneHotEncoder(sparse = False)\n",
    "      \n",
    "enc.fit(df[['size']])\n",
    "\n",
    "print(enc.transform(df[['size']]))\n",
    "\n",
    "print(enc.categories_)"
   ]
  },
  {
   "cell_type": "markdown",
   "id": "10a42dfb",
   "metadata": {},
   "source": [
    "#### Notes:\n",
    "\n",
    "- OneHotEncoder with sparse=False: It converts categorical variables into a binary (0 or 1) matrix, where each unique category is represented by a separate column.\n",
    "\n",
    "- enc.fit(df[['size']]): It identifies all unique categories within the 'size' column and prepares the encoder for transformation.\n",
    "\n",
    "- enc.transform(df[['size']]): This transforms the 'size' column into a one-hot encoded matrix, where each row corresponds to a record in the DataFrame, and each column represents a unique category from the 'size' column. The resulting matrix has a 1 in the column corresponding to the category for that record and 0s elsewhere.\n",
    "\n",
    "- enc.categories_: It allows you to see the categories that correspond to the columns in the transformed matrix."
   ]
  },
  {
   "cell_type": "markdown",
   "id": "cf3c4535",
   "metadata": {},
   "source": [
    "## Exercise 3:\n",
    "\n",
    "#### The Breast Cancer Data was loaded into the raw_data variable.\n",
    "\n",
    "#### Assign the value for the 'data' key (numpy array) to the data variable. Then assign the value for the 'target' key (numpy array) to the target variable.\n",
    "\n",
    "#### In response, print the first three elements of the data array to the console."
   ]
  },
  {
   "cell_type": "code",
   "execution_count": 12,
   "id": "d5f38a3d",
   "metadata": {},
   "outputs": [
    {
     "name": "stdout",
     "output_type": "stream",
     "text": [
      "First 3 elements of data array: [[  17.99   10.38  122.8  1001.      0.12    0.28    0.3     0.15    0.24    0.08    1.09    0.91\n",
      "     8.59  153.4     0.01    0.05    0.05    0.02    0.03    0.01   25.38   17.33  184.6  2019.\n",
      "     0.16    0.67    0.71    0.27    0.46    0.12]\n",
      " [  20.57   17.77  132.9  1326.      0.08    0.08    0.09    0.07    0.18    0.06    0.54    0.73\n",
      "     3.4    74.08    0.01    0.01    0.02    0.01    0.01    0.     24.99   23.41  158.8  1956.\n",
      "     0.12    0.19    0.24    0.19    0.28    0.09]\n",
      " [  19.69   21.25  130.   1203.      0.11    0.16    0.2     0.13    0.21    0.06    0.75    0.79\n",
      "     4.58   94.03    0.01    0.04    0.04    0.02    0.02    0.     23.57   25.53  152.5  1709.\n",
      "     0.14    0.42    0.45    0.24    0.36    0.09]]\n"
     ]
    }
   ],
   "source": [
    "import numpy as np\n",
    "from sklearn.datasets import load_breast_cancer\n",
    "\n",
    "\n",
    "np.set_printoptions(precision=2, suppress=True, linewidth=100)\n",
    "raw_data = load_breast_cancer()\n",
    "\n",
    "data = raw_data['data']\n",
    "\n",
    "target = raw_data['target']\n",
    "\n",
    "print(f'First 3 elements of data array: {data[:3]}')"
   ]
  }
 ],
 "metadata": {
  "kernelspec": {
   "display_name": "Python 3 (ipykernel)",
   "language": "python",
   "name": "python3"
  },
  "language_info": {
   "codemirror_mode": {
    "name": "ipython",
    "version": 3
   },
   "file_extension": ".py",
   "mimetype": "text/x-python",
   "name": "python",
   "nbconvert_exporter": "python",
   "pygments_lexer": "ipython3",
   "version": "3.9.13"
  }
 },
 "nbformat": 4,
 "nbformat_minor": 5
}
