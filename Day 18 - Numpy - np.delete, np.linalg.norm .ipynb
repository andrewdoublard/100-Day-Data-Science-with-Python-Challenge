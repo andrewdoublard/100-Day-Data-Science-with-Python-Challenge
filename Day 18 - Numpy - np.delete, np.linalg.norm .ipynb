{
 "cells": [
  {
   "cell_type": "markdown",
   "id": "65036ff8",
   "metadata": {},
   "source": [
    "## Exercise 1\n",
    "#### The following array is given:\n",
    "\n",
    "A = np.random.randn(8, 4)\n",
    "\n",
    "#### Remove the third column and print this array to the console.\n",
    "\n",
    "Tip: Use the np.delete() function."
   ]
  },
  {
   "cell_type": "code",
   "execution_count": 1,
   "id": "4d2e0cb0",
   "metadata": {},
   "outputs": [
    {
     "name": "stdout",
     "output_type": "stream",
     "text": [
      "[[ 0.49671415 -0.1382643   1.52302986]\n",
      " [-0.23415337 -0.23413696  0.76743473]\n",
      " [-0.46947439  0.54256004 -0.46572975]\n",
      " [ 0.24196227 -1.91328024 -0.56228753]\n",
      " [-1.01283112  0.31424733 -1.4123037 ]\n",
      " [ 1.46564877 -0.2257763  -1.42474819]\n",
      " [-0.54438272  0.11092259  0.37569802]\n",
      " [-0.60063869 -0.29169375  1.85227818]]\n"
     ]
    }
   ],
   "source": [
    "import numpy as np\n",
    "\n",
    "\n",
    "np.random.seed(42)\n",
    "\n",
    "A = np.random.randn(8, 4)\n",
    "\n",
    "E1 = np.delete(A, 2 , axis = 1)\n",
    "\n",
    "print(E1)"
   ]
  },
  {
   "cell_type": "markdown",
   "id": "78cfbb9d",
   "metadata": {},
   "source": [
    "#### Notes:\n",
    "\n",
    "\n",
    "- The np.delete function in NumPy is used to remove elements from an array. It can be used to delete specific elements, rows, or columns from an array.\n",
    "- arr: The input array.\n",
    "- obj: The indices of the elements to remove. This can be a single index or a list of indices.\n",
    "- axis: The axis along which to delete the elements. If None, the input array is flattened before deleting the specified elements."
   ]
  },
  {
   "cell_type": "markdown",
   "id": "d24c3d0b",
   "metadata": {},
   "source": [
    "## Exercise 2\n",
    "#### A one-dimensional array v (vector) is given:\n",
    "\n",
    "v = np.array([3, 4, -2])\n",
    "\n",
    "#### Calculate the norm of this vector and print result to the console."
   ]
  },
  {
   "cell_type": "code",
   "execution_count": 2,
   "id": "4c1fd8cf",
   "metadata": {},
   "outputs": [
    {
     "name": "stdout",
     "output_type": "stream",
     "text": [
      "5.385164807134504\n"
     ]
    }
   ],
   "source": [
    "v = np.array([3, 4, -2])\n",
    "\n",
    "print(np.linalg.norm(v))"
   ]
  },
  {
   "cell_type": "markdown",
   "id": "5f01db58",
   "metadata": {},
   "source": [
    "#### Notes:\n",
    "\n",
    "- The np.linalg.norm function in NumPy is used to calculate various types of norms (or lengths) of vectors and matrices. The norm of a vector is a measure of its length, and the norm of a matrix can represent different types of matrix norms."
   ]
  },
  {
   "cell_type": "markdown",
   "id": "4fc72603",
   "metadata": {},
   "source": [
    "## Exercise 3\n",
    "#### The following array is given:\n",
    "\n",
    "A = np.random.randint(10, size=(100, 30))\n",
    "\n",
    "\n",
    "#### Set the Numpy option to print only ten edge elements and then print this array to the console."
   ]
  },
  {
   "cell_type": "code",
   "execution_count": 3,
   "id": "a203c408",
   "metadata": {},
   "outputs": [
    {
     "name": "stdout",
     "output_type": "stream",
     "text": [
      "[[6 3 7 4 6 9 2 6 7 4 ... 4 0 9 5 8 0 9 2 6 3]\n",
      " [8 2 4 2 6 4 8 6 1 3 ... 2 0 3 1 7 3 1 5 5 9]\n",
      " [3 5 1 9 1 9 3 7 6 8 ... 6 8 7 0 7 7 2 0 7 2]\n",
      " [2 0 4 9 6 9 8 6 8 7 ... 0 2 4 2 0 4 9 6 6 8]\n",
      " [9 9 2 6 0 3 3 4 6 6 ... 9 6 8 6 0 0 8 8 3 8]\n",
      " [2 6 5 7 8 4 0 2 9 7 ... 2 0 4 0 7 0 0 1 1 5]\n",
      " [6 4 0 0 2 1 4 9 5 6 ... 5 0 8 5 2 3 3 2 9 2]\n",
      " [2 3 6 3 8 0 7 6 1 7 ... 3 0 1 0 4 4 6 8 8 2]\n",
      " [2 2 3 7 5 7 0 7 3 0 ... 1 1 5 2 8 3 0 3 0 4]\n",
      " [3 7 7 6 2 0 0 2 5 6 ... 4 2 3 2 0 0 4 5 2 8]\n",
      " ...\n",
      " [6 4 8 2 0 3 8 3 1 9 ... 8 4 7 1 5 2 9 4 7 9]\n",
      " [0 4 2 3 1 8 2 1 9 8 ... 7 7 6 5 8 3 0 7 6 6]\n",
      " [2 3 9 8 5 4 2 8 4 4 ... 6 1 7 5 3 4 7 2 2 3]\n",
      " [0 8 7 7 9 5 6 5 8 2 ... 2 3 7 5 4 3 7 0 8 0]\n",
      " [7 3 8 4 2 8 8 3 3 7 ... 4 4 3 4 2 0 4 8 8 3]\n",
      " [2 0 1 7 0 7 6 7 5 8 ... 2 3 6 6 3 5 2 5 1 7]\n",
      " [1 6 8 0 7 6 5 5 5 8 ... 2 7 2 3 7 0 5 0 0 7]\n",
      " [3 0 9 6 4 4 0 9 5 8 ... 6 8 6 2 0 7 2 7 7 4]\n",
      " [0 9 6 9 4 7 8 6 6 0 ... 7 3 0 0 9 2 8 6 1 8]\n",
      " [9 1 2 9 1 2 5 8 8 6 ... 8 2 0 6 9 4 4 0 8 6]]\n"
     ]
    }
   ],
   "source": [
    "import numpy as np\n",
    "\n",
    "\n",
    "np.random.seed(42)\n",
    "A = np.random.randint(10, size=(100, 30))\n",
    "\n",
    "np.set_printoptions(edgeitems=10)\n",
    "print(A)"
   ]
  },
  {
   "cell_type": "markdown",
   "id": "210cd85d",
   "metadata": {},
   "source": [
    "#### Notes:\n",
    "\n",
    "- Using np.set_printoptions(edgeitems=10), you can control the number of elements displayed at the beginning and end of each dimension of a large array, making it easier to inspect the edges of your arrays without being overwhelmed by the full array content. This is particularly useful for debugging and for understanding the structure of large datasets."
   ]
  }
 ],
 "metadata": {
  "kernelspec": {
   "display_name": "Python 3 (ipykernel)",
   "language": "python",
   "name": "python3"
  },
  "language_info": {
   "codemirror_mode": {
    "name": "ipython",
    "version": 3
   },
   "file_extension": ".py",
   "mimetype": "text/x-python",
   "name": "python",
   "nbconvert_exporter": "python",
   "pygments_lexer": "ipython3",
   "version": "3.9.13"
  }
 },
 "nbformat": 4,
 "nbformat_minor": 5
}
