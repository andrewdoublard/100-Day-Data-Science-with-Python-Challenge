{
 "cells": [
  {
   "cell_type": "markdown",
   "id": "76e8021a",
   "metadata": {},
   "source": [
    "## Exercise 1\n",
    "#### The DataFrame is given below, Extract the following columns from the result DataFrame:\n",
    "\n",
    "- amzn_open\n",
    "\n",
    "- amzn_close\n",
    "\n",
    "- tsla_open\n",
    "\n",
    "- tsla_close\n",
    "\n",
    "#### and copy to a new object called quotations.\n",
    "\n",
    "#### In response, print the quotations DataFrame to the console."
   ]
  },
  {
   "cell_type": "code",
   "execution_count": 2,
   "id": "a74d5f17",
   "metadata": {},
   "outputs": [
    {
     "name": "stdout",
     "output_type": "stream",
     "text": [
      "            amzn_open  amzn_close  tsla_open  tsla_close\n",
      "Date                                                    \n",
      "2020-09-22  3033.8350     3128.99     429.60      424.23\n",
      "2020-09-21  2906.5000     2960.47     453.13      449.39\n",
      "2020-09-18  3031.7400     2954.91     447.94      442.15\n",
      "2020-09-17  3009.2500     3008.73     415.60      423.43\n",
      "2020-09-16  3179.9900     3078.10     439.87      441.76\n",
      "2020-09-15  3136.1600     3156.13     436.56      449.76\n",
      "2020-09-14  3172.9372     3102.97     380.95      419.62\n",
      "2020-09-11  3208.6900     3116.22     381.94      372.72\n",
      "2020-09-10  3307.2188     3175.11     386.21      371.34\n",
      "2020-09-09  3202.9900     3268.61     356.60      366.28\n",
      "2020-09-08  3144.0000     3149.84     356.00      330.21\n",
      "2020-09-04  3318.0000     3294.62     402.81      418.32\n",
      "2020-09-03  3485.0000     3368.00     407.23      407.00\n",
      "2020-09-02  3547.0000     3531.45     478.99      447.37\n",
      "2020-09-01  3489.5800     3499.12     502.14      475.05\n",
      "2020-08-31  3408.9900     3450.96     444.61      498.32\n",
      "2020-08-28  3423.0000     3401.80     459.02      442.68\n",
      "2020-08-27  3450.0500     3400.00     436.09      447.75\n",
      "2020-08-26  3351.1100     3441.85     412.00      430.63\n",
      "2020-08-25  3294.9900     3346.49     394.98      404.67\n"
     ]
    }
   ],
   "source": [
    "import pandas as pd\n",
    "\n",
    "amazon = pd.read_csv('amazon.csv', index_col=0)\n",
    "tesla = pd.read_csv('tesla.csv', index_col=0)\n",
    "amazon.columns = ['amzn_' + col.lower() for col in amazon.columns]\n",
    "tesla.columns = ['tsla_' + col.lower() for col in tesla.columns]\n",
    "result = pd.concat([amazon, tesla], axis=1)\n",
    "\n",
    "quotations = result[['amzn_open', 'amzn_close', 'tsla_open', 'tsla_close']].copy()\n",
    "\n",
    "print(quotations)"
   ]
  },
  {
   "cell_type": "markdown",
   "id": "f4d2a4b0",
   "metadata": {},
   "source": [
    "## Exercise 2:\n",
    "\n",
    "#### Assign two following columns to the quotations DataFrame:\n",
    "\n",
    "- amzn_change\n",
    "\n",
    "- tsla_change\n",
    "\n",
    "#### which will be the daily percentage change of the price. In response, print quotations DataFrame to the console.\n",
    "\n",
    "Tip: % change = close / open - 1"
   ]
  },
  {
   "cell_type": "code",
   "execution_count": 6,
   "id": "d5d7af02",
   "metadata": {},
   "outputs": [
    {
     "name": "stdout",
     "output_type": "stream",
     "text": [
      "            amzn_open  amzn_close  tsla_open  tsla_close  amzn_change  \\\n",
      "Date                                                                    \n",
      "2020-09-22  3033.8350     3128.99     429.60      424.23     3.136459   \n",
      "2020-09-21  2906.5000     2960.47     453.13      449.39     1.856873   \n",
      "2020-09-18  3031.7400     2954.91     447.94      442.15    -2.534188   \n",
      "2020-09-17  3009.2500     3008.73     415.60      423.43    -0.017280   \n",
      "2020-09-16  3179.9900     3078.10     439.87      441.76    -3.204098   \n",
      "2020-09-15  3136.1600     3156.13     436.56      449.76     0.636766   \n",
      "2020-09-14  3172.9372     3102.97     380.95      419.62    -2.205124   \n",
      "2020-09-11  3208.6900     3116.22     381.94      372.72    -2.881861   \n",
      "2020-09-10  3307.2188     3175.11     386.21      371.34    -3.994559   \n",
      "2020-09-09  3202.9900     3268.61     356.60      366.28     2.048711   \n",
      "2020-09-08  3144.0000     3149.84     356.00      330.21     0.185751   \n",
      "2020-09-04  3318.0000     3294.62     402.81      418.32    -0.704641   \n",
      "2020-09-03  3485.0000     3368.00     407.23      407.00    -3.357245   \n",
      "2020-09-02  3547.0000     3531.45     478.99      447.37    -0.438399   \n",
      "2020-09-01  3489.5800     3499.12     502.14      475.05     0.273385   \n",
      "2020-08-31  3408.9900     3450.96     444.61      498.32     1.231156   \n",
      "2020-08-28  3423.0000     3401.80     459.02      442.68    -0.619340   \n",
      "2020-08-27  3450.0500     3400.00     436.09      447.75    -1.450704   \n",
      "2020-08-26  3351.1100     3441.85     412.00      430.63     2.707760   \n",
      "2020-08-25  3294.9900     3346.49     394.98      404.67     1.562979   \n",
      "\n",
      "            tsla_change  \n",
      "Date                     \n",
      "2020-09-22    -1.250000  \n",
      "2020-09-21    -0.825370  \n",
      "2020-09-18    -1.292584  \n",
      "2020-09-17     1.884023  \n",
      "2020-09-16     0.429672  \n",
      "2020-09-15     3.023639  \n",
      "2020-09-14    10.150938  \n",
      "2020-09-11    -2.413992  \n",
      "2020-09-10    -3.850237  \n",
      "2020-09-09     2.714526  \n",
      "2020-09-08    -7.244382  \n",
      "2020-09-04     3.850451  \n",
      "2020-09-03    -0.056479  \n",
      "2020-09-02    -6.601390  \n",
      "2020-09-01    -5.394910  \n",
      "2020-08-31    12.080250  \n",
      "2020-08-28    -3.559758  \n",
      "2020-08-27     2.673760  \n",
      "2020-08-26     4.521845  \n",
      "2020-08-25     2.453289  \n"
     ]
    }
   ],
   "source": [
    "quotations['amzn_change'] = ((quotations['amzn_close']-quotations['amzn_open'])/quotations['amzn_open'])*100\n",
    "\n",
    "quotations['tsla_change'] = ((quotations['tsla_close']-quotations['tsla_open'])/quotations['tsla_open'])*100\n",
    "\n",
    "print(quotations)"
   ]
  },
  {
   "cell_type": "markdown",
   "id": "31531de5",
   "metadata": {},
   "source": [
    "## Exercise 3\n",
    "#### The quotations DataFrame is given below:\n",
    "\n",
    "#### Create a new column 'similarity_flag' that stores 1 when the daily percentage change for Amazon and Tesla is of the same sign, otherwise 0 as shown below.\n",
    "\n",
    "#### In response, print quotations DataFrame to the console."
   ]
  },
  {
   "cell_type": "code",
   "execution_count": 9,
   "id": "da84e3e8",
   "metadata": {},
   "outputs": [
    {
     "name": "stdout",
     "output_type": "stream",
     "text": [
      "            amzn_open  amzn_close  tsla_open  tsla_close  amzn_change  \\\n",
      "Date                                                                    \n",
      "2020-09-22  3033.8350     3128.99     429.60      424.23     3.136459   \n",
      "2020-09-21  2906.5000     2960.47     453.13      449.39     1.856873   \n",
      "2020-09-18  3031.7400     2954.91     447.94      442.15    -2.534188   \n",
      "2020-09-17  3009.2500     3008.73     415.60      423.43    -0.017280   \n",
      "2020-09-16  3179.9900     3078.10     439.87      441.76    -3.204098   \n",
      "2020-09-15  3136.1600     3156.13     436.56      449.76     0.636766   \n",
      "2020-09-14  3172.9372     3102.97     380.95      419.62    -2.205124   \n",
      "2020-09-11  3208.6900     3116.22     381.94      372.72    -2.881861   \n",
      "2020-09-10  3307.2188     3175.11     386.21      371.34    -3.994559   \n",
      "2020-09-09  3202.9900     3268.61     356.60      366.28     2.048711   \n",
      "2020-09-08  3144.0000     3149.84     356.00      330.21     0.185751   \n",
      "2020-09-04  3318.0000     3294.62     402.81      418.32    -0.704641   \n",
      "2020-09-03  3485.0000     3368.00     407.23      407.00    -3.357245   \n",
      "2020-09-02  3547.0000     3531.45     478.99      447.37    -0.438399   \n",
      "2020-09-01  3489.5800     3499.12     502.14      475.05     0.273385   \n",
      "2020-08-31  3408.9900     3450.96     444.61      498.32     1.231156   \n",
      "2020-08-28  3423.0000     3401.80     459.02      442.68    -0.619340   \n",
      "2020-08-27  3450.0500     3400.00     436.09      447.75    -1.450704   \n",
      "2020-08-26  3351.1100     3441.85     412.00      430.63     2.707760   \n",
      "2020-08-25  3294.9900     3346.49     394.98      404.67     1.562979   \n",
      "\n",
      "            tsla_change  similarity_flag  \n",
      "Date                                      \n",
      "2020-09-22    -1.250000                0  \n",
      "2020-09-21    -0.825370                0  \n",
      "2020-09-18    -1.292584                1  \n",
      "2020-09-17     1.884023                0  \n",
      "2020-09-16     0.429672                0  \n",
      "2020-09-15     3.023639                1  \n",
      "2020-09-14    10.150938                0  \n",
      "2020-09-11    -2.413992                1  \n",
      "2020-09-10    -3.850237                1  \n",
      "2020-09-09     2.714526                1  \n",
      "2020-09-08    -7.244382                0  \n",
      "2020-09-04     3.850451                0  \n",
      "2020-09-03    -0.056479                1  \n",
      "2020-09-02    -6.601390                1  \n",
      "2020-09-01    -5.394910                0  \n",
      "2020-08-31    12.080250                1  \n",
      "2020-08-28    -3.559758                1  \n",
      "2020-08-27     2.673760                0  \n",
      "2020-08-26     4.521845                1  \n",
      "2020-08-25     2.453289                1  \n"
     ]
    }
   ],
   "source": [
    "quotations['similarity_flag'] = (\n",
    "    quotations['amzn_change'] * quotations['tsla_change'] > 0\n",
    ") * 1\n",
    "\n",
    "print(quotations)"
   ]
  },
  {
   "cell_type": "markdown",
   "id": "7dd0da54",
   "metadata": {},
   "source": [
    "#### Notes:\n",
    "\n",
    "- 'quotations['amzn_change'] * quotations['tsla_change'] > 0':\n",
    "        This expression checks if the product of amzn_change and tsla_change is positive. If both changes are positive or both are negative, the product will be positive, resulting in True. If one is positive and the other is negative, the product will be negative, resulting in False.\n",
    "- '* 1:\n",
    "        This converts the boolean True (which is 1) or False (which is 0) into an integer."
   ]
  }
 ],
 "metadata": {
  "kernelspec": {
   "display_name": "Python 3 (ipykernel)",
   "language": "python",
   "name": "python3"
  },
  "language_info": {
   "codemirror_mode": {
    "name": "ipython",
    "version": 3
   },
   "file_extension": ".py",
   "mimetype": "text/x-python",
   "name": "python",
   "nbconvert_exporter": "python",
   "pygments_lexer": "ipython3",
   "version": "3.9.13"
  }
 },
 "nbformat": 4,
 "nbformat_minor": 5
}
