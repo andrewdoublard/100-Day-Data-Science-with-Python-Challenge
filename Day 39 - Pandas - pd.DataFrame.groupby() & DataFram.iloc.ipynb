{
 "cells": [
  {
   "cell_type": "markdown",
   "id": "6a47ba36",
   "metadata": {},
   "source": [
    "## Exercise 1\n",
    "#### The google.csv file is loaded using pandas as shown below. Compute the average closing price for the month (group data by month - the Month column and then count the average value). In response, print result to the console."
   ]
  },
  {
   "cell_type": "code",
   "execution_count": 1,
   "id": "7f2a8a20",
   "metadata": {},
   "outputs": [
    {
     "name": "stdout",
     "output_type": "stream",
     "text": [
      "Month\n",
      "5    1418.900000\n",
      "6    1431.595455\n",
      "7    1455.965000\n",
      "Name: Close, dtype: float64\n"
     ]
    }
   ],
   "source": [
    "import pandas as pd\n",
    "\n",
    "google = pd.read_csv('google.csv', index_col=0)\n",
    "google = google.reset_index()\n",
    "google['Date'] = pd.to_datetime(google['Date'])\n",
    "google['Year'] = google['Date'].dt.year\n",
    "google['Month'] = google['Date'].dt.month\n",
    "\n",
    "E1 = google.groupby('Month')['Close'].mean()\n",
    "\n",
    "print(E1)"
   ]
  },
  {
   "cell_type": "markdown",
   "id": "995aac04",
   "metadata": {},
   "source": [
    "#### Notes:\n",
    "\n",
    "- 1) Group by Month 'groupby('Month')'.\n",
    "- 2) Select Column  '['Close']'.\n",
    "- 3) Calculating the Mean for the above group by and column."
   ]
  },
  {
   "cell_type": "markdown",
   "id": "2022903e",
   "metadata": {},
   "source": [
    "## Exercise 2\n",
    "#### The google.csv file is loaded using pandas as shown below. Find the index for which the Close price has the lowest value and assign it to the idx_min variable.\n",
    "\n",
    "#### Then extract the row for this index from the google DataFrame as a DataFrame. In response, print this DataFrame to the console."
   ]
  },
  {
   "cell_type": "code",
   "execution_count": 5,
   "id": "454be675",
   "metadata": {},
   "outputs": [
    {
     "name": "stdout",
     "output_type": "stream",
     "text": [
      "         Date     Open     High     Low    Close   Volume\n",
      "4  2020-06-26  1432.63  1437.02  1355.0  1362.54  4882014\n"
     ]
    }
   ],
   "source": [
    "google = pd.read_csv('google.csv', index_col=0)\n",
    "google = google.reset_index()\n",
    "\n",
    "idx_min = google['Close'].argmin()\n",
    "\n",
    "print(google.iloc[[idx_min]])"
   ]
  },
  {
   "cell_type": "markdown",
   "id": "5a15837a",
   "metadata": {},
   "source": [
    "#### Notes:\n",
    "\n",
    "- The .argmin() method in pandas is used to return the index (or the position) of the first occurrence of the minimum value in a Series or DataFrame.\n",
    "- iloc is used for integer-location based indexing and selection by position. It can be used for both rows and columns."
   ]
  },
  {
   "cell_type": "markdown",
   "id": "81d58135",
   "metadata": {},
   "source": [
    "## Exercise 3\n",
    "#### The google.csv file is loaded using pandas as shown below. Extract the following columns:\n",
    "\n",
    "- Date\n",
    "\n",
    "- Open\n",
    "\n",
    "- Close\n",
    "\n",
    "- Volume\n",
    "\n",
    "#### In response, print result to the console."
   ]
  },
  {
   "cell_type": "code",
   "execution_count": 7,
   "id": "5462c426",
   "metadata": {},
   "outputs": [
    {
     "name": "stdout",
     "output_type": "stream",
     "text": [
      "          Date     Open    Close   Volume\n",
      "0   2020-07-02  1451.84  1469.93  2860915\n",
      "1   2020-07-01  1419.17  1442.00  2109124\n",
      "2   2020-06-30  1396.88  1418.05  2014320\n",
      "3   2020-06-29  1360.34  1397.17  2253678\n",
      "4   2020-06-26  1432.63  1362.54  4882014\n",
      "5   2020-06-25  1431.22  1441.10  1197907\n",
      "6   2020-06-24  1463.28  1432.70  1579579\n",
      "7   2020-06-23  1452.00  1463.98  1887583\n",
      "8   2020-06-22  1425.01  1450.66  1472072\n",
      "9   2020-06-19  1440.00  1424.64  2639167\n",
      "10  2020-06-18  1449.85  1434.12  1743071\n",
      "11  2020-06-17  1452.94  1452.54  1530500\n",
      "12  2020-06-16  1449.00  1446.47  1534826\n",
      "13  2020-06-15  1389.49  1420.74  1527652\n",
      "14  2020-06-12  1425.86  1412.92  1833756\n",
      "15  2020-06-11  1441.03  1401.90  2357243\n",
      "16  2020-06-10  1461.51  1464.70  1588116\n",
      "17  2020-06-09  1445.24  1452.08  1681155\n",
      "18  2020-06-08  1426.28  1448.04  1693881\n",
      "19  2020-06-05  1415.64  1440.02  2132350\n",
      "20  2020-06-04  1436.78  1414.30  1349105\n",
      "21  2020-06-03  1442.70  1439.25  1386640\n",
      "22  2020-06-02  1435.00  1442.31  1172069\n",
      "23  2020-06-01  1425.70  1434.87  1259254\n",
      "24  2020-05-29  1420.43  1433.52  1852522\n",
      "25  2020-05-28  1400.00  1418.24  1759787\n",
      "26  2020-05-27  1420.00  1420.28  1584185\n",
      "27  2020-05-26  1441.96  1421.37  2229488\n",
      "28  2020-05-22  1403.90  1413.24  1427206\n",
      "29  2020-05-21  1410.99  1406.75  1544976\n"
     ]
    }
   ],
   "source": [
    "print(google[['Date', 'Open', 'Close', 'Volume']])"
   ]
  },
  {
   "cell_type": "markdown",
   "id": "5b0e8d6a",
   "metadata": {},
   "source": [
    "#### Notes:\n",
    "\n",
    "- When selecting multiple columns you need to pass it as a list, hence the [[]]."
   ]
  }
 ],
 "metadata": {
  "kernelspec": {
   "display_name": "Python 3 (ipykernel)",
   "language": "python",
   "name": "python3"
  },
  "language_info": {
   "codemirror_mode": {
    "name": "ipython",
    "version": 3
   },
   "file_extension": ".py",
   "mimetype": "text/x-python",
   "name": "python",
   "nbconvert_exporter": "python",
   "pygments_lexer": "ipython3",
   "version": "3.9.13"
  }
 },
 "nbformat": 4,
 "nbformat_minor": 5
}
