{
 "cells": [
  {
   "cell_type": "markdown",
   "id": "3c678f74",
   "metadata": {},
   "source": [
    "## Exercise 1\n",
    "#### The following array is given:\n",
    "\n",
    "A = np.array([[4.99, 3.49, 9.99],\n",
    "              [1.99, 9.99, 14.99],\n",
    "              [14.99, 2.39, 7.29]])\n",
    "\n",
    "#### Replace elements greater than 10 with a fixed value = 10.0 and print result to the console.\n",
    "\n",
    "Tip: Use the np.where() function."
   ]
  },
  {
   "cell_type": "code",
   "execution_count": 3,
   "id": "3bc71839",
   "metadata": {},
   "outputs": [
    {
     "name": "stdout",
     "output_type": "stream",
     "text": [
      "[[ 4.99  3.49  9.99]\n",
      " [ 1.99  9.99 10.  ]\n",
      " [10.    2.39  7.29]]\n"
     ]
    }
   ],
   "source": [
    "import numpy as np\n",
    "\n",
    "A = np.array([[4.99, 3.49, 9.99], \n",
    "              [1.99, 9.99, 14.99], \n",
    "              [14.99, 2.39, 7.29]])\n",
    "\n",
    "A1 = np.where(A > 10, 10.0, A)\n",
    "\n",
    "print(A1)"
   ]
  },
  {
   "cell_type": "markdown",
   "id": "490427fe",
   "metadata": {},
   "source": [
    "#### Note:\n",
    "\n",
    "1) np.where(A > 10, 10.0, A) creates a new array where each element is replaced by 10.0 if the element is greater than 10, otherwise it retains the original value.\n",
    "\n",
    "2) This is done element-wise across the entire array."
   ]
  },
  {
   "cell_type": "markdown",
   "id": "af6da33e",
   "metadata": {},
   "source": [
    "## Exercise 2\n",
    "#### Present the following two-dimensional array as a flattened one-dimensional array and print result to the console.\n",
    "\n",
    "A = np.array([[4.99, 3.49, 9.99],\n",
    "              [1.99, 9.99, 14.99],\n",
    "              [14.99, 2.39, 7.29]])\n",
    "\n",
    "Tip: Use the np.ravel() function."
   ]
  },
  {
   "cell_type": "code",
   "execution_count": 4,
   "id": "cedf9c3c",
   "metadata": {},
   "outputs": [
    {
     "name": "stdout",
     "output_type": "stream",
     "text": [
      "[ 4.99  3.49  9.99  1.99  9.99 14.99 14.99  2.39  7.29]\n"
     ]
    }
   ],
   "source": [
    "A = np.array([[4.99, 3.49, 9.99],\n",
    "              [1.99, 9.99, 14.99],\n",
    "              [14.99, 2.39, 7.29]])\n",
    "\n",
    "print(np.ravel(A))"
   ]
  },
  {
   "cell_type": "markdown",
   "id": "6f3ea85d",
   "metadata": {},
   "source": [
    "#### Note:\n",
    "\n",
    "The np.ravel() function in NumPy is used to flatten a multi-dimensional array into a 1-dimensional array."
   ]
  },
  {
   "cell_type": "markdown",
   "id": "a15d1d83",
   "metadata": {},
   "source": [
    "## Exercise 3\n",
    "#### The following array is given:\n",
    "\n",
    "A = np.array([[4.99, 3.49, 9.99],\n",
    "              [1.99, 9.99, 14.99],\n",
    "              [14.99, 2.39, 7.29]])\n",
    "\n",
    "#### Using Numpy create an array of the same shape and data type as the given array and fill it with zeros. Print this array to the console.\n",
    "\n",
    "Tip: Use the np.zeros_like() function."
   ]
  },
  {
   "cell_type": "code",
   "execution_count": 6,
   "id": "41fe1e48",
   "metadata": {},
   "outputs": [
    {
     "name": "stdout",
     "output_type": "stream",
     "text": [
      "[[0. 0. 0.]\n",
      " [0. 0. 0.]\n",
      " [0. 0. 0.]]\n"
     ]
    }
   ],
   "source": [
    "A = np.array([[4.99, 3.49, 9.99],\n",
    "              [1.99, 9.99, 14.99], \n",
    "              [14.99, 2.39, 7.29]])\n",
    "\n",
    "B = np.zeros_like(A)\n",
    "\n",
    "print(B)"
   ]
  },
  {
   "cell_type": "markdown",
   "id": "078ba28d",
   "metadata": {},
   "source": [
    "#### Note:\n",
    "\n",
    "The np.zeros_like() function in NumPy is used to create a new array of zeros with the same shape and type as a given array. This can be very useful when you need an array initialized to zeros but want it to have the same dimensions and data type as an existing array."
   ]
  }
 ],
 "metadata": {
  "kernelspec": {
   "display_name": "Python 3 (ipykernel)",
   "language": "python",
   "name": "python3"
  },
  "language_info": {
   "codemirror_mode": {
    "name": "ipython",
    "version": 3
   },
   "file_extension": ".py",
   "mimetype": "text/x-python",
   "name": "python",
   "nbconvert_exporter": "python",
   "pygments_lexer": "ipython3",
   "version": "3.9.13"
  }
 },
 "nbformat": 4,
 "nbformat_minor": 5
}
