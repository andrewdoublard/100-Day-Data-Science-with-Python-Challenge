{
 "cells": [
  {
   "cell_type": "markdown",
   "id": "84ab7fb4",
   "metadata": {},
   "source": [
    "## Exercise 1:\n",
    "##### The following arrays are given:\n",
    "\n",
    "- X_train, y_train\n",
    "\n",
    "- X_test, y_test\n",
    "\n",
    "#### Using the RandomForestClassifier class from the scikit-learn package, create a classification model (set  random_state=42). Train the model on the train set and evaluate on the test set.\n",
    "\n",
    "#### In response, print the model accuracy (up to four decimal places) to the console as shown below."
   ]
  },
  {
   "cell_type": "code",
   "execution_count": 1,
   "id": "65753f85",
   "metadata": {},
   "outputs": [
    {
     "name": "stdout",
     "output_type": "stream",
     "text": [
      "RFC Accuracy = 0.9300\n"
     ]
    }
   ],
   "source": [
    "import numpy as np\n",
    "import pandas as pd\n",
    "\n",
    "from sklearn.datasets import make_moons\n",
    "from sklearn.model_selection import train_test_split\n",
    "from sklearn.ensemble import RandomForestClassifier\n",
    "\n",
    "\n",
    "np.random.seed(42)\n",
    "raw_data = make_moons(n_samples=2000, noise=0.25, random_state=42)\n",
    "data = raw_data[0]\n",
    "target = raw_data[1]\n",
    "\n",
    "X_train, X_test, y_train, y_test = train_test_split(data, target)\n",
    "\n",
    "rfc = RandomForestClassifier(random_state = 42)\n",
    "\n",
    "rfc.fit(X_train, y_train)\n",
    "\n",
    "accuracy = rfc.score(X_test, y_test)\n",
    "\n",
    "print(f'RFC Accuracy = {accuracy:.4f}')\n"
   ]
  },
  {
   "cell_type": "markdown",
   "id": "1594df4e",
   "metadata": {},
   "source": [
    "## Exercise 2:\n",
    "\n",
    "#### Using the RandomForestClassifier class and grid search method (GridSearchCV class - set scoring='accuracy', cv=5) find the optimal values of criterion, max_depth and min_samples_leaf parameters. Search for parameter values from the following:\n",
    "\n",
    "- for criterion -> ['gini', 'entropy']\n",
    "\n",
    "- for max_depth -> [6, 7, 8]\n",
    "\n",
    "- for min_samples_leaf -> [4, 5]\n",
    "\n",
    "#### Train the model on the train set and evaluate on the test set.\n",
    "\n",
    "#### In response, print the optimal values of criterion, max_depth and min_samples_leaf parameters to the console."
   ]
  },
  {
   "cell_type": "code",
   "execution_count": 5,
   "id": "cb25dd44",
   "metadata": {},
   "outputs": [
    {
     "name": "stdout",
     "output_type": "stream",
     "text": [
      "{'criterion': 'entropy', 'max_depth': 7, 'min_samples_leaf': 5}\n"
     ]
    }
   ],
   "source": [
    "from sklearn.model_selection import GridSearchCV\n",
    "\n",
    "params = {\n",
    "    'criterion' : ['gini', 'entropy'],\n",
    "    'max_depth' : [6,7,8],\n",
    "    'min_samples_leaf' : [4,5]\n",
    "}\n",
    "\n",
    "grid_search = GridSearchCV(\n",
    "    rfc, param_grid=params, scoring='accuracy', cv=5\n",
    ")\n",
    "\n",
    "grid_search.fit(X_train, y_train)\n",
    "grid_search.score(X_test, y_test)\n",
    "\n",
    "print(grid_search.best_params_)"
   ]
  },
  {
   "cell_type": "markdown",
   "id": "be33c048",
   "metadata": {},
   "source": [
    "## Exercise 3:\n",
    "#### The following list with text documents is given:\n",
    "\n",
    "\n",
    "#### Vectorize your documents with the CountVectorizer class from the scikit-learn.\n",
    "\n",
    "#### In response, print the result as a DataFrame as shown below.\n",
    "\n"
   ]
  },
  {
   "cell_type": "code",
   "execution_count": 7,
   "id": "98467b5c",
   "metadata": {},
   "outputs": [
    {
     "name": "stdout",
     "output_type": "stream",
     "text": [
      "   in  is  language  object  oriented  popular  programming  python\n",
      "0   0   1         1       0         0        0            1       1\n",
      "1   0   1         0       0         0        1            0       1\n",
      "2   1   0         0       0         0        0            1       1\n",
      "3   1   0         0       1         1        0            1       1\n"
     ]
    }
   ],
   "source": [
    "import numpy as np\n",
    "import pandas as pd\n",
    "\n",
    "from sklearn.feature_extraction.text import CountVectorizer\n",
    "\n",
    "\n",
    "documents = [\n",
    "    'python is a programming language',\n",
    "    'python is popular',\n",
    "    'programming in python',\n",
    "    'object-oriented programming in python'\n",
    "]\n",
    "\n",
    "vectorizer = CountVectorizer()\n",
    "\n",
    "df = pd.DataFrame(\n",
    "    data=vectorizer.fit_transform(documents).toarray(),\n",
    "    columns=vectorizer.get_feature_names_out(),\n",
    ")\n",
    "print(df)"
   ]
  }
 ],
 "metadata": {
  "kernelspec": {
   "display_name": "Python 3 (ipykernel)",
   "language": "python",
   "name": "python3"
  },
  "language_info": {
   "codemirror_mode": {
    "name": "ipython",
    "version": 3
   },
   "file_extension": ".py",
   "mimetype": "text/x-python",
   "name": "python",
   "nbconvert_exporter": "python",
   "pygments_lexer": "ipython3",
   "version": "3.9.13"
  }
 },
 "nbformat": 4,
 "nbformat_minor": 5
}
