{
 "cells": [
  {
   "cell_type": "markdown",
   "id": "b3239641",
   "metadata": {},
   "source": [
    "## Exercise 1\n",
    "#### The following arrays are given:\n",
    "\n",
    "A = np.linspace(0, np.pi / 2, 20)\n",
    "B = np.full(shape=(20,), fill_value=1, dtype='float')\n",
    "\n",
    "\n",
    "#### Check the Pythagorean formula for sines and cosines on the A array and then compare the result with the B array. Use the np.allclose() function in this exercise.\n",
    "\n",
    "#### In response, print result to the console.\n",
    "\n"
   ]
  },
  {
   "cell_type": "code",
   "execution_count": 2,
   "id": "6227401c",
   "metadata": {},
   "outputs": [
    {
     "name": "stdout",
     "output_type": "stream",
     "text": [
      "True\n"
     ]
    }
   ],
   "source": [
    "import numpy as np\n",
    "\n",
    "\n",
    "A = np.linspace(0, np.pi / 2, 20)\n",
    "B = np.full(shape=(20,), fill_value=1, dtype='float')\n",
    "\n",
    "print(np.allclose(np.sin(A) ** 2 + np.cos(A) ** 2, B))"
   ]
  },
  {
   "cell_type": "markdown",
   "id": "106ca6ff",
   "metadata": {},
   "source": [
    "#### Notes:\n",
    "\n",
    "- np.sin(A) ** 2 + np.cos(A) ** 2 computes the element-wise sum of the squares of the sine and cosine of each element in A.\n",
    "\n",
    "- np.allclose(..., B) checks if this result is element-wise equal to the array B, within a certain tolerance."
   ]
  },
  {
   "cell_type": "markdown",
   "id": "f4cdd818",
   "metadata": {},
   "source": [
    "## Exercise 2\n",
    "#### The following arrays are given:\n",
    "\n",
    "\n",
    "#### Perform matrix multiplication A x B and print result to the console.\n",
    "\n",
    "Tip: Use the np.dot() function."
   ]
  },
  {
   "cell_type": "code",
   "execution_count": 3,
   "id": "53099403",
   "metadata": {},
   "outputs": [
    {
     "name": "stdout",
     "output_type": "stream",
     "text": [
      "[[  5   6  10]\n",
      " [-18 -12  -4]\n",
      " [ 20  15  10]]\n"
     ]
    }
   ],
   "source": [
    "A = np.array([[2, 3],\n",
    "              [-4, 2],\n",
    "              [5, 0]])\n",
    "B = np.array([[4, 3, 2],\n",
    "              [-1, 0, 2]])\n",
    "\n",
    "E2 = np.dot(A, B)\n",
    "\n",
    "print(E2)"
   ]
  },
  {
   "cell_type": "markdown",
   "id": "8acabd4f",
   "metadata": {},
   "source": [
    "#### Notes:\n",
    "\n",
    "\n",
    "- The np.dot() function in NumPy computes the dot product of two arrays. For 2-D arrays, this is equivalent to matrix multiplication."
   ]
  },
  {
   "cell_type": "markdown",
   "id": "15837062",
   "metadata": {},
   "source": [
    "## Exercise 3\n",
    "#### The following array (square matrix) is given:\n",
    "\n",
    "A = np.array([[-2, 0, 4],\n",
    "              [5, 2, -1],\n",
    "              [-4, 2, 4]])\n",
    "\n",
    "\n",
    "#### Calculate the determinant of this matrix and print it to the console.\n",
    "\n",
    "Tip: Use the np.linalg.det() function."
   ]
  },
  {
   "cell_type": "code",
   "execution_count": 5,
   "id": "0aae2e0e",
   "metadata": {},
   "outputs": [
    {
     "name": "stdout",
     "output_type": "stream",
     "text": [
      "51.999999999999986\n"
     ]
    }
   ],
   "source": [
    "A = np.array([[-2, 0, 4],\n",
    "              [5, 2, -1],\n",
    "              [-4, 2, 4]])\n",
    "\n",
    "E3 = np.linalg.det(A)\n",
    "\n",
    "print(E3)"
   ]
  },
  {
   "cell_type": "markdown",
   "id": "1d2e1479",
   "metadata": {},
   "source": [
    "#### Note:\n",
    "\n",
    "- np.linalg.det() is a function in the NumPy library used to compute the determinant of a square matrix. "
   ]
  }
 ],
 "metadata": {
  "kernelspec": {
   "display_name": "Python 3 (ipykernel)",
   "language": "python",
   "name": "python3"
  },
  "language_info": {
   "codemirror_mode": {
    "name": "ipython",
    "version": 3
   },
   "file_extension": ".py",
   "mimetype": "text/x-python",
   "name": "python",
   "nbconvert_exporter": "python",
   "pygments_lexer": "ipython3",
   "version": "3.9.13"
  }
 },
 "nbformat": 4,
 "nbformat_minor": 5
}
