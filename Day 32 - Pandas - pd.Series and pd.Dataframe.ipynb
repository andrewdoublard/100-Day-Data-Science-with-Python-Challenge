{
 "cells": [
  {
   "cell_type": "markdown",
   "id": "abf4ca19",
   "metadata": {},
   "source": [
    "## Exercise 1\n",
    "#### The following Series is given (quotations variable):\n",
    "\n",
    "#### Convert the quotations to the DataFrame and set the column name to 'price'. In response, print this DataFrame to the console."
   ]
  },
  {
   "cell_type": "code",
   "execution_count": 2,
   "id": "12f7ce71",
   "metadata": {},
   "outputs": [
    {
     "name": "stdout",
     "output_type": "stream",
     "text": [
      "     price\n",
      "PLW  387.0\n",
      "CDR  339.5\n",
      "TEN  349.5\n",
      "11B  391.0\n"
     ]
    }
   ],
   "source": [
    "import pandas as pd\n",
    "\n",
    "stocks = {'PLW': 387.00, 'CDR': 339.5, 'TEN': 349.5, '11B': 391.0}\n",
    "quotations = pd.Series(data=stocks)\n",
    "\n",
    "E1 = pd.DataFrame(data = quotations, columns = ['price'])\n",
    "\n",
    "print(E1)"
   ]
  },
  {
   "cell_type": "markdown",
   "id": "15b8cfce",
   "metadata": {},
   "source": [
    "#### Notes:\n",
    "\n",
    "- The pd.DataFrame() constructor in pandas allows you to create a DataFrame with various arguments.\n",
    "    - data: Input data (e.g., dictionary, list, numpy array).\n",
    "    - index: Row labels (optional).\n",
    "    - columns: Column labels (optional).\n",
    "    - dtype: Data type for the DataFrame (optional)."
   ]
  },
  {
   "cell_type": "markdown",
   "id": "68d684c2",
   "metadata": {},
   "source": [
    "## Exercise 2\n",
    "#### Using the numpy and pandas create the following Series:\n",
    "\n",
    "101    10.0\n",
    "102    20.0\n",
    "103    30.0\n",
    "104    40.0\n",
    "105    50.0\n",
    "106    60.0\n",
    "107    70.0\n",
    "108    80.0\n",
    "109    90.0\n",
    "dtype: float64\n",
    "\n",
    "#### In response, print this Series to the console."
   ]
  },
  {
   "cell_type": "code",
   "execution_count": 12,
   "id": "af98cd3d",
   "metadata": {},
   "outputs": [
    {
     "name": "stdout",
     "output_type": "stream",
     "text": [
      "0     101.0\n",
      "1      10.0\n",
      "2     102.0\n",
      "3      20.0\n",
      "4     103.0\n",
      "5      30.0\n",
      "6     104.0\n",
      "7      40.0\n",
      "8     105.0\n",
      "9      50.0\n",
      "10    106.0\n",
      "11     60.0\n",
      "12    107.0\n",
      "13     70.0\n",
      "14    108.0\n",
      "15     80.0\n",
      "16    109.0\n",
      "17     90.0\n",
      "dtype: float64\n"
     ]
    }
   ],
   "source": [
    "import numpy as np\n",
    "import pandas as pd\n",
    "\n",
    "Column1_Arr = np.arange(101, 110, 1).reshape(-1,1) ## Using np.arange 2 create arrays of the 2 columns we wish to see.\n",
    "Column2_Arr = np.arange(10, 100, 10).reshape(-1,1) ## Reshaping both arrays so they're ready for concatenation.\n",
    "\n",
    "Arr = np.concatenate((Column1_Arr, Column2_Arr), axis = 1) ## Concatenating the arrays.\n",
    "\n",
    "To_Series = Arr.flatten().tolist() ## Flatten the Array and convert to List to make it ready for the pd.Series.\n",
    "\n",
    "E2 = pd.Series(data = To_Series, dtype = 'float') \n",
    "\n",
    "print(E2)"
   ]
  },
  {
   "cell_type": "markdown",
   "id": "7065f249",
   "metadata": {},
   "source": [
    "#### Notes:\n",
    "\n",
    "- When creating a Series from a list of lists, each list is treated as a single object, resulting in a dtype of object.\n",
    "- To ensure float dtype flatten the data to create a single-dimensional Series.\n",
    "- The more efficient way is:\n",
    "s = pd.Series(\n",
    "    data=np.arange(10, 100, 10),\n",
    "    index=np.arange(101, 110),\n",
    "    dtype='float',\n",
    ")"
   ]
  },
  {
   "cell_type": "markdown",
   "id": "5701ca79",
   "metadata": {},
   "source": [
    "## Exercise 3\n",
    "#### The following Series is given:\n",
    "\n",
    "#### Convert its type to int and print this Series to the console."
   ]
  },
  {
   "cell_type": "code",
   "execution_count": 15,
   "id": "a9850fa0",
   "metadata": {},
   "outputs": [
    {
     "name": "stdout",
     "output_type": "stream",
     "text": [
      "a    1\n",
      "b    2\n",
      "c    3\n",
      "d    4\n",
      "dtype: int32\n"
     ]
    }
   ],
   "source": [
    "series = pd.Series(['001', '002', '003', '004'], list('abcd'))\n",
    "\n",
    "series = series.astype(int)\n",
    "\n",
    "print(series)"
   ]
  },
  {
   "cell_type": "markdown",
   "id": "074a5a09",
   "metadata": {},
   "source": [
    "#### Notes:\n",
    "\n",
    "- The astype() method in pandas is used to cast a pandas object (such as a Series or DataFrame) to a specified data type. "
   ]
  }
 ],
 "metadata": {
  "kernelspec": {
   "display_name": "Python 3 (ipykernel)",
   "language": "python",
   "name": "python3"
  },
  "language_info": {
   "codemirror_mode": {
    "name": "ipython",
    "version": 3
   },
   "file_extension": ".py",
   "mimetype": "text/x-python",
   "name": "python",
   "nbconvert_exporter": "python",
   "pygments_lexer": "ipython3",
   "version": "3.9.13"
  }
 },
 "nbformat": 4,
 "nbformat_minor": 5
}
