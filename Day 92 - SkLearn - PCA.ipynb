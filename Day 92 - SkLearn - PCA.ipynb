{
 "cells": [
  {
   "cell_type": "markdown",
   "id": "549e4ce5",
   "metadata": {},
   "source": [
    "## Exercise 1:\n",
    "\n",
    "#### The pca.csv file was loaded into the df DataFrame. Using the StandardScaler class, the variables in the X were standardized and assigned to the X_std.\n",
    "\n",
    "#### Implement the PCA algorithm using the X_std array. Reduce the result to the two principal components and assign it to the X_pca variable.\n",
    "\n",
    "#### In response, print the first ten rows of the X_pca array.\n",
    "\n",
    "#### Steps:\n",
    "\n",
    "- compute covariance matrix of X_std array\n",
    "\n",
    "- find the eigenvectors and their corresponding eigenvalues for this covariance matrix\n",
    "\n",
    "- sort eigenvectors by decreasing eigenvalues\n",
    "\n",
    "- determine the number of components (in this case 2).\n",
    "\n",
    "- create matrix W from selected vectors (columns as eigenvectors).\n",
    "\n",
    "- multiply X_std by W and assign to the X_pca variable"
   ]
  },
  {
   "cell_type": "code",
   "execution_count": 3,
   "id": "af3d9af1",
   "metadata": {},
   "outputs": [
    {
     "name": "stdout",
     "output_type": "stream",
     "text": [
      "[[-2.06036006  0.2986744 ]\n",
      " [-2.1959812   0.10172707]\n",
      " [-2.36522102 -0.08074913]\n",
      " [-2.36579421 -0.20816508]\n",
      " [-2.12817063  0.20020073]\n",
      " [-1.60325585  0.4127035 ]\n",
      " [-2.32300467 -0.26268319]\n",
      " [-2.09455194  0.1857296 ]\n",
      " [-2.53503403 -0.39064128]\n",
      " [-2.23877073  0.15624518]]\n"
     ]
    }
   ],
   "source": [
    "import numpy as np\n",
    "import pandas as pd\n",
    "from sklearn.preprocessing import StandardScaler\n",
    "\n",
    "\n",
    "np.set_printoptions(precision=8, suppress=True, edgeitems=5, linewidth=200)\n",
    "np.random.seed(42)\n",
    "df = pd.read_csv('pca.csv')\n",
    "\n",
    "X = df.copy()\n",
    "y = X.pop('class')\n",
    "\n",
    "scaler = StandardScaler()\n",
    "X_std = scaler.fit_transform(X)\n",
    "\n",
    "# covariance matrix\n",
    "\n",
    "covmat = np.cov(X_std, rowvar = False)\n",
    "\n",
    "# eigen values and eigen vectors\n",
    "\n",
    "eigenvalues, eigenvectors = np.linalg.eig(covmat)\n",
    "\n",
    "# sort eigen values\n",
    "\n",
    "sorted_indices = np.argsort(np.abs(eigenvalues))[::-1]\n",
    "\n",
    "sorted_eigenvalues = eigenvalues[sorted_indices]\n",
    "sorted_eigenvectors = eigenvectors[:, sorted_indices]\n",
    "\n",
    "# number of components (2 in this case)\n",
    "n_components = 2\n",
    "W = sorted_eigenvectors[:, :n_components]\n",
    "\n",
    "# multiply X_std by W to get the new transformed data\n",
    "\n",
    "X_pca = X_std.dot(W)\n",
    "\n",
    "print(X_pca[:10])"
   ]
  },
  {
   "cell_type": "markdown",
   "id": "70d9f425",
   "metadata": {},
   "source": [
    "#### Notes:\n",
    "\n",
    "- np.linalg.eig:\n",
    "    - Returns Eigenvalues and Eigenvectors: This function computes both the eigenvalues and the corresponding eigenvectors of a square matrix \n",
    "    - Non-uniqueness of Eigenvectors: The eigenvectors are not unique in their direction.\n",
    "- np.cov: \n",
    "    - np.cov computes the covariance matrix of the given data, where each column represents a variable and each row represents an observation. The covariance matrix captures the pairwise covariance between each pair of variables.\n",
    "    - Important to set rowvar=False: By default, np.cov assumes that each row represents a variable, not an observation. To handle datasets where columns represent variables, set rowvar=False.\n",
    "- np.dot:\n",
    "    - np.dot performs the dot product between two arrays.\n",
    "    - Dimensionality: For 1D arrays (vectors), np.dot computes the scalar dot product, while for 2D arrays, it performs matrix multiplication. The shape of the resulting matrix will be determined by the outer dimensions of the inputs."
   ]
  },
  {
   "cell_type": "markdown",
   "id": "4d06af3e",
   "metadata": {},
   "source": [
    "## Exercise 2:\n",
    "#### The PCA algorithm was implemented using the X_std array and the result was assigned to the X_pca variable.\n",
    "\n",
    "#### Create a DataFrame called df_pca using the X_pca array and the y variable and print the first ten rows of this object to the console."
   ]
  },
  {
   "cell_type": "code",
   "execution_count": 5,
   "id": "ddd9d350",
   "metadata": {},
   "outputs": [
    {
     "name": "stdout",
     "output_type": "stream",
     "text": [
      "      pca_1     pca_2  class\n",
      "0 -2.060360 -0.298674    0.0\n",
      "1 -2.195981 -0.101727    0.0\n",
      "2 -2.365221  0.080749    0.0\n",
      "3 -2.365794  0.208165    0.0\n",
      "4 -2.128171 -0.200201    0.0\n",
      "5 -1.603256 -0.412703    0.0\n",
      "6 -2.323005  0.262683    0.0\n",
      "7 -2.094552 -0.185730    0.0\n",
      "8 -2.535034  0.390641    0.0\n",
      "9 -2.238771 -0.156245    0.0\n"
     ]
    }
   ],
   "source": [
    "np.set_printoptions(precision=8, suppress=True, edgeitems=5, linewidth=200)\n",
    "np.random.seed(42)\n",
    "df = pd.read_csv('pca.csv')\n",
    "\n",
    "X = df.copy()\n",
    "y = X.pop('class')\n",
    "\n",
    "scaler = StandardScaler()\n",
    "X_std = scaler.fit_transform(X)\n",
    "\n",
    "eig_vals, eig_vecs = np.linalg.eig(np.cov(X_std, rowvar=False))\n",
    "eig_pairs = [(np.abs(eig_vals[i]), eig_vecs[:, i]) for i in range(len(eig_vals))]\n",
    "eig_pairs.sort(reverse=True)\n",
    "\n",
    "W = np.hstack((eig_pairs[0][1].reshape(3, 1), eig_pairs[1][1].reshape(3, 1)))\n",
    "X_pca = X_std.dot(W)\n",
    "\n",
    "\n",
    "df_pca = pd.DataFrame(data=X_pca, columns=['pca_1', 'pca_2'])\n",
    "df_pca['class'] = df['class']\n",
    "df_pca['pca_2'] = -df_pca['pca_2']\n",
    "\n",
    "print(df_pca.head(10))"
   ]
  },
  {
   "cell_type": "markdown",
   "id": "db36711b",
   "metadata": {},
   "source": [
    "## Exercise 3\n",
    "#### The pca.csv file was loaded into the df DataFrame. Using the StandardScaler class, the variables in the X object were standardized and assigned to the X_std variable.\n",
    "#### Using the PCA class from the scikit-learn, perform the PCA analysis with two components using the X_std array and assign it to the df_pca variable. In resposne, print the first ten rows of this object (also add the 'class' column) as shown below."
   ]
  },
  {
   "cell_type": "code",
   "execution_count": 6,
   "id": "5b57c40e",
   "metadata": {},
   "outputs": [
    {
     "name": "stdout",
     "output_type": "stream",
     "text": [
      "      pca_1     pca_2  class\n",
      "0 -2.060360 -0.298674    0.0\n",
      "1 -2.195981 -0.101727    0.0\n",
      "2 -2.365221  0.080749    0.0\n",
      "3 -2.365794  0.208165    0.0\n",
      "4 -2.128171 -0.200201    0.0\n",
      "5 -1.603256 -0.412703    0.0\n",
      "6 -2.323005  0.262683    0.0\n",
      "7 -2.094552 -0.185730    0.0\n",
      "8 -2.535034  0.390641    0.0\n",
      "9 -2.238771 -0.156245    0.0\n"
     ]
    }
   ],
   "source": [
    "import numpy as np\n",
    "import pandas as pd\n",
    "from sklearn.preprocessing import StandardScaler\n",
    "from sklearn.decomposition import PCA\n",
    "\n",
    "\n",
    "np.set_printoptions(\n",
    "    precision=8, suppress=True, edgeitems=5, linewidth=200\n",
    ")\n",
    "np.random.seed(42)\n",
    "df = pd.read_csv('pca.csv')\n",
    "\n",
    "X = df.copy()\n",
    "y = X.pop('class')\n",
    "\n",
    "scaler = StandardScaler()\n",
    "X_std = scaler.fit_transform(X)\n",
    "\n",
    "pca = PCA(n_components = 2)\n",
    "\n",
    "X_pca = pca.fit_transform(X_std)\n",
    "\n",
    "df_pca = pd.DataFrame(data=X_pca, columns=['pca_1', 'pca_2'])\n",
    "\n",
    "df_pca['class'] = df['class']\n",
    "\n",
    "print(df_pca.head(10))"
   ]
  },
  {
   "cell_type": "markdown",
   "id": "6d93acd7",
   "metadata": {},
   "source": [
    "## Exercise 4\n",
    "#### Load the pca.csv file into the df DataFrame. Perform dimensional reduction with PCA and three principal components using the scikit-learn package and the PCA class.\n",
    "\n",
    "#### In response, print the percentage of the variance explained by these components as shown below (as DataFrame object)."
   ]
  },
  {
   "cell_type": "code",
   "execution_count": 7,
   "id": "cca2ef03",
   "metadata": {},
   "outputs": [
    {
     "name": "stdout",
     "output_type": "stream",
     "text": [
      "   explained_variance_ratio  cumulative  component\n",
      "0                  0.923247    0.923247          1\n",
      "1                  0.066471    0.989718          2\n",
      "2                  0.010282    1.000000          3\n"
     ]
    }
   ],
   "source": [
    "pca = PCA(n_components = 3)\n",
    "\n",
    "X_pca = pca.fit_transform(X_std)\n",
    "\n",
    "\n",
    "results = pd.DataFrame(\n",
    "    data={\n",
    "        'explained_variance_ratio': pca.explained_variance_ratio_\n",
    "    }\n",
    ")\n",
    "\n",
    "\n",
    "results['cumulative'] = results[\n",
    "    'explained_variance_ratio'\n",
    "].cumsum()\n",
    "\n",
    "\n",
    "results['component'] = results.index + 1\n",
    "print(results)"
   ]
  },
  {
   "cell_type": "markdown",
   "id": "52fedde6",
   "metadata": {},
   "source": [
    "## Notes:\n",
    "\n",
    "- Explained Variance Ratio is the proportion of the dataset's total variance that is captured by each principal component.\n",
    "- You can use explained_variance_ratio_ to decide how many components to keep. If the first two components explain, for example, 95% of the variance, you might choose to reduce the dimensionality to just those two components, since they capture most of the important information in the data."
   ]
  }
 ],
 "metadata": {
  "kernelspec": {
   "display_name": "Python 3 (ipykernel)",
   "language": "python",
   "name": "python3"
  },
  "language_info": {
   "codemirror_mode": {
    "name": "ipython",
    "version": 3
   },
   "file_extension": ".py",
   "mimetype": "text/x-python",
   "name": "python",
   "nbconvert_exporter": "python",
   "pygments_lexer": "ipython3",
   "version": "3.9.13"
  }
 },
 "nbformat": 4,
 "nbformat_minor": 5
}
