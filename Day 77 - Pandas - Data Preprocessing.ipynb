{
 "cells": [
  {
   "cell_type": "markdown",
   "id": "3a2259c2",
   "metadata": {},
   "source": [
    "## Exercise 1\n",
    "#### The df DataFrame is given below:\n",
    "#### Using pd.get_dummies() function convert weight_cut categorical column into dummy variable as shown below.\n",
    "#### In response, print result to the console.\n",
    "Tip: More about pd.get_dummies(): https://pandas.pydata.org/pandas-docs/stable/reference/api/pandas.get_dummies.html"
   ]
  },
  {
   "cell_type": "code",
   "execution_count": 3,
   "id": "96bf2949",
   "metadata": {},
   "outputs": [
    {
     "name": "stdout",
     "output_type": "stream",
     "text": [
      "   weight  weight_cut_light  weight_cut_normal  weight_cut_heavy\n",
      "0    75.0                 1                  0                 0\n",
      "1    78.5                 0                  1                 0\n",
      "2    85.0                 0                  0                 1\n",
      "3    91.0                 0                  0                 1\n",
      "4    84.5                 0                  0                 1\n",
      "5    83.0                 0                  0                 1\n",
      "6    68.0                 1                  0                 0\n"
     ]
    }
   ],
   "source": [
    "import pandas as pd\n",
    "    \n",
    "    \n",
    "df = pd.DataFrame(\n",
    "    data={'weight': [75.0, 78.5, 85.0, 91.0, 84.5, 83.0, 68.0]}\n",
    ")\n",
    "df['weight_cut'] = pd.cut(\n",
    "    df['weight'],\n",
    "    bins=(60, 75, 80, 95),\n",
    "    labels=['light', 'normal', 'heavy'],\n",
    ")\n",
    "    \n",
    "print(pd.get_dummies(df))"
   ]
  },
  {
   "cell_type": "markdown",
   "id": "1e46a441",
   "metadata": {},
   "source": [
    "## Exercise 2\n",
    "#### The df DataFrame is given below:\n",
    "#### Assign a new column 'number' that takes the number of items in the currency column.\n",
    "#### In response, print df DataFrame to the console.\n",
    "\n"
   ]
  },
  {
   "cell_type": "code",
   "execution_count": 4,
   "id": "a92118dd",
   "metadata": {},
   "outputs": [
    {
     "name": "stdout",
     "output_type": "stream",
     "text": [
      "               currency  number\n",
      "0            [PLN, USD]       2\n",
      "1  [EUR, USD, PLN, CAD]       4\n",
      "2                 [GBP]       1\n",
      "3       [JPY, CZK, HUF]       3\n",
      "4                    []       0\n"
     ]
    }
   ],
   "source": [
    "data_dict = {\n",
    "    'currency': [\n",
    "        ['PLN', 'USD'],\n",
    "        ['EUR', 'USD', 'PLN', 'CAD'],\n",
    "        ['GBP'],\n",
    "        ['JPY', 'CZK', 'HUF'],\n",
    "        [],\n",
    "    ]\n",
    "}\n",
    "df = pd.DataFrame(data=data_dict)\n",
    "\n",
    "df['number'] = df['currency'].apply(len)\n",
    "print(df)"
   ]
  },
  {
   "cell_type": "markdown",
   "id": "217a643f",
   "metadata": {},
   "source": [
    "#### Notes:\n",
    "\n",
    "- When you have a column in a DataFrame (let's say df['currency']) where each row contains a list, applying the len function to this column using df['currency'].apply(len) will calculate the length of each list in that column. The apply function applies the len function to each element in the currency column, and since the elements are lists, len will return the number of items in each list."
   ]
  },
  {
   "cell_type": "markdown",
   "id": "a9526e12",
   "metadata": {},
   "source": [
    "## Exercise 3\n",
    "#### The df DataFrame is given below:\n",
    "\n",
    "#### Assign a new column 'PLN_flag' which stores 1 when the currency 'PLN' is in the currency column, otherwise 0 as shown below.\n",
    "\n",
    "#### In response, print df DataFrame to the console."
   ]
  },
  {
   "cell_type": "code",
   "execution_count": 6,
   "id": "6acf9509",
   "metadata": {},
   "outputs": [
    {
     "name": "stdout",
     "output_type": "stream",
     "text": [
      "               currency  PLN_flag\n",
      "0            [PLN, USD]         1\n",
      "1  [EUR, USD, PLN, CAD]         1\n",
      "2                 [GBP]         0\n",
      "3       [JPY, CZK, HUF]         0\n",
      "4                    []         0\n"
     ]
    }
   ],
   "source": [
    "data_dict = {\n",
    "    'currency': [\n",
    "        ['PLN', 'USD'],\n",
    "        ['EUR', 'USD', 'PLN', 'CAD'],\n",
    "        ['GBP'],\n",
    "        ['JPY', 'CZK', 'HUF'],\n",
    "        [],\n",
    "    ]\n",
    "}\n",
    "df = pd.DataFrame(data=data_dict)\n",
    "\n",
    "df['PLN_flag'] = df['currency'].apply(\n",
    "    lambda item: 1 if 'PLN' in item else 0\n",
    ")\n",
    "print(df)"
   ]
  }
 ],
 "metadata": {
  "kernelspec": {
   "display_name": "Python 3 (ipykernel)",
   "language": "python",
   "name": "python3"
  },
  "language_info": {
   "codemirror_mode": {
    "name": "ipython",
    "version": 3
   },
   "file_extension": ".py",
   "mimetype": "text/x-python",
   "name": "python",
   "nbconvert_exporter": "python",
   "pygments_lexer": "ipython3",
   "version": "3.9.13"
  }
 },
 "nbformat": 4,
 "nbformat_minor": 5
}
