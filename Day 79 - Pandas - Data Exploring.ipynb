{
 "cells": [
  {
   "cell_type": "markdown",
   "id": "891e0156",
   "metadata": {},
   "source": [
    "## Exercise 1\n",
    "#### Load the IRIS dataset into the data variable using the scikit-learn package and the load_iris() function.\n",
    "\n",
    "#### Then print all the keys of the data variable.\n",
    "Tip: More about load_iris() function: https://scikit-learn.org/stable/modules/generated/sklearn.datasets.load_iris.html"
   ]
  },
  {
   "cell_type": "code",
   "execution_count": 1,
   "id": "2afe8d50",
   "metadata": {},
   "outputs": [
    {
     "name": "stdout",
     "output_type": "stream",
     "text": [
      "dict_keys(['data', 'target', 'frame', 'target_names', 'DESCR', 'feature_names', 'filename', 'data_module'])\n"
     ]
    }
   ],
   "source": [
    "from sklearn.datasets import load_iris\n",
    "\n",
    "data = load_iris()\n",
    "print(data.keys())"
   ]
  },
  {
   "cell_type": "markdown",
   "id": "5353f968",
   "metadata": {},
   "source": [
    "## Exercise 2\n",
    "#### The IRIS dataset was loaded into data variable.\n",
    "\n",
    "#### Print all feature variable names and all class names from the IRIS data set as shown below."
   ]
  },
  {
   "cell_type": "code",
   "execution_count": 2,
   "id": "96d234fc",
   "metadata": {},
   "outputs": [
    {
     "name": "stdout",
     "output_type": "stream",
     "text": [
      "['sepal length (cm)', 'sepal width (cm)', 'petal length (cm)', 'petal width (cm)']\n",
      "['setosa' 'versicolor' 'virginica']\n"
     ]
    }
   ],
   "source": [
    "print(data['feature_names'])\n",
    "print(data['target_names'])"
   ]
  },
  {
   "cell_type": "markdown",
   "id": "f941513c",
   "metadata": {},
   "source": [
    "## Exercise 3\n",
    "#### The IRIS dataset was loaded into data_raw variable.\n",
    "\n",
    "#### Assign the value for the 'data' key (numpy array) to the data variable. Then assign the value for the 'target' key (numpy array) to the target variable.\n",
    "\n",
    "#### In response, print the shape of these arrays (data, target) to the console."
   ]
  },
  {
   "cell_type": "code",
   "execution_count": 7,
   "id": "799917e6",
   "metadata": {},
   "outputs": [
    {
     "name": "stdout",
     "output_type": "stream",
     "text": [
      "(150, 4)\n",
      "(150,)\n"
     ]
    }
   ],
   "source": [
    "import numpy as np\n",
    "\n",
    "data_raw = load_iris()\n",
    "\n",
    "data = data_raw['data']\n",
    "\n",
    "target = data_raw['target']\n",
    "\n",
    "print(data.shape)\n",
    "\n",
    "print(target.shape)"
   ]
  }
 ],
 "metadata": {
  "kernelspec": {
   "display_name": "Python 3 (ipykernel)",
   "language": "python",
   "name": "python3"
  },
  "language_info": {
   "codemirror_mode": {
    "name": "ipython",
    "version": 3
   },
   "file_extension": ".py",
   "mimetype": "text/x-python",
   "name": "python",
   "nbconvert_exporter": "python",
   "pygments_lexer": "ipython3",
   "version": "3.9.13"
  }
 },
 "nbformat": 4,
 "nbformat_minor": 5
}
