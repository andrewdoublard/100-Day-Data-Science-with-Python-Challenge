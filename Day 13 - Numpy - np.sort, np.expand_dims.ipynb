{
 "cells": [
  {
   "cell_type": "markdown",
   "id": "42295e26",
   "metadata": {},
   "source": [
    "## Exercise 1\n",
    "#### The following array is given:\n",
    "\n",
    "image = np.random.randint(low=0, high=256, size=(200, 300), dtype=np.uint8)\n",
    "\n",
    "#### Sort this array along the rows in ascending order and assign to the variable image_sorted."
   ]
  },
  {
   "cell_type": "code",
   "execution_count": 2,
   "id": "d3c0d7bb",
   "metadata": {},
   "outputs": [
    {
     "name": "stdout",
     "output_type": "stream",
     "text": [
      "[[  3   3   5 ... 254 254 255]\n",
      " [  1   2   3 ... 251 251 252]\n",
      " [  0   0   2 ... 252 252 253]\n",
      " ...\n",
      " [  0   1   2 ... 254 255 255]\n",
      " [  0   0   1 ... 253 254 255]\n",
      " [  0   1   2 ... 251 252 254]]\n"
     ]
    }
   ],
   "source": [
    "import numpy as np \n",
    "\n",
    "image = np.random.randint(low=0, high=256, size=(200, 300), dtype=np.uint8)\n",
    "\n",
    "image_sorted = np.sort(image, axis = 1)\n",
    "\n",
    "print(image_sorted)"
   ]
  },
  {
   "cell_type": "markdown",
   "id": "041f4fb4",
   "metadata": {},
   "source": [
    "#### Note:\n",
    "\n",
    "- The np.sort() function in NumPy is used to sort an array. Here’s a basic rundown of how it works:\n",
    "\n",
    "- np.sort(a, axis=-1, kind=None, order=None)"
   ]
  },
  {
   "cell_type": "markdown",
   "id": "2c2cb34c",
   "metadata": {},
   "source": [
    "## Exercise 2\n",
    "\n",
    "#### The following array is given:\n",
    "\n",
    "A = np.array([[4, 2, 1],\n",
    "              [6, 4, 2]])\n",
    "\n",
    "\n",
    "#### Expand this array by one dimension (add a new dimension at the beginning). \n",
    "#### Expected shape of the output array: (1, 2, 3).\n",
    "\n",
    "#### In response, print array to the console.\n",
    "\n",
    "Tip: Use the np.expand_dims() function."
   ]
  },
  {
   "cell_type": "code",
   "execution_count": 6,
   "id": "35cfed4f",
   "metadata": {},
   "outputs": [
    {
     "name": "stdout",
     "output_type": "stream",
     "text": [
      "(1, 2, 3)\n",
      "[[[4 2 1]\n",
      "  [6 4 2]]]\n"
     ]
    }
   ],
   "source": [
    "A = np.array([[4, 2, 1], \n",
    "              [6, 4, 2]])\n",
    "\n",
    "E2 = np.expand_dims(A, axis = 0)\n",
    "\n",
    "print(E2.shape)\n",
    "print(E2)"
   ]
  },
  {
   "cell_type": "markdown",
   "id": "4c683af7",
   "metadata": {},
   "source": [
    "#### Notes:\n",
    "\n",
    "- The np.expand_dims() function in NumPy is used to expand the shape of an array by inserting a new axis at a specified position. This is often useful for adding a new dimension to an array, making it compatible with operations that require arrays of specific shapes.\n",
    "\n",
    "- np.expand_dims(a, axis)"
   ]
  },
  {
   "cell_type": "markdown",
   "id": "6fed89e0",
   "metadata": {},
   "source": [
    "## Exercise 3\n",
    "#### Using Numpy create a three-dimensional array called image with shape (200, 300, 3) filled with random values from 0 to 255 (inclusive) and data type np.uint8. Set random seed to 42.\n",
    "\n",
    "#### In response, print array to the console."
   ]
  },
  {
   "cell_type": "code",
   "execution_count": 8,
   "id": "78fb0946",
   "metadata": {},
   "outputs": [
    {
     "name": "stdout",
     "output_type": "stream",
     "text": [
      "[[[102 220 225]\n",
      "  [ 95 179  61]\n",
      "  [234 203  92]\n",
      "  ...\n",
      "  [ 41  27  87]\n",
      "  [102 225  65]\n",
      "  [170   0 238]]\n",
      "\n",
      " [[169 170 213]\n",
      "  [159  44 250]\n",
      "  [224 206  61]\n",
      "  ...\n",
      "  [162 118  77]\n",
      "  [228  67  21]\n",
      "  [ 68  30  64]]\n",
      "\n",
      " [[237  26 118]\n",
      "  [ 62 157 198]\n",
      "  [  1 151  37]\n",
      "  ...\n",
      "  [218 189  51]\n",
      "  [193 250 243]\n",
      "  [235  34 180]]\n",
      "\n",
      " ...\n",
      "\n",
      " [[116 102 228]\n",
      "  [ 29  75  71]\n",
      "  [156 133  53]\n",
      "  ...\n",
      "  [ 93  45  68]\n",
      "  [124 238  76]\n",
      "  [184 185 202]]\n",
      "\n",
      " [[216 202 116]\n",
      "  [146 168 132]\n",
      "  [236  80  45]\n",
      "  ...\n",
      "  [169 145 212]\n",
      "  [123  50  70]\n",
      "  [ 11  43  62]]\n",
      "\n",
      " [[ 32  52  65]\n",
      "  [155   2  86]\n",
      "  [ 83 240  27]\n",
      "  ...\n",
      "  [ 30  57 175]\n",
      "  [ 72  83 171]\n",
      "  [ 40 114 195]]]\n"
     ]
    }
   ],
   "source": [
    "np.random.seed(42)\n",
    "image = np.random.randint(low=0, high=256, size=(200, 300, 3), dtype=np.uint8)\n",
    "\n",
    "print(image)"
   ]
  },
  {
   "cell_type": "markdown",
   "id": "03aae632",
   "metadata": {},
   "source": [
    "## Exercise 4\n",
    "\n",
    "#### The following array is given:\n",
    "\n",
    "image = np.random.randint(low=0, high=256, size=(200, 300, 3), dtype=np.uint8)\n",
    "\n",
    "#### Extend this array by one dimension (add a new dimension at the beginning) and assign to image_extended variable. Expected shape of this array is (1, 200, 300, 3).\n",
    "\n",
    "Tip: Use the np.expand_dims() function."
   ]
  },
  {
   "cell_type": "code",
   "execution_count": 10,
   "id": "31a1244e",
   "metadata": {},
   "outputs": [
    {
     "name": "stdout",
     "output_type": "stream",
     "text": [
      "(1, 200, 300, 3)\n"
     ]
    }
   ],
   "source": [
    "image = np.random.randint(low=0, high=256, size=(200, 300, 3), dtype=np.uint8)\n",
    "\n",
    "image_extended = np.expand_dims(image, axis = 0)\n",
    "\n",
    "print(image_extended.shape)"
   ]
  }
 ],
 "metadata": {
  "kernelspec": {
   "display_name": "Python 3 (ipykernel)",
   "language": "python",
   "name": "python3"
  },
  "language_info": {
   "codemirror_mode": {
    "name": "ipython",
    "version": 3
   },
   "file_extension": ".py",
   "mimetype": "text/x-python",
   "name": "python",
   "nbconvert_exporter": "python",
   "pygments_lexer": "ipython3",
   "version": "3.9.13"
  }
 },
 "nbformat": 4,
 "nbformat_minor": 5
}
