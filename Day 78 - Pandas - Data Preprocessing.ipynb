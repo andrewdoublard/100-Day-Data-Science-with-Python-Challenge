{
 "cells": [
  {
   "cell_type": "markdown",
   "id": "c30c2fb8",
   "metadata": {},
   "source": [
    "## Exercise 1:\n",
    "\n",
    "#### Split hashtags by the '#' sign using pd.Series.str.split() with argument expand = True. You will get four columns. \n",
    "\n",
    "#### Remove the first column from the result (the first column contains only empty strings ''). Then assign the names of the remaining columns as follows:\n",
    "\n",
    "- 'hashtag1'\n",
    "\n",
    "- 'hashtag2'\n",
    "\n",
    "- 'hashtag3'\n",
    "\n",
    "#### In response, print result to the console."
   ]
  },
  {
   "cell_type": "code",
   "execution_count": 11,
   "id": "bc39c2b9",
   "metadata": {},
   "outputs": [
    {
     "name": "stdout",
     "output_type": "stream",
     "text": [
      "  hashtag1 hashtag2 hashtag3\n",
      "0     good    vibes     None\n",
      "1      hot   summer  holiday\n",
      "2   street     food     None\n",
      "3  workout     None     None\n"
     ]
    }
   ],
   "source": [
    "import pandas as pd\n",
    "\n",
    "\n",
    "df = pd.DataFrame(\n",
    "    data={\n",
    "        'hashtags': [\n",
    "            '#good#vibes',\n",
    "            '#hot#summer#holiday',\n",
    "            '#street#food',\n",
    "            '#workout',\n",
    "        ]\n",
    "    }\n",
    ")\n",
    "\n",
    "df = df['hashtags'].str.split('#', expand=True)\n",
    "\n",
    "df = df.drop(columns=[0])\n",
    "\n",
    "df.columns = ['hashtag1', 'hashtag2', 'hashtag3']\n",
    "\n",
    "print(df)"
   ]
  },
  {
   "cell_type": "markdown",
   "id": "0f3c2d11",
   "metadata": {},
   "source": [
    "## Exercise 2:\n",
    "\n",
    "#### Create a new column 'missing' and assign the number of missing hashtags for each row as shown below. For example:\n",
    "\n",
    "- row one -> 1\n",
    "\n",
    "- row two -> 0\n",
    "\n",
    "- row three -> 1, etc.\n",
    "\n",
    "#### As an answer, print the df DataFrame to the console."
   ]
  },
  {
   "cell_type": "code",
   "execution_count": 16,
   "id": "ad2f0214",
   "metadata": {},
   "outputs": [
    {
     "name": "stdout",
     "output_type": "stream",
     "text": [
      "  hashtag1 hashtag2 hashtag3  missing\n",
      "0     good    vibes     None        1\n",
      "1      hot   summer  holiday        0\n",
      "2   street     food     None        1\n",
      "3  workout     None     None        2\n"
     ]
    }
   ],
   "source": [
    "df['missing'] = df.isnull().sum(axis=1)\n",
    "\n",
    "print(df)"
   ]
  },
  {
   "cell_type": "markdown",
   "id": "7244d449",
   "metadata": {},
   "source": [
    "## Exercise 3:\n",
    "#### The df DataFrame is given below:\n",
    "\n",
    "#### Convert column investments to int type and print result to the console."
   ]
  },
  {
   "cell_type": "code",
   "execution_count": 21,
   "id": "efabdf10",
   "metadata": {},
   "outputs": [
    {
     "name": "stdout",
     "output_type": "stream",
     "text": [
      "   investments\n",
      "0    100000000\n",
      "1       100000\n",
      "2     30000000\n",
      "3    100500000\n"
     ]
    }
   ],
   "source": [
    "df = pd.DataFrame(\n",
    "    data={\n",
    "        'investments': [\n",
    "            '100_000_000',\n",
    "            '100_000',\n",
    "            '30_000_000',\n",
    "            '100_500_000',\n",
    "        ]\n",
    "    }\n",
    ")\n",
    "\n",
    "df['investments'] = df['investments'].astype('int')\n",
    "\n",
    "print(df)"
   ]
  },
  {
   "cell_type": "markdown",
   "id": "1fa0d683",
   "metadata": {},
   "source": [
    "#### Notes:\n",
    "\n",
    "- When converting a column to integers in pandas, if the numbers contain underscores (like 100_000), you do not need to do a string replace to remove the underscores. Python's built-in int() function (and by extension pandas) supports the use of underscores as visual separators for numbers, making it easier to read large numbers."
   ]
  }
 ],
 "metadata": {
  "kernelspec": {
   "display_name": "Python 3 (ipykernel)",
   "language": "python",
   "name": "python3"
  },
  "language_info": {
   "codemirror_mode": {
    "name": "ipython",
    "version": 3
   },
   "file_extension": ".py",
   "mimetype": "text/x-python",
   "name": "python",
   "nbconvert_exporter": "python",
   "pygments_lexer": "ipython3",
   "version": "3.9.13"
  }
 },
 "nbformat": 4,
 "nbformat_minor": 5
}
