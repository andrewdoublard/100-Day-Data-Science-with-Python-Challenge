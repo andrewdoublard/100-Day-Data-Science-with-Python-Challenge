{
 "cells": [
  {
   "cell_type": "markdown",
   "id": "4c60e335",
   "metadata": {},
   "source": [
    "## Exercise 1:\n",
    "#### The Breast Cancer Data was loaded into the data and target variables.\n",
    "\n",
    "#### Combine these two arrays into one array, assign to all_data variable and print the first three rows of this array to the console."
   ]
  },
  {
   "cell_type": "code",
   "execution_count": 8,
   "id": "3e77ed68",
   "metadata": {},
   "outputs": [
    {
     "name": "stdout",
     "output_type": "stream",
     "text": [
      "[[  17.99   10.38  122.8  1001.      0.12    0.28    0.3     0.15    0.24    0.08    1.09    0.91\n",
      "     8.59  153.4     0.01    0.05    0.05    0.02    0.03    0.01   25.38   17.33  184.6  2019.\n",
      "     0.16    0.67    0.71    0.27    0.46    0.12    0.  ]\n",
      " [  20.57   17.77  132.9  1326.      0.08    0.08    0.09    0.07    0.18    0.06    0.54    0.73\n",
      "     3.4    74.08    0.01    0.01    0.02    0.01    0.01    0.     24.99   23.41  158.8  1956.\n",
      "     0.12    0.19    0.24    0.19    0.28    0.09    0.  ]\n",
      " [  19.69   21.25  130.   1203.      0.11    0.16    0.2     0.13    0.21    0.06    0.75    0.79\n",
      "     4.58   94.03    0.01    0.04    0.04    0.02    0.02    0.     23.57   25.53  152.5  1709.\n",
      "     0.14    0.42    0.45    0.24    0.36    0.09    0.  ]]\n"
     ]
    }
   ],
   "source": [
    "import numpy as np\n",
    "from sklearn.datasets import load_breast_cancer\n",
    "\n",
    "\n",
    "np.set_printoptions(precision=2, suppress=True, linewidth=100)\n",
    "raw_data = load_breast_cancer()\n",
    "\n",
    "data = raw_data['data']\n",
    "target = raw_data['target']\n",
    "\n",
    "all_data = np.c_[data, target]\n",
    "\n",
    "print(all_data[:3])"
   ]
  },
  {
   "cell_type": "markdown",
   "id": "8d0bf6ed",
   "metadata": {},
   "source": [
    "#### Notes:\n",
    "\n",
    "- Combines Arrays: np.c_ is used in NumPy to concatenate arrays along the second axis (columns). It can be thought of as a way to stack 1D arrays as columns to form a 2D array or add additional columns to existing 2D arrays."
   ]
  },
  {
   "cell_type": "markdown",
   "id": "07e5d537",
   "metadata": {},
   "source": [
    "## Exercise 2\n",
    "\n",
    "#### Create a DataFrame from the all_data array and assign to df variable. Set column names using value for the key 'feature_names' of raw_data + set target variable name as 'target' as shown below.\n",
    "\n",
    "#### In response, print the first five rows of this DataFrame to the console."
   ]
  },
  {
   "cell_type": "code",
   "execution_count": 16,
   "id": "8e1f9e27",
   "metadata": {},
   "outputs": [
    {
     "name": "stdout",
     "output_type": "stream",
     "text": [
      "   mean radius  mean texture  mean perimeter  mean area  mean smoothness  \\\n",
      "0        17.99         10.38          122.80     1001.0          0.11840   \n",
      "1        20.57         17.77          132.90     1326.0          0.08474   \n",
      "2        19.69         21.25          130.00     1203.0          0.10960   \n",
      "3        11.42         20.38           77.58      386.1          0.14250   \n",
      "4        20.29         14.34          135.10     1297.0          0.10030   \n",
      "\n",
      "   mean compactness  mean concavity  mean concave points  mean symmetry  \\\n",
      "0           0.27760          0.3001              0.14710         0.2419   \n",
      "1           0.07864          0.0869              0.07017         0.1812   \n",
      "2           0.15990          0.1974              0.12790         0.2069   \n",
      "3           0.28390          0.2414              0.10520         0.2597   \n",
      "4           0.13280          0.1980              0.10430         0.1809   \n",
      "\n",
      "   mean fractal dimension  ...  worst texture  worst perimeter  worst area  \\\n",
      "0                 0.07871  ...          17.33           184.60      2019.0   \n",
      "1                 0.05667  ...          23.41           158.80      1956.0   \n",
      "2                 0.05999  ...          25.53           152.50      1709.0   \n",
      "3                 0.09744  ...          26.50            98.87       567.7   \n",
      "4                 0.05883  ...          16.67           152.20      1575.0   \n",
      "\n",
      "   worst smoothness  worst compactness  worst concavity  worst concave points  \\\n",
      "0            0.1622             0.6656           0.7119                0.2654   \n",
      "1            0.1238             0.1866           0.2416                0.1860   \n",
      "2            0.1444             0.4245           0.4504                0.2430   \n",
      "3            0.2098             0.8663           0.6869                0.2575   \n",
      "4            0.1374             0.2050           0.4000                0.1625   \n",
      "\n",
      "   worst symmetry  worst fractal dimension  target  \n",
      "0          0.4601                  0.11890     0.0  \n",
      "1          0.2750                  0.08902     0.0  \n",
      "2          0.3613                  0.08758     0.0  \n",
      "3          0.6638                  0.17300     0.0  \n",
      "4          0.2364                  0.07678     0.0  \n",
      "\n",
      "[5 rows x 31 columns]\n"
     ]
    }
   ],
   "source": [
    "import pandas as pd\n",
    "\n",
    "df = pd.DataFrame(\n",
    "    data=all_data,\n",
    "    columns=list(raw_data['feature_names']) + ['target'],\n",
    ")\n",
    "\n",
    "print(df.head())"
   ]
  },
  {
   "cell_type": "markdown",
   "id": "5094df39",
   "metadata": {},
   "source": [
    "## Exercise 3:\n",
    "#### The Breast Cancer Data was loaded into the data and target variables.\n",
    "\n",
    "#### Using the train_test_split() function from the scikit-learn package, split the data (data and target) into train and test sets:\n",
    "\n",
    "- train set: X_train, y_train\n",
    "\n",
    "- test set: X_test, y_test\n",
    "\n",
    "#### Set the random_state=40 and the test set size to 25%.\n",
    "\n",
    "#### In response, print the shapes of these arrays to the console as shown below."
   ]
  },
  {
   "cell_type": "code",
   "execution_count": 17,
   "id": "9bd05988",
   "metadata": {},
   "outputs": [
    {
     "name": "stdout",
     "output_type": "stream",
     "text": [
      "X_train shape = (426, 30)\n",
      "X_test shape = (143, 30)\n",
      "y_train shape = (426,)\n",
      "y_test shape = (143,)\n"
     ]
    }
   ],
   "source": [
    "from sklearn.model_selection import train_test_split\n",
    "\n",
    "X_train, X_test, y_train, y_test = train_test_split(data, target, random_state = 40, test_size = 0.25) \n",
    "\n",
    "print(f'X_train shape = {X_train.shape}')\n",
    "print(f'X_test shape = {X_test.shape}')\n",
    "print(f'y_train shape = {y_train.shape}')\n",
    "print(f'y_test shape = {y_test.shape}')"
   ]
  }
 ],
 "metadata": {
  "kernelspec": {
   "display_name": "Python 3 (ipykernel)",
   "language": "python",
   "name": "python3"
  },
  "language_info": {
   "codemirror_mode": {
    "name": "ipython",
    "version": 3
   },
   "file_extension": ".py",
   "mimetype": "text/x-python",
   "name": "python",
   "nbconvert_exporter": "python",
   "pygments_lexer": "ipython3",
   "version": "3.9.13"
  }
 },
 "nbformat": 4,
 "nbformat_minor": 5
}
