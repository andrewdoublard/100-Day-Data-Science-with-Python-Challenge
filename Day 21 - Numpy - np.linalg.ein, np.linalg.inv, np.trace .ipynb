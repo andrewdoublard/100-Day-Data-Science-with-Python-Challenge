{
 "cells": [
  {
   "cell_type": "markdown",
   "id": "6044e4c5",
   "metadata": {},
   "source": [
    "## Exercise 1\n",
    "#### The following array (square matrix) is given:\n",
    "\n",
    "#### Calculate eigenvalues and their corresponding eigenvectors of this matrix and print to the console as shown below.\n",
    "\n",
    "Tip: Use the np.linalg.eig() function."
   ]
  },
  {
   "cell_type": "code",
   "execution_count": 2,
   "id": "414cb2cf",
   "metadata": {},
   "outputs": [
    {
     "name": "stdout",
     "output_type": "stream",
     "text": [
      "[-9.24621125 -3.          7.24621125]\n",
      "[[-6.26164716e-01 -8.94427191e-01  8.90159406e-01]\n",
      " [-3.13082358e-01  3.52999668e-17  4.45079703e-01]\n",
      " [ 7.14070855e-01  4.47213595e-01 -9.75719719e-02]]\n"
     ]
    }
   ],
   "source": [
    "import numpy as np\n",
    "\n",
    "A = np.array([[5, 8, 16],\n",
    "              [4, 1, 8],\n",
    "              [-4, 4, -11]])\n",
    "\n",
    "eigenvalues, eigenvectors = np.linalg.eig(A)\n",
    "print(eigenvalues)\n",
    "print(eigenvectors)"
   ]
  },
  {
   "cell_type": "markdown",
   "id": "5b6034a2",
   "metadata": {},
   "source": [
    "#### Note: \n",
    "\n",
    "- np.linalg.eig() is a function in the NumPy library used to compute the eigenvalues and right eigenvectors of a square matrix."
   ]
  },
  {
   "cell_type": "markdown",
   "id": "d45d31bf",
   "metadata": {},
   "source": [
    "## Exercise 2\n",
    "#### The following array (square matrix) is given:\n",
    "\n",
    "#### Find the inverse matrix to this matrix and print it to the console.\n",
    "\n",
    "Tip: Use the np.linalg.inv() function."
   ]
  },
  {
   "cell_type": "code",
   "execution_count": 3,
   "id": "e8e33483",
   "metadata": {},
   "outputs": [
    {
     "name": "stdout",
     "output_type": "stream",
     "text": [
      "[[-0.21393035  0.75621891  0.23880597]\n",
      " [ 0.05970149  0.04477612  0.11940299]\n",
      " [ 0.09950249 -0.25870647 -0.13432836]]\n"
     ]
    }
   ],
   "source": [
    "A = np.array([[5, 8, 16],\n",
    "              [4, 1, 8],\n",
    "              [-4, 4, -11]])\n",
    "\n",
    "print(np.linalg.inv(A))"
   ]
  },
  {
   "cell_type": "markdown",
   "id": "48765349",
   "metadata": {},
   "source": [
    "#### Note:\n",
    "\n",
    "- np.linalg.inv() is a function in the NumPy library used to compute the inverse of a square matrix. The inverse of a matrix 𝐴 is another matrix, denoted as 𝐴−1, such that when A is multiplied by 𝐴−1, it results in the identity matrix."
   ]
  },
  {
   "cell_type": "markdown",
   "id": "b3658be1",
   "metadata": {},
   "source": [
    "## Exercise 3\n",
    "#### The following array (square matrix) is given:\n",
    "#### Find the trace of this matrix (sum of elements on the main diagonal) and print result to the console.\n",
    "\n",
    "Tip: Use the np.trace() function."
   ]
  },
  {
   "cell_type": "code",
   "execution_count": 5,
   "id": "1c1eea9c",
   "metadata": {},
   "outputs": [
    {
     "name": "stdout",
     "output_type": "stream",
     "text": [
      "-5\n"
     ]
    }
   ],
   "source": [
    "A = np.array([[5, 8, 16],\n",
    "              [4, 1, 8],\n",
    "              [-4, 4, -11]])\n",
    "\n",
    "E3 = np.trace(A)\n",
    "\n",
    "print(E3)"
   ]
  },
  {
   "cell_type": "markdown",
   "id": "9d21aebc",
   "metadata": {},
   "source": [
    "#### Note:\n",
    "\n",
    "- np.trace() is a function in the NumPy library used to compute the trace of a matrix. The trace of a matrix is the sum of the elements on its main diagonal (the diagonal that runs from the top-left to the bottom-right).\n",
    "\n",
    "- numpy.trace(a, offset=0, axis1=0, axis2=1, dtype=None, out=None)\n",
    "\n",
    "- Parameters:\n",
    "    - a: Input array, from which the trace is computed.\n",
    "    - offset: int, Offset of the diagonal from the main diagonal. Default is 0.\n",
    "        - offset=0: main diagonaloffset > 0: diagonals above the main diagonal\n",
    "        - offset < 0: diagonals below the main diagonal\n",
    "    - axis1, axis2: int, optional \n",
    "        - Axes to be used as the first and second axis of the 2-D sub-arrays from which the diagonals should be taken. By default, the last two axes are used.\n",
    "    - dtype: data-type, optional.\n",
    "        - Determines the data-type of the returned array and of the accumulator where the elements are summed. By default, the dtype of a is used.\n",
    "    - out: ndarray, optional\n",
    "        -Alternative output array in which to place the result. It must have the same shape and buffer length as the expected output."
   ]
  },
  {
   "cell_type": "markdown",
   "id": "36487385",
   "metadata": {},
   "source": [
    "## Exercise 4\n",
    "#### The following arrays are given:\n",
    "\n",
    "\n",
    "#### Transform B array to perform the matrix multiplication A x B. Then perform this multiplication and print result to the console."
   ]
  },
  {
   "cell_type": "code",
   "execution_count": 10,
   "id": "116d0a28",
   "metadata": {},
   "outputs": [
    {
     "name": "stdout",
     "output_type": "stream",
     "text": [
      "[[ 8  0  4  2]\n",
      " [18  0 12 22]\n",
      " [23  0 16 32]\n",
      " [18  0 12 22]]\n"
     ]
    }
   ],
   "source": [
    "\n",
    "A = np.array([[2, 0],\n",
    "              [4, 2],\n",
    "              [5, 3],\n",
    "              [4, 2]])\n",
    "B = np.array([[4, 0, 2, 1, 1, 0, 2, 9]])\n",
    "\n",
    "B1 = np.array(B).reshape(2,-1)\n",
    "\n",
    "E4 = np.dot(A, B1)\n",
    "\n",
    "print(E4)"
   ]
  },
  {
   "cell_type": "markdown",
   "id": "8175e15c",
   "metadata": {},
   "source": [
    "#### Note:\n",
    "\n",
    "- This expression reshapes the array B into a 2xN array, where N is automatically calculated based on the size of B. The -1 in the reshape function allows NumPy to automatically determine the number of columns needed, given that the reshaped array has 2 rows."
   ]
  }
 ],
 "metadata": {
  "kernelspec": {
   "display_name": "Python 3 (ipykernel)",
   "language": "python",
   "name": "python3"
  },
  "language_info": {
   "codemirror_mode": {
    "name": "ipython",
    "version": 3
   },
   "file_extension": ".py",
   "mimetype": "text/x-python",
   "name": "python",
   "nbconvert_exporter": "python",
   "pygments_lexer": "ipython3",
   "version": "3.9.13"
  }
 },
 "nbformat": 4,
 "nbformat_minor": 5
}
