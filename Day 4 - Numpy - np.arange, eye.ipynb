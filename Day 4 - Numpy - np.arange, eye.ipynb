{
 "cells": [
  {
   "cell_type": "markdown",
   "id": "9a71ec8a",
   "metadata": {},
   "source": [
    "## Exercise 1\n",
    "#### Using Numpy create a one-dimensional array of all two-digit numbers and print this array to the console as shown below."
   ]
  },
  {
   "cell_type": "code",
   "execution_count": 4,
   "id": "e1df4a0b",
   "metadata": {},
   "outputs": [
    {
     "name": "stdout",
     "output_type": "stream",
     "text": [
      "[10 11 12 13 14 15 16 17 18 19 20 21 22 23 24 25 26 27 28 29 30 31 32 33\n",
      " 34 35 36 37 38 39 40 41 42 43 44 45 46 47 48 49 50 51 52 53 54 55 56 57\n",
      " 58 59 60 61 62 63 64 65 66 67 68 69 70 71 72 73 74 75 76 77 78 79 80 81\n",
      " 82 83 84 85 86 87 88 89 90 91 92 93 94 95 96 97 98 99]\n"
     ]
    }
   ],
   "source": [
    "import numpy as np\n",
    "\n",
    "array = np.arange(10, 100, 1, dtype=int)\n",
    "print(array)"
   ]
  },
  {
   "cell_type": "markdown",
   "id": "c5922892",
   "metadata": {},
   "source": [
    "#### Note:\n",
    "The np.arange() function in NumPy generates an array with evenly spaced values within a specified range."
   ]
  },
  {
   "cell_type": "markdown",
   "id": "778dd824",
   "metadata": {},
   "source": [
    "## Exercise 2\n",
    "#### Using Numpy change the format of the previous array to (9,10)"
   ]
  },
  {
   "cell_type": "code",
   "execution_count": 5,
   "id": "671c2afe",
   "metadata": {},
   "outputs": [
    {
     "name": "stdout",
     "output_type": "stream",
     "text": [
      "[[10 11 12 13 14 15 16 17 18 19]\n",
      " [20 21 22 23 24 25 26 27 28 29]\n",
      " [30 31 32 33 34 35 36 37 38 39]\n",
      " [40 41 42 43 44 45 46 47 48 49]\n",
      " [50 51 52 53 54 55 56 57 58 59]\n",
      " [60 61 62 63 64 65 66 67 68 69]\n",
      " [70 71 72 73 74 75 76 77 78 79]\n",
      " [80 81 82 83 84 85 86 87 88 89]\n",
      " [90 91 92 93 94 95 96 97 98 99]]\n"
     ]
    }
   ],
   "source": [
    "array2 = np.ndarray.reshape(array, (9,10))\n",
    "print(array2)"
   ]
  },
  {
   "cell_type": "markdown",
   "id": "4c425364",
   "metadata": {},
   "source": [
    "## Note:\n",
    "The np.ndarray.reshape() method in NumPy is used to change the shape of an existing array without changing its data."
   ]
  },
  {
   "cell_type": "markdown",
   "id": "2bdf3891",
   "metadata": {},
   "source": [
    "## Exercise 3\n",
    "#### Using Numpy create a 6x6 two-dimensional array - identity matrix with int data type. Print this array to the console as shown below."
   ]
  },
  {
   "cell_type": "code",
   "execution_count": 7,
   "id": "795cb8cd",
   "metadata": {},
   "outputs": [
    {
     "name": "stdout",
     "output_type": "stream",
     "text": [
      "[[1 0 0 0 0 0]\n",
      " [0 1 0 0 0 0]\n",
      " [0 0 1 0 0 0]\n",
      " [0 0 0 1 0 0]\n",
      " [0 0 0 0 1 0]\n",
      " [0 0 0 0 0 1]]\n"
     ]
    }
   ],
   "source": [
    "array3 = np.eye(6, 6, dtype=int)\n",
    "print(array3)"
   ]
  },
  {
   "cell_type": "markdown",
   "id": "cf2806e5",
   "metadata": {},
   "source": [
    "#### Note:\n",
    "The np.eye() function in NumPy creates a 2-D array with ones on the diagonal and zeros elsewhere, essentially creating an identity matrix."
   ]
  },
  {
   "cell_type": "markdown",
   "id": "aa49ecb2",
   "metadata": {},
   "source": []
  }
 ],
 "metadata": {
  "kernelspec": {
   "display_name": "Python 3 (ipykernel)",
   "language": "python",
   "name": "python3"
  },
  "language_info": {
   "codemirror_mode": {
    "name": "ipython",
    "version": 3
   },
   "file_extension": ".py",
   "mimetype": "text/x-python",
   "name": "python",
   "nbconvert_exporter": "python",
   "pygments_lexer": "ipython3",
   "version": "3.9.13"
  }
 },
 "nbformat": 4,
 "nbformat_minor": 5
}
