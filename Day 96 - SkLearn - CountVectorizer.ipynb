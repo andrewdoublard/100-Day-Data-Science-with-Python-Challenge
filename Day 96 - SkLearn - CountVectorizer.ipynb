{
 "cells": [
  {
   "cell_type": "markdown",
   "id": "c43d383f",
   "metadata": {},
   "source": [
    "## Exercise 1\n",
    "#### Two files are attached to this exercise:\n",
    "\n",
    "- data_train.csv\n",
    "\n",
    "- target_train.csv\n",
    "\n",
    "#### The data_train.csv file contains e-mails from two categories: computer graphics (comp.graphics) and space (sci.space). The target_train.csv file contains the labels (0 - comp.graphics, 1 - sci.space). Load these files as DataFrame objects with the following names:\n",
    "\n",
    "- data_train\n",
    "\n",
    "- target_train\n",
    "\n",
    "#### Explore this dataset. In response, print the content of the second element of the data_train object."
   ]
  },
  {
   "cell_type": "code",
   "execution_count": 4,
   "id": "8300f12a",
   "metadata": {},
   "outputs": [
    {
     "name": "stdout",
     "output_type": "stream",
     "text": [
      "From: stephens@geod.emr.ca (Dave Stephenson)\r\n",
      "Subject: Re: Clementine Science Team Selected\r\n",
      "Nntp-Posting-Host: ngis.geod.emr.ca\r\n",
      "Organization: Dept. of Energy, Mines, and Resources, Ottawa\r\n",
      "Lines: 32\r\n",
      "\r\n",
      "nickh@CS.CMU.EDU (Nick Haines) writes:\r\n",
      "\r\n",
      ">In article <stephens.734792933@ngis> stephens@geod.emr.ca (Dave Stephenson) writes:\r\n",
      "\r\n",
      ">   Remember the first government scientist in the British Empire was\r\n",
      ">   the Astronomer Royal, who was paid [...] from the Department\r\n",
      ">   of Ordinance Budget (i.e. the military). Flamsteed House (the original\r\n",
      ">   RGO) was built out of Army Surplus Scrap ( A gate house at the Tower of\r\n",
      ">   London ?), and paid for by the sale of time expired gunpowder [...]\r\n",
      "\r\n",
      ">At the time, astronomy was vital to the military, in that navigation\r\n",
      ">and cartography were of primary impoortance to the military, and good\r\n",
      ">cartography was impossible without good astronomy.\r\n",
      "\r\n",
      ">The relevance these daysis somewhat less obvious.\r\n",
      "\r\n",
      ">Nick\r\n",
      "\r\n",
      "It still applies, except the astronomy these days is Very Long Baseline\r\n",
      "Radio Astronomy coupled to GPS and Satellite Laser Ranging. The data\r\n",
      "from NASA's and the Naval Observatory's (among others) is a vital \r\n",
      "source of data for studies into crustal dynamics, Earth rotation, and\r\n",
      "purturbations. Every time there is a leap second added to the New Year,\r\n",
      "remember the military and science are still co-habiting nicely. The\r\n",
      "same VLBI was used to track Gallileo as it passed the Earth, and used\r\n",
      "so little fuel that it can afford to observe Ida. \r\n",
      " \r\n",
      "--\r\n",
      "Dave Stephenson\r\n",
      "Geodetic Survey of Canada\r\n",
      "Ottawa, Ontario, Canada\r\n",
      "Internet: stephens@geod.emr.ca\r\n",
      "\n"
     ]
    }
   ],
   "source": [
    "import numpy as np\n",
    "import pandas as pd\n",
    "\n",
    "data_train = pd.read_csv('data_train.csv')\n",
    "target_train = pd.read_csv('target_train.csv')\n",
    "\n",
    "print(data_train['text'][1])"
   ]
  },
  {
   "cell_type": "markdown",
   "id": "3c63766b",
   "metadata": {},
   "source": [
    "## Exercise 2:\n",
    "- Convert the data_train object to the list. Assign changes to data_train variable. In response, print the length of the data_train list to the console."
   ]
  },
  {
   "cell_type": "code",
   "execution_count": 6,
   "id": "22ee9bc9",
   "metadata": {},
   "outputs": [
    {
     "name": "stdout",
     "output_type": "stream",
     "text": [
      "50\n"
     ]
    }
   ],
   "source": [
    "data_train = list(data_train['text'])\n",
    "\n",
    "print(len(data_train))"
   ]
  },
  {
   "cell_type": "markdown",
   "id": "28ddb808",
   "metadata": {},
   "source": [
    "#### Notes:\n",
    "\n",
    "- .tolist() pandas method is more efficient for larger datasets but they produce similar results."
   ]
  },
  {
   "cell_type": "markdown",
   "id": "1706f2fc",
   "metadata": {},
   "source": [
    "## Exercise 3:\n",
    "\n",
    "#### Using the CountVectorizer class from the scikit-learn package, vectorize the text from the data_train list and assign it to the data_train_vectorized variable. In response, print the shape of the sparse matrix obtained in this way to the console."
   ]
  },
  {
   "cell_type": "code",
   "execution_count": 12,
   "id": "5e65efbc",
   "metadata": {},
   "outputs": [
    {
     "name": "stdout",
     "output_type": "stream",
     "text": [
      "(50, 3225)\n"
     ]
    }
   ],
   "source": [
    "from sklearn.feature_extraction.text import CountVectorizer\n",
    "\n",
    "data_train = pd.read_csv('data_train.csv')\n",
    "target_train = pd.read_csv('target_train.csv')\n",
    " \n",
    "data_train = data_train['text'].tolist()\n",
    "target_train = target_train.values.ravel()\n",
    " \n",
    "vectorizer = CountVectorizer()\n",
    "data_train_vectorized = vectorizer.fit_transform(data_train)\n",
    "print(data_train_vectorized.shape)"
   ]
  }
 ],
 "metadata": {
  "kernelspec": {
   "display_name": "Python 3 (ipykernel)",
   "language": "python",
   "name": "python3"
  },
  "language_info": {
   "codemirror_mode": {
    "name": "ipython",
    "version": 3
   },
   "file_extension": ".py",
   "mimetype": "text/x-python",
   "name": "python",
   "nbconvert_exporter": "python",
   "pygments_lexer": "ipython3",
   "version": "3.9.13"
  }
 },
 "nbformat": 4,
 "nbformat_minor": 5
}
