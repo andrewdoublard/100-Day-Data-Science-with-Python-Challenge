{
 "cells": [
  {
   "cell_type": "markdown",
   "id": "3cc06f10",
   "metadata": {},
   "source": [
    "## Exercise 1\n",
    "#### Using Numpy create the following two-dimensional array:\n",
    "\n",
    "[[0 0 0 0 0 0]\n",
    " [0 1 0 0 0 0]\n",
    " [0 0 2 0 0 0]\n",
    " [0 0 0 3 0 0]\n",
    " [0 0 0 0 4 0]\n",
    " [0 0 0 0 0 5]]\n",
    "\n",
    "\n",
    "Print result to the console as shown below."
   ]
  },
  {
   "cell_type": "code",
   "execution_count": 3,
   "id": "6c705b37",
   "metadata": {},
   "outputs": [
    {
     "name": "stdout",
     "output_type": "stream",
     "text": [
      "[[1 0 0 0 0]\n",
      " [0 2 0 0 0]\n",
      " [0 0 3 0 0]\n",
      " [0 0 0 4 0]\n",
      " [0 0 0 0 5]]\n"
     ]
    }
   ],
   "source": [
    "import numpy as np\n",
    "\n",
    "array1 = np.arange(1, 6, 1, dtype=int)\n",
    "\n",
    "array2 = np.diag(array1, k = 0)\n",
    "\n",
    "print(array2)"
   ]
  },
  {
   "cell_type": "markdown",
   "id": "6841555f",
   "metadata": {},
   "source": [
    "#### Note:\n",
    "np.diag() is a function in the NumPy library that is used to either extract a diagonal from a matrix or create a diagonal matrix. "
   ]
  },
  {
   "cell_type": "markdown",
   "id": "6c809251",
   "metadata": {},
   "source": [
    "## Exercise 2\n",
    "#### Using Numpy create the following array:\n",
    "\n",
    "array([[ 0,  1,  2,  3],\n",
    "       [ 4,  5,  6,  7],\n",
    "       [ 8,  9, 10, 11]])\n",
    "\n",
    "\n",
    "#### Save this array to a binary file named 'array.npy' and then load that file back into another variable. Print this variable to the console.\n",
    "\n",
    "Tip: Use the np.save() and np.load() functions."
   ]
  },
  {
   "cell_type": "code",
   "execution_count": 8,
   "id": "d8d0798e",
   "metadata": {},
   "outputs": [
    {
     "name": "stdout",
     "output_type": "stream",
     "text": [
      "[[ 0  1  2  3]\n",
      " [ 4  5  6  7]\n",
      " [ 8  9 10 11]]\n"
     ]
    }
   ],
   "source": [
    "array3 = np.ndarray.reshape(np.arange(12), (3,4))\n",
    "\n",
    "np.save('array.npy', array3)\n",
    "\n",
    "array4 = np.load('array.npy')\n",
    "\n",
    "print(array4)"
   ]
  },
  {
   "cell_type": "markdown",
   "id": "dad2f979",
   "metadata": {},
   "source": [
    "#### Notes:\n",
    "\n",
    "1) np.save() is a function in the NumPy library used to save an array to a binary file in .npy format. This format is efficient for storing NumPy arrays, ensuring that the array's data and metadata (like dtype and shape) are preserved accurately.\n",
    "\n",
    "2) np.load() is a function in the NumPy library used to load arrays or pickled objects from files stored in .npy or .npz formats."
   ]
  },
  {
   "cell_type": "markdown",
   "id": "1b104612",
   "metadata": {},
   "source": [
    "## Exercise 3\n",
    "#### Using Numpy create the following array:\n",
    "\n",
    "array([[ 0,  1,  2,  3],\n",
    "       [ 4,  5,  6,  7],\n",
    "       [ 8,  9, 10, 11]])\n",
    "\n",
    "#### Save this array to a text file named 'array.txt' with two decimal places and then load this file back into another variable. Print this variable to the console.\n",
    "\n",
    "Tip: Use the np.savetxt() and np.loadtxt() functions."
   ]
  },
  {
   "cell_type": "code",
   "execution_count": 10,
   "id": "2bf35aee",
   "metadata": {},
   "outputs": [
    {
     "name": "stdout",
     "output_type": "stream",
     "text": [
      "[[ 0.  1.  2.  3.]\n",
      " [ 4.  5.  6.  7.]\n",
      " [ 8.  9. 10. 11.]]\n"
     ]
    }
   ],
   "source": [
    "A = np.arange(12).reshape(-1, 4)\n",
    "\n",
    "np.savetxt(fname='array.txt', X=A, fmt='%0.2f')\n",
    "\n",
    "Atext = np.loadtxt('array.txt')\n",
    "\n",
    "print(Atext)"
   ]
  },
  {
   "cell_type": "markdown",
   "id": "f75ba86d",
   "metadata": {},
   "source": [
    "#### Notes:\n",
    "\n",
    "1) np.savetxt() is a function in the NumPy library used to save an array to a text file. This function is particularly useful for exporting data in a human-readable format, such as CSV or TSV.\n",
    "\n",
    "2) np.loadtxt() is a function in the NumPy library used to load data from a text file. This function is particularly useful for reading numerical data from CSV, TSV, or other delimited text files into a NumPy array."
   ]
  }
 ],
 "metadata": {
  "kernelspec": {
   "display_name": "Python 3 (ipykernel)",
   "language": "python",
   "name": "python3"
  },
  "language_info": {
   "codemirror_mode": {
    "name": "ipython",
    "version": 3
   },
   "file_extension": ".py",
   "mimetype": "text/x-python",
   "name": "python",
   "nbconvert_exporter": "python",
   "pygments_lexer": "ipython3",
   "version": "3.9.13"
  }
 },
 "nbformat": 4,
 "nbformat_minor": 5
}
