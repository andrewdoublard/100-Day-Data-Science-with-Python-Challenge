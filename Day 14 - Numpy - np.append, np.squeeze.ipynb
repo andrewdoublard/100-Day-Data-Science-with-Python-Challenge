{
 "cells": [
  {
   "cell_type": "markdown",
   "id": "127fdcf7",
   "metadata": {},
   "source": [
    "## Exercise 1\n",
    "#### Two randomly generated arrays are given:\n",
    "\n",
    "image1 = np.random.randint(\n",
    "    low=0, high=256, size=(200, 300, 3), dtype=np.uint8\n",
    ")\n",
    "image2 = np.random.randint(\n",
    "    low=0, high=256, size=(200, 300, 3), dtype=np.uint8\n",
    ")\n",
    "\n",
    "\n",
    "#### Expand each of these arrays by adding one dimension at the beginning and then combine these arrays into one called images. Expected shape of images array: (2, 200, 300, 3)."
   ]
  },
  {
   "cell_type": "code",
   "execution_count": 4,
   "id": "b87839fc",
   "metadata": {},
   "outputs": [
    {
     "name": "stdout",
     "output_type": "stream",
     "text": [
      "(2, 200, 300, 3)\n"
     ]
    }
   ],
   "source": [
    "import numpy as np\n",
    "\n",
    "\n",
    "image1 = np.random.randint(\n",
    "    low=0, high=256, size=(200, 300, 3), dtype=np.uint8\n",
    ")\n",
    "image2 = np.random.randint(\n",
    "    low=0, high=256, size=(200, 300, 3), dtype=np.uint8\n",
    ")\n",
    "\n",
    "image1 = np.expand_dims(image1, axis = 0)\n",
    "image2 = np.expand_dims(image2, axis = 0)\n",
    "\n",
    "images = np.append(image1, image2, axis = 0)\n",
    "\n",
    "print(np.shape(images))"
   ]
  },
  {
   "cell_type": "markdown",
   "id": "2882f9ed",
   "metadata": {},
   "source": [
    "## Exercise 2\n",
    "#### The following array is given:\n",
    "\n",
    "A = np.array([[[1, 2, 3],\n",
    "               [6, 3, 2]]])\n",
    "\n",
    "\n",
    "#### Shape of this array is (1, 2, 3). Remove the unnecessary first dimension and extract (2, 3) array and print it to the console as shown below.\n",
    "\n",
    "Tip: Use the np.squeeze() function."
   ]
  },
  {
   "cell_type": "code",
   "execution_count": 6,
   "id": "3997086c",
   "metadata": {},
   "outputs": [
    {
     "name": "stdout",
     "output_type": "stream",
     "text": [
      "(2, 3)\n"
     ]
    }
   ],
   "source": [
    "A = np.array([[[1, 2, 3],\n",
    "               [6, 3, 2]]])\n",
    "\n",
    "E2 = np.squeeze(A)\n",
    "\n",
    "print(np.shape(E2))"
   ]
  },
  {
   "cell_type": "markdown",
   "id": "7223c8dc",
   "metadata": {},
   "source": [
    "#### Note:\n",
    "\n",
    "np.squeeze() is a function in the NumPy library used to remove single-dimensional entries from the shape of an array. Essentially, it eliminates axes of length one, reducing the dimensions of the array without changing its data."
   ]
  },
  {
   "cell_type": "markdown",
   "id": "b19a7b8c",
   "metadata": {},
   "source": [
    "## Exercise 3\n",
    "#### The following array is given:\n",
    "\n",
    "A = np.array([[0.4],\n",
    "              [0.9],\n",
    "              [0.5],\n",
    "              [0.6]])\n",
    "\n",
    "\n",
    "#### Shape of this array is (4, 1). Remove the unnecessary dimension and extract (4, ) array and print result to the console.\n",
    "\n",
    "Tip: Use the np.squeeze() function."
   ]
  },
  {
   "cell_type": "code",
   "execution_count": 8,
   "id": "8657722e",
   "metadata": {},
   "outputs": [
    {
     "name": "stdout",
     "output_type": "stream",
     "text": [
      "(4,)\n"
     ]
    }
   ],
   "source": [
    "A = np.array([[0.4],\n",
    "              [0.9],\n",
    "              [0.5],\n",
    "              [0.6]])\n",
    "\n",
    "E3 = np.squeeze(A)\n",
    "\n",
    "print(np.shape(E3))"
   ]
  }
 ],
 "metadata": {
  "kernelspec": {
   "display_name": "Python 3 (ipykernel)",
   "language": "python",
   "name": "python3"
  },
  "language_info": {
   "codemirror_mode": {
    "name": "ipython",
    "version": 3
   },
   "file_extension": ".py",
   "mimetype": "text/x-python",
   "name": "python",
   "nbconvert_exporter": "python",
   "pygments_lexer": "ipython3",
   "version": "3.9.13"
  }
 },
 "nbformat": 4,
 "nbformat_minor": 5
}
