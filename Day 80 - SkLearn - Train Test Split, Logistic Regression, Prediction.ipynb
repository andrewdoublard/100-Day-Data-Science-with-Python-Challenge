{
 "cells": [
  {
   "cell_type": "markdown",
   "id": "f6336571",
   "metadata": {},
   "source": [
    "## Exercise 1:\n",
    "#### The IRIS dataset was loaded into data and target variables.\n",
    "\n",
    "#### Using the scikit-learn package and the train_test_split() function, split the data into the training set (data_train, target_train) and the test set (data_test, target_test). Set the test size to 30% of the samples.\n",
    "\n",
    "#### As an answer, print the shapes of the following arrays:\n",
    "\n",
    "- data_train\n",
    "\n",
    "- target_train\n",
    "\n",
    "- data_test\n",
    "\n",
    "- target_test\n",
    "\n"
   ]
  },
  {
   "cell_type": "code",
   "execution_count": 3,
   "id": "15c670ed",
   "metadata": {},
   "outputs": [
    {
     "name": "stdout",
     "output_type": "stream",
     "text": [
      "(105, 4)\n",
      "(105,)\n",
      "(45, 4)\n",
      "(45,)\n"
     ]
    }
   ],
   "source": [
    "from sklearn.datasets import load_iris\n",
    "from sklearn.model_selection import train_test_split\n",
    "\n",
    "\n",
    "data_raw = load_iris()\n",
    "data = data_raw['data']\n",
    "target = data_raw['target']\n",
    "\n",
    "data_train, data_test, target_train, target_test = train_test_split(data, target, test_size = 0.3)\n",
    "\n",
    "print(data_train.shape)\n",
    "\n",
    "print(target_train.shape)\n",
    "\n",
    "print(data_test.shape)\n",
    "\n",
    "print(target_test.shape)"
   ]
  },
  {
   "cell_type": "markdown",
   "id": "031a2f91",
   "metadata": {},
   "source": [
    "## Exercise 2:\n",
    "\n",
    "#### Create a logistic regression model (set max_iter=1000) using the scikit-learn package. Fit the model on the train set and then evaluate the model on the test set.\n",
    "\n",
    "#### In response, print the accuracy of the model on the test set as shown below."
   ]
  },
  {
   "cell_type": "code",
   "execution_count": 6,
   "id": "e4fd7617",
   "metadata": {},
   "outputs": [
    {
     "name": "stdout",
     "output_type": "stream",
     "text": [
      "Accuracy: 0.9333\n"
     ]
    }
   ],
   "source": [
    "from sklearn.datasets import load_iris\n",
    "from sklearn.model_selection import train_test_split\n",
    "from sklearn.linear_model import LogisticRegression\n",
    "\n",
    "\n",
    "data_raw = load_iris()\n",
    "data = data_raw['data']\n",
    "target = data_raw['target']\n",
    "data_train, data_test, target_train, target_test = train_test_split(\n",
    "    data, target, test_size=0.3, random_state=20\n",
    ")\n",
    "\n",
    "lg = LogisticRegression(max_iter = 1000)\n",
    "\n",
    "lg.fit(data_train, target_train)\n",
    "\n",
    "accuracy = lg.score(data_test, target_test)\n",
    "\n",
    "print(f'Accuracy: {accuracy:.4f}')"
   ]
  },
  {
   "cell_type": "markdown",
   "id": "d4385aa0",
   "metadata": {},
   "source": [
    "## Exercise 3:\n",
    "#### The IRIS dataset was loaded into data and target variables. These datasets was spitted into the training set (data_train, target_train) and the test set (data_test, target_test).\n",
    "\n",
    "#### The logistic regression model was built using the scikit-learn package.\n",
    "\n",
    "\n",
    "#### Using this model make a prediction on the test set and assign to target_pred variable.\n",
    "\n",
    "#### In response, print the target_pred variable to the console."
   ]
  },
  {
   "cell_type": "code",
   "execution_count": 8,
   "id": "db80398b",
   "metadata": {},
   "outputs": [
    {
     "name": "stdout",
     "output_type": "stream",
     "text": [
      "[0 1 1 2 1 1 2 0 2 0 2 1 1 0 0 2 0 1 2 1 1 2 2 0 1 1 1 0 2 1 1 1 0 0 0 1 1\n",
      " 0 1 2 1 2 0 1 1]\n"
     ]
    }
   ],
   "source": [
    "from sklearn.datasets import load_iris\n",
    "from sklearn.model_selection import train_test_split\n",
    "from sklearn.linear_model import LogisticRegression\n",
    "\n",
    "\n",
    "data_raw = load_iris()\n",
    "data = data_raw['data']\n",
    "target = data_raw['target']\n",
    "data_train, data_test, target_train, target_test = train_test_split(\n",
    "    data, target, test_size=0.3, random_state=20\n",
    ")\n",
    "\n",
    "model = LogisticRegression(max_iter=1000)\n",
    "model.fit(data_train, target_train)\n",
    "\n",
    "target_pred = lg.predict(data_test)\n",
    "\n",
    "print(target_pred)"
   ]
  },
  {
   "cell_type": "markdown",
   "id": "1f3c799e",
   "metadata": {},
   "source": [
    "## Exercise 4:\n",
    "#### The IRIS dataset was loaded into data and target variables. These datasets was spitted into the training set (data_train, target_train) and the test set (data_test, target_test). The logistic regression model was built using the scikit-learn package.\n",
    "\n",
    "#### Predictions on the test set was assigned to the variable target_pred.\n",
    "\n",
    "\n",
    "\n",
    "#### Using scikit-learn package specify the confusion matrix and print it to the console as shown below.\n",
    "\n"
   ]
  },
  {
   "cell_type": "code",
   "execution_count": 10,
   "id": "632e0635",
   "metadata": {},
   "outputs": [
    {
     "name": "stdout",
     "output_type": "stream",
     "text": [
      "[[13  0  0]\n",
      " [ 0 18  0]\n",
      " [ 0  3 11]]\n"
     ]
    }
   ],
   "source": [
    "from sklearn.datasets import load_iris\n",
    "from sklearn.model_selection import train_test_split\n",
    "from sklearn.linear_model import LogisticRegression\n",
    "from sklearn.metrics import confusion_matrix\n",
    "\n",
    "\n",
    "data_raw = load_iris()\n",
    "data = data_raw['data']\n",
    "target = data_raw['target']\n",
    "data_train, data_test, target_train, target_test = train_test_split(\n",
    "    data, target, test_size=0.3, random_state=20\n",
    ")\n",
    "\n",
    "model = LogisticRegression(max_iter=1000)\n",
    "model.fit(data_train, target_train)\n",
    "\n",
    "target_pred = model.predict(data_test)\n",
    "\n",
    "print(confusion_matrix(target_test, target_pred))"
   ]
  }
 ],
 "metadata": {
  "kernelspec": {
   "display_name": "Python 3 (ipykernel)",
   "language": "python",
   "name": "python3"
  },
  "language_info": {
   "codemirror_mode": {
    "name": "ipython",
    "version": 3
   },
   "file_extension": ".py",
   "mimetype": "text/x-python",
   "name": "python",
   "nbconvert_exporter": "python",
   "pygments_lexer": "ipython3",
   "version": "3.9.13"
  }
 },
 "nbformat": 4,
 "nbformat_minor": 5
}
