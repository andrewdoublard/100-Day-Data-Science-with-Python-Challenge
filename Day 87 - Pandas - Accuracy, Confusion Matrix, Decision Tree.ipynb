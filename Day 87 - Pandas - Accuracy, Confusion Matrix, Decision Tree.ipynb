{
 "cells": [
  {
   "cell_type": "markdown",
   "id": "87c596c4",
   "metadata": {},
   "source": [
    "## Exercise 1:\n",
    "\n",
    "#### The predictions.csv file contains the predictions based on the certain multi-class classification model (3 classes). The y_true column describes the actual values, and the y_pred column describes the values predicted by the model.\n",
    "\n",
    "#### Using the accuracy_score() function from the scikit-learn package, calculate the accuracy of this model.\n",
    "\n",
    "#### In response, print accuracy rounded to four decimal places to the console as shown below."
   ]
  },
  {
   "cell_type": "code",
   "execution_count": 1,
   "id": "7eaef7f4",
   "metadata": {},
   "outputs": [
    {
     "name": "stdout",
     "output_type": "stream",
     "text": [
      "Accuracy: 0.7241379310344828\n"
     ]
    }
   ],
   "source": [
    "import numpy as np\n",
    "import pandas as pd\n",
    "from sklearn.metrics import accuracy_score\n",
    "\n",
    "df = pd.read_csv('predictions.csv')\n",
    "\n",
    "accuracy = accuracy_score(df['y_true'], df['y_pred'])\n",
    "\n",
    "print(\"Accuracy:\", accuracy)"
   ]
  },
  {
   "cell_type": "markdown",
   "id": "19ed2c78",
   "metadata": {},
   "source": [
    "## Exercise 2:\n",
    "#### The predictions.csv file contains predictions based on the certain multi-class classification model (3 classes). The y_true column describes the actual values, and the y_pred column describes the values predicted by the model.\n",
    "#### Use the confusion_matrix() function from the scikit-learn package to calculate the confusion matrix and print it to the console."
   ]
  },
  {
   "cell_type": "code",
   "execution_count": 2,
   "id": "a9332d16",
   "metadata": {},
   "outputs": [
    {
     "name": "stdout",
     "output_type": "stream",
     "text": [
      "Confusion matrix: [[ 6  1  0]\n",
      " [ 3 10  2]\n",
      " [ 0  2  5]]\n"
     ]
    }
   ],
   "source": [
    "import numpy as np\n",
    "import pandas as pd\n",
    "from sklearn.metrics import confusion_matrix\n",
    "\n",
    "confusion_matrix = confusion_matrix(df['y_true'], df['y_pred'])\n",
    "\n",
    "print(\"Confusion matrix:\", confusion_matrix)"
   ]
  },
  {
   "cell_type": "markdown",
   "id": "95cafa1d",
   "metadata": {},
   "source": [
    "## Exercise 3:\n",
    "#### The following arrays are given:\n",
    "\n",
    "- X_train, y_train\n",
    "\n",
    "- X_test, y_test\n",
    "\n",
    "#### Using the DecisionTreeClassifier class from the scikit-learn package, create classification model (leave the default arguments). Train the model on the train set and evaluate on the test set.\n",
    "\n",
    "#### In response, print the model accuracy (up to four decimal places) to the console as shown below."
   ]
  },
  {
   "cell_type": "code",
   "execution_count": 5,
   "id": "8f6cf5e2",
   "metadata": {},
   "outputs": [
    {
     "name": "stdout",
     "output_type": "stream",
     "text": [
      "DR Score = 0.9020\n"
     ]
    }
   ],
   "source": [
    "import numpy as np\n",
    "import pandas as pd\n",
    "\n",
    "from sklearn.datasets import make_moons\n",
    "from sklearn.model_selection import train_test_split\n",
    "from sklearn.tree import DecisionTreeClassifier\n",
    "\n",
    "\n",
    "np.random.seed(42)\n",
    "raw_data = make_moons(n_samples=2000, noise=0.25, random_state=42)\n",
    "data = raw_data[0]\n",
    "target = raw_data[1]\n",
    "\n",
    "X_train, X_test, y_train, y_test = train_test_split(data, target)\n",
    "\n",
    "dtc = DecisionTreeClassifier()\n",
    "\n",
    "dtc.fit(X_train, y_train)\n",
    "\n",
    "score = dtc.score(X_test, y_test)\n",
    "\n",
    "# Print the model score\n",
    "print(f'DR Score = {score:.4f}')"
   ]
  }
 ],
 "metadata": {
  "kernelspec": {
   "display_name": "Python 3 (ipykernel)",
   "language": "python",
   "name": "python3"
  },
  "language_info": {
   "codemirror_mode": {
    "name": "ipython",
    "version": 3
   },
   "file_extension": ".py",
   "mimetype": "text/x-python",
   "name": "python",
   "nbconvert_exporter": "python",
   "pygments_lexer": "ipython3",
   "version": "3.9.13"
  }
 },
 "nbformat": 4,
 "nbformat_minor": 5
}
