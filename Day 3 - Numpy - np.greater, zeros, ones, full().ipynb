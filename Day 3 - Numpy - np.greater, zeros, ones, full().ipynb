{
 "cells": [
  {
   "cell_type": "markdown",
   "id": "2c676cfb",
   "metadata": {},
   "source": [
    "## Exercise 1\n",
    "\n",
    "#### Check which numbers (element-wise) from the A array are greater than numbers from the B array and print result to the console as shown below."
   ]
  },
  {
   "cell_type": "code",
   "execution_count": 1,
   "id": "19860cec",
   "metadata": {},
   "outputs": [],
   "source": [
    "import numpy as np\n",
    "\n",
    "\n",
    "A = np.array([0.4, 0.5, 0.3, 0.9])\n",
    "B = np.array([0.38, 0.51, 0.3, 0.91])"
   ]
  },
  {
   "cell_type": "code",
   "execution_count": 2,
   "id": "29b5d28e",
   "metadata": {},
   "outputs": [
    {
     "name": "stdout",
     "output_type": "stream",
     "text": [
      "[ True False False False]\n"
     ]
    }
   ],
   "source": [
    "print(np.greater(A,B))"
   ]
  },
  {
   "cell_type": "markdown",
   "id": "5d0aafe3",
   "metadata": {},
   "source": [
    "#### Note:\n",
    "The np.greater() function in NumPy is used to perform element-wise comparison between two arrays. It returns a boolean array where each element is True if the corresponding element in the first array is greater than the corresponding element in the second array, and False otherwise."
   ]
  },
  {
   "cell_type": "markdown",
   "id": "ec696d5b",
   "metadata": {},
   "source": [
    "## Exercise 2\n",
    "#### Using Numpy create a 4x4 array filled with zeros (set data type to int). In response print this array to the console."
   ]
  },
  {
   "cell_type": "code",
   "execution_count": 4,
   "id": "5d7cb99a",
   "metadata": {},
   "outputs": [
    {
     "name": "stdout",
     "output_type": "stream",
     "text": [
      "[[0 0 0 0]\n",
      " [0 0 0 0]\n",
      " [0 0 0 0]\n",
      " [0 0 0 0]]\n"
     ]
    }
   ],
   "source": [
    "array = np.zeros((4, 4), dtype = int)\n",
    "print(array)"
   ]
  },
  {
   "cell_type": "markdown",
   "id": "e68ef660",
   "metadata": {},
   "source": [
    "#### Note:\n",
    "The np.zeros() function in NumPy is used to create a new array filled with zeros. The array can have any shape and data type specified by the user."
   ]
  },
  {
   "cell_type": "markdown",
   "id": "8622416f",
   "metadata": {},
   "source": [
    "## Exercise 3\n",
    "#### Using Numpy, create an array 10x10 filled with number 255 and set the data type to float. Print this array to the console as shown below."
   ]
  },
  {
   "cell_type": "code",
   "execution_count": 5,
   "id": "1e18bace",
   "metadata": {},
   "outputs": [
    {
     "name": "stdout",
     "output_type": "stream",
     "text": [
      "[[255. 255. 255. 255. 255. 255. 255. 255. 255. 255.]\n",
      " [255. 255. 255. 255. 255. 255. 255. 255. 255. 255.]\n",
      " [255. 255. 255. 255. 255. 255. 255. 255. 255. 255.]\n",
      " [255. 255. 255. 255. 255. 255. 255. 255. 255. 255.]\n",
      " [255. 255. 255. 255. 255. 255. 255. 255. 255. 255.]\n",
      " [255. 255. 255. 255. 255. 255. 255. 255. 255. 255.]\n",
      " [255. 255. 255. 255. 255. 255. 255. 255. 255. 255.]\n",
      " [255. 255. 255. 255. 255. 255. 255. 255. 255. 255.]\n",
      " [255. 255. 255. 255. 255. 255. 255. 255. 255. 255.]\n",
      " [255. 255. 255. 255. 255. 255. 255. 255. 255. 255.]]\n"
     ]
    }
   ],
   "source": [
    "array2 = np.full((10,10), 255, dtype=float)\n",
    "print(array2)"
   ]
  },
  {
   "cell_type": "markdown",
   "id": "183aacef",
   "metadata": {},
   "source": [
    "#### Note:\n",
    "The np.full() function in NumPy creates a new array of the specified shape and data type, filled with a specified value."
   ]
  }
 ],
 "metadata": {
  "kernelspec": {
   "display_name": "Python 3 (ipykernel)",
   "language": "python",
   "name": "python3"
  },
  "language_info": {
   "codemirror_mode": {
    "name": "ipython",
    "version": 3
   },
   "file_extension": ".py",
   "mimetype": "text/x-python",
   "name": "python",
   "nbconvert_exporter": "python",
   "pygments_lexer": "ipython3",
   "version": "3.9.13"
  }
 },
 "nbformat": 4,
 "nbformat_minor": 5
}
