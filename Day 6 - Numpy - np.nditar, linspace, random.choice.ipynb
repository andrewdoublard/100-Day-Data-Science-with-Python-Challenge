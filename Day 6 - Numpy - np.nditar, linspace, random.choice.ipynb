{
 "cells": [
  {
   "cell_type": "markdown",
   "id": "d8d88647",
   "metadata": {},
   "source": [
    "## Exercise 1\n",
    "\n",
    "#### Iterate through this array and print each element to the console."
   ]
  },
  {
   "cell_type": "code",
   "execution_count": 1,
   "id": "78e9d3c3",
   "metadata": {},
   "outputs": [],
   "source": [
    "import numpy as np\n",
    "\n",
    "A = np.array([[1, 4, 3],\n",
    "              [5, 2, 6]])"
   ]
  },
  {
   "cell_type": "code",
   "execution_count": 5,
   "id": "a52bac97",
   "metadata": {},
   "outputs": [
    {
     "name": "stdout",
     "output_type": "stream",
     "text": [
      "1\n",
      "4\n",
      "3\n",
      "5\n",
      "2\n",
      "6\n"
     ]
    }
   ],
   "source": [
    "for x in np.nditer(A):\n",
    "    print(x)"
   ]
  },
  {
   "cell_type": "markdown",
   "id": "4f2f6051",
   "metadata": {},
   "source": [
    "#### Note:\n",
    "np.nditer() provides a way to iterate over the elements of an array in a very efficient manner, while also offering additional functionality for advanced array manipulation"
   ]
  },
  {
   "cell_type": "markdown",
   "id": "fbb11468",
   "metadata": {},
   "source": [
    "## Exercise 2\n",
    "#### Using Numpy create a one-dimensional array (vector) consisting of eleven equally distributed numbers from the [0,1] interval."
   ]
  },
  {
   "cell_type": "code",
   "execution_count": 7,
   "id": "53485fd0",
   "metadata": {},
   "outputs": [
    {
     "name": "stdout",
     "output_type": "stream",
     "text": [
      "[0.  0.1 0.2 0.3 0.4 0.5 0.6 0.7 0.8 0.9 1. ]\n"
     ]
    }
   ],
   "source": [
    "array = np.linspace(0,1, 11)\n",
    "print(array)"
   ]
  },
  {
   "cell_type": "markdown",
   "id": "8fad3353",
   "metadata": {},
   "source": [
    "#### Note:\n",
    "The numpy.linspace() function in NumPy is used to generate evenly spaced numbers over a specified interval. It is particularly useful for creating arrays with a specified number of elements between two endpoints."
   ]
  },
  {
   "cell_type": "markdown",
   "id": "6608f0de",
   "metadata": {},
   "source": [
    "## Exercise 3\n",
    "#### Using Numpy create a one-dimensional array (vector) containing the possible result from the Big Lotto game. Set the random seed to 42. Print result to the console.\n",
    "\n",
    "Tip: The result of this game is a 6-element vector of values from 1 to 49 inclusive."
   ]
  },
  {
   "cell_type": "code",
   "execution_count": 9,
   "id": "2cd07d9a",
   "metadata": {},
   "outputs": [
    {
     "name": "stdout",
     "output_type": "stream",
     "text": [
      "[14 46 48 45 18 28]\n"
     ]
    }
   ],
   "source": [
    "np.random.seed(42)\n",
    "big_lotto_array = np.random.choice(range(1, 50), size=6, replace=False)\n",
    "print(big_lotto_array)"
   ]
  },
  {
   "cell_type": "markdown",
   "id": "4861adc7",
   "metadata": {},
   "source": [
    "#### Note:\n",
    "\n",
    "The numpy.random.choice() function generates a random sample from a given 1-D array or range of values.\n",
    "\n",
    "Parameters:\n",
    "The array or range of values to sample from;\n",
    "The shape of the output array. If None, a single value is returned;\n",
    "Whether the sample is with or without replacement. Default is True. (Optional);\n",
    "The probabilities associated with each entry in a. (Optional)"
   ]
  }
 ],
 "metadata": {
  "kernelspec": {
   "display_name": "Python 3 (ipykernel)",
   "language": "python",
   "name": "python3"
  },
  "language_info": {
   "codemirror_mode": {
    "name": "ipython",
    "version": 3
   },
   "file_extension": ".py",
   "mimetype": "text/x-python",
   "name": "python",
   "nbconvert_exporter": "python",
   "pygments_lexer": "ipython3",
   "version": "3.9.13"
  }
 },
 "nbformat": 4,
 "nbformat_minor": 5
}
