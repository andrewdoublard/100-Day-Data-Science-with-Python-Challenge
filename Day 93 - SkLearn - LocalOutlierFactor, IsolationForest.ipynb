{
 "cells": [
  {
   "cell_type": "markdown",
   "id": "9099473d",
   "metadata": {},
   "source": [
    "## Exercise 1:\n",
    "\n",
    "#### Load blobs.csv file into the df DataFrame. The file contains two variables x1 and x2. The distribution of these variables is shown below:\n",
    "\n",
    "#### Use the LocalOutlierFactor class from the scikit-learn to analyze outliers in the given dataset. Set the following arguments:\n",
    "\n",
    "- n_neighbors=20\n",
    "\n",
    "#### As a reminder, 1 is the normal element, -1 is the outlier. Assign a new column to the df DataFrame named 'lof' that stores information whether a given sample is a normal or an outlier. In response, print the first ten rows of the df DataFrame to the console.\n",
    "\n"
   ]
  },
  {
   "cell_type": "code",
   "execution_count": 2,
   "id": "d499f438",
   "metadata": {},
   "outputs": [
    {
     "name": "stdout",
     "output_type": "stream",
     "text": [
      "          x2         x1  lof\n",
      "0  -7.798349  -8.579798    1\n",
      "1  -8.600454  -7.649221    1\n",
      "2  -0.864108   6.572599    1\n",
      "3   4.204516   4.170723    1\n",
      "4 -10.955876  -8.896282    1\n",
      "5   6.355198   1.653293    1\n",
      "6  -2.162836   9.784921    1\n",
      "7   5.465742   0.845721    1\n",
      "8  -3.467546   8.642968    1\n",
      "9  -4.891805  10.327393    1\n"
     ]
    }
   ],
   "source": [
    "import numpy as np\n",
    "import pandas as pd\n",
    "from sklearn.neighbors import LocalOutlierFactor\n",
    "\n",
    "\n",
    "np.random.seed(42)\n",
    "\n",
    "df = pd.read_csv('blobs.csv')\n",
    "\n",
    "lof = LocalOutlierFactor(n_neighbors = 20)\n",
    "\n",
    "y_pred = lof.fit_predict(df)\n",
    "\n",
    "df['lof'] = y_pred\n",
    "\n",
    "print(df.head(10))"
   ]
  },
  {
   "cell_type": "markdown",
   "id": "9adb1376",
   "metadata": {},
   "source": [
    "## Exercise 2:\n",
    "\n",
    "#### Find the number of outliers in this dataset. In response, print the result to the console as shown below."
   ]
  },
  {
   "cell_type": "code",
   "execution_count": 4,
   "id": "16a7004f",
   "metadata": {},
   "outputs": [
    {
     "name": "stdout",
     "output_type": "stream",
     "text": [
      "            x2         x1  lof\n",
      "27    3.003437   6.157944   -1\n",
      "55    5.669974   9.678633   -1\n",
      "61    8.905946  -1.931006   -1\n",
      "63   -0.721866  -4.640960   -1\n",
      "71   -4.762778 -10.397589   -1\n",
      "117   1.213610   4.680914   -1\n",
      "160  -7.748688  10.658091   -1\n",
      "167  -2.388737  13.940770   -1\n",
      "177  -3.038511  14.454624   -1\n",
      "178   8.884191   4.038100   -1\n",
      "183   7.904701  -0.887113   -1\n",
      "185 -11.822916  -8.473900   -1\n",
      "188  -1.842656  -0.075606   -1\n",
      "219  -7.429731 -11.483952   -1\n",
      "220  -5.220816 -11.302380   -1\n",
      "221   0.392087   0.921660   -1\n",
      "233  -9.246144 -10.958574   -1\n",
      "253   9.269196  -1.761361   -1\n",
      "283   1.743710  -0.841758   -1\n"
     ]
    }
   ],
   "source": [
    "print(df.query('lof == -1'))"
   ]
  },
  {
   "cell_type": "markdown",
   "id": "9376e22a",
   "metadata": {},
   "source": [
    "## Exercise 3\n",
    "#### Load factory.csv file into the df DataFrame. This file contains two variables item_length and item_width. The distribution of these variables is shown below:\n",
    "\n",
    "\n",
    "\n",
    "#### Using the IsolationForest class from the scikit-learn, analyze the outliers in this dataset. Set following arguments:\n",
    "\n",
    "- n_estimators=100\n",
    "\n",
    "- contamination=0.05\n",
    "\n",
    "- random_state=42\n",
    "\n",
    "#### As a reminder, 1 is the normal element, -1 is the outlier. Assign a new column to the df object named 'outlier_flag' that stores information whether the sample is normal or outlier. In response, print the first ten rows of the df object to the console."
   ]
  },
  {
   "cell_type": "code",
   "execution_count": 6,
   "id": "11d953cf",
   "metadata": {},
   "outputs": [
    {
     "name": "stdout",
     "output_type": "stream",
     "text": [
      "   item_length  item_width  outlier_flag\n",
      "0     6.206380    5.618286             1\n",
      "1     5.756649    5.921924             1\n",
      "2     5.576329    5.792401             1\n",
      "3     5.304950    7.235000             1\n",
      "4     6.764064    5.965792             1\n",
      "5     5.668838    5.708257             1\n",
      "6     6.241278    6.533104             1\n",
      "7     5.951632    6.503750             1\n",
      "8     7.192132    6.249855             1\n",
      "9     5.999551    7.660598             1\n"
     ]
    },
    {
     "name": "stderr",
     "output_type": "stream",
     "text": [
      "C:\\Users\\andre\\anaconda3\\lib\\site-packages\\sklearn\\base.py:450: UserWarning: X does not have valid feature names, but IsolationForest was fitted with feature names\n",
      "  warnings.warn(\n"
     ]
    }
   ],
   "source": [
    "import numpy as np\n",
    "import pandas as pd\n",
    "from sklearn.ensemble import IsolationForest\n",
    "\n",
    "\n",
    "np.random.seed(42)\n",
    "\n",
    "df = pd.read_csv('factory.csv')\n",
    "\n",
    "isofor = IsolationForest(n_estimators=100, contamination=0.05, random_state=42)\n",
    "\n",
    "y_pred = isofor.fit_predict(df)\n",
    "\n",
    "df['outlier_flag'] = y_pred\n",
    "\n",
    "print(df.head(10))"
   ]
  },
  {
   "cell_type": "markdown",
   "id": "bf9e45c9",
   "metadata": {},
   "source": [
    "## Exercise 4:\n",
    "#### The factory.csv file was loaded into the df DataFrame. This file contains two variables item_length and item_width. The distribution of these variables is shown below:\n",
    "#### Find the number of outliers in this dataset and print the result to the console as shown below."
   ]
  },
  {
   "cell_type": "code",
   "execution_count": 13,
   "id": "d5089f06",
   "metadata": {},
   "outputs": [
    {
     "name": "stdout",
     "output_type": "stream",
     "text": [
      " 1    380\n",
      "-1     20\n",
      "Name: outlier_flag, dtype: int64\n"
     ]
    }
   ],
   "source": [
    "print(df['outlier_flag'].value_counts())"
   ]
  }
 ],
 "metadata": {
  "kernelspec": {
   "display_name": "Python 3 (ipykernel)",
   "language": "python",
   "name": "python3"
  },
  "language_info": {
   "codemirror_mode": {
    "name": "ipython",
    "version": 3
   },
   "file_extension": ".py",
   "mimetype": "text/x-python",
   "name": "python",
   "nbconvert_exporter": "python",
   "pygments_lexer": "ipython3",
   "version": "3.9.13"
  }
 },
 "nbformat": 4,
 "nbformat_minor": 5
}
