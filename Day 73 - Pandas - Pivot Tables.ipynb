{
 "cells": [
  {
   "cell_type": "markdown",
   "id": "88c7c1d7",
   "metadata": {},
   "source": [
    "## Exercise 1:\n",
    "#### Using the pivot tables prepare the following DataFrame:\n",
    "\n",
    "#### Average value of the tip and total_bill columns broken down into days.\n",
    "\n",
    "#### In response, print result to the console.\n",
    "Tip: Use the pd.pivot_table() function."
   ]
  },
  {
   "cell_type": "code",
   "execution_count": 6,
   "id": "2945a1ce",
   "metadata": {},
   "outputs": [
    {
     "name": "stdout",
     "output_type": "stream",
     "text": [
      "           tip  total_bill\n",
      "day                       \n",
      "Fri   2.734737   17.151579\n",
      "Sat   2.993103   20.441379\n",
      "Sun   3.255132   21.410000\n",
      "Thur  2.771452   17.682742\n"
     ]
    }
   ],
   "source": [
    "import pandas as pd\n",
    "import numpy as np\n",
    "\n",
    "\n",
    "tips = pd.read_csv(\n",
    "    'https://raw.githubusercontent.com/mwaskom/'\n",
    "    'seaborn-data/master/tips.csv'\n",
    ")\n",
    "\n",
    "## print(tips.info())\n",
    "\n",
    "result = pd.pivot_table(tips, values=['tip', 'total_bill'], index='day', columns=None, aggfunc='mean')\n",
    "\n",
    "print(result)"
   ]
  },
  {
   "cell_type": "markdown",
   "id": "9be23999",
   "metadata": {},
   "source": [
    "#### Notes:\n",
    "\n",
    "- The pd.pivot_table() allows you to create a pivot table, which is a table that summarizes data from a larger data set by grouping it by one or more keys and then applying an aggregation function to the grouped data.\n",
    "- Args:\n",
    "    - data: The DataFrame to use for creating the pivot table.\n",
    "    - values: The column(s) to aggregate. If not specified, all numerical columns will be aggregated.\n",
    "    - index: The column(s) to group by on the rows.\n",
    "    - columns: The column(s) to group by on the columns.\n",
    "    - aggfunc: The aggregation function to apply, such as 'mean', 'sum', 'count', etc. Default is 'mean'."
   ]
  },
  {
   "cell_type": "markdown",
   "id": "04248a3d",
   "metadata": {},
   "source": [
    "## Exercise 2:\n",
    "#### Average value of the tip and total_bill columns broken down into days and gender.\n",
    "\n",
    "#### In response, print result to the console."
   ]
  },
  {
   "cell_type": "code",
   "execution_count": 7,
   "id": "b9ed5bc0",
   "metadata": {},
   "outputs": [
    {
     "name": "stdout",
     "output_type": "stream",
     "text": [
      "                  tip  total_bill\n",
      "day  sex                         \n",
      "Fri  Female  2.781111   14.145556\n",
      "     Male    2.693000   19.857000\n",
      "Sat  Female  2.801786   19.680357\n",
      "     Male    3.083898   20.802542\n",
      "Sun  Female  3.367222   19.872222\n",
      "     Male    3.220345   21.887241\n",
      "Thur Female  2.575625   16.715312\n",
      "     Male    2.980333   18.714667\n"
     ]
    }
   ],
   "source": [
    "result2 = pd.pivot_table(tips, values=['tip', 'total_bill'], index=['day', 'sex'], columns=None, aggfunc='mean')\n",
    "\n",
    "print(result2)"
   ]
  },
  {
   "cell_type": "markdown",
   "id": "c4684c50",
   "metadata": {},
   "source": [
    "## Exercise 3:\n",
    "\n",
    "#### Maximum value of the tip and total_bill columns broken down into days.\n",
    "\n",
    "#### In response, print result to the console."
   ]
  },
  {
   "cell_type": "code",
   "execution_count": 8,
   "id": "9b526359",
   "metadata": {},
   "outputs": [
    {
     "name": "stdout",
     "output_type": "stream",
     "text": [
      "        tip  total_bill\n",
      "day                    \n",
      "Fri    4.73       40.17\n",
      "Sat   10.00       50.81\n",
      "Sun    6.50       48.17\n",
      "Thur   6.70       43.11\n"
     ]
    }
   ],
   "source": [
    "result3 = pd.pivot_table(tips, values=['tip', 'total_bill'], index='day', columns=None, aggfunc='max')\n",
    "\n",
    "print(result3)"
   ]
  },
  {
   "cell_type": "markdown",
   "id": "2a5fef45",
   "metadata": {},
   "source": [
    "## Exercise 4:\n",
    "\n",
    "#### Average value of the tip and total_bill columns broken down into days, gender and smoker / non-smoker.\n",
    "\n",
    "#### In response, print result to the console.\n",
    "\n"
   ]
  },
  {
   "cell_type": "code",
   "execution_count": 10,
   "id": "a4ec9f48",
   "metadata": {},
   "outputs": [
    {
     "name": "stdout",
     "output_type": "stream",
     "text": [
      "                         tip  total_bill\n",
      "day  sex    smoker                      \n",
      "Fri  Female No      3.125000   19.365000\n",
      "            Yes     2.682857   12.654286\n",
      "     Male   No      2.500000   17.475000\n",
      "            Yes     2.741250   20.452500\n",
      "Sat  Female No      2.724615   19.003846\n",
      "            Yes     2.868667   20.266667\n",
      "     Male   No      3.256563   19.929063\n",
      "            Yes     2.879259   21.837778\n",
      "Sun  Female No      3.329286   20.824286\n",
      "            Yes     3.500000   16.540000\n",
      "     Male   No      3.115349   20.403256\n",
      "            Yes     3.521333   26.141333\n",
      "Thur Female No      2.459600   16.014400\n",
      "            Yes     2.990000   19.218571\n",
      "     Male   No      2.941500   18.486500\n",
      "            Yes     3.058000   19.171000\n"
     ]
    }
   ],
   "source": [
    "result4 = pd.pivot_table(tips, values=['tip', 'total_bill'], index=['day', 'sex', 'smoker'], columns=None, aggfunc='mean')\n",
    "\n",
    "print(result4)"
   ]
  }
 ],
 "metadata": {
  "kernelspec": {
   "display_name": "Python 3 (ipykernel)",
   "language": "python",
   "name": "python3"
  },
  "language_info": {
   "codemirror_mode": {
    "name": "ipython",
    "version": 3
   },
   "file_extension": ".py",
   "mimetype": "text/x-python",
   "name": "python",
   "nbconvert_exporter": "python",
   "pygments_lexer": "ipython3",
   "version": "3.9.13"
  }
 },
 "nbformat": 4,
 "nbformat_minor": 5
}
