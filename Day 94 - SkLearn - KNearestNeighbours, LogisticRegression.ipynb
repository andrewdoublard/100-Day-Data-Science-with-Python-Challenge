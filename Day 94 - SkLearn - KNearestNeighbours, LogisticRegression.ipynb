{
 "cells": [
  {
   "cell_type": "markdown",
   "id": "328dfd28",
   "metadata": {},
   "source": [
    "## Exercise 1\n",
    "#### Using the load_digits() function from the scikit-learn package, load image data with the 8x8 resolution into the following variables:\n",
    "\n",
    "- data - images as a numpy array with (1797, 64) shape\n",
    "\n",
    "- target - labels as a numpy array with (1797,) shape\n",
    "\n",
    "#### Explore this dataset. Try to display some images. You can use the matplotlib package to display the image as follows (in an external IDE):\n",
    "\n",
    "#### Change the value of the variable idx and check more images. As an answer, print the label for the image with idx = 250."
   ]
  },
  {
   "cell_type": "code",
   "execution_count": 1,
   "id": "53d1591f",
   "metadata": {},
   "outputs": [
    {
     "name": "stdout",
     "output_type": "stream",
     "text": [
      "4\n"
     ]
    }
   ],
   "source": [
    "import numpy as np\n",
    "import pandas as pd\n",
    "import matplotlib.pyplot as plt\n",
    "\n",
    "from sklearn.datasets import load_digits\n",
    "from sklearn.neighbors import KNeighborsClassifier\n",
    "from sklearn.model_selection import train_test_split\n",
    "\n",
    "\n",
    "np.random.seed(42)\n",
    "data, target = load_digits(return_X_y=True)\n",
    "\n",
    "# idx = 250\n",
    "# plt.imshow(data[idx].reshape(8, 8), cmap='gray_r')\n",
    "# plt.title(f'Label: {target[idx]}')\n",
    "# plt.show()\n",
    "\n",
    "print(target[250])"
   ]
  },
  {
   "cell_type": "markdown",
   "id": "1cfde91c",
   "metadata": {},
   "source": [
    "## Exercise 2:\n",
    "\n",
    "#### Standardize the data variable. Then using the train_test_split() function (set the parameter random_state=42) split the data into train and test set:\n",
    "\n",
    "- X_train, y_train\n",
    "\n",
    "- X_test, y_test\n",
    "\n",
    "#### In response, print the shapes of these arrays as shown below.\n",
    "\n"
   ]
  },
  {
   "cell_type": "code",
   "execution_count": 3,
   "id": "2b3d686c",
   "metadata": {},
   "outputs": [
    {
     "name": "stdout",
     "output_type": "stream",
     "text": [
      "X_train shape: (1347, 64), y_train shape: (1347,)\n",
      "X_test shape: (450, 64), y_test shape: (450,)\n"
     ]
    }
   ],
   "source": [
    "from sklearn.preprocessing import StandardScaler\n",
    "\n",
    "scaler = StandardScaler()\n",
    "\n",
    "X_train, X_test, y_train, y_test = train_test_split(data, target, random_state = 42)\n",
    "\n",
    "## Scale only on feature set, and fit only on training set\n",
    "X_train = scaler.fit_transform(X_train)\n",
    "X_test = scaler.transform(X_test)\n",
    "\n",
    "print(f'X_train shape: {X_train.shape}, y_train shape: {y_train.shape}')\n",
    "print(f'X_test shape: {X_test.shape}, y_test shape: {y_test.shape}')"
   ]
  },
  {
   "cell_type": "markdown",
   "id": "868f467c",
   "metadata": {},
   "source": [
    "## Exercise 3:\n",
    "\n",
    "#### Create a multi-class classification model using the KNeighborsClassifier class from the scikit-learn package. Fit the model on the train data and then evaluate on the test data. In response, print the accuracy of the model to the console as shown below."
   ]
  },
  {
   "cell_type": "code",
   "execution_count": 6,
   "id": "7cab5341",
   "metadata": {},
   "outputs": [
    {
     "name": "stdout",
     "output_type": "stream",
     "text": [
      "KN Accuracy = 0.9933\n"
     ]
    },
    {
     "name": "stderr",
     "output_type": "stream",
     "text": [
      "C:\\Users\\andre\\anaconda3\\lib\\site-packages\\sklearn\\neighbors\\_classification.py:228: FutureWarning: Unlike other reduction functions (e.g. `skew`, `kurtosis`), the default behavior of `mode` typically preserves the axis it acts along. In SciPy 1.11.0, this behavior will change: the default value of `keepdims` will become False, the `axis` over which the statistic is taken will be eliminated, and the value None will no longer be accepted. Set `keepdims` to True or False to avoid this warning.\n",
      "  mode, _ = stats.mode(_y[neigh_ind, k], axis=1)\n"
     ]
    }
   ],
   "source": [
    "np.random.seed(42)\n",
    "data, target = load_digits(return_X_y=True)\n",
    "data = data / data.max()\n",
    "\n",
    "X_train, X_test, y_train, y_test = train_test_split(\n",
    "    data, target, random_state=42\n",
    ")\n",
    "\n",
    "kn = KNeighborsClassifier()\n",
    "\n",
    "kn.fit(X_train, y_train)\n",
    "\n",
    "score = kn.score(X_test, y_test)\n",
    "\n",
    "print(f'KN Accuracy = {score:.4f}')\n"
   ]
  },
  {
   "cell_type": "markdown",
   "id": "af581f40",
   "metadata": {},
   "source": [
    "## Exercise 4:\n",
    "#### Create a classification model using the LogisticRegression class from the scikit-learn package. Fit the model on the train data and then evaluate on the test data. In response, print the accuracy of the model to the console as shown below."
   ]
  },
  {
   "cell_type": "code",
   "execution_count": 9,
   "id": "ab5cdea1",
   "metadata": {},
   "outputs": [
    {
     "name": "stdout",
     "output_type": "stream",
     "text": [
      "LR Accuracy = 0.9689\n"
     ]
    }
   ],
   "source": [
    "from sklearn.linear_model import LogisticRegression\n",
    "\n",
    "lr = LogisticRegression(max_iter = 1000)\n",
    "\n",
    "lr.fit(X_train, y_train)\n",
    "\n",
    "score = lr.score(X_test, y_test)\n",
    "\n",
    "print(f'LR Accuracy = {score:.4f}')"
   ]
  }
 ],
 "metadata": {
  "kernelspec": {
   "display_name": "Python 3 (ipykernel)",
   "language": "python",
   "name": "python3"
  },
  "language_info": {
   "codemirror_mode": {
    "name": "ipython",
    "version": 3
   },
   "file_extension": ".py",
   "mimetype": "text/x-python",
   "name": "python",
   "nbconvert_exporter": "python",
   "pygments_lexer": "ipython3",
   "version": "3.9.13"
  }
 },
 "nbformat": 4,
 "nbformat_minor": 5
}
