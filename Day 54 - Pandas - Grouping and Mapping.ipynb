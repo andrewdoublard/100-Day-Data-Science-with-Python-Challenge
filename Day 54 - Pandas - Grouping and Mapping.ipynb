{
 "cells": [
  {
   "cell_type": "markdown",
   "id": "819ccc69",
   "metadata": {},
   "source": [
    "## Exercise 1\n",
    "#### The df DataFrame is given below. Group this DataFrame by year and count the number of rows for each year.\n",
    "\n",
    "#### In response, print result to the console."
   ]
  },
  {
   "cell_type": "code",
   "execution_count": 4,
   "id": "8166ed3f",
   "metadata": {},
   "outputs": [
    {
     "name": "stdout",
     "output_type": "stream",
     "text": [
      "year\n",
      "1998      4\n",
      "1999      2\n",
      "2000      4\n",
      "2001      8\n",
      "2002     15\n",
      "2003     17\n",
      "2004     31\n",
      "2005     57\n",
      "2006     78\n",
      "2007    125\n",
      "2008    174\n",
      "2009    198\n",
      "2010    342\n",
      "2011    466\n",
      "2012    580\n",
      "2013    649\n",
      "2014    797\n",
      "2015    744\n",
      "2016    741\n",
      "2017    587\n",
      "2018    298\n",
      "2019    102\n",
      "Name: year, dtype: int64\n"
     ]
    }
   ],
   "source": [
    "import pandas as pd\n",
    "\n",
    "\n",
    "url = (\n",
    "    'https://storage.googleapis.com/esmartdata-courses-files/'\n",
    "    'dash-course/data.csv'\n",
    ")\n",
    "df = pd.read_csv(url, index_col=0)\n",
    "df.columns = [col.lower() for col in df.columns]\n",
    "\n",
    "print(df['year'].groupby(df['year']).count())"
   ]
  },
  {
   "cell_type": "markdown",
   "id": "ed2fcd5c",
   "metadata": {},
   "source": [
    "#### Notes:\n",
    "\n",
    "- Could have used 'df.groupby('year').size()' - the .size method is used to get the size or number of elements of a DataFrame or Series."
   ]
  },
  {
   "cell_type": "markdown",
   "id": "292fc344",
   "metadata": {},
   "source": [
    "## Exercise 2\n",
    "#### The df DataFrame is given below. Check the distribution of the transmission column and perform the following mapping:\n",
    "\n",
    "'Manual' -> 0\n",
    "\n",
    "'Automatic' -> 1\n",
    "\n",
    "#### Print the first five rows of transmission column."
   ]
  },
  {
   "cell_type": "code",
   "execution_count": 10,
   "id": "94bf5380",
   "metadata": {},
   "outputs": [
    {
     "name": "stdout",
     "output_type": "stream",
     "text": [
      "0    0\n",
      "1    0\n",
      "2    0\n",
      "3    0\n",
      "4    1\n",
      "Name: transmission, dtype: int64\n"
     ]
    }
   ],
   "source": [
    "url = (\n",
    "    'https://storage.googleapis.com/esmartdata-courses-files/'\n",
    "    'dash-course/data.csv'\n",
    ")\n",
    "df = pd.read_csv(url, index_col=0)\n",
    "df.columns = [col.lower() for col in df.columns]\n",
    "\n",
    "## print(df['transmission'].value_counts()) ## Checking distribution first.\n",
    "\n",
    "## Via the Lambda function (Just testing)\n",
    "## df['transmission'] = df['transmission'].apply(lambda x: 1 if x == 'Automatic' else 0 if x == 'Manual' else None)\n",
    "\n",
    "## Via the Mapping function (Just testing)\n",
    "df['transmission'] = df['transmission'].map({'Automatic' : 1, 'Manual' : 0})\n",
    "\n",
    "print(df['transmission'].head())"
   ]
  },
  {
   "cell_type": "markdown",
   "id": "65fa740a",
   "metadata": {},
   "source": [
    "#### Notes:\n",
    "\n",
    "- Lambda Function: apply() with a lambda function is more flexible as it allows for complex logic and multiple conditions, making it ideal when the transformation logic goes beyond simple value mapping.\n",
    "- map() Function: map() is more efficient and concise for straightforward, one-to-one mappings between existing values, making it ideal for simple dictionary-based conversions."
   ]
  },
  {
   "cell_type": "markdown",
   "id": "17e88115",
   "metadata": {},
   "source": [
    "## Exercise 3\n",
    "#### The df DataFrame is given below. Save this object to the cars.csv file (do not save the index)."
   ]
  },
  {
   "cell_type": "code",
   "execution_count": 12,
   "id": "2040394a",
   "metadata": {},
   "outputs": [],
   "source": [
    "url = (\n",
    "    'https://storage.googleapis.com/esmartdata-courses-files/'\n",
    "    'dash-course/data.csv'\n",
    ")\n",
    "df = pd.read_csv(url, index_col=0)\n",
    "df.columns = [col.lower() for col in df.columns]\n",
    "\n",
    "df.to_csv('cars.csv', index = None)"
   ]
  }
 ],
 "metadata": {
  "kernelspec": {
   "display_name": "Python 3 (ipykernel)",
   "language": "python",
   "name": "python3"
  },
  "language_info": {
   "codemirror_mode": {
    "name": "ipython",
    "version": 3
   },
   "file_extension": ".py",
   "mimetype": "text/x-python",
   "name": "python",
   "nbconvert_exporter": "python",
   "pygments_lexer": "ipython3",
   "version": "3.9.13"
  }
 },
 "nbformat": 4,
 "nbformat_minor": 5
}
