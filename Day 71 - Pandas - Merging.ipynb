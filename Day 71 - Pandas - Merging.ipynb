{
 "cells": [
  {
   "cell_type": "markdown",
   "id": "7206cb86",
   "metadata": {},
   "source": [
    "## Exercise 1\n",
    "#### The following DataFrames are given: Using the pd.merge() function make an INNNER join of employees and departments DataFrames based on the dept_id column.\n",
    "\n",
    "#### In response, print the result to the console."
   ]
  },
  {
   "cell_type": "code",
   "execution_count": 2,
   "id": "560fe370",
   "metadata": {},
   "outputs": [
    {
     "name": "stdout",
     "output_type": "stream",
     "text": [
      "  emp_id first_name last_name dept_id dept_name\n",
      "0   1001       John     Smith     002     Sales\n",
      "1   1002       Mark      Cook     001        IT\n",
      "2   1003        Bob       Cat     001        IT\n"
     ]
    }
   ],
   "source": [
    "import pandas as pd\n",
    "\n",
    "\n",
    "employees = pd.DataFrame({\n",
    "    'emp_id': ['1001', '1002', '1003', '1004'],\n",
    "    'first_name': ['John', 'Mark', 'Bob', 'Alice'],\n",
    "    'last_name': ['Smith', 'Cook', 'Cat', 'Lee'],\n",
    "    'dept_id': ['002', '001', '001', '005']\n",
    "})\n",
    "\n",
    "departments = pd.DataFrame({\n",
    "    'dept_id': ['001', '002', '003', '004'],\n",
    "    'dept_name': ['IT', 'Sales', 'Marketing', 'Support']\n",
    "})\n",
    "\n",
    "E1 = pd.merge(employees, departments, on = 'dept_id', how = 'inner')\n",
    "\n",
    "print(E1)"
   ]
  },
  {
   "cell_type": "markdown",
   "id": "6965902e",
   "metadata": {},
   "source": [
    "## Exercise 2:\n",
    "#### Using the pd.merge() function make a LEFT join of employees and departments DataFrames based on the dept_id column. Note that the departments DataFrame doesn't have a department with dept_id == '005'.\n",
    "\n",
    "#### In response, print result to the console."
   ]
  },
  {
   "cell_type": "code",
   "execution_count": 3,
   "id": "23abed63",
   "metadata": {},
   "outputs": [
    {
     "name": "stdout",
     "output_type": "stream",
     "text": [
      "  emp_id first_name last_name dept_id dept_name\n",
      "0   1001       John     Smith     002     Sales\n",
      "1   1002       Mark      Cook     001        IT\n",
      "2   1003        Bob       Cat     001        IT\n",
      "3   1004      Alice       Lee     005       NaN\n"
     ]
    }
   ],
   "source": [
    "E2 = pd.merge(employees, departments, on = 'dept_id', how = 'left')\n",
    "\n",
    "print(E2)"
   ]
  },
  {
   "cell_type": "markdown",
   "id": "2a501989",
   "metadata": {},
   "source": [
    "## Exercise 3:\n",
    "\n",
    "#### Using the pd.merge() function make a RIGHT join of employees and departments DataFrames based on the dept_id column. Note that the employees object doesn't have employees for departments with dept_id of '003' and '004'.\n",
    "\n",
    "#### In response, print result to the console."
   ]
  },
  {
   "cell_type": "code",
   "execution_count": 4,
   "id": "45fae49c",
   "metadata": {},
   "outputs": [
    {
     "name": "stdout",
     "output_type": "stream",
     "text": [
      "  emp_id first_name last_name dept_id  dept_name\n",
      "0   1002       Mark      Cook     001         IT\n",
      "1   1003        Bob       Cat     001         IT\n",
      "2   1001       John     Smith     002      Sales\n",
      "3    NaN        NaN       NaN     003  Marketing\n",
      "4    NaN        NaN       NaN     004    Support\n"
     ]
    }
   ],
   "source": [
    "E3 = pd.merge(employees, departments, on = 'dept_id', how = 'right')\n",
    "\n",
    "print(E3)"
   ]
  }
 ],
 "metadata": {
  "kernelspec": {
   "display_name": "Python 3 (ipykernel)",
   "language": "python",
   "name": "python3"
  },
  "language_info": {
   "codemirror_mode": {
    "name": "ipython",
    "version": 3
   },
   "file_extension": ".py",
   "mimetype": "text/x-python",
   "name": "python",
   "nbconvert_exporter": "python",
   "pygments_lexer": "ipython3",
   "version": "3.9.13"
  }
 },
 "nbformat": 4,
 "nbformat_minor": 5
}
