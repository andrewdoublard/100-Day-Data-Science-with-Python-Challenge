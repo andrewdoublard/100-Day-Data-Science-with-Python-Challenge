{
 "cells": [
  {
   "cell_type": "markdown",
   "id": "f4dd9671",
   "metadata": {},
   "source": [
    "## Exercise 1\n",
    "#### The following df DataFrame is given. Remove all rows from this object containing missing values and assign to variable df1.\n",
    "#### In response, print this variable to the console."
   ]
  },
  {
   "cell_type": "code",
   "execution_count": 4,
   "id": "39e2ff80",
   "metadata": {},
   "outputs": [
    {
     "name": "stdout",
     "output_type": "stream",
     "text": [
      "          A         B         C         D\n",
      "0  0.374540  0.950714  0.731994  0.598658\n",
      "1  0.156019  0.155995  0.058084  0.866176\n",
      "2  0.601115  0.708073  0.020584  0.969910\n",
      "4  0.304242  0.524756  0.431945  0.291229\n",
      "5  0.611853  0.139494  0.292145  0.366362\n",
      "6  0.456070  0.785176  0.199674  0.514234\n",
      "7  0.592415  0.046450  0.607545  0.170524\n",
      "9  0.304614  0.097672  0.684233  0.440152\n"
     ]
    }
   ],
   "source": [
    "import numpy as np\n",
    "import pandas as pd\n",
    "\n",
    "\n",
    "np.random.seed(42)\n",
    "df = pd.DataFrame(np.random.rand(10, 4), columns=list('ABCD'))\n",
    "df.iloc[3, 1] = np.nan\n",
    "df.loc[8, 'D'] = np.nan\n",
    "\n",
    "df1 = df.dropna()\n",
    "print(df1)"
   ]
  },
  {
   "cell_type": "markdown",
   "id": "bc797f64",
   "metadata": {},
   "source": [
    "#### Notes:\n",
    "\n",
    "- .dropna(): Removes rows or columns containing NaN values from a DataFrame, allowing for flexible handling of missing data by specifying axis and conditions (e.g., df.dropna(axis=0) drops rows with NaN values)."
   ]
  },
  {
   "cell_type": "markdown",
   "id": "c732ac66",
   "metadata": {},
   "source": [
    "## Exercise 2\n",
    "#### The following df DataFrame is given. Note that the index after removing two rows in the df1 is not correct. Reset this index and print df DataFrame to the console."
   ]
  },
  {
   "cell_type": "code",
   "execution_count": 6,
   "id": "d44ebdd0",
   "metadata": {},
   "outputs": [
    {
     "name": "stdout",
     "output_type": "stream",
     "text": [
      "          A         B         C         D\n",
      "0  0.374540  0.950714  0.731994  0.598658\n",
      "1  0.156019  0.155995  0.058084  0.866176\n",
      "2  0.601115  0.708073  0.020584  0.969910\n",
      "3  0.304242  0.524756  0.431945  0.291229\n",
      "4  0.611853  0.139494  0.292145  0.366362\n",
      "5  0.456070  0.785176  0.199674  0.514234\n",
      "6  0.592415  0.046450  0.607545  0.170524\n",
      "7  0.304614  0.097672  0.684233  0.440152\n"
     ]
    }
   ],
   "source": [
    "df1.reset_index(drop = True, inplace = True)\n",
    "\n",
    "print(df1)"
   ]
  },
  {
   "cell_type": "markdown",
   "id": "d520846a",
   "metadata": {},
   "source": [
    "#### Notes:\n",
    "\n",
    "- The drop argument in the .reset_index() method is used to specify whether the existing index should be removed or retained as a column in the DataFrame when resetting the index."
   ]
  },
  {
   "cell_type": "markdown",
   "id": "11b9c54a",
   "metadata": {},
   "source": [
    "## Exercise 3\n",
    "#### The following df DataFrame is given. Calculate the number of missing values in this object for each column.\n",
    "\n",
    "#### In response, print result to the console."
   ]
  },
  {
   "cell_type": "code",
   "execution_count": 7,
   "id": "18b788d4",
   "metadata": {},
   "outputs": [
    {
     "name": "stdout",
     "output_type": "stream",
     "text": [
      "A    0\n",
      "B    1\n",
      "C    0\n",
      "D    1\n",
      "dtype: int64\n"
     ]
    }
   ],
   "source": [
    "print(df.isnull().sum())"
   ]
  },
  {
   "cell_type": "markdown",
   "id": "8718f204",
   "metadata": {},
   "source": [
    "#### Notes:\n",
    "\n",
    "- The .isnull() method is used to detect missing values in a DataFrame or Series. It returns a DataFrame or Series of the same shape with boolean values, where True indicates the presence of a missing value (NaN), and False indicates the absence of a missing value."
   ]
  }
 ],
 "metadata": {
  "kernelspec": {
   "display_name": "Python 3 (ipykernel)",
   "language": "python",
   "name": "python3"
  },
  "language_info": {
   "codemirror_mode": {
    "name": "ipython",
    "version": 3
   },
   "file_extension": ".py",
   "mimetype": "text/x-python",
   "name": "python",
   "nbconvert_exporter": "python",
   "pygments_lexer": "ipython3",
   "version": "3.9.13"
  }
 },
 "nbformat": 4,
 "nbformat_minor": 5
}
