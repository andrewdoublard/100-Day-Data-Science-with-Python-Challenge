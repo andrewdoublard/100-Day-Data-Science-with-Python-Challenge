{
 "cells": [
  {
   "cell_type": "markdown",
   "id": "6be3d1d1",
   "metadata": {},
   "source": [
    "## Exercise 1\n",
    "#### The df DataFrame is given below. Group this DataFrame by 'Churn' and 'PaymentMethod' column and calculate the average value of the 'MonthlyCharges' column.\n",
    "\n",
    "#### In response, print result to the console."
   ]
  },
  {
   "cell_type": "code",
   "execution_count": 1,
   "id": "63eb3351",
   "metadata": {},
   "outputs": [
    {
     "name": "stdout",
     "output_type": "stream",
     "text": [
      "Churn  PaymentMethod            \n",
      "No     Bank transfer (automatic)    65.049417\n",
      "       Credit card (automatic)      64.562209\n",
      "       Electronic check             74.232032\n",
      "       Mailed check                 41.403911\n",
      "Yes    Bank transfer (automatic)    77.875581\n",
      "       Credit card (automatic)      77.356034\n",
      "       Electronic check             78.700980\n",
      "       Mailed check                 54.557143\n",
      "Name: MonthlyCharges, dtype: float64\n"
     ]
    }
   ],
   "source": [
    "import pandas as pd\n",
    "\n",
    "\n",
    "url = (\n",
    "    'https://ml-repository-krakers.s3-eu-west-1.amazonaws.com/kaggle+/'\n",
    "    'churn_modelling/Telco-Customer-Churn.csv'\n",
    ")\n",
    "df = pd.read_csv(url, index_col=0)\n",
    "\n",
    "E1 = df.groupby(['Churn', 'PaymentMethod'])['MonthlyCharges'].mean()\n",
    "\n",
    "print(E1)"
   ]
  },
  {
   "cell_type": "markdown",
   "id": "40a7bfb6",
   "metadata": {},
   "source": [
    "## Exercise 2\n",
    "#### The df DataFrame is given below. Map the Churn column as follows:\n",
    "\n",
    "'Yes' -> 1\n",
    "\n",
    "'No' -> 0"
   ]
  },
  {
   "cell_type": "code",
   "execution_count": 2,
   "id": "34f08902",
   "metadata": {},
   "outputs": [
    {
     "name": "stdout",
     "output_type": "stream",
     "text": [
      "            gender  SeniorCitizen Partner Dependents  tenure PhoneService  \\\n",
      "customerID                                                                  \n",
      "7590-VHVEG  Female              0     Yes         No       1           No   \n",
      "5575-GNVDE    Male              0      No         No      34          Yes   \n",
      "3668-QPYBK    Male              0      No         No       2          Yes   \n",
      "7795-CFOCW    Male              0      No         No      45           No   \n",
      "9237-HQITU  Female              0      No         No       2          Yes   \n",
      "\n",
      "               MultipleLines InternetService OnlineSecurity OnlineBackup  ...  \\\n",
      "customerID                                                                ...   \n",
      "7590-VHVEG  No phone service             DSL             No          Yes  ...   \n",
      "5575-GNVDE                No             DSL            Yes           No  ...   \n",
      "3668-QPYBK                No             DSL            Yes          Yes  ...   \n",
      "7795-CFOCW  No phone service             DSL            Yes           No  ...   \n",
      "9237-HQITU                No     Fiber optic             No           No  ...   \n",
      "\n",
      "           TechSupport StreamingTV StreamingMovies        Contract  \\\n",
      "customerID                                                           \n",
      "7590-VHVEG          No          No              No  Month-to-month   \n",
      "5575-GNVDE          No          No              No        One year   \n",
      "3668-QPYBK          No          No              No  Month-to-month   \n",
      "7795-CFOCW         Yes          No              No        One year   \n",
      "9237-HQITU          No          No              No  Month-to-month   \n",
      "\n",
      "           PaperlessBilling              PaymentMethod MonthlyCharges  \\\n",
      "customerID                                                              \n",
      "7590-VHVEG              Yes           Electronic check          29.85   \n",
      "5575-GNVDE               No               Mailed check          56.95   \n",
      "3668-QPYBK              Yes               Mailed check          53.85   \n",
      "7795-CFOCW               No  Bank transfer (automatic)          42.30   \n",
      "9237-HQITU              Yes           Electronic check          70.70   \n",
      "\n",
      "            TotalCharges Churn ChurnFlag  \n",
      "customerID                                \n",
      "7590-VHVEG         29.85    No         0  \n",
      "5575-GNVDE        1889.5    No         0  \n",
      "3668-QPYBK        108.15   Yes         1  \n",
      "7795-CFOCW       1840.75    No         0  \n",
      "9237-HQITU        151.65   Yes         1  \n",
      "\n",
      "[5 rows x 21 columns]\n"
     ]
    }
   ],
   "source": [
    "df['ChurnFlag'] = df['Churn'].map({'Yes': 1, 'No': 0})\n",
    "\n",
    "print(df.head(5))"
   ]
  },
  {
   "cell_type": "markdown",
   "id": "0d3f0ee5",
   "metadata": {},
   "source": [
    "#### Notes:\n",
    "\n",
    "- The .map method in pandas is used to transform the values of a Series based on a specified mapping. This is particularly useful for replacing values.\n",
    "- You can provide a dictionary where the keys represent the original values and the values represent the new values. For example, {'Yes': 1, 'No': 0}.\n",
    "- na_action is an argument you can add where: \n",
    "    - None (default): If na_action is None, all values, including NaNs, are mapped.\n",
    "    - 'ignore': If na_action is 'ignore', NaNs are propagated without being mapped."
   ]
  },
  {
   "cell_type": "markdown",
   "id": "f0f8636b",
   "metadata": {},
   "source": [
    "## Exercise 3\n",
    "#### The df DataFrame is given below. Calculate the correlation matrix for this DataFrame.\n",
    "\n",
    "#### In response, print result to the console."
   ]
  },
  {
   "cell_type": "code",
   "execution_count": 3,
   "id": "68845899",
   "metadata": {},
   "outputs": [
    {
     "name": "stdout",
     "output_type": "stream",
     "text": [
      "                SeniorCitizen    tenure  MonthlyCharges  ChurnFlag\n",
      "SeniorCitizen        1.000000  0.016567        0.220173   0.150889\n",
      "tenure               0.016567  1.000000        0.247900  -0.352229\n",
      "MonthlyCharges       0.220173  0.247900        1.000000   0.193356\n",
      "ChurnFlag            0.150889 -0.352229        0.193356   1.000000\n"
     ]
    }
   ],
   "source": [
    "E3 = df.corr()\n",
    "\n",
    "print(E3)"
   ]
  },
  {
   "cell_type": "markdown",
   "id": "97cb8541",
   "metadata": {},
   "source": [
    "#### Notes:\n",
    "\n",
    "- The .corr method is used to compute the pairwise correlation of columns in a DataFrame. This method helps identify the strength and direction of linear relationships between numerical columns.\n",
    "- You can choose the correlation type:\n",
    "    - 'pearson' (default): Computes the Pearson correlation coefficient, which measures linear correlation.\n",
    "    - 'kendall': Computes the Kendall Tau correlation coefficient, which measures ordinal association.\n",
    "    - 'spearman': Computes the Spearman rank correlation coefficient, which measures monotonic relationships."
   ]
  }
 ],
 "metadata": {
  "kernelspec": {
   "display_name": "Python 3 (ipykernel)",
   "language": "python",
   "name": "python3"
  },
  "language_info": {
   "codemirror_mode": {
    "name": "ipython",
    "version": 3
   },
   "file_extension": ".py",
   "mimetype": "text/x-python",
   "name": "python",
   "nbconvert_exporter": "python",
   "pygments_lexer": "ipython3",
   "version": "3.9.13"
  }
 },
 "nbformat": 4,
 "nbformat_minor": 5
}
