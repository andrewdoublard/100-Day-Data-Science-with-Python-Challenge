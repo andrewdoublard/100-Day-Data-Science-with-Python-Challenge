{
 "cells": [
  {
   "cell_type": "markdown",
   "id": "38cf4c2c",
   "metadata": {},
   "source": [
    "## Exercise 1\n",
    "\n",
    "#### Using the scikit-learn package and the SimpleImputer class, fill in the missing data for the price column with a constant value = 99.0.\n",
    "\n",
    "#### Assign changes to the df DataFrame. In response, print the df DataFrame to the console as shown below."
   ]
  },
  {
   "cell_type": "code",
   "execution_count": 1,
   "id": "eb6b7f7b",
   "metadata": {},
   "outputs": [
    {
     "name": "stdout",
     "output_type": "stream",
     "text": [
      "  size  color  gender  price  weight bought\n",
      "0   XL    red  female  199.0   500.0    yes\n",
      "1    L  green    male   89.0   450.0     no\n",
      "2    M   blue     NaN   99.0   300.0    yes\n",
      "3  NaN  green  female  129.0     NaN     no\n",
      "4    M    red  female   79.0   410.0    yes\n",
      "5    M  green    male   89.0     NaN     no\n"
     ]
    }
   ],
   "source": [
    "import numpy as np\n",
    "import pandas as pd\n",
    "from sklearn.impute import SimpleImputer\n",
    "\n",
    "\n",
    "data = {\n",
    "    'size': ['XL', 'L', 'M', np.nan, 'M', 'M'],\n",
    "    'color': ['red', 'green', 'blue', 'green', 'red', 'green'],\n",
    "    'gender': ['female', 'male', np.nan, 'female', 'female', 'male'],\n",
    "    'price': [199.0, 89.0, np.nan, 129.0, 79.0, 89.0],\n",
    "    'weight': [500, 450, 300, np.nan, 410, np.nan],\n",
    "    'bought': ['yes', 'no', 'yes', 'no', 'yes', 'no']\n",
    "}\n",
    "\n",
    "df = pd.DataFrame(data=data)\n",
    "\n",
    "imputer = SimpleImputer(strategy = 'constant', fill_value = 99.0)\n",
    "\n",
    "df['price'] = imputer.fit_transform(df[['price']])\n",
    "\n",
    "print(df)"
   ]
  },
  {
   "cell_type": "markdown",
   "id": "3204f964",
   "metadata": {},
   "source": [
    "## Exercise 2:\n",
    "\n",
    "#### Using the scikit-learn package and the SimpleImputer class, fill in the missing values for the size column with the most frequent value of this column.\n",
    "\n",
    "#### Assign changes to the df DataFrame. In response, print the df DataFrame to the console as shown below."
   ]
  },
  {
   "cell_type": "code",
   "execution_count": 2,
   "id": "8b554ea0",
   "metadata": {},
   "outputs": [
    {
     "name": "stdout",
     "output_type": "stream",
     "text": [
      "  size  color  gender  price  weight bought\n",
      "0   XL    red  female  199.0   500.0    yes\n",
      "1    L  green    male   89.0   450.0     no\n",
      "2    M   blue     NaN   99.0   300.0    yes\n",
      "3    M  green  female  129.0     NaN     no\n",
      "4    M    red  female   79.0   410.0    yes\n",
      "5    M  green    male   89.0     NaN     no\n"
     ]
    }
   ],
   "source": [
    "imputer = SimpleImputer(strategy = 'most_frequent')\n",
    "\n",
    "df['size'] = imputer.fit_transform(df[['size']])\n",
    "\n",
    "print(df)"
   ]
  },
  {
   "cell_type": "markdown",
   "id": "177cbc24",
   "metadata": {},
   "source": [
    "## Exercise 3:\n",
    "\n",
    "#### Extract all rows of the df that don't have the value np.nan in column weight. Using this rows calculate the average value for all numeric columns and print result to the console."
   ]
  },
  {
   "cell_type": "code",
   "execution_count": 6,
   "id": "f0750f8d",
   "metadata": {},
   "outputs": [
    {
     "name": "stdout",
     "output_type": "stream",
     "text": [
      "price     116.5\n",
      "weight    415.0\n",
      "dtype: float64\n"
     ]
    },
    {
     "name": "stderr",
     "output_type": "stream",
     "text": [
      "C:\\Users\\andre\\AppData\\Local\\Temp\\ipykernel_67704\\2686349977.py:1: FutureWarning: Dropping of nuisance columns in DataFrame reductions (with 'numeric_only=None') is deprecated; in a future version this will raise TypeError.  Select only valid columns before calling the reduction.\n",
      "  result = df[~df['weight'].isnull()].mean()\n"
     ]
    }
   ],
   "source": [
    "result = df[~df['weight'].isnull()].mean()\n",
    "print(result)"
   ]
  },
  {
   "cell_type": "markdown",
   "id": "9200280e",
   "metadata": {},
   "source": [
    "#### Notes:\n",
    "\n",
    "- '~' When applied to a boolean Series or array, it inverts the boolean values: it turns True values to False and False values to True."
   ]
  }
 ],
 "metadata": {
  "kernelspec": {
   "display_name": "Python 3 (ipykernel)",
   "language": "python",
   "name": "python3"
  },
  "language_info": {
   "codemirror_mode": {
    "name": "ipython",
    "version": 3
   },
   "file_extension": ".py",
   "mimetype": "text/x-python",
   "name": "python",
   "nbconvert_exporter": "python",
   "pygments_lexer": "ipython3",
   "version": "3.9.13"
  }
 },
 "nbformat": 4,
 "nbformat_minor": 5
}
