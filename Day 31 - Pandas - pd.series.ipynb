{
 "cells": [
  {
   "cell_type": "markdown",
   "id": "885373e2",
   "metadata": {},
   "source": [
    "## Exercise 1\n",
    "#### Using pandas, from the list below:\n",
    "\n",
    "\n",
    "\n",
    "stocks = ['PLW', 'CDR', '11B', 'TEN']\n",
    "\n",
    "\n",
    "#### create a Series object and print it to the console."
   ]
  },
  {
   "cell_type": "code",
   "execution_count": 2,
   "id": "073f3c8b",
   "metadata": {},
   "outputs": [
    {
     "name": "stdout",
     "output_type": "stream",
     "text": [
      "0    PLW\n",
      "1    CDR\n",
      "2    11B\n",
      "3    TEN\n",
      "dtype: object\n"
     ]
    }
   ],
   "source": [
    "import pandas as pd\n",
    "\n",
    "stocks = ['PLW', 'CDR', '11B', 'TEN']\n",
    "\n",
    "E1 = pd.Series(stocks)\n",
    "\n",
    "print(E1)"
   ]
  },
  {
   "cell_type": "markdown",
   "id": "0614da7c",
   "metadata": {},
   "source": [
    "#### Notes:\n",
    "\n",
    "- pd.Series() is a function in the pandas library used to create a one-dimensional array-like object capable of holding any data type (integers, floats, strings, Python objects, etc.). It can be thought of as a single column of a DataFrame.\n",
    "- Parameters:\n",
    "    - data: array-like, Iterable, dict, or scalar value.\n",
    "        - The data you want to put into the Series. This could be a list, numpy array, dictionary, or even a scalar value.\n",
    "    - index: array-like or Index (1-dimensional)\n",
    "        - Values must be unique and hashable, same length as data. If not provided, it will default to a range index.\n",
    "    - dtype: dtype, default None\n",
    "        - Data type for the output Series. If not specified, it will be inferred from the data."
   ]
  },
  {
   "cell_type": "markdown",
   "id": "ba3c2d3d",
   "metadata": {},
   "source": [
    "## Exercise 2\n",
    "#### Using pandas, from the dictionary below:\n",
    "\n",
    "stocks = {'PLW': 387.00, 'CDR': 339.5, 'TEN': 349.5, '11B': 391.0}\n",
    "#### Create a Series object and assign it to the quotations variable. In response, print quotations variable to the console."
   ]
  },
  {
   "cell_type": "code",
   "execution_count": 4,
   "id": "c58174e7",
   "metadata": {},
   "outputs": [
    {
     "name": "stdout",
     "output_type": "stream",
     "text": [
      "PLW    387.0\n",
      "CDR    339.5\n",
      "TEN    349.5\n",
      "11B    391.0\n",
      "dtype: float64\n"
     ]
    }
   ],
   "source": [
    "stocks = {'PLW': 387.00, 'CDR': 339.5, 'TEN': 349.5, '11B': 391.0}\n",
    "\n",
    "quotations = pd.Series(data = stocks)\n",
    "\n",
    "print(quotations)"
   ]
  },
  {
   "cell_type": "markdown",
   "id": "12047fc6",
   "metadata": {},
   "source": [
    "## Exercise 3\n",
    "#### The following Series is given (quotations variable):\n",
    "\n",
    "#### Convert quotations to the list and print it to the console."
   ]
  },
  {
   "cell_type": "code",
   "execution_count": 5,
   "id": "3c242352",
   "metadata": {},
   "outputs": [
    {
     "name": "stdout",
     "output_type": "stream",
     "text": [
      "[387.0, 339.5, 349.5, 391.0]\n"
     ]
    }
   ],
   "source": [
    "stocks = {'PLW': 387.00, 'CDR': 339.5, 'TEN': 349.5, '11B': 391.0}\n",
    "quotations = pd.Series(data=stocks)\n",
    "\n",
    "quotations = quotations.tolist()\n",
    "print(quotations)"
   ]
  },
  {
   "cell_type": "markdown",
   "id": "1b549980",
   "metadata": {},
   "source": [
    "#### Notes:\n",
    "\n",
    "- pd.tolist() is a method in pandas used to convert a Series or DataFrame column into a list. This can be particularly useful when you need to manipulate the data in a format that is easier to work with outside of pandas.\n",
    "- When converting a Series to a list, the index of the Series is discarded."
   ]
  }
 ],
 "metadata": {
  "kernelspec": {
   "display_name": "Python 3 (ipykernel)",
   "language": "python",
   "name": "python3"
  },
  "language_info": {
   "codemirror_mode": {
    "name": "ipython",
    "version": 3
   },
   "file_extension": ".py",
   "mimetype": "text/x-python",
   "name": "python",
   "nbconvert_exporter": "python",
   "pygments_lexer": "ipython3",
   "version": "3.9.13"
  }
 },
 "nbformat": 4,
 "nbformat_minor": 5
}
