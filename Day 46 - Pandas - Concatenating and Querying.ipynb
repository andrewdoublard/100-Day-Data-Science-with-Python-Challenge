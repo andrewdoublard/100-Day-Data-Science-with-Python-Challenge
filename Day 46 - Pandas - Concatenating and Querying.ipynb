{
 "cells": [
  {
   "cell_type": "markdown",
   "id": "44b233f0",
   "metadata": {},
   "source": [
    "## Exercise 1\n",
    "#### The df DataFrame is given below. Calculate the cumulative sum for each column and print result to the console.\n",
    "Tip: Use the pd.DataFrame.cumsum() method."
   ]
  },
  {
   "cell_type": "code",
   "execution_count": 1,
   "id": "e450f0f6",
   "metadata": {},
   "outputs": [
    {
     "name": "stdout",
     "output_type": "stream",
     "text": [
      "        col1      col2\n",
      "0   0.374540 -1.012831\n",
      "1   1.325254 -0.698584\n",
      "2   2.057248 -1.606608\n",
      "3   2.655907 -3.018912\n",
      "4   2.811925 -1.553263\n",
      "5   2.967920 -1.779039\n",
      "6   3.026004 -1.711511\n",
      "7   3.892180 -3.136259\n",
      "8   4.493295 -3.680642\n",
      "9   5.201367 -3.569719\n",
      "10  5.221952 -4.720713\n",
      "11  6.191862 -4.345015\n",
      "12  7.024304 -4.945653\n",
      "13  7.236643 -5.237347\n",
      "14  7.418468 -5.839054\n",
      "15  7.601873 -3.986776\n",
      "16  7.906115 -4.000273\n",
      "17  8.430872 -5.057984\n",
      "18  8.862817 -4.235439\n",
      "19  9.154046 -5.456283\n"
     ]
    }
   ],
   "source": [
    "import numpy as np\n",
    "import pandas as pd\n",
    "\n",
    "\n",
    "np.random.seed(42)\n",
    "s1 = pd.Series(np.random.rand(20))\n",
    "s2 = pd.Series(np.random.randn(20))\n",
    "\n",
    "df = pd.concat([s1, s2], axis=1)\n",
    "df.columns = ['col1', 'col2']\n",
    "\n",
    "print(df.cumsum())"
   ]
  },
  {
   "cell_type": "markdown",
   "id": "32a3ace3",
   "metadata": {},
   "source": [
    "#### Notes:\n",
    "- Cumulative Sum: It means that each element in the resulting sequence is the sum of all previous elements up to and including the current one."
   ]
  },
  {
   "cell_type": "markdown",
   "id": "7ffdb526",
   "metadata": {},
   "source": [
    "## Exercise 2\n",
    "#### The df DataFrame is given below. Calculate the median for the col2 and print it to the console."
   ]
  },
  {
   "cell_type": "code",
   "execution_count": 2,
   "id": "dcc864c1",
   "metadata": {},
   "outputs": [
    {
     "name": "stdout",
     "output_type": "stream",
     "text": [
      "-0.4180382371592297\n"
     ]
    }
   ],
   "source": [
    "print(df['col2'].median())"
   ]
  },
  {
   "cell_type": "markdown",
   "id": "eb3c98e0",
   "metadata": {},
   "source": [
    "## Exercise 3\n",
    "#### The df DataFrame is given below. Extract rows for which the col2 takes values greater than 0.0 and print result to the console."
   ]
  },
  {
   "cell_type": "code",
   "execution_count": 3,
   "id": "e9cb7736",
   "metadata": {},
   "outputs": [
    {
     "name": "stdout",
     "output_type": "stream",
     "text": [
      "        col1      col2\n",
      "1   0.950714  0.314247\n",
      "4   0.156019  1.465649\n",
      "6   0.058084  0.067528\n",
      "9   0.708073  0.110923\n",
      "11  0.969910  0.375698\n",
      "15  0.183405  1.852278\n",
      "18  0.431945  0.822545\n"
     ]
    }
   ],
   "source": [
    "print(df[df['col2'] > 0])"
   ]
  },
  {
   "cell_type": "markdown",
   "id": "f7f37c32",
   "metadata": {},
   "source": [
    "## Notes:\n",
    "- Could use print(df.query(\"col2 > 0\")), this method is particularly useful for simplifying code and improving readability when performing filtering operations on pandas DataFrames."
   ]
  }
 ],
 "metadata": {
  "kernelspec": {
   "display_name": "Python 3 (ipykernel)",
   "language": "python",
   "name": "python3"
  },
  "language_info": {
   "codemirror_mode": {
    "name": "ipython",
    "version": 3
   },
   "file_extension": ".py",
   "mimetype": "text/x-python",
   "name": "python",
   "nbconvert_exporter": "python",
   "pygments_lexer": "ipython3",
   "version": "3.9.13"
  }
 },
 "nbformat": 4,
 "nbformat_minor": 5
}
