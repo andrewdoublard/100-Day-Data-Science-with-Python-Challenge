{
 "cells": [
  {
   "cell_type": "markdown",
   "id": "b74c9e0c",
   "metadata": {},
   "source": [
    "## Exercise 1\n",
    "#### The following DataFrame is given:\n",
    "\n",
    "df = pd.DataFrame(np.random.rand(10, 4), columns=list('ABCD'))\n",
    "\n",
    "#### Extract rows of this DataFrame for which the C column is greater than 0.3 and the D column is less than 0.7. Print result to the console."
   ]
  },
  {
   "cell_type": "code",
   "execution_count": 2,
   "id": "cf3c06ee",
   "metadata": {},
   "outputs": [
    {
     "name": "stdout",
     "output_type": "stream",
     "text": [
      "          A         B         C         D\n",
      "0  0.374540  0.950714  0.731994  0.598658\n",
      "4  0.304242  0.524756  0.431945  0.291229\n",
      "7  0.592415  0.046450  0.607545  0.170524\n",
      "9  0.304614  0.097672  0.684233  0.440152\n"
     ]
    }
   ],
   "source": [
    "import numpy as np\n",
    "import pandas as pd\n",
    "\n",
    "\n",
    "np.random.seed(42)\n",
    "df = pd.DataFrame(np.random.rand(10, 4), columns=list('ABCD'))\n",
    "\n",
    "print(df.query(('C > 0.3 and D < 0.7')))"
   ]
  },
  {
   "cell_type": "markdown",
   "id": "a5edd25a",
   "metadata": {},
   "source": [
    "## Exercise 2\n",
    "#### The following DataFrame is given:\n",
    "\n",
    "#### Iterate through the first five rows of this object and print each row to the console as shown below.\n",
    "\n",
    "Tip: Use the pd.DataFrame.iterrows() function."
   ]
  },
  {
   "cell_type": "code",
   "execution_count": 4,
   "id": "a0465cdd",
   "metadata": {},
   "outputs": [
    {
     "name": "stdout",
     "output_type": "stream",
     "text": [
      "A    0.374540\n",
      "B    0.950714\n",
      "C    0.731994\n",
      "D    0.598658\n",
      "Name: 0, dtype: float64\n",
      "A    0.156019\n",
      "B    0.155995\n",
      "C    0.058084\n",
      "D    0.866176\n",
      "Name: 1, dtype: float64\n",
      "A    0.601115\n",
      "B    0.708073\n",
      "C    0.020584\n",
      "D    0.969910\n",
      "Name: 2, dtype: float64\n",
      "A    0.832443\n",
      "B    0.212339\n",
      "C    0.181825\n",
      "D    0.183405\n",
      "Name: 3, dtype: float64\n",
      "A    0.304242\n",
      "B    0.524756\n",
      "C    0.431945\n",
      "D    0.291229\n",
      "Name: 4, dtype: float64\n"
     ]
    }
   ],
   "source": [
    "for index, row in df.head().iterrows():\n",
    "    print(row)"
   ]
  },
  {
   "cell_type": "markdown",
   "id": "a41195a2",
   "metadata": {},
   "source": [
    "#### Notes:\n",
    "\n",
    "- The .iterrows() method in pandas is used to iterate over the rows of a DataFrame as (index, Series) pairs. This method allows you to loop through each row and access the data, making it useful for row-wise operations.\n",
    "- 'for index, row in df.iterrows()'"
   ]
  },
  {
   "cell_type": "markdown",
   "id": "016bfcf7",
   "metadata": {},
   "source": [
    "## Exercise 3\n",
    "#### The following DataFrame is given:\n",
    "#### Set the value in row with index 3 for column B as np.nan (use df.iloc) and also set the value in the row at index 8 for column D as np.nan (use df.loc).\n",
    "#### Print DataFrame to the console."
   ]
  },
  {
   "cell_type": "code",
   "execution_count": 6,
   "id": "dbefc3fa",
   "metadata": {},
   "outputs": [
    {
     "name": "stdout",
     "output_type": "stream",
     "text": [
      "          A         B         C         D\n",
      "0  0.374540  0.950714  0.731994  0.598658\n",
      "1  0.156019  0.155995  0.058084  0.866176\n",
      "2  0.601115  0.708073  0.020584  0.969910\n",
      "3  0.832443       NaN  0.181825  0.183405\n",
      "4  0.304242  0.524756  0.431945  0.291229\n",
      "5  0.611853  0.139494  0.292145  0.366362\n",
      "6  0.456070  0.785176  0.199674  0.514234\n",
      "7  0.592415  0.046450  0.607545  0.170524\n",
      "8  0.065052  0.948886  0.965632       NaN\n",
      "9  0.304614  0.097672  0.684233  0.440152\n"
     ]
    }
   ],
   "source": [
    "df.iloc[3, 1] = np.nan\n",
    "df.loc[8, 'D'] = np.nan\n",
    "print(df)"
   ]
  },
  {
   "cell_type": "markdown",
   "id": "2ee8c782",
   "metadata": {},
   "source": [
    "#### Notes:\n",
    "\n",
    "- .iloc: Indexes DataFrame rows and columns by integer positions, allowing selection based on numerical indices (e.g., df.iloc[0, 1] selects the first row, second column).\n",
    "\n",
    "- .loc: Indexes DataFrame rows and columns by labels or boolean conditions, enabling label-based selection (e.g., df.loc['row_label', 'col_label'])."
   ]
  }
 ],
 "metadata": {
  "kernelspec": {
   "display_name": "Python 3 (ipykernel)",
   "language": "python",
   "name": "python3"
  },
  "language_info": {
   "codemirror_mode": {
    "name": "ipython",
    "version": 3
   },
   "file_extension": ".py",
   "mimetype": "text/x-python",
   "name": "python",
   "nbconvert_exporter": "python",
   "pygments_lexer": "ipython3",
   "version": "3.9.13"
  }
 },
 "nbformat": 4,
 "nbformat_minor": 5
}
