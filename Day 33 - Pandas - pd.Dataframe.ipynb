{
 "cells": [
  {
   "cell_type": "markdown",
   "id": "ef4e52e1",
   "metadata": {},
   "source": [
    "## Exercise 1\n",
    "#### The following quotations Series is given:\n",
    "\n",
    "stocks = {'PLW': 387.00, 'CDR': 339.5, 'TEN': 349.5, '11B': 391.0}\n",
    "quotations = pd.Series(data=stocks)\n",
    "\n",
    "\n",
    "#### Add two elements to this Series:\n",
    "\n",
    "key: 'BBT', value: 25.5\n",
    "\n",
    "key: 'F51', value: 19.2\n",
    "\n",
    "#### In response, print quotations Series to the console."
   ]
  },
  {
   "cell_type": "code",
   "execution_count": null,
   "id": "0c3ff63d",
   "metadata": {},
   "outputs": [],
   "source": [
    "import pandas as pd\n",
    "\n",
    "\n",
    "stocks = {'PLW': 387.00, 'CDR': 339.5, 'TEN': 349.5, '11B': 391.0}\n",
    "quotations = pd.Series(data=stocks)\n",
    "\n",
    "E1 = quotations.append(pd.Series({'BBT': 25.5, 'F51': 19.2}))\n",
    "print(E1)"
   ]
  },
  {
   "cell_type": "markdown",
   "id": "15581ca0",
   "metadata": {},
   "source": [
    "#### Note:\n",
    "\n",
    "- .append() method is a built-in function in Python and does not require any additional libraries to be used."
   ]
  },
  {
   "cell_type": "markdown",
   "id": "2d786dd4",
   "metadata": {},
   "source": [
    "## Exercise 2\n",
    "#### Convert the following quotations Series to DataFrame. Reset the index and name the columns 'ticker' and 'price' respectively.\n",
    "\n",
    "#### In response, print this DataFrame to the console."
   ]
  },
  {
   "cell_type": "code",
   "execution_count": 6,
   "id": "b6cf130c",
   "metadata": {},
   "outputs": [
    {
     "name": "stdout",
     "output_type": "stream",
     "text": [
      "  Ticker  Price\n",
      "0    PLW  387.0\n",
      "1    CDR  339.5\n",
      "2    TEN  349.5\n",
      "3    11B  391.0\n",
      "4    BBT   25.5\n",
      "5    F51   19.2\n"
     ]
    }
   ],
   "source": [
    "import pandas as pd\n",
    "\n",
    "stocks = {\n",
    "    'PLW': 387.00,\n",
    "    'CDR': 339.5,\n",
    "    'TEN': 349.5,\n",
    "    '11B': 391.0,\n",
    "    'BBT': 25.5,\n",
    "    'F51': 19.2,\n",
    "}\n",
    "quotations = pd.Series(data=stocks)\n",
    "\n",
    "E2 = pd.DataFrame(data = quotations).reset_index()\n",
    "\n",
    "E2.columns = ['Ticker', 'Price']\n",
    "\n",
    "print(E2)"
   ]
  },
  {
   "cell_type": "markdown",
   "id": "5b28feae",
   "metadata": {},
   "source": [
    "#### Notes:\n",
    "\n",
    "- reset_index: it resets the index to the default integer index and converts the current index into a column in the DataFrame.\n",
    "    - You can specify the drop=True parameter if you don't want to keep the current index as a column.\n",
    "- .columns:\n",
    "    - Accessing df.columns returns an Index object containing the column labels.\n",
    "    - Assigning to df.columns allows you to rename all columns at once."
   ]
  },
  {
   "cell_type": "markdown",
   "id": "8b8c51ef",
   "metadata": {},
   "source": [
    "## Exercise 3\n",
    "#### Create the following DataFrame object and assign it to the companies variable.\n",
    "\n",
    "#### In response, print companies DataFrame to the console."
   ]
  },
  {
   "cell_type": "code",
   "execution_count": 10,
   "id": "86365466",
   "metadata": {},
   "outputs": [
    {
     "name": "stdout",
     "output_type": "stream",
     "text": [
      "     company   price   ticker\n",
      "0     Amazon  2375.0  AMZN.US\n",
      "1  Microsoft   178.6  MSFT.US\n",
      "2   Facebook   179.2      FB.\n"
     ]
    }
   ],
   "source": [
    "Headers = ['company', 'price', 'ticker']\n",
    "\n",
    "data = [['Amazon', 2375.0, 'AMZN.US'], ['Microsoft', 178.6, 'MSFT.US'], ['Facebook', 179.2, 'FB.']]\n",
    "\n",
    "companies = pd.DataFrame(data, index = None, columns = Headers)\n",
    "\n",
    "print(companies)"
   ]
  },
  {
   "cell_type": "markdown",
   "id": "02812083",
   "metadata": {},
   "source": [
    "#### Notes:\n",
    "\n",
    "- For larger or more complex datasets, the dictionary below method might be more readable and easier to maintain.\n",
    "\n",
    "data_dict = {\n",
    "    'company': ['Amazon', 'Microsoft', 'Facebook'],\n",
    "    'price': [2375.00, 178.6, 179.2],\n",
    "    'ticker': ['AMZN.US', 'MSFT.US', 'FB.US']\n",
    "}\n",
    " \n",
    "companies = pd.DataFrame(data=data_dict)"
   ]
  }
 ],
 "metadata": {
  "kernelspec": {
   "display_name": "Python 3 (ipykernel)",
   "language": "python",
   "name": "python3"
  },
  "language_info": {
   "codemirror_mode": {
    "name": "ipython",
    "version": 3
   },
   "file_extension": ".py",
   "mimetype": "text/x-python",
   "name": "python",
   "nbconvert_exporter": "python",
   "pygments_lexer": "ipython3",
   "version": "3.9.13"
  }
 },
 "nbformat": 4,
 "nbformat_minor": 5
}
