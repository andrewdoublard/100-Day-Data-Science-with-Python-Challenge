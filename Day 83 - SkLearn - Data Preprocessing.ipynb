{
 "cells": [
  {
   "cell_type": "markdown",
   "id": "3c541149",
   "metadata": {},
   "source": [
    "## Exercise 1:\n",
    "\n",
    "#### The Breast Cancer Data was loaded into the data and target variables.\n",
    "\n",
    "#### All data was splitted into train and test sets:\n",
    "\n",
    "- train set: X_train, y_train\n",
    "\n",
    "- test set: X_test, y_test\n",
    "\n",
    "#### Find the distribution of target, y_train and y_test arrays (in percent).\n",
    "\n",
    "#### In response, print the result to the console as shown below.\n",
    "\n",
    "Tip: You can use np.unique(): https://numpy.org/doc/stable/reference/generated/numpy.unique.html"
   ]
  },
  {
   "cell_type": "code",
   "execution_count": 8,
   "id": "e03cb0b0",
   "metadata": {},
   "outputs": [
    {
     "name": "stdout",
     "output_type": "stream",
     "text": [
      "Target: [0.37 0.63]\n",
      "y_train: [0.39 0.61]\n",
      "y_test: [0.31 0.69]\n"
     ]
    }
   ],
   "source": [
    "import numpy as np\n",
    "import pandas as pd\n",
    "from sklearn.datasets import load_breast_cancer\n",
    "from sklearn.model_selection import train_test_split\n",
    "\n",
    "\n",
    "pd.set_option('display.max_columns', 10)\n",
    "pd.set_option('display.width', 200)\n",
    "np.set_printoptions(precision=2, suppress=True, linewidth=100)\n",
    "raw_data = load_breast_cancer()\n",
    "\n",
    "data = raw_data['data']\n",
    "target = raw_data['target']\n",
    "\n",
    "X_train, X_test, y_train, y_test = train_test_split(\n",
    "    data, target, random_state=40, test_size=0.25\n",
    ")\n",
    "\n",
    "\n",
    "print(f'Target: {np.unique(target, return_counts = True)[1]/len(target)}')\n",
    "print(f'y_train: {np.unique(y_train, return_counts = True)[1]/len(y_train)}')\n",
    "print(f'y_test: {np.unique(y_test, return_counts = True)[1]/len(y_test)}')\n"
   ]
  },
  {
   "cell_type": "markdown",
   "id": "bf4da0ec",
   "metadata": {},
   "source": [
    "#### Notes:\n",
    "\n",
    "- np.unique(target, return_counts=True): This function finds all the unique elements in the target array and counts how many times each unique element occurs. It returns two arrays: one with the unique elements and another with their respective counts.\n",
    "\n",
    "- [1]: This index accesses the second array returned by np.unique, which contains the counts of each unique element in the target array."
   ]
  },
  {
   "cell_type": "markdown",
   "id": "764d62fc",
   "metadata": {},
   "source": [
    "## Exercise 2:\n",
    "#### Keep the same distribution of values in the y_train and y_test arrays as in target array.\n",
    "#### In response, print the percentage distribution of target, y_train and y_test arrays."
   ]
  },
  {
   "cell_type": "code",
   "execution_count": 9,
   "id": "63d014d9",
   "metadata": {},
   "outputs": [
    {
     "name": "stdout",
     "output_type": "stream",
     "text": [
      "Target: [0.37 0.63]\n",
      "y_train: [0.37 0.63]\n",
      "y_test: [0.37 0.63]\n"
     ]
    }
   ],
   "source": [
    "X_train, X_test, y_train, y_test = train_test_split(\n",
    "    data, target, random_state=40, test_size=0.25, stratify=target\n",
    ")\n",
    "\n",
    "\n",
    "print(f'Target: {np.unique(target, return_counts = True)[1]/len(target)}')\n",
    "print(f'y_train: {np.unique(y_train, return_counts = True)[1]/len(y_train)}')\n",
    "print(f'y_test: {np.unique(y_test, return_counts = True)[1]/len(y_test)}')"
   ]
  },
  {
   "cell_type": "markdown",
   "id": "0e0811db",
   "metadata": {},
   "source": [
    "#### Notes:\n",
    "\n",
    "- The stratify parameter in the train_test_split() function is used to ensure that the training and test sets maintain the same proportion of classes as in the original dataset.\n",
    "- Without stratify, the split might result in an uneven distribution of classes, which could lead to a biased model or poor performance evaluation, especially in cases of imbalanced datasets."
   ]
  },
  {
   "cell_type": "markdown",
   "id": "6274a456",
   "metadata": {},
   "source": [
    "## Exercise 3:\n",
    "\n",
    "#### Using the normal equation and the numpy package, find the linear regression equation for the df.\n",
    "\n",
    "#### In response, print the result to the console as shown below."
   ]
  },
  {
   "cell_type": "code",
   "execution_count": 10,
   "id": "cbc86445",
   "metadata": {},
   "outputs": [
    {
     "name": "stdout",
     "output_type": "stream",
     "text": [
      "Linear regression: 3750.00 + 250.00x\n"
     ]
    }
   ],
   "source": [
    "df = pd.DataFrame(\n",
    "    {\n",
    "        'years': [1, 2, 3, 4, 5, 6],\n",
    "        'salary': [4000, 4250, 4500, 4750, 5000, 5250],\n",
    "    }\n",
    ")\n",
    "\n",
    "m = len(df)\n",
    " \n",
    "X1 = df['years'].values\n",
    "Y = df['salary'].values\n",
    " \n",
    "X1 = X1.reshape(m, 1)\n",
    "bias = np.ones((m, 1))\n",
    "X = np.append(bias, X1, axis=1)\n",
    " \n",
    "coefs = np.dot(np.linalg.inv(np.dot(X.T, X)), np.dot(X.T, Y))\n",
    "print(f'Linear regression: {coefs[0]:.2f} + {coefs[1]:.2f}x')"
   ]
  },
  {
   "cell_type": "markdown",
   "id": "b503a8aa",
   "metadata": {},
   "source": [
    "#### Notes: \n",
    "\n",
    "- np.dot(X.T, X): Computes the dot product of the transpose of X with X. This is part of the normal equation formula.\n",
    "- np.linalg.inv(...): Calculates the inverse of the matrix resulting from np.dot(X.T, X).\n",
    "- np.dot(X.T, Y): Computes the dot product of the transpose of X with the target variable Y.\n",
    "- The result, coefs, is an array containing the coefficients of the linear regression model: [intercept, slope]."
   ]
  }
 ],
 "metadata": {
  "kernelspec": {
   "display_name": "Python 3 (ipykernel)",
   "language": "python",
   "name": "python3"
  },
  "language_info": {
   "codemirror_mode": {
    "name": "ipython",
    "version": 3
   },
   "file_extension": ".py",
   "mimetype": "text/x-python",
   "name": "python",
   "nbconvert_exporter": "python",
   "pygments_lexer": "ipython3",
   "version": "3.9.13"
  }
 },
 "nbformat": 4,
 "nbformat_minor": 5
}
