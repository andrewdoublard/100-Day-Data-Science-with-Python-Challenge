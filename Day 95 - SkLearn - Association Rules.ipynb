{
 "cells": [
  {
   "cell_type": "markdown",
   "id": "3c1d1683",
   "metadata": {},
   "source": [
    "## Exercise 1\n",
    "#### A transactions DataFrame (transaction database) containing data in a certain grocery store is given:\n",
    "\n",
    "#### Each row contains products purchased by one customer. Split each row of the products column by a space character and extend to the DataFrame object. The object should have four columns (maximum number of products in one transaction). In the missing places put None as shown below and assign to expanded variable.\n",
    "\n",
    "#### In response, print the expanded variable to the console."
   ]
  },
  {
   "cell_type": "code",
   "execution_count": 3,
   "id": "65b56ac0",
   "metadata": {},
   "outputs": [
    {
     "name": "stdout",
     "output_type": "stream",
     "text": [
      "       0       1       2       3\n",
      "1  bread    eggs    None    None\n",
      "2  bread    eggs    milk    None\n",
      "3   milk  cheese    None    None\n",
      "4  bread  butter  cheese    None\n",
      "5   eggs    milk    None    None\n",
      "6  bread    milk  butter  cheese\n"
     ]
    }
   ],
   "source": [
    "import numpy as np\n",
    "import pandas as pd\n",
    "\n",
    "\n",
    "data = {\n",
    "    'products': [\n",
    "        'bread eggs',\n",
    "        'bread eggs milk',\n",
    "        'milk cheese',\n",
    "        'bread butter cheese',\n",
    "        'eggs milk',\n",
    "        'bread milk butter cheese',\n",
    "    ]\n",
    "}\n",
    "\n",
    "transactions = pd.DataFrame(data=data, index=range(1, 7))\n",
    "\n",
    "expanded = transactions['products'].str.split(expand=True)\n",
    "print(expanded)"
   ]
  },
  {
   "cell_type": "markdown",
   "id": "0f6fbab1",
   "metadata": {},
   "source": [
    "#### Notes:\n",
    "\n",
    "- str.split() splits a string in each row based on a specified delimiter (like a comma, space, etc.).\n",
    "- expand=True converts the split data into separate columns."
   ]
  },
  {
   "cell_type": "markdown",
   "id": "18701fa3",
   "metadata": {},
   "source": [
    "## Exercise 2:\n",
    "\n",
    "#### The names of all products were assigned to the products variable (sorted alphabetically):\n",
    "\n",
    "- ['bread', 'butter', 'cheese', 'eggs', 'milk']\n",
    "\n",
    "#### Use a one-hot encoding to encode transaction database as shown below and assign it to transactions_encoded_df variable. In response, print the transactions_encoded_df DataFrame to the console."
   ]
  },
  {
   "cell_type": "code",
   "execution_count": 6,
   "id": "53263512",
   "metadata": {},
   "outputs": [
    {
     "name": "stdout",
     "output_type": "stream",
     "text": [
      "   bread  butter  cheese  eggs  milk\n",
      "0      1       0       0     1     0\n",
      "1      1       0       0     1     1\n",
      "2      0       0       1     0     1\n",
      "3      1       1       1     0     0\n",
      "4      0       0       0     1     1\n",
      "5      1       1       1     0     1\n"
     ]
    }
   ],
   "source": [
    "products = []\n",
    "for col in expanded.columns:\n",
    "    for product in expanded[col].unique():\n",
    "        if product is not None and product not in products:\n",
    "            products.append(product)\n",
    "products.sort()\n",
    "\n",
    "transactions_encoded = np.zeros(\n",
    "    (len(transactions), len(products)), dtype='int8'\n",
    ")\n",
    " \n",
    "for row in zip(\n",
    "    range(len(transactions)),\n",
    "    transactions_encoded,\n",
    "    expanded.values,\n",
    "):\n",
    "    for idx, product in enumerate(products):\n",
    "        if product in row[2]:\n",
    "            transactions_encoded[row[0], idx] = 1\n",
    "            \n",
    "transactions_encoded_df = pd.DataFrame(\n",
    "    transactions_encoded, columns=products\n",
    ")\n",
    "\n",
    "print(transactions_encoded_df)"
   ]
  },
  {
   "cell_type": "markdown",
   "id": "6417ffe5",
   "metadata": {},
   "source": [
    "## Exercise 3:\n",
    "\n",
    "- Calculate the support for pairs: (butter, bread) and (butter, milk). In response, print the result to the console as shown below (round the support to four decimal places)."
   ]
  },
  {
   "cell_type": "code",
   "execution_count": 7,
   "id": "84b79f81",
   "metadata": {},
   "outputs": [
    {
     "name": "stdout",
     "output_type": "stream",
     "text": [
      "support(butter, bread) = 0.3333\n",
      "support(butter, milk) = 0.1667\n"
     ]
    }
   ],
   "source": [
    "sup_butter_bread = len(\n",
    "    transactions_encoded_df.query(\"butter == 1 and bread == 1\")\n",
    ") / len(transactions_encoded_df)\n",
    "sup_butter_milk = len(\n",
    "    transactions_encoded_df.query(\"butter == 1 and milk == 1\")\n",
    ") / len(transactions_encoded_df)\n",
    " \n",
    "print(f'support(butter, bread) = {sup_butter_bread:.4f}')\n",
    "print(f'support(butter, milk) = {sup_butter_milk:.4f}')"
   ]
  }
 ],
 "metadata": {
  "kernelspec": {
   "display_name": "Python 3 (ipykernel)",
   "language": "python",
   "name": "python3"
  },
  "language_info": {
   "codemirror_mode": {
    "name": "ipython",
    "version": 3
   },
   "file_extension": ".py",
   "mimetype": "text/x-python",
   "name": "python",
   "nbconvert_exporter": "python",
   "pygments_lexer": "ipython3",
   "version": "3.9.13"
  }
 },
 "nbformat": 4,
 "nbformat_minor": 5
}
