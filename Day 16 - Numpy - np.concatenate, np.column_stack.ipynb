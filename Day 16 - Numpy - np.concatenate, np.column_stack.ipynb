{
 "cells": [
  {
   "cell_type": "markdown",
   "id": "8f35d7d3",
   "metadata": {},
   "source": [
    "## Exercise 1\n",
    "\n",
    "#### The following arrays are given:\n",
    "\n",
    "A = np.array([[3, 4, 5],\n",
    "              [8, 3, 1]])\n",
    "B = np.array([[0, 5, 2],\n",
    "              [4, 2, 1]])\n",
    "\n",
    "\n",
    "#### Concatenate these arrays as follows:\n",
    "\n",
    "array([[3, 4, 5],\n",
    "       [8, 3, 1],\n",
    "       [0, 5, 2],\n",
    "       [4, 2, 1]])\n",
    "\n",
    "#### In response, print this array to the console.\n",
    "\n",
    "Tip: Use the np.concatenate() function."
   ]
  },
  {
   "cell_type": "code",
   "execution_count": 3,
   "id": "7ca44127",
   "metadata": {},
   "outputs": [
    {
     "name": "stdout",
     "output_type": "stream",
     "text": [
      "[[3 4 5]\n",
      " [8 3 1]\n",
      " [0 5 2]\n",
      " [4 2 1]]\n"
     ]
    }
   ],
   "source": [
    "import numpy as np \n",
    "\n",
    "A = np.array([[3, 4, 5],\n",
    "              [8, 3, 1]])\n",
    "B = np.array([[0, 5, 2],\n",
    "              [4, 2, 1]])\n",
    "\n",
    "E1 = np.concatenate((A, B), axis = 0)\n",
    "\n",
    "print(E1)"
   ]
  },
  {
   "cell_type": "markdown",
   "id": "f9dbd822",
   "metadata": {},
   "source": [
    "#### Notes:\n",
    "\n",
    "- np.concatenate is a function in the NumPy library used to join two or more arrays along a specified axis. It allows for the combination of arrays of the same shape (except in the dimension corresponding to the axis along which the arrays are concatenated). \n",
    "\n",
    "- (array1, array2, ...): A sequence of arrays to be concatenated.\n",
    "\n",
    "- axis: The axis along which the arrays will be joined. The default is axis=0."
   ]
  },
  {
   "cell_type": "markdown",
   "id": "a65704ce",
   "metadata": {},
   "source": [
    "## Exercise 2\n",
    "#### The following arrays are given:\n",
    "\n",
    "data = np.array([[4.3, 4.2],\n",
    "                 [3.1, 3.6]])\n",
    "target = np.array([[0],\n",
    "                   [1]])\n",
    "\n",
    "#### Concatenate these arrays into one as shown below:\n",
    "\n",
    "array([[4.3, 4.2, 0. ],\n",
    "       [3.1, 3.6, 1. ]])\n",
    "\n",
    "#### In response, print this array to the console."
   ]
  },
  {
   "cell_type": "code",
   "execution_count": 4,
   "id": "5c993ec4",
   "metadata": {},
   "outputs": [
    {
     "name": "stdout",
     "output_type": "stream",
     "text": [
      "[[4.3 4.2 0. ]\n",
      " [3.1 3.6 1. ]]\n"
     ]
    }
   ],
   "source": [
    "data = np.array([[4.3, 4.2],\n",
    "                 [3.1, 3.6]])\n",
    "\n",
    "target = np.array([[0],\n",
    "                   [1]])\n",
    "\n",
    "E2 = np.concatenate((data, target), axis = 1)\n",
    "\n",
    "print(E2)"
   ]
  },
  {
   "cell_type": "markdown",
   "id": "c1ecf4d5",
   "metadata": {},
   "source": [
    "## Exercise 3\n",
    "#### The following three one-dimensional arrays are given:\n",
    "\n",
    "feature1 = np.array([1.6, 0.9, 2.2])\n",
    "feature2 = np.array([0.4, 1.3, 3.2])\n",
    "feature3 = np.array([1.4, 0.3, 1.2])\n",
    "\n",
    "\n",
    "#### Transform each of these arrays into a column and concatenate them into one array as shown below. In response, print this array to the console.\n",
    "\n",
    "Tip: Use the np.column_stack() function."
   ]
  },
  {
   "cell_type": "code",
   "execution_count": 8,
   "id": "70a5a63e",
   "metadata": {},
   "outputs": [
    {
     "name": "stdout",
     "output_type": "stream",
     "text": [
      "[[1.6 0.4 1.4]\n",
      " [0.9 1.3 0.3]\n",
      " [2.2 3.2 1.2]]\n"
     ]
    }
   ],
   "source": [
    "feature1 = np.array([1.6, 0.9, 2.2])\n",
    "feature2 = np.array([0.4, 1.3, 3.2])\n",
    "feature3 = np.array([1.4, 0.3, 1.2])\n",
    "\n",
    "E3 = np.column_stack((feature1, feature2, feature3))\n",
    "\n",
    "print(E3)"
   ]
  },
  {
   "cell_type": "markdown",
   "id": "77d1afe0",
   "metadata": {},
   "source": [
    "#### Note:\n",
    "\n",
    "np.column_stack is a function in the NumPy library that stacks 1-D arrays as columns into a 2-D array. It is particularly useful when you want to combine multiple 1-D arrays into a 2-D array by aligning them as columns."
   ]
  }
 ],
 "metadata": {
  "kernelspec": {
   "display_name": "Python 3 (ipykernel)",
   "language": "python",
   "name": "python3"
  },
  "language_info": {
   "codemirror_mode": {
    "name": "ipython",
    "version": 3
   },
   "file_extension": ".py",
   "mimetype": "text/x-python",
   "name": "python",
   "nbconvert_exporter": "python",
   "pygments_lexer": "ipython3",
   "version": "3.9.13"
  }
 },
 "nbformat": 4,
 "nbformat_minor": 5
}
