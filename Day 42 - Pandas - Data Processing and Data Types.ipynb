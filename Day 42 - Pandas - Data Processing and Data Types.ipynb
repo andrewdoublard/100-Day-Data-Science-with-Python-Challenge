{
 "cells": [
  {
   "cell_type": "markdown",
   "id": "7d1feaa8",
   "metadata": {},
   "source": [
    "## Exercise 1\n",
    "#### The df DataFrame is given below. Convert following columns to category type. And the following columns to float type.\n",
    "#### In response, print info about this DataFrame to the console."
   ]
  },
  {
   "cell_type": "code",
   "execution_count": 1,
   "id": "30394881",
   "metadata": {},
   "outputs": [
    {
     "name": "stdout",
     "output_type": "stream",
     "text": [
      "<class 'pandas.core.frame.DataFrame'>\n",
      "Index: 7043 entries, 7590-VHVEG to 3186-AJIEK\n",
      "Data columns (total 20 columns):\n",
      " #   Column            Non-Null Count  Dtype   \n",
      "---  ------            --------------  -----   \n",
      " 0   gender            7043 non-null   category\n",
      " 1   SeniorCitizen     7043 non-null   category\n",
      " 2   Partner           7043 non-null   category\n",
      " 3   Dependents        7043 non-null   category\n",
      " 4   tenure            7043 non-null   float64 \n",
      " 5   PhoneService      7043 non-null   category\n",
      " 6   MultipleLines     7043 non-null   category\n",
      " 7   InternetService   7043 non-null   category\n",
      " 8   OnlineSecurity    7043 non-null   category\n",
      " 9   OnlineBackup      7043 non-null   category\n",
      " 10  DeviceProtection  7043 non-null   category\n",
      " 11  TechSupport       7043 non-null   category\n",
      " 12  StreamingTV       7043 non-null   category\n",
      " 13  StreamingMovies   7043 non-null   category\n",
      " 14  Contract          7043 non-null   category\n",
      " 15  PaperlessBilling  7043 non-null   category\n",
      " 16  PaymentMethod     7043 non-null   category\n",
      " 17  MonthlyCharges    7043 non-null   float64 \n",
      " 18  TotalCharges      7043 non-null   float64 \n",
      " 19  Churn             7043 non-null   category\n",
      "dtypes: category(17), float64(3)\n",
      "memory usage: 339.2+ KB\n",
      "None\n"
     ]
    }
   ],
   "source": [
    "import pandas as pd\n",
    "\n",
    "\n",
    "url = (\n",
    "    'https://ml-repository-krakers.s3-eu-west-1.amazonaws.com/kaggle+/'\n",
    "    'churn_modelling/Telco-Customer-Churn.csv'\n",
    ")\n",
    "df = pd.read_csv(url, index_col=0)\n",
    "median = df['TotalCharges'][\n",
    "    df['TotalCharges'] != ' '\n",
    "].median()\n",
    "df.loc[df['TotalCharges'] == ' ', 'TotalCharges'] = median\n",
    "df['TotalCharges'] = df['TotalCharges'].astype('float')\n",
    "\n",
    "categorical = [\n",
    "    'gender',\n",
    "    'SeniorCitizen',\n",
    "    'Partner',\n",
    "    'Dependents',\n",
    "    'PhoneService',\n",
    "    'MultipleLines',\n",
    "    'InternetService',\n",
    "    'OnlineSecurity',\n",
    "    'OnlineBackup',\n",
    "    'DeviceProtection',\n",
    "    'TechSupport',\n",
    "    'StreamingTV',\n",
    "    'Contract',\n",
    "    'StreamingMovies',\n",
    "    'PaperlessBilling',\n",
    "    'PaymentMethod',\n",
    "    'Churn',\n",
    "]\n",
    "\n",
    "numerical = ['tenure', 'MonthlyCharges']\n",
    "\n",
    "for col in categorical:\n",
    "    df[col] = pd.Categorical(df[col])\n",
    ";\n",
    "for col in numerical:\n",
    "    df[col] = df[col].astype(float)\n",
    "; \n",
    "\n",
    "print(df.info())"
   ]
  },
  {
   "cell_type": "markdown",
   "id": "7719c4da",
   "metadata": {},
   "source": [
    "#### Notes:\n",
    "\n",
    "- pd.Categorical is used to create categorical data, which can hold a fixed number of possible values (categories) and can improve performance by reducing memory usage. \n",
    "- The astype() method is used to convert the data type of a Series or entire DataFrame to a specified type, allowing for flexible and efficient type casting."
   ]
  },
  {
   "cell_type": "markdown",
   "id": "6e300aa7",
   "metadata": {},
   "source": [
    "## Exercise 2\n",
    "#### The df DataFrame is given below. Print the basic statistics of categorical variables by using the appropriate argument of the pd.DataFrame.describe() method.\n",
    "\n",
    "#### In response, print this statistics to the console."
   ]
  },
  {
   "cell_type": "code",
   "execution_count": 3,
   "id": "1887ac50",
   "metadata": {},
   "outputs": [
    {
     "name": "stdout",
     "output_type": "stream",
     "text": [
      "            tenure  MonthlyCharges  TotalCharges\n",
      "count  7043.000000     7043.000000   7043.000000\n",
      "mean     32.371149       64.761692   2281.916928\n",
      "std      24.559481       30.090047   2265.270398\n",
      "min       0.000000       18.250000     18.800000\n",
      "25%       9.000000       35.500000    402.225000\n",
      "50%      29.000000       70.350000   1397.475000\n",
      "75%      55.000000       89.850000   3786.600000\n",
      "max      72.000000      118.750000   8684.800000\n"
     ]
    }
   ],
   "source": [
    "E2 = df[categorical]\n",
    "\n",
    "print(df.describe())"
   ]
  },
  {
   "cell_type": "markdown",
   "id": "e7e90417",
   "metadata": {},
   "source": [
    "#### Notes:\n",
    "\n",
    "- Can also use 'df.describe(include=['category'])'\n",
    "- The include parameter in the df.describe() method allows you to specify which types of columns to include in the descriptive statistics summary"
   ]
  },
  {
   "cell_type": "markdown",
   "id": "e1f22f5f",
   "metadata": {},
   "source": [
    "## Exercise 3\n",
    "#### The df DataFrame is given below. Find the distribution of the Churn variable and print it to the console."
   ]
  },
  {
   "cell_type": "code",
   "execution_count": 5,
   "id": "6c43aef3",
   "metadata": {},
   "outputs": [
    {
     "name": "stdout",
     "output_type": "stream",
     "text": [
      "No     5174\n",
      "Yes    1869\n",
      "Name: Churn, dtype: int64\n"
     ]
    }
   ],
   "source": [
    "url = (\n",
    "    'https://ml-repository-krakers.s3-eu-west-1.amazonaws.com/kaggle+/'\n",
    "    'churn_modelling/Telco-Customer-Churn.csv'\n",
    ")\n",
    "df = pd.read_csv(url, index_col=0)\n",
    "\n",
    "print(df['Churn'].value_counts())"
   ]
  }
 ],
 "metadata": {
  "kernelspec": {
   "display_name": "Python 3 (ipykernel)",
   "language": "python",
   "name": "python3"
  },
  "language_info": {
   "codemirror_mode": {
    "name": "ipython",
    "version": 3
   },
   "file_extension": ".py",
   "mimetype": "text/x-python",
   "name": "python",
   "nbconvert_exporter": "python",
   "pygments_lexer": "ipython3",
   "version": "3.9.13"
  }
 },
 "nbformat": 4,
 "nbformat_minor": 5
}
