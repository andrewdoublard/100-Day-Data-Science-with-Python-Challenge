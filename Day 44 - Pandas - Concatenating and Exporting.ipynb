{
 "cells": [
  {
   "cell_type": "markdown",
   "id": "f49870f3",
   "metadata": {},
   "source": [
    "## Exercise 1\n",
    "#### The df DataFrame is given below. Take a sample of ten rows from this DataFrame and save to sample_10.csv file."
   ]
  },
  {
   "cell_type": "code",
   "execution_count": 2,
   "id": "b8ae5788",
   "metadata": {},
   "outputs": [],
   "source": [
    "import pandas as pd\n",
    "import numpy as np\n",
    "\n",
    "\n",
    "np.random.seed(42)\n",
    "\n",
    "url = (\n",
    "    'https://ml-repository-krakers.s3-eu-west-1.amazonaws.com/kaggle+/'\n",
    "    'churn_modelling/Telco-Customer-Churn.csv'\n",
    ")\n",
    "df = pd.read_csv(url, index_col=0)\n",
    "\n",
    "df.sample(10).to_csv('sample_10.csv', index = False)"
   ]
  },
  {
   "cell_type": "markdown",
   "id": "206b6b05",
   "metadata": {},
   "source": [
    "#### Notes:\n",
    "\n",
    "- The .sample(x) method takes x number of rows at random from a dataframe."
   ]
  },
  {
   "cell_type": "markdown",
   "id": "bb486d33",
   "metadata": {},
   "source": [
    "## Exercise 2\n",
    "#### The following objects are given:\n",
    "\n",
    "- s1 = pd.Series(np.random.rand(20))\n",
    "- s2 = pd.Series(np.random.randn(20))\n",
    "\n",
    "#### Combine these two Series into one DataFrame and assign to df variable. Set the column names 'col1' and 'col2' respectively. In response, print this DataFrame to the console."
   ]
  },
  {
   "cell_type": "code",
   "execution_count": 4,
   "id": "74a40a4c",
   "metadata": {},
   "outputs": [
    {
     "name": "stdout",
     "output_type": "stream",
     "text": [
      "        col1      col2\n",
      "0   0.374540 -1.012831\n",
      "1   0.950714  0.314247\n",
      "2   0.731994 -0.908024\n",
      "3   0.598658 -1.412304\n",
      "4   0.156019  1.465649\n",
      "5   0.155995 -0.225776\n",
      "6   0.058084  0.067528\n",
      "7   0.866176 -1.424748\n",
      "8   0.601115 -0.544383\n",
      "9   0.708073  0.110923\n",
      "10  0.020584 -1.150994\n",
      "11  0.969910  0.375698\n",
      "12  0.832443 -0.600639\n",
      "13  0.212339 -0.291694\n",
      "14  0.181825 -0.601707\n",
      "15  0.183405  1.852278\n",
      "16  0.304242 -0.013497\n",
      "17  0.524756 -1.057711\n",
      "18  0.431945  0.822545\n",
      "19  0.291229 -1.220844\n"
     ]
    }
   ],
   "source": [
    "np.random.seed(42)\n",
    "s1 = pd.Series(np.random.rand(20))\n",
    "s2 = pd.Series(np.random.randn(20))\n",
    "\n",
    "df = pd.concat([s1, s2], axis = 1)\n",
    "\n",
    "df.columns = ['col1', 'col2']\n",
    "\n",
    "print(df)"
   ]
  },
  {
   "cell_type": "markdown",
   "id": "472614bb",
   "metadata": {},
   "source": [
    "#### Notes: \n",
    "- The pandas.concat() function is used to concatenate (or stack) multiple pandas objects, such as DataFrames or Series, along a particular axis (either rows or columns)."
   ]
  },
  {
   "cell_type": "markdown",
   "id": "0a94c860",
   "metadata": {},
   "source": [
    "## Exercise 3\n",
    "#### The df DataFrame is given below. Extract rows from this DataFrame for which the col2 column is between 0.0 and 1.0 (inclusive).\n",
    "#### In response, print result to the console."
   ]
  },
  {
   "cell_type": "code",
   "execution_count": 5,
   "id": "150ffa8c",
   "metadata": {},
   "outputs": [
    {
     "name": "stdout",
     "output_type": "stream",
     "text": [
      "        col1      col2\n",
      "1   0.950714  0.314247\n",
      "6   0.058084  0.067528\n",
      "9   0.708073  0.110923\n",
      "11  0.969910  0.375698\n",
      "18  0.431945  0.822545\n"
     ]
    }
   ],
   "source": [
    "np.random.seed(42)\n",
    "s1 = pd.Series(np.random.rand(20))\n",
    "s2 = pd.Series(np.random.randn(20))\n",
    "\n",
    "df = pd.concat([s1, s2], axis=1)\n",
    "df.columns = ['col1', 'col2']\n",
    "\n",
    "print(df[(df['col2'] >= 0) & (df['col2'] <= 1)])"
   ]
  },
  {
   "cell_type": "markdown",
   "id": "813df315",
   "metadata": {},
   "source": [
    "#### Notes:\n",
    "\n",
    "- Need to use parentheses so that the comparison operations are performed first, and then the logical AND '&' operation combines the boolean results of those comparisons.\n",
    "- Can also use the .between(left, right, inclusive) method which will filter via The lower bound, upper bound, and whether the bounds are inclusive or not."
   ]
  }
 ],
 "metadata": {
  "kernelspec": {
   "display_name": "Python 3 (ipykernel)",
   "language": "python",
   "name": "python3"
  },
  "language_info": {
   "codemirror_mode": {
    "name": "ipython",
    "version": 3
   },
   "file_extension": ".py",
   "mimetype": "text/x-python",
   "name": "python",
   "nbconvert_exporter": "python",
   "pygments_lexer": "ipython3",
   "version": "3.9.13"
  }
 },
 "nbformat": 4,
 "nbformat_minor": 5
}
