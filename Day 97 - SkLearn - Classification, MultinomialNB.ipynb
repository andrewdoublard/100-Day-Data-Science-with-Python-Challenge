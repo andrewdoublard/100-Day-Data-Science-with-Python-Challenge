{
 "cells": [
  {
   "cell_type": "markdown",
   "id": "1aef867b",
   "metadata": {},
   "source": [
    "## Exercise 1:\n",
    "#### Two files are attached to this exercise:\n",
    "\n",
    "- data_train.csv\n",
    "\n",
    "- target_train.csv\n",
    "\n",
    "#### The data_train.csv file contains e-mails from two categories: computer graphics (comp.graphics) and space (sci.space). The target_train.csv file contains the labels (0 - comp.graphics, 1 - sci.space). These files was loaded to the following DataFrames:\n",
    "\n",
    "- data_train\n",
    "\n",
    "- target_train\n",
    "\n",
    "#### Some processing of data_train and target_train was performed. The CountVectorizer class from the scikit-learn package was used to vectorize the text (data_train_vectorized variable).\n",
    "\n",
    "#### Using the MultinomialNB class create a text document classification model. Train the model based on the data_train_vectorized and target_train data.\n",
    "\n",
    "#### Then classify the following sentences:\n",
    "\n",
    "- 'The graphic designer requires a good processor to work.'\n",
    "\n",
    "- 'Flights into space.'\n",
    "\n",
    "#### In response, print the result to the console as shown below."
   ]
  },
  {
   "cell_type": "code",
   "execution_count": 1,
   "id": "afa3e3ef",
   "metadata": {},
   "outputs": [
    {
     "name": "stdout",
     "output_type": "stream",
     "text": [
      "'The graphic designer requires a good processor to work.' => comp.graphics\n",
      "'Flights into space.' => sci.space\n"
     ]
    }
   ],
   "source": [
    "import numpy as np\n",
    "import pandas as pd\n",
    "\n",
    "from sklearn.feature_extraction.text import CountVectorizer\n",
    "from sklearn.naive_bayes import MultinomialNB\n",
    "\n",
    "\n",
    "data_train = pd.read_csv('data_train.csv')\n",
    "target_train = pd.read_csv('target_train.csv')\n",
    "\n",
    "categories = ['comp.graphics', 'sci.space']\n",
    "\n",
    "data_train = data_train['text'].tolist()\n",
    "target_train = target_train.values.ravel()\n",
    "\n",
    "vectorizer = CountVectorizer()\n",
    "data_train_vectorized = vectorizer.fit_transform(data_train)\n",
    "\n",
    "mnb = MultinomialNB()\n",
    "\n",
    "mnb.fit(data_train_vectorized, target_train)\n",
    "\n",
    "to_classify = ['The graphic designer requires a good processor to work.', 'Flights into space.']\n",
    "\n",
    "data_new = vectorizer.transform(to_classify)\n",
    " \n",
    "data_pred = mnb.predict(data_new)\n",
    " \n",
    "for doc, category in zip(to_classify, data_pred):\n",
    "    print(f'\\'{doc}\\' => {categories[category]}')"
   ]
  },
  {
   "cell_type": "markdown",
   "id": "3d8645fe",
   "metadata": {},
   "source": [
    "#### Notes:\n",
    "\n",
    "- Takes a list of new documents (to_classify) that you want to classify and applies a vectorizer to convert them into a numerical format that the model can understand.\n",
    "- Uses the trained Multinomial Naive Bayes model (mnb) to predict the class/category of each document in data_new.\n",
    "- Maps the predicted category index to the corresponding category name from the categories list or dictionary."
   ]
  },
  {
   "cell_type": "markdown",
   "id": "4e4dad38",
   "metadata": {},
   "source": [
    "## Exercise 2:\n",
    "\n",
    "#### Some processing of data_train and target_trian was performed. Using the TfidfVectorizer class from the scikit-learn package, vectorize the text from the data_train list and assign it to the data_train_vectorized variable. In response, print the shape of the sparse matrix obtained in this way to the console."
   ]
  },
  {
   "cell_type": "code",
   "execution_count": 4,
   "id": "9897a7ea",
   "metadata": {},
   "outputs": [
    {
     "name": "stdout",
     "output_type": "stream",
     "text": [
      "Tfidf Vectorizer shape = (50, 3225)\n"
     ]
    }
   ],
   "source": [
    "import numpy as np\n",
    "import pandas as pd\n",
    "\n",
    "from sklearn.feature_extraction.text import TfidfVectorizer\n",
    "\n",
    "\n",
    "data_train = pd.read_csv('data_train.csv')\n",
    "target_train = pd.read_csv('target_train.csv')\n",
    "\n",
    "categories = ['comp.graphics', 'sci.space']\n",
    "\n",
    "data_train = data_train['text'].tolist()\n",
    "target_train = target_train.values.ravel()\n",
    "\n",
    "tfvec = TfidfVectorizer()\n",
    "data_train_vectorized = tfvec.fit_transform(data_train)\n",
    "\n",
    "print(f'Tfidf Vectorizer shape = {data_train_vectorized.shape}')"
   ]
  },
  {
   "cell_type": "markdown",
   "id": "5daa6c0e",
   "metadata": {},
   "source": [
    "## Exercise 3:\n",
    "\n",
    "#### The TfidfVectorizer class was used from the scikit-learn package to vectorize text. The result was assigned to the data_train_vectorized variable.\n",
    "\n",
    "#### Using the MultinomialNB class create a text document classification model. Train the model based on the data_train_vectorized and target_train data.\n",
    "\n",
    "#### Then classify the following sentences:\n",
    "\n",
    "- 'The graphic designer requires a good processor to work.'\n",
    "\n",
    "- 'Flights into space.'\n",
    "\n",
    "#### In response, print the result to the console as shown below."
   ]
  },
  {
   "cell_type": "code",
   "execution_count": 5,
   "id": "dcf8f15a",
   "metadata": {},
   "outputs": [
    {
     "name": "stdout",
     "output_type": "stream",
     "text": [
      "'The graphic designer requires a good processor to work.' => comp.graphics\n",
      "'Flights into space.' => sci.space\n"
     ]
    }
   ],
   "source": [
    "mnb = MultinomialNB()\n",
    "\n",
    "mnb.fit(data_train_vectorized, target_train)\n",
    "\n",
    "to_classify = ['The graphic designer requires a good processor to work.', 'Flights into space.']\n",
    "\n",
    "data_new = vectorizer.transform(to_classify)\n",
    " \n",
    "data_pred = mnb.predict(data_new)\n",
    " \n",
    "for doc, category in zip(to_classify, data_pred):\n",
    "    print(f'\\'{doc}\\' => {categories[category]}')"
   ]
  }
 ],
 "metadata": {
  "kernelspec": {
   "display_name": "Python 3 (ipykernel)",
   "language": "python",
   "name": "python3"
  },
  "language_info": {
   "codemirror_mode": {
    "name": "ipython",
    "version": 3
   },
   "file_extension": ".py",
   "mimetype": "text/x-python",
   "name": "python",
   "nbconvert_exporter": "python",
   "pygments_lexer": "ipython3",
   "version": "3.9.13"
  }
 },
 "nbformat": 4,
 "nbformat_minor": 5
}
