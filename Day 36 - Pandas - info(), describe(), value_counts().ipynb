{
 "cells": [
  {
   "cell_type": "markdown",
   "id": "23c1fd60",
   "metadata": {},
   "source": [
    "## Exercise 1\n",
    "#### The following df DataFrame is given:\n",
    "#### Print the first ten rows of this DataFrame then print blank line and print the last five rows of this object as shown below."
   ]
  },
  {
   "cell_type": "code",
   "execution_count": 2,
   "id": "8366fbac",
   "metadata": {},
   "outputs": [
    {
     "name": "stdout",
     "output_type": "stream",
     "text": [
      "              normal   uniform  binomial\n",
      "2020-01-01  0.496714  0.167483         0\n",
      "2020-01-02 -0.138264  0.104568         0\n",
      "2020-01-03  0.647689  0.636430         0\n",
      "2020-01-04  1.523030  0.706476         0\n",
      "2020-01-05 -0.234153  0.031586         1\n",
      "2020-01-06 -0.234137  0.936212         0\n",
      "2020-01-07  1.579213  0.051971         0\n",
      "2020-01-08  0.767435  0.541296         0\n",
      "2020-01-09 -0.469474  0.709061         1\n",
      "2020-01-10  0.542560  0.870969         0\n",
      "\n",
      "              normal   uniform  binomial\n",
      "2022-09-22 -0.281100  0.280683         1\n",
      "2022-09-23  1.797687  0.206993         0\n",
      "2022-09-24  0.640843  0.516573         0\n",
      "2022-09-25 -0.571179  0.005506         1\n",
      "2022-09-26  0.572583  0.007664         0\n"
     ]
    }
   ],
   "source": [
    "import numpy as np\n",
    "import pandas as pd\n",
    "\n",
    "\n",
    "np.random.seed(42)\n",
    "data_dict = {\n",
    "    'normal': np.random.normal(loc=0, scale=1, size=1000),\n",
    "    'uniform': np.random.uniform(low=0, high=1, size=1000),\n",
    "    'binomial': np.random.binomial(n=1, p=0.2, size=1000),\n",
    "}\n",
    "\n",
    "df = pd.DataFrame(\n",
    "    data=data_dict, index=pd.date_range('2020-01-01', periods=1000)\n",
    ")\n",
    "\n",
    "print(df.head(10))\n",
    "print()\n",
    "print(df.tail(5))"
   ]
  },
  {
   "cell_type": "markdown",
   "id": "49da10a1",
   "metadata": {},
   "source": [
    "## Exercise 2\n",
    "#### The following df DataFrame is given:\n",
    "\n",
    "#### Display basic information about the df object (number of rows, number of columns, type of variables) using pd.DataFrame.info() method, print blank line and print basic statistics of df (mean value, standard deviation, min, max, median) using pd.DataFrame.describe() method as shown below."
   ]
  },
  {
   "cell_type": "code",
   "execution_count": 3,
   "id": "832d9b87",
   "metadata": {},
   "outputs": [
    {
     "name": "stdout",
     "output_type": "stream",
     "text": [
      "<class 'pandas.core.frame.DataFrame'>\n",
      "DatetimeIndex: 1000 entries, 2020-01-01 to 2022-09-26\n",
      "Freq: D\n",
      "Data columns (total 3 columns):\n",
      " #   Column    Non-Null Count  Dtype  \n",
      "---  ------    --------------  -----  \n",
      " 0   normal    1000 non-null   float64\n",
      " 1   uniform   1000 non-null   float64\n",
      " 2   binomial  1000 non-null   int32  \n",
      "dtypes: float64(2), int32(1)\n",
      "memory usage: 27.3 KB\n",
      "None\n",
      "\n",
      "            normal      uniform    binomial\n",
      "count  1000.000000  1000.000000  1000.00000\n",
      "mean      0.019332     0.503649     0.19200\n",
      "std       0.979216     0.288357     0.39407\n",
      "min      -3.241267     0.003218     0.00000\n",
      "25%      -0.647590     0.247199     0.00000\n",
      "50%       0.025301     0.516126     0.00000\n",
      "75%       0.647944     0.746319     0.00000\n",
      "max       3.852731     0.999414     1.00000\n"
     ]
    }
   ],
   "source": [
    "import numpy as np\n",
    "import pandas as pd\n",
    "\n",
    "\n",
    "np.random.seed(42)\n",
    "data_dict = {\n",
    "    'normal': np.random.normal(loc=0, scale=1, size=1000),\n",
    "    'uniform': np.random.uniform(low=0, high=1, size=1000),\n",
    "    'binomial': np.random.binomial(n=1, p=0.2, size=1000),\n",
    "}\n",
    "\n",
    "df = pd.DataFrame(\n",
    "    data=data_dict, index=pd.date_range('2020-01-01', periods=1000)\n",
    ")\n",
    "\n",
    "print(df.info())\n",
    "print()\n",
    "print(df.describe())"
   ]
  },
  {
   "cell_type": "markdown",
   "id": "1f5e3a59",
   "metadata": {},
   "source": [
    "#### Notes:\n",
    "\n",
    "- df.describe() provides summary statistics of a DataFrame's numerical columns, including count, mean, standard deviation, min, max, and quartiles.\n",
    "\n",
    "- df.info() displays a concise summary of the DataFrame, showing the number of non-null entries, data types of each column, and memory usage."
   ]
  },
  {
   "cell_type": "markdown",
   "id": "8f314101",
   "metadata": {},
   "source": [
    "## Exercise 3\n",
    "#### The following df DataFrame is given:\n",
    "#### Find the distribution of the binomial column from this DataFrame. In response, print this distribution to the console as shown below.\n",
    "Tip: Use pd.Series.value_counts() function."
   ]
  },
  {
   "cell_type": "code",
   "execution_count": 6,
   "id": "35058ca8",
   "metadata": {},
   "outputs": [
    {
     "name": "stdout",
     "output_type": "stream",
     "text": [
      "<bound method IndexOpsMixin.value_counts of 2020-01-01    0\n",
      "2020-01-02    0\n",
      "2020-01-03    0\n",
      "2020-01-04    0\n",
      "2020-01-05    1\n",
      "             ..\n",
      "2022-09-22    1\n",
      "2022-09-23    0\n",
      "2022-09-24    0\n",
      "2022-09-25    1\n",
      "2022-09-26    0\n",
      "Freq: D, Name: binomial, Length: 1000, dtype: int32>\n"
     ]
    }
   ],
   "source": [
    "np.random.seed(42)\n",
    "data_dict = {\n",
    "    'normal': np.random.normal(loc=0, scale=1, size=1000),\n",
    "    'uniform': np.random.uniform(low=0, high=1, size=1000),\n",
    "    'binomial': np.random.binomial(n=1, p=0.2, size=1000),\n",
    "}\n",
    "\n",
    "df = pd.DataFrame(\n",
    "    data=data_dict, index=pd.date_range('2020-01-01', periods=1000)\n",
    ")\n",
    "\n",
    "print(df['binomial'].value_counts)"
   ]
  },
  {
   "cell_type": "markdown",
   "id": "b590d7a4",
   "metadata": {},
   "source": [
    "#### Note:\n",
    "\n",
    "- The value_counts() method in pandas is used to count the occurrences of unique values in a Series. It returns a Series with the unique values as the index and their respective counts as the values, sorted in descending order by default."
   ]
  }
 ],
 "metadata": {
  "kernelspec": {
   "display_name": "Python 3 (ipykernel)",
   "language": "python",
   "name": "python3"
  },
  "language_info": {
   "codemirror_mode": {
    "name": "ipython",
    "version": 3
   },
   "file_extension": ".py",
   "mimetype": "text/x-python",
   "name": "python",
   "nbconvert_exporter": "python",
   "pygments_lexer": "ipython3",
   "version": "3.9.13"
  }
 },
 "nbformat": 4,
 "nbformat_minor": 5
}
