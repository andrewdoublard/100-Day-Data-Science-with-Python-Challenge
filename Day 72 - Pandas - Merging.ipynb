{
 "cells": [
  {
   "cell_type": "markdown",
   "id": "cb518a57",
   "metadata": {},
   "source": [
    "## Exercise 1:\n",
    "\n",
    "#### Using the pd.merge() function make an OUTER join of employees and departments DateFrames based on the dept_id column. Note that the employees DataFrmae doesn't have employees for departments with dept_id of '003' and '004'. Also note that the departments DataFrame doesn't have a department with dept_id '005'.\n",
    "\n",
    "#### In response, print result to the console."
   ]
  },
  {
   "cell_type": "code",
   "execution_count": 8,
   "id": "f07320fc",
   "metadata": {},
   "outputs": [
    {
     "name": "stdout",
     "output_type": "stream",
     "text": [
      "  emp_id first_name last_name dept_id  dept_name\n",
      "0   1001       John     Smith     002      Sales\n",
      "1   1002       Mark      Cook     001         IT\n",
      "2   1003        Bob       Cat     001         IT\n",
      "3   1004      Alice       Lee     005        NaN\n",
      "4    NaN        NaN       NaN     003  Marketing\n",
      "5    NaN        NaN       NaN     004    Support\n"
     ]
    }
   ],
   "source": [
    "import pandas as pd\n",
    "\n",
    "\n",
    "employees = pd.DataFrame({\n",
    "    'emp_id': ['1001', '1002', '1003', '1004'],\n",
    "    'first_name': ['John', 'Mark', 'Bob', 'Alice'],\n",
    "    'last_name': ['Smith', 'Cook', 'Cat', 'Lee'],\n",
    "    'dept_id': ['002', '001', '001', '005']\n",
    "})\n",
    "\n",
    "departments = pd.DataFrame({\n",
    "    'dept_id': ['001', '002', '003', '004'],\n",
    "    'dept_name': ['IT', 'Sales', 'Marketing', 'Support']\n",
    "})\n",
    "\n",
    "E1 = pd.merge(employees, departments, how = 'outer', on = 'dept_id')\n",
    "\n",
    "print(E1)"
   ]
  },
  {
   "cell_type": "markdown",
   "id": "b784c90e",
   "metadata": {},
   "source": [
    "## Exercise 2:\n",
    "\n",
    "#### Notice that we have a duplicate row in the employees DataFrame this time. Using the pd.merge() function make an INNER join of employees and departments DataFrames based on the dept_id column.\n",
    "\n",
    "#### In response, print result to the console."
   ]
  },
  {
   "cell_type": "code",
   "execution_count": 9,
   "id": "b271adb0",
   "metadata": {
    "scrolled": true
   },
   "outputs": [
    {
     "name": "stdout",
     "output_type": "stream",
     "text": [
      "  emp_id first_name last_name dept_id dept_name\n",
      "0   1001       John     Smith     002     Sales\n",
      "1   1002       Mark      Cook     001        IT\n",
      "2   1003        Bob       Cat     001        IT\n",
      "3   1003        Bob       Cat     001        IT\n"
     ]
    }
   ],
   "source": [
    "employees = pd.DataFrame({\n",
    "    'emp_id': ['1001', '1002', '1003', '1003', '1004'],\n",
    "    'first_name': ['John', 'Mark', 'Bob', 'Bob', 'Alice'],\n",
    "    'last_name': ['Smith', 'Cook', 'Cat', 'Cat', 'Lee'],\n",
    "    'dept_id': ['002', '001', '001', '001', '005']\n",
    "})\n",
    "\n",
    "departments = pd.DataFrame({\n",
    "    'dept_id': ['001', '002', '003', '004'],\n",
    "    'dept_name': ['IT', 'Sales', 'Marketing', 'Support']\n",
    "})\n",
    "\n",
    "E2 = pd.merge(employees, departments, how = 'inner', on = 'dept_id')\n",
    "\n",
    "print(E2)"
   ]
  },
  {
   "cell_type": "markdown",
   "id": "968ebd6e",
   "metadata": {},
   "source": [
    "## Exercise 3:\n",
    "\n",
    "#### Notice that we have a duplicate row in the employees DataFrame. Remove the duplicate from the employees DataFrame and assign them to the employees_unique variable. Then use the pd.merge() function to make an INNER join of employees_unique and departments DataFrames based on the dept_id column.\n",
    "\n",
    "#### In response, print the result to the console."
   ]
  },
  {
   "cell_type": "code",
   "execution_count": 10,
   "id": "bb74791a",
   "metadata": {},
   "outputs": [
    {
     "name": "stdout",
     "output_type": "stream",
     "text": [
      "  emp_id first_name last_name dept_id dept_name\n",
      "0   1001       John     Smith     002     Sales\n",
      "1   1002       Mark      Cook     001        IT\n",
      "2   1003        Bob       Cat     001        IT\n"
     ]
    }
   ],
   "source": [
    "employees_unique = employees.drop_duplicates()\n",
    "\n",
    "E3 = pd.merge(employees_unique, departments, how = 'inner', on = 'dept_id')\n",
    "\n",
    "print(E3)"
   ]
  }
 ],
 "metadata": {
  "kernelspec": {
   "display_name": "Python 3 (ipykernel)",
   "language": "python",
   "name": "python3"
  },
  "language_info": {
   "codemirror_mode": {
    "name": "ipython",
    "version": 3
   },
   "file_extension": ".py",
   "mimetype": "text/x-python",
   "name": "python",
   "nbconvert_exporter": "python",
   "pygments_lexer": "ipython3",
   "version": "3.9.13"
  }
 },
 "nbformat": 4,
 "nbformat_minor": 5
}
