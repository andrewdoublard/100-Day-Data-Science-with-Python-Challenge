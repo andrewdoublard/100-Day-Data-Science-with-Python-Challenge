{
 "cells": [
  {
   "cell_type": "markdown",
   "id": "50615df8",
   "metadata": {},
   "source": [
    "## Exercise 1:\n",
    "#### Load the data.csv file into the DataFrame.\n",
    "\n",
    "#### Then, implement the K-Means algorithm to split the given data into two clusters. Specify the centroid of each cluster and print its coordinates to the console. Round the result to three decimal places for each coordinate.\n",
    "\n",
    "#### Steps:\n",
    "\n",
    "- determine the ranges of values for the variables x1 and x2\n",
    "\n",
    "- randomly select the centroid from the calculated intervals\n",
    "\n",
    "- assign points to the nearest centroid\n",
    "\n",
    "- calculate new centroid (as the arithmetic mean of the coordinates of the points in one cluster)\n",
    "\n",
    "- go back to step 3 and repeat until converge (10 iterations is enough)\n",
    "\n"
   ]
  },
  {
   "cell_type": "code",
   "execution_count": 1,
   "id": "23a67329",
   "metadata": {},
   "outputs": [
    {
     "name": "stdout",
     "output_type": "stream",
     "text": [
      "[0.352, 2.502]\n",
      "[2.663, -3.083]\n"
     ]
    }
   ],
   "source": [
    "import numpy as np\n",
    "from numpy.linalg import norm\n",
    "import pandas as pd\n",
    "import random\n",
    "\n",
    "\n",
    "np.random.seed(42)\n",
    "\n",
    "## Reading Data\n",
    "df = pd.read_csv('data.csv')\n",
    "\n",
    "## Determining min max of x1 and x2.\n",
    "x1_min = df.x1.min()\n",
    "x1_max = df.x1.max()\n",
    " \n",
    "x2_min = df.x2.min()\n",
    "x2_max = df.x2.max()\n",
    " \n",
    "## Defining two centroids (random.uniform means that centroids will unlikely be the same.)\n",
    "centroid_1 = np.array(\n",
    "    [\n",
    "        random.uniform(x1_min, x1_max),\n",
    "        random.uniform(x2_min, x2_max),\n",
    "    ]\n",
    ")\n",
    "centroid_2 = np.array(\n",
    "    [\n",
    "        random.uniform(x1_min, x1_max),\n",
    "        random.uniform(x2_min, x2_max),\n",
    "    ]\n",
    ")\n",
    "\n",
    "## Returning only the values in the df as an array.\n",
    "data = df.values\n",
    " \n",
    "## Loops and assigns the df values (point) to a cluster where the distance is the shortest from the centroid.\n",
    "for i in range(10):\n",
    "    clusters = []\n",
    "    for point in data:\n",
    "        centroid_1_dist = norm(centroid_1 - point)\n",
    "        centroid_2_dist = norm(centroid_2 - point)\n",
    "        cluster = 1\n",
    "        if centroid_1_dist > centroid_2_dist:\n",
    "            cluster = 2\n",
    "        clusters.append(cluster)\n",
    "\n",
    "## Adds cluster assigned to the df.\n",
    "    df['cluster'] = clusters\n",
    "\n",
    "## Updating centroids to the mean of each cluster    \n",
    "    centroid_1 = [\n",
    "        round(df[df.cluster == 1].x1.mean(), 3),\n",
    "        round(df[df.cluster == 1].x2.mean(), 3),\n",
    "    ]\n",
    "    centroid_2 = [\n",
    "        round(df[df.cluster == 2].x1.mean(), 3),\n",
    "        round(df[df.cluster == 2].x2.mean(), 3),\n",
    "    ]\n",
    "\n",
    "print(centroid_1)\n",
    "print(centroid_2)"
   ]
  },
  {
   "cell_type": "markdown",
   "id": "49372a7c",
   "metadata": {},
   "source": [
    "## Exercise 2:\n",
    "#### Load the clusters.csv file into the DataFrame. The file contains two variables x1 and x2. The distribution of the variables is as follows:\n",
    "\n",
    "#### Using the KMeans class from the scikit-learn, split the data into three clusters. Set arguments:\n",
    "\n",
    "- max_iter=1000\n",
    "\n",
    "- random_state=42\n",
    "\n",
    "#### In response, print the coordinates of the centroid of each cluster as shown below.\n",
    "\n"
   ]
  },
  {
   "cell_type": "code",
   "execution_count": 5,
   "id": "87d03a72",
   "metadata": {},
   "outputs": [
    {
     "name": "stdout",
     "output_type": "stream",
     "text": [
      "[[-0.55537629 -0.32971364]\n",
      " [ 4.86661316  0.42352176]\n",
      " [-2.15656147 -4.30478556]]\n",
      "         x1        x2\n",
      "0 -2.776333 -4.166641\n",
      "1 -1.335879 -1.083934\n",
      "2  6.507272 -0.158773\n",
      "3 -0.956622  0.235036\n",
      "4 -1.558383 -3.969630\n"
     ]
    }
   ],
   "source": [
    "import numpy as np\n",
    "import pandas as pd\n",
    "from sklearn.cluster import KMeans\n",
    "\n",
    "\n",
    "np.random.seed(42)\n",
    "\n",
    "## Reading Data\n",
    "df = pd.read_csv('clusters.txt', delimiter = ',')\n",
    "\n",
    "## Defining Model\n",
    "km = KMeans(n_clusters = 3, max_iter = 1000, random_state = 42)\n",
    "\n",
    "## Fitting Model\n",
    "km.fit(df)\n",
    "\n",
    "## Printing coordinates of the centroids\n",
    "print(km.cluster_centers_)\n",
    "\n",
    "print(df.head())"
   ]
  },
  {
   "cell_type": "markdown",
   "id": "bbcc8bc7",
   "metadata": {},
   "source": [
    "## Exercise 3:\n",
    "#### Load the clusters.csv file into the DataFrame. The distribution of the variables form this file is as follows:\n",
    "\n",
    "#### Using the KMeans class from the scikit-learn, the model was created. Make a prediction based on this model (kmeans) and assign a cluster number to each sample in the df DataFrame as 'y_kmeans' column.\n",
    "\n",
    "#### In response, print the first ten rows of the df DataFrame to the console."
   ]
  },
  {
   "cell_type": "code",
   "execution_count": 6,
   "id": "ec343463",
   "metadata": {},
   "outputs": [
    {
     "name": "stdout",
     "output_type": "stream",
     "text": [
      "         x1        x2  y_kmeans\n",
      "0 -2.776333 -4.166641         2\n",
      "1 -1.335879 -1.083934         0\n",
      "2  6.507272 -0.158773         1\n",
      "3 -0.956622  0.235036         0\n",
      "4 -1.558383 -3.969630         2\n",
      "5 -0.652304 -1.332604         0\n",
      "6  5.560753  1.517069         1\n",
      "7 -0.891052 -3.455786         2\n",
      "8  6.391479  3.597473         1\n",
      "9  5.812508 -0.845526         1\n"
     ]
    }
   ],
   "source": [
    "np.random.seed(42)\n",
    "\n",
    "kmeans = KMeans(n_clusters=3, max_iter=1000, random_state=42)\n",
    "kmeans.fit(df)\n",
    "\n",
    "## Predicting \n",
    "df['y_kmeans'] = kmeans.predict(df)\n",
    "\n",
    "print(df.head(10))"
   ]
  },
  {
   "cell_type": "markdown",
   "id": "14b802ec",
   "metadata": {},
   "source": [
    "## Exercise 4:\n",
    "\n",
    "#### Using the KMeans class (set random_state=42) from the scikit-learn, create a list of WCSS (Within-Cluster Sum-of-Squared) values for the number of clusters from 2 to 9 inclusive. Round WCSS values to two decimal places and print to the console."
   ]
  },
  {
   "cell_type": "code",
   "execution_count": 7,
   "id": "ceeeb145",
   "metadata": {},
   "outputs": [
    {
     "name": "stdout",
     "output_type": "stream",
     "text": [
      "[5611.32, 1950.88, 1714.8, 1487.39, 1263.45, 1105.1, 977.53, 856.57]\n"
     ]
    }
   ],
   "source": [
    "wcss = []\n",
    "for i in range(2, 10):\n",
    "    kmeans = KMeans(n_clusters=i, random_state=42)\n",
    "    kmeans.fit(df)\n",
    "    wcss.append(round(kmeans.inertia_, 2))\n",
    "    \n",
    "print(wcss)"
   ]
  },
  {
   "cell_type": "markdown",
   "id": "3068af90",
   "metadata": {},
   "source": [
    "#### Notes:\n",
    "\n",
    "- km.inertia_ provides the WCSS, indicating how tightly data points cluster around their centers. Lower values suggest better-defined clusters."
   ]
  },
  {
   "cell_type": "markdown",
   "id": "04d36970",
   "metadata": {},
   "source": [
    "## Exercise 5:\n",
    "\n",
    "#### Using the DBSCAN class from the scikit-learn, create a model to split given dataset into clusters. Set the following arguemnts:\n",
    "\n",
    "- eps=0.6\n",
    "\n",
    "- min_samples=7\n",
    "\n",
    "#### Make a prediction based on this model and assign a new column 'cluster' which stores the cluster number for each sample in the df DataFrame.\n",
    "\n",
    "#### In response, print the first ten rows of the df DataFrame."
   ]
  },
  {
   "cell_type": "code",
   "execution_count": 10,
   "id": "22b12ec1",
   "metadata": {},
   "outputs": [
    {
     "name": "stdout",
     "output_type": "stream",
     "text": [
      "         x1        x2  cluster\n",
      "0 -2.776333 -4.166641        0\n",
      "1 -1.335879 -1.083934        0\n",
      "2  6.507272 -0.158773        1\n",
      "3 -0.956622  0.235036        0\n",
      "4 -1.558383 -3.969630        0\n",
      "5 -0.652304 -1.332604        0\n",
      "6  5.560753  1.517069        1\n",
      "7 -0.891052 -3.455786        0\n",
      "8  6.391479  3.597473       -1\n",
      "9  5.812508 -0.845526        1\n"
     ]
    }
   ],
   "source": [
    "import numpy as np\n",
    "import pandas as pd\n",
    "from sklearn.cluster import DBSCAN\n",
    "\n",
    "df = pd.read_csv('clusters.txt', delimiter = ',')\n",
    "\n",
    "dbs = DBSCAN(eps = 0.6, min_samples = 7)\n",
    "\n",
    "dbs.fit(df)\n",
    "\n",
    "## Predicting \n",
    "df['cluster'] = dbs.labels_\n",
    "\n",
    "print(df.head(10))"
   ]
  },
  {
   "cell_type": "markdown",
   "id": "ae990682",
   "metadata": {},
   "source": [
    "## Notes:\n",
    "\n",
    "- In DBSCAN, -1 indicates that a point does not belong to any cluster and is considered noise."
   ]
  }
 ],
 "metadata": {
  "kernelspec": {
   "display_name": "Python 3 (ipykernel)",
   "language": "python",
   "name": "python3"
  },
  "language_info": {
   "codemirror_mode": {
    "name": "ipython",
    "version": 3
   },
   "file_extension": ".py",
   "mimetype": "text/x-python",
   "name": "python",
   "nbconvert_exporter": "python",
   "pygments_lexer": "ipython3",
   "version": "3.9.13"
  }
 },
 "nbformat": 4,
 "nbformat_minor": 5
}
