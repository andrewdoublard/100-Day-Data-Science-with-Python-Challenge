{
 "cells": [
  {
   "cell_type": "markdown",
   "id": "3de6a667",
   "metadata": {},
   "source": [
    "## Exercise 1\n",
    "#### The following array is given:\n",
    "\n",
    "A = np.array([[5, 1, 2, 1, 2],\n",
    "              [9, 1, 9, 7, 5],\n",
    "              [4, 1, 5, 7, 9]])\n",
    "              \n",
    "#### Extract all unique values of this array as a list and print it to the console.\n",
    "\n",
    "Tip: Use the np.unique() function."
   ]
  },
  {
   "cell_type": "code",
   "execution_count": 1,
   "id": "cd17d1cb",
   "metadata": {},
   "outputs": [
    {
     "name": "stdout",
     "output_type": "stream",
     "text": [
      "[1 2 4 5 7 9]\n"
     ]
    }
   ],
   "source": [
    "import numpy as np\n",
    "\n",
    "A = np.array([[5, 1, 2, 1, 2], [9, 1, 9, 7, 5], [4, 1, 5, 7, 9]])\n",
    "\n",
    "print(np.unique(A))"
   ]
  },
  {
   "cell_type": "markdown",
   "id": "3f067803",
   "metadata": {},
   "source": [
    "#### Note:\n",
    "\n",
    "The np.unique() function in NumPy is used to find the unique elements of an array. It can also provide additional information about the unique elements, such as their counts and indices."
   ]
  },
  {
   "cell_type": "markdown",
   "id": "075f47c1",
   "metadata": {},
   "source": [
    "## Exercise 2\n",
    "#### The following array is given:\n",
    "\n",
    "A = np.array([[0.4, 0.3, 0.3],\n",
    "              [0.1, 0.1, 0.8],\n",
    "              [0.2, 0.5, 0.3]])\n",
    "\n",
    "\n",
    "#### Return a list of indexes with maximum values for each row from this array and print it to the console.\n",
    "\n",
    "Tip: Use the np.argmax() function."
   ]
  },
  {
   "cell_type": "code",
   "execution_count": 5,
   "id": "42cd86a9",
   "metadata": {},
   "outputs": [
    {
     "name": "stdout",
     "output_type": "stream",
     "text": [
      "[0 2 1]\n"
     ]
    }
   ],
   "source": [
    "A = np.array([[0.4, 0.3, 0.3], [0.1, 0.1, 0.8], [0.2, 0.5, 0.3]])\n",
    "\n",
    "print(np.argmax(A, axis = 1))"
   ]
  },
  {
   "cell_type": "markdown",
   "id": "5bfe8654",
   "metadata": {},
   "source": [
    "#### Note:\n",
    "\n",
    "The np.argmax() function in NumPy is used to find the index of the maximum value in an array. It can be applied to both 1-dimensional and multi-dimensional arrays."
   ]
  },
  {
   "cell_type": "markdown",
   "id": "9b91ea44",
   "metadata": {},
   "source": [
    "## Exercise 3\n",
    "#### The following array is given:\n",
    "\n",
    "A = np.array([[4.99, 3.49, 9.99],\n",
    "              [1.99, 9.99, 4.99],\n",
    "              [14.99, 2.39, 7.29]])\n",
    "\n",
    "#### Sort this array: by row (ascending), by column (ascending), and print result to the console as shown below.\n",
    "\n",
    "Tip: Use the np.sort() function.\n"
   ]
  },
  {
   "cell_type": "code",
   "execution_count": 9,
   "id": "67a66dcb",
   "metadata": {},
   "outputs": [
    {
     "name": "stdout",
     "output_type": "stream",
     "text": [
      "Row ascending order = [[ 3.49  4.99  9.99]\n",
      " [ 1.99  4.99  9.99]\n",
      " [ 2.39  7.29 14.99]]\n",
      "Column ascending order = [[ 1.99  2.39  4.99]\n",
      " [ 4.99  3.49  7.29]\n",
      " [14.99  9.99  9.99]]\n"
     ]
    }
   ],
   "source": [
    "A = np.array([[4.99, 3.49, 9.99], [1.99, 9.99, 4.99], [14.99, 2.39, 7.29]])\n",
    "\n",
    "print('Row ascending order =', np.sort(A, axis = 1))\n",
    "print('Column ascending order =', np.sort(A, axis = 0))"
   ]
  },
  {
   "cell_type": "markdown",
   "id": "b0db9227",
   "metadata": {},
   "source": [
    "#### Note:\n",
    "\n",
    "The np.sort() function in NumPy is used to sort an array. It sorts the elements along a specified axis in ascending order by default."
   ]
  },
  {
   "cell_type": "markdown",
   "id": "d0c8071f",
   "metadata": {},
   "source": [
    "## Exercise 4\n",
    "#### Extract all elements from the following array with a value greater than 8 and print result to the console.\n",
    "\n",
    "A = np.array([[4.99, 3.49, 9.99],\n",
    "              [1.99, 9.99, 4.99],\n",
    "              [14.99, 2.39, 7.29]])"
   ]
  },
  {
   "cell_type": "code",
   "execution_count": 12,
   "id": "a5919032",
   "metadata": {},
   "outputs": [
    {
     "name": "stdout",
     "output_type": "stream",
     "text": [
      "[ 9.99  9.99 14.99]\n"
     ]
    }
   ],
   "source": [
    "A = np.array([[4.99, 3.49, 9.99], [1.99, 9.99, 4.99], [14.99, 2.39, 7.29]])\n",
    "\n",
    "print(A[A > 8])\n",
    "\n",
    "## Alternative for each element:\n",
    "## for x in A:\n",
    "##    print(x[x > 8])"
   ]
  },
  {
   "cell_type": "markdown",
   "id": "e6d0f1cd",
   "metadata": {},
   "source": [
    "#### Note:\n",
    "\n",
    "    - x > 8 creates a boolean mask where True indicates the element is greater than 8 \n",
    "    - x[x > 8] uses this boolean mask to filter and return the elements of x that are greater than 8."
   ]
  }
 ],
 "metadata": {
  "kernelspec": {
   "display_name": "Python 3 (ipykernel)",
   "language": "python",
   "name": "python3"
  },
  "language_info": {
   "codemirror_mode": {
    "name": "ipython",
    "version": 3
   },
   "file_extension": ".py",
   "mimetype": "text/x-python",
   "name": "python",
   "nbconvert_exporter": "python",
   "pygments_lexer": "ipython3",
   "version": "3.9.13"
  }
 },
 "nbformat": 4,
 "nbformat_minor": 5
}
