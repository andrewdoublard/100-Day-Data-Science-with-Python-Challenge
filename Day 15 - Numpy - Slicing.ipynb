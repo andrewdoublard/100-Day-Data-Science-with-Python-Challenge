{
 "cells": [
  {
   "cell_type": "markdown",
   "id": "a4fbff21",
   "metadata": {},
   "source": [
    "## Exercise 1\n",
    "#### The following array is given:\n",
    "\n",
    "array([[ 0,  1,  2,  3],\n",
    "       [ 4,  5,  6,  7],\n",
    "       [ 8,  9, 10, 11]])\n",
    "\n",
    "#### Using the slice operator, transform this array into the following:\n",
    "\n",
    "array([[ 3,  2,  1,  0],\n",
    "       [ 7,  6,  5,  4],\n",
    "       [11, 10,  9,  8]])\n",
    "\n",
    "#### In response, print transformed array to the console."
   ]
  },
  {
   "cell_type": "code",
   "execution_count": 3,
   "id": "2b599280",
   "metadata": {},
   "outputs": [
    {
     "name": "stdout",
     "output_type": "stream",
     "text": [
      "[[ 3  2  1  0]\n",
      " [ 7  6  5  4]\n",
      " [11 10  9  8]]\n"
     ]
    }
   ],
   "source": [
    "import numpy as np\n",
    "\n",
    "A = np.arange(12, dtype='int').reshape(-1, 4)\n",
    "\n",
    "A = A[:, ::-1]\n",
    "\n",
    "print(A)"
   ]
  },
  {
   "cell_type": "markdown",
   "id": "21fdd093",
   "metadata": {},
   "source": [
    "#### Notes:\n",
    "\n",
    "- The first : means we are considering all rows.\n",
    "- The ::-1 means we are reversing the order of the elements in each row."
   ]
  },
  {
   "cell_type": "markdown",
   "id": "f628e956",
   "metadata": {},
   "source": [
    "## Exercise 2\n",
    "#### The following  array is given:\n",
    "\n",
    "array([[ 0,  1,  2,  3],\n",
    "       [ 4,  5,  6,  7],\n",
    "       [ 8,  9, 10, 11]])\n",
    "\n",
    "#### Using the slice operator, transform this array into the following:\n",
    "\n",
    "array([[11, 10,  9,  8],\n",
    "       [ 7,  6,  5,  4],\n",
    "       [ 3,  2,  1,  0]])\n",
    "\n",
    "In response, print transformed array to the console."
   ]
  },
  {
   "cell_type": "code",
   "execution_count": 5,
   "id": "4f69d119",
   "metadata": {},
   "outputs": [
    {
     "name": "stdout",
     "output_type": "stream",
     "text": [
      "[[11 10  9  8]\n",
      " [ 7  6  5  4]\n",
      " [ 3  2  1  0]]\n"
     ]
    }
   ],
   "source": [
    "A = np.arange(12, dtype='int').reshape(-1, 4)\n",
    "\n",
    "A = A[::-1, ::-1]\n",
    "\n",
    "print(A)"
   ]
  },
  {
   "cell_type": "markdown",
   "id": "fa71a20f",
   "metadata": {},
   "source": [
    "#### Notes:\n",
    "\n",
    "- The first [::-1] means we are reversing the order of the rows.\n",
    "- The second [::-1] means we are reversing the order of the columns in each row."
   ]
  },
  {
   "cell_type": "markdown",
   "id": "4daac76d",
   "metadata": {},
   "source": [
    "## Exercise 3\n",
    "#### Random seed is set to 42. The following array is given:\n",
    "\n",
    "image = np.random.randint(\n",
    "    low=0, high=256, size=(10, 10, 3), dtype=np.uint8\n",
    ")\n",
    "\n",
    "Extract the first channel (index 0) of this image array and print it to the console."
   ]
  },
  {
   "cell_type": "code",
   "execution_count": 8,
   "id": "a372af40",
   "metadata": {},
   "outputs": [
    {
     "name": "stdout",
     "output_type": "stream",
     "text": [
      "[[102  95 234   3  14  46  99 212 188 153]\n",
      " [203 214 121 114 239 244  74  14 145 184]\n",
      " [116  85 226 235 151 181 160   6  52  14]\n",
      " [ 76 233 235 213  68 219 129   0 140 147]\n",
      " [ 20  46  19 209  57 156  86  24 235 110]\n",
      " [231 254 218 134 162  73 169  35 242 253]\n",
      " [187 249 201 231 189 116  49  74 189 158]\n",
      " [ 29   7  54 131 181 123 248 119 228  13]\n",
      " [ 50 155  40 120  72 115 167  85 131 242]\n",
      " [ 52 169  13 144 243 167   8  77  22  10]]\n"
     ]
    }
   ],
   "source": [
    "np.random.seed(42)\n",
    "\n",
    "image = np.random.randint(\n",
    "    low=0, high=256, size=(10, 10, 3), dtype=np.uint8\n",
    ")\n",
    "\n",
    "image = image[:, :,0]\n",
    "\n",
    "print(image)"
   ]
  },
  {
   "cell_type": "markdown",
   "id": "fe9b862b",
   "metadata": {},
   "source": [
    "#### Notes:\n",
    "- The first : means we are considering all rows (height) of the image.\n",
    "- The second : means we are considering all columns (width) of the image.\n",
    "- The 0 indicates that we are extracting the first slice."
   ]
  },
  {
   "cell_type": "markdown",
   "id": "c2d809b6",
   "metadata": {},
   "source": [
    "## Exercise 4\n",
    "#### The following array is given:\n",
    "\n",
    "image = np.random.randint(\n",
    "    low=0, high=256, size=(10, 10, 3), dtype=np.uint8\n",
    ")\n",
    "\n",
    "#### Extract any array of shape (5, 5, 3) from this array and assign to the result variable."
   ]
  },
  {
   "cell_type": "code",
   "execution_count": 11,
   "id": "cb893bda",
   "metadata": {},
   "outputs": [
    {
     "name": "stdout",
     "output_type": "stream",
     "text": [
      "(5, 5, 3)\n"
     ]
    }
   ],
   "source": [
    "image = np.random.randint( low=0, high=256, size=(10, 10, 3), dtype=np.uint8 )\n",
    "\n",
    "result = image[0:5, 0:5, :]\n",
    "\n",
    "print(np.shape(result))"
   ]
  },
  {
   "cell_type": "markdown",
   "id": "5ba13f0c",
   "metadata": {},
   "source": [
    "#### Notes:\n",
    "\n",
    "- The first :5 means \"take the first 5 rows\".\n",
    "- The second :5 means \"take the first 5 columns\".\n",
    "- The third : means \"take all\"."
   ]
  }
 ],
 "metadata": {
  "kernelspec": {
   "display_name": "Python 3 (ipykernel)",
   "language": "python",
   "name": "python3"
  },
  "language_info": {
   "codemirror_mode": {
    "name": "ipython",
    "version": 3
   },
   "file_extension": ".py",
   "mimetype": "text/x-python",
   "name": "python",
   "nbconvert_exporter": "python",
   "pygments_lexer": "ipython3",
   "version": "3.9.13"
  }
 },
 "nbformat": 4,
 "nbformat_minor": 5
}
