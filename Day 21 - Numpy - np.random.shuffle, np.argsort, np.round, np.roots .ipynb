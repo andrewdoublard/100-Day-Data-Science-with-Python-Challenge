{
 "cells": [
  {
   "cell_type": "markdown",
   "id": "988dfa5f",
   "metadata": {},
   "source": [
    "## Exercise 1\n",
    "#### The following array is given:\n",
    "\n",
    "#### Starting with the second row of this array, randomly shuffle the rows and print result to the console.\n",
    "\n",
    "Tip: Use the np.random.shuffle() function."
   ]
  },
  {
   "cell_type": "code",
   "execution_count": 4,
   "id": "374d6956",
   "metadata": {},
   "outputs": [
    {
     "name": "stdout",
     "output_type": "stream",
     "text": [
      "[['id' 'price']\n",
      " ['001' '14.99']\n",
      " ['003' '7.99']\n",
      " ['004' '2.49']\n",
      " ['005' '1.49']\n",
      " ['002' '4.99']]\n"
     ]
    }
   ],
   "source": [
    "import numpy as np\n",
    "\n",
    "A = np.array([['id', 'price'],\n",
    "              ['001', 14.99],\n",
    "              ['002', 4.99],\n",
    "              ['003', 7.99],\n",
    "              ['004', 2.49],\n",
    "              ['005', 1.49]])\n",
    "\n",
    "np.random.shuffle(A[1:])\n",
    "\n",
    "print(A)"
   ]
  },
  {
   "cell_type": "markdown",
   "id": "7f441e3f",
   "metadata": {},
   "source": [
    "#### Note:\n",
    "\n",
    "- np.random.shuffle will shuffle the rows starting from the second row (i.e., A[1:]), and the changes will be directly reflected in A. The print(A) statement will then display the shuffled array."
   ]
  },
  {
   "cell_type": "markdown",
   "id": "5e699bcf",
   "metadata": {},
   "source": [
    "## Exercise 2\n",
    "\n",
    "#### Return a list of indexes that sorts this array in ascending order and print it to the console.\n",
    "\n",
    "Tip: Use the np.argsort() function."
   ]
  },
  {
   "cell_type": "code",
   "execution_count": 6,
   "id": "43658897",
   "metadata": {},
   "outputs": [
    {
     "name": "stdout",
     "output_type": "stream",
     "text": [
      "[5 2 1 0 4 3]\n"
     ]
    }
   ],
   "source": [
    "A = np.array([0.2, 0.15, 0.1, 0.3, 0.2, 0.05])\n",
    "\n",
    "E2 = np.argsort(A)\n",
    "\n",
    "print(E2)"
   ]
  },
  {
   "cell_type": "markdown",
   "id": "f158d238",
   "metadata": {},
   "source": [
    "#### Note:\n",
    "\n",
    "- np.argsort() is a function that returns the indices that would sort an array. In other words, it provides the indices of the elements in a sorted order. This can be particularly useful when you want to sort an array but need to keep track of the original indices."
   ]
  },
  {
   "cell_type": "markdown",
   "id": "9dffd1ba",
   "metadata": {},
   "source": [
    "## Exercise 3\n",
    "\n",
    "#### Round the values of this array to three decimal places and print result to the console.\n",
    "\n",
    "Tip: Use the np.round() function."
   ]
  },
  {
   "cell_type": "code",
   "execution_count": 9,
   "id": "2df4af8e",
   "metadata": {},
   "outputs": [
    {
     "name": "stdout",
     "output_type": "stream",
     "text": [
      "[[ 0.497 -0.138  0.648  1.523 -0.234 -0.234  1.579  0.767]\n",
      " [-0.469  0.543 -0.463 -0.466  0.242 -1.913 -1.725 -0.562]\n",
      " [-1.013  0.314 -0.908 -1.412  1.466 -0.226  0.068 -1.425]\n",
      " [-0.544  0.111 -1.151  0.376 -0.601 -0.292 -0.602  1.852]\n",
      " [-0.013 -1.058  0.823 -1.221  0.209 -1.96  -1.328  0.197]\n",
      " [ 0.738  0.171 -0.116 -0.301 -1.479 -0.72  -0.461  1.057]\n",
      " [ 0.344 -1.763  0.324 -0.385 -0.677  0.612  1.031  0.931]\n",
      " [-0.839 -0.309  0.331  0.976 -0.479 -0.186 -1.106 -1.196]\n",
      " [ 0.813  1.356 -0.072  1.004  0.362 -0.645  0.361  1.538]\n",
      " [-0.036  1.565 -2.62   0.822  0.087 -0.299  0.092 -1.988]]\n"
     ]
    }
   ],
   "source": [
    "np.random.seed(42)\n",
    "A = np.random.randn(10, 8)\n",
    "\n",
    "E3 = np.round(A, decimals = 3)\n",
    "\n",
    "print(E3)"
   ]
  },
  {
   "cell_type": "markdown",
   "id": "1f97190e",
   "metadata": {},
   "source": [
    "#### Note:\n",
    "\n",
    "- np.round() is a function in NumPy used to round elements of an array to the specified number of decimals. "
   ]
  },
  {
   "cell_type": "markdown",
   "id": "4d92c3b3",
   "metadata": {},
   "source": [
    "## Exercise 4\n",
    "#### Calculate  the roots of the following polynomial:\n",
    "\n",
    "#### In response, print these roots to the console.\n",
    "\n",
    "Tip: Use the np.roots() function."
   ]
  },
  {
   "cell_type": "code",
   "execution_count": 11,
   "id": "7fedd124",
   "metadata": {},
   "outputs": [
    {
     "name": "stdout",
     "output_type": "stream",
     "text": [
      "Roots of the polynomial 4x^2 + 5x + 1: [-1.   -0.25]\n"
     ]
    }
   ],
   "source": [
    "coefficients = [4, 5, 1]\n",
    "\n",
    "roots = np.roots(coefficients)\n",
    "\n",
    "print(\"Roots of the polynomial 4x^2 + 5x + 1:\", roots)"
   ]
  },
  {
   "cell_type": "markdown",
   "id": "e41bbbe4",
   "metadata": {},
   "source": [
    "#### Note:\n",
    "\n",
    "- np.roots() is a function in NumPy that finds the roots of a polynomial with given coefficients."
   ]
  }
 ],
 "metadata": {
  "kernelspec": {
   "display_name": "Python 3 (ipykernel)",
   "language": "python",
   "name": "python3"
  },
  "language_info": {
   "codemirror_mode": {
    "name": "ipython",
    "version": 3
   },
   "file_extension": ".py",
   "mimetype": "text/x-python",
   "name": "python",
   "nbconvert_exporter": "python",
   "pygments_lexer": "ipython3",
   "version": "3.9.13"
  }
 },
 "nbformat": 4,
 "nbformat_minor": 5
}
