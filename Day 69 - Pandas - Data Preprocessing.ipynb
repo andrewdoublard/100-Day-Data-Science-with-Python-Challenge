{
 "cells": [
  {
   "cell_type": "markdown",
   "id": "a1ca93cc",
   "metadata": {},
   "source": [
    "## Exercise 1\n",
    "#### The quotations DataFrame is given below:\n",
    "\n",
    "#### Calculate the percentage of trading sessions for which Amazon and Tesla had the same direction (similarity_flag == 1) and print to the console as shown below."
   ]
  },
  {
   "cell_type": "code",
   "execution_count": 4,
   "id": "d7d4cc8e",
   "metadata": {},
   "outputs": [
    {
     "name": "stdout",
     "output_type": "stream",
     "text": [
      "55.00%\n"
     ]
    }
   ],
   "source": [
    "import pandas as pd\n",
    "\n",
    "amazon = pd.read_csv('amazon.csv', index_col=0)\n",
    "tesla = pd.read_csv('tesla.csv', index_col=0)\n",
    "amazon.columns = ['amzn_' + col.lower() for col in amazon.columns]\n",
    "tesla.columns = ['tsla_' + col.lower() for col in tesla.columns]\n",
    "result = pd.concat([amazon, tesla], axis=1)\n",
    "quotations = result[\n",
    "    ['amzn_open', 'amzn_close', 'tsla_open', 'tsla_close']\n",
    "].copy()\n",
    "quotations['amzn_change'] = (\n",
    "    quotations['amzn_close'] / quotations['amzn_open'] - 1\n",
    ") * 100\n",
    "quotations['tsla_change'] = (\n",
    "    quotations['tsla_close'] / quotations['tsla_open'] - 1\n",
    ") * 100\n",
    "quotations['similarity_flag'] = (\n",
    "    quotations['amzn_change'] * quotations['tsla_change'] > 0\n",
    ") * 1\n",
    "\n",
    "result = quotations['similarity_flag'].sum() / len(quotations)\n",
    "print(f'{result * 100:.2f}%')\n"
   ]
  },
  {
   "cell_type": "markdown",
   "id": "25b70db1",
   "metadata": {},
   "source": [
    "#### Notes:\n",
    "\n",
    "- The code calculates the ratio of rows where the similarity_flag is 1 by summing the similarity_flag column and dividing by the total number of rows (len(quotations)).\n",
    "- The f'{} syntax is used in Python for f-strings, which allow you to embed expressions directly within string literals. In this case it expresses the result * 100 to two decimal places, giving you a %. "
   ]
  },
  {
   "cell_type": "markdown",
   "id": "b6ec7e67",
   "metadata": {},
   "source": [
    "## Exercise 2\n",
    "#### Using these dictionaries create three DataFrame objects with the following names:\n",
    "\n",
    "- products\n",
    "\n",
    "- orders_day_1\n",
    "\n",
    "- orders_day_2\n",
    "\n",
    "#### Then print these objects to the console as shown below."
   ]
  },
  {
   "cell_type": "code",
   "execution_count": 5,
   "id": "79a6c7bf",
   "metadata": {},
   "outputs": [
    {
     "name": "stdout",
     "output_type": "stream",
     "text": [
      "  product_id          name    price\n",
      "0        001  mobile phone  1490.00\n",
      "1        004        laptop  3400.00\n",
      "2        007         mouse    59.99\n",
      "3        010        tablet   999.00\n",
      "  order_id product_id  quantity\n",
      "0     1001        004         2\n",
      "1     1002        001         1\n",
      "2     1003        001         1\n",
      "3     1004        007         3\n",
      "  order_id product_id  quantity\n",
      "0     1005        010         2\n",
      "1     1006        001         1\n",
      "2     1007        007         1\n"
     ]
    }
   ],
   "source": [
    "products_dict = {\n",
    "    'product_id': ['001', '004', '007', '010'],\n",
    "    'name': ['mobile phone', 'laptop', 'mouse', 'tablet'],\n",
    "    'price': [1490.0, 3400.0, 59.99, 999.00]\n",
    "}\n",
    " \n",
    "orders_day_1_dict = {\n",
    "    'order_id': ['1001', '1002', '1003', '1004'],\n",
    "    'product_id': ['004', '001', '001', '007'],\n",
    "    'quantity': [2, 1, 1, 3]\n",
    "}       \n",
    " \n",
    "orders_day_2_dict = {\n",
    "    'order_id': ['1005', '1006', '1007'],\n",
    "    'product_id': ['010', '001', '007'],\n",
    "    'quantity': [2, 1, 1]\n",
    "}  \n",
    "\n",
    "products = pd.DataFrame(products_dict)\n",
    "orders_day_1 = pd.DataFrame(orders_day_1_dict)\n",
    "orders_day_2 = pd.DataFrame(orders_day_2_dict)\n",
    "\n",
    "print(products)\n",
    "print(orders_day_1)\n",
    "print(orders_day_2)"
   ]
  },
  {
   "cell_type": "markdown",
   "id": "ef8fe605",
   "metadata": {},
   "source": [
    "## Exercise 3\n",
    "\n",
    "#### Combine orders_day_1 DataFrame with orders_day_2 DataFrame: and assign to the orders variable. Make sure the new DataFrame is indexed correctly.\n",
    "\n",
    "#### In response, print the orders DataFrame to the console."
   ]
  },
  {
   "cell_type": "code",
   "execution_count": 9,
   "id": "27b5b59c",
   "metadata": {},
   "outputs": [
    {
     "name": "stdout",
     "output_type": "stream",
     "text": [
      "  order_id product_id  quantity\n",
      "0     1001        004         2\n",
      "1     1002        001         1\n",
      "2     1003        001         1\n",
      "3     1004        007         3\n",
      "4     1005        010         2\n",
      "5     1006        001         1\n",
      "6     1007        007         1\n"
     ]
    }
   ],
   "source": [
    "orders = pd.concat([orders_day_1, orders_day_2], ignore_index=True)\n",
    "\n",
    "print(orders)"
   ]
  }
 ],
 "metadata": {
  "kernelspec": {
   "display_name": "Python 3 (ipykernel)",
   "language": "python",
   "name": "python3"
  },
  "language_info": {
   "codemirror_mode": {
    "name": "ipython",
    "version": 3
   },
   "file_extension": ".py",
   "mimetype": "text/x-python",
   "name": "python",
   "nbconvert_exporter": "python",
   "pygments_lexer": "ipython3",
   "version": "3.9.13"
  }
 },
 "nbformat": 4,
 "nbformat_minor": 5
}
