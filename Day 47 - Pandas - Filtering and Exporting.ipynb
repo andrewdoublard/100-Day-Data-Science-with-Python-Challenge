{
 "cells": [
  {
   "cell_type": "markdown",
   "id": "f63a4892",
   "metadata": {},
   "source": [
    "## Exercise 1\n",
    "#### The df DataFrame is given below. Extract first five rows of the df and convert into the dictionary as shown below.\n",
    "\n",
    "#### In response, print this dictionary to the console."
   ]
  },
  {
   "cell_type": "code",
   "execution_count": 1,
   "id": "75c8d8e7",
   "metadata": {},
   "outputs": [
    {
     "name": "stdout",
     "output_type": "stream",
     "text": [
      "{'col1': {0: 0.3745401188473625, 1: 0.9507143064099162, 2: 0.7319939418114051, 3: 0.5986584841970366, 4: 0.15601864044243652}, 'col2': {0: -1.0128311203344238, 1: 0.3142473325952739, 2: -0.9080240755212109, 3: -1.4123037013352915, 4: 1.465648768921554}}\n"
     ]
    }
   ],
   "source": [
    "import numpy as np\n",
    "import pandas as pd\n",
    "\n",
    "\n",
    "np.random.seed(42)\n",
    "s1 = pd.Series(np.random.rand(20))\n",
    "s2 = pd.Series(np.random.randn(20))\n",
    "\n",
    "df = pd.concat([s1, s2], axis=1)\n",
    "df.columns = ['col1', 'col2']\n",
    "\n",
    "E1 = df.head(5).to_dict()\n",
    "\n",
    "print(E1)"
   ]
  },
  {
   "cell_type": "markdown",
   "id": "dcaf6d0f",
   "metadata": {},
   "source": [
    "#### Notes:\n",
    "- The to_dict() method is used for converting pandas DataFrames or Series to various dictionary formats."
   ]
  },
  {
   "cell_type": "markdown",
   "id": "43738288",
   "metadata": {},
   "source": [
    "## Exercise 2\n",
    "#### The df DataFrame is given below. Extract the first five rows of this object, convert to HTML and assign it to the df_html variable.\n",
    "\n",
    "#### Print the contents of the df_html variable to the console."
   ]
  },
  {
   "cell_type": "code",
   "execution_count": 4,
   "id": "adffd8f5",
   "metadata": {},
   "outputs": [
    {
     "name": "stdout",
     "output_type": "stream",
     "text": [
      "<table border=\"1\" class=\"dataframe\">\n",
      "  <thead>\n",
      "    <tr style=\"text-align: right;\">\n",
      "      <th></th>\n",
      "      <th>col1</th>\n",
      "      <th>col2</th>\n",
      "    </tr>\n",
      "  </thead>\n",
      "  <tbody>\n",
      "    <tr>\n",
      "      <th>0</th>\n",
      "      <td>0.374540</td>\n",
      "      <td>-1.012831</td>\n",
      "    </tr>\n",
      "    <tr>\n",
      "      <th>1</th>\n",
      "      <td>0.950714</td>\n",
      "      <td>0.314247</td>\n",
      "    </tr>\n",
      "    <tr>\n",
      "      <th>2</th>\n",
      "      <td>0.731994</td>\n",
      "      <td>-0.908024</td>\n",
      "    </tr>\n",
      "    <tr>\n",
      "      <th>3</th>\n",
      "      <td>0.598658</td>\n",
      "      <td>-1.412304</td>\n",
      "    </tr>\n",
      "    <tr>\n",
      "      <th>4</th>\n",
      "      <td>0.156019</td>\n",
      "      <td>1.465649</td>\n",
      "    </tr>\n",
      "  </tbody>\n",
      "</table>\n"
     ]
    }
   ],
   "source": [
    "df_html = df.head(5).to_html()\n",
    "\n",
    "print(df_html)"
   ]
  },
  {
   "cell_type": "markdown",
   "id": "201ddc16",
   "metadata": {},
   "source": [
    "#### Notes:\n",
    "\n",
    "- The to_html() method in pandas is used to convert a DataFrame into an HTML table. This method is particularly useful when you need to display a DataFrame on a webpage or in a Jupyter Notebook with HTML rendering."
   ]
  },
  {
   "cell_type": "markdown",
   "id": "56e200a7",
   "metadata": {},
   "source": [
    "## Exercise 3\n",
    "#### The following DataFrame is given:\n",
    "\n",
    "#### Extract rows of this DataFrame for which the C column is greater than 0.8 and print result to the console."
   ]
  },
  {
   "cell_type": "code",
   "execution_count": 5,
   "id": "f08dd0f7",
   "metadata": {},
   "outputs": [
    {
     "name": "stdout",
     "output_type": "stream",
     "text": [
      "          A         B         C         D\n",
      "8  0.065052  0.948886  0.965632  0.808397\n"
     ]
    }
   ],
   "source": [
    "np.random.seed(42)\n",
    "df = pd.DataFrame(np.random.rand(10, 4), columns=list('ABCD'))\n",
    "\n",
    "print(df.query('C > 0.8'))"
   ]
  }
 ],
 "metadata": {
  "kernelspec": {
   "display_name": "Python 3 (ipykernel)",
   "language": "python",
   "name": "python3"
  },
  "language_info": {
   "codemirror_mode": {
    "name": "ipython",
    "version": 3
   },
   "file_extension": ".py",
   "mimetype": "text/x-python",
   "name": "python",
   "nbconvert_exporter": "python",
   "pygments_lexer": "ipython3",
   "version": "3.9.13"
  }
 },
 "nbformat": 4,
 "nbformat_minor": 5
}
