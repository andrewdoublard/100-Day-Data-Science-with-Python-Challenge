{
 "cells": [
  {
   "cell_type": "markdown",
   "id": "c6b7538a",
   "metadata": {},
   "source": [
    "## Exercise 1\n",
    "#### The following arrays are given:\n",
    "\n",
    "A = np.array(['001', '002', '003'], dtype=np.str)\n",
    "B = np.array(['XC', 'YC', 'ZC'], dtype=np.str)\n",
    "\n",
    "#### Merge them together as shown below and print result to the console.\n",
    "\n",
    "Tip: Use the np.char.add() function."
   ]
  },
  {
   "cell_type": "code",
   "execution_count": 3,
   "id": "1aa27f8c",
   "metadata": {},
   "outputs": [
    {
     "name": "stdout",
     "output_type": "stream",
     "text": [
      "['001XC' '002YC' '003ZC']\n"
     ]
    }
   ],
   "source": [
    "import numpy as np\n",
    "\n",
    "A = np.array(['001', '002', '003'], dtype=str)\n",
    "B = np.array(['XC', 'YC', 'ZC'], dtype=str)\n",
    "\n",
    "E1 = np.char.add(A,B)\n",
    "\n",
    "print(E1)"
   ]
  },
  {
   "cell_type": "markdown",
   "id": "93c7ef23",
   "metadata": {},
   "source": [
    "#### Note:\n",
    "\n",
    "- The np.char.add function in NumPy is used to perform element-wise string concatenation. It takes two arrays of strings (or a single array and a scalar string) and concatenates the corresponding elements from each array. "
   ]
  },
  {
   "cell_type": "markdown",
   "id": "a38cace8",
   "metadata": {},
   "source": [
    "## Exercise 2:\n",
    "\n",
    "#### The following array is given:\n",
    "\n",
    "A = np.array(['1', '2', '3'], dtype=np.str)\n",
    "\n",
    "#### Add '000' (3 zeros) at the beginning of each element of this array as shown below and print result to the console.\n",
    "\n",
    "Tip: Use the np.char.add() or np.char.rjust() or np.char.zfill() function."
   ]
  },
  {
   "cell_type": "code",
   "execution_count": 6,
   "id": "552e997c",
   "metadata": {},
   "outputs": [
    {
     "name": "stdout",
     "output_type": "stream",
     "text": [
      "['0001' '0002' '0003']\n"
     ]
    }
   ],
   "source": [
    "A = np.array(['1', '2', '3'], dtype=str)\n",
    "\n",
    "E2 = np.char.add('000', A)\n",
    "\n",
    "print(E2)"
   ]
  },
  {
   "cell_type": "markdown",
   "id": "053df2b7",
   "metadata": {},
   "source": [
    "#### Note:\n",
    "\n",
    "- The np.char.add function in NumPy is used for element-wise string concatenation of two input arrays. It essentially performs the addition of corresponding string elements from the input arrays."
   ]
  },
  {
   "cell_type": "markdown",
   "id": "aafd0048",
   "metadata": {},
   "source": [
    "## Exercise 3\n",
    "#### The following array is given:\n",
    "\n",
    "A = np.array([['PLW CDR 11B TEN', 'AMC LPP'],\n",
    "              ['CDR PKO KGH', 'CCC QMK']], dtype=np.str)\n",
    "\n",
    "#### Split each element of this array by space character as shown below.\n",
    "\n",
    "Tip: Use the np.char.split() function."
   ]
  },
  {
   "cell_type": "code",
   "execution_count": 8,
   "id": "f9cf424e",
   "metadata": {},
   "outputs": [
    {
     "name": "stdout",
     "output_type": "stream",
     "text": [
      "[[list(['PLW', 'CDR', '11B', 'TEN']) list(['AMC', 'LPP'])]\n",
      " [list(['CDR', 'PKO', 'KGH']) list(['CCC', 'QMK'])]]\n"
     ]
    }
   ],
   "source": [
    "A = np.array([['PLW CDR 11B TEN', 'AMC LPP'], ['CDR PKO KGH', 'CCC QMK']], dtype=str)\n",
    "\n",
    "E3 = np.char.split(A)\n",
    "\n",
    "print(E3)"
   ]
  },
  {
   "cell_type": "markdown",
   "id": "ea8c1338",
   "metadata": {},
   "source": [
    "#### Note:\n",
    "\n",
    "- The np.char.split function in NumPy is used to split elements of an array of strings based on a specified separator. This function is particularly useful for breaking down strings into lists of substrings."
   ]
  }
 ],
 "metadata": {
  "kernelspec": {
   "display_name": "Python 3 (ipykernel)",
   "language": "python",
   "name": "python3"
  },
  "language_info": {
   "codemirror_mode": {
    "name": "ipython",
    "version": 3
   },
   "file_extension": ".py",
   "mimetype": "text/x-python",
   "name": "python",
   "nbconvert_exporter": "python",
   "pygments_lexer": "ipython3",
   "version": "3.9.13"
  }
 },
 "nbformat": 4,
 "nbformat_minor": 5
}
