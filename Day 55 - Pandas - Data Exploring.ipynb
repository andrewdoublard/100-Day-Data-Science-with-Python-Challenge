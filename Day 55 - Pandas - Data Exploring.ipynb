{
 "cells": [
  {
   "cell_type": "markdown",
   "id": "f1264582",
   "metadata": {},
   "source": [
    "## Exercise 1\n",
    "#### Using pandas load the london_bike.csv file into the DataFrame and assign to df variable:\n",
    "\n",
    "https://storage.googleapis.com/esmartdata-courses-files/ds-bootcamp/london_bike.csv\n",
    "\n",
    "#### In response print basic information about this DataFrame to the console."
   ]
  },
  {
   "cell_type": "code",
   "execution_count": 2,
   "id": "a3c4eade",
   "metadata": {},
   "outputs": [
    {
     "name": "stdout",
     "output_type": "stream",
     "text": [
      "<class 'pandas.core.frame.DataFrame'>\n",
      "RangeIndex: 17414 entries, 0 to 17413\n",
      "Data columns (total 10 columns):\n",
      " #   Column        Non-Null Count  Dtype  \n",
      "---  ------        --------------  -----  \n",
      " 0   timestamp     17414 non-null  object \n",
      " 1   cnt           17414 non-null  int64  \n",
      " 2   t1            17414 non-null  float64\n",
      " 3   t2            17414 non-null  float64\n",
      " 4   hum           17414 non-null  float64\n",
      " 5   wind_speed    17414 non-null  float64\n",
      " 6   weather_code  17414 non-null  float64\n",
      " 7   is_holiday    17414 non-null  float64\n",
      " 8   is_weekend    17414 non-null  float64\n",
      " 9   season        17414 non-null  float64\n",
      "dtypes: float64(8), int64(1), object(1)\n",
      "memory usage: 1.3+ MB\n",
      "None\n"
     ]
    }
   ],
   "source": [
    "import pandas as pd\n",
    "\n",
    "\n",
    "url = (\n",
    "    'https://storage.googleapis.com/esmartdata-courses-files/'\n",
    "    'ds-bootcamp/london_bike.csv'\n",
    ")\n",
    "\n",
    "df = pd.read_csv(url)\n",
    "\n",
    "print(df.info())"
   ]
  },
  {
   "cell_type": "markdown",
   "id": "9d6b7c1b",
   "metadata": {},
   "source": [
    "## Exercise 2\n",
    "#### The df DataFrame is given below. Print the first and last five rows of this object and look at the data."
   ]
  },
  {
   "cell_type": "code",
   "execution_count": 4,
   "id": "9bb9186a",
   "metadata": {},
   "outputs": [
    {
     "name": "stdout",
     "output_type": "stream",
     "text": [
      "             timestamp  cnt   t1   t2    hum  wind_speed  weather_code  \\\n",
      "0  2015-01-04 00:00:00  182  3.0  2.0   93.0         6.0           3.0   \n",
      "1  2015-01-04 01:00:00  138  3.0  2.5   93.0         5.0           1.0   \n",
      "2  2015-01-04 02:00:00  134  2.5  2.5   96.5         0.0           1.0   \n",
      "3  2015-01-04 03:00:00   72  2.0  2.0  100.0         0.0           1.0   \n",
      "4  2015-01-04 04:00:00   47  2.0  0.0   93.0         6.5           1.0   \n",
      "\n",
      "   is_holiday  is_weekend  season  \n",
      "0         0.0         1.0     3.0  \n",
      "1         0.0         1.0     3.0  \n",
      "2         0.0         1.0     3.0  \n",
      "3         0.0         1.0     3.0  \n",
      "4         0.0         1.0     3.0  \n",
      "                 timestamp   cnt   t1   t2   hum  wind_speed  weather_code  \\\n",
      "17409  2017-01-03 19:00:00  1042  5.0  1.0  81.0        19.0           3.0   \n",
      "17410  2017-01-03 20:00:00   541  5.0  1.0  81.0        21.0           4.0   \n",
      "17411  2017-01-03 21:00:00   337  5.5  1.5  78.5        24.0           4.0   \n",
      "17412  2017-01-03 22:00:00   224  5.5  1.5  76.0        23.0           4.0   \n",
      "17413  2017-01-03 23:00:00   139  5.0  1.0  76.0        22.0           2.0   \n",
      "\n",
      "       is_holiday  is_weekend  season  \n",
      "17409         0.0         0.0     3.0  \n",
      "17410         0.0         0.0     3.0  \n",
      "17411         0.0         0.0     3.0  \n",
      "17412         0.0         0.0     3.0  \n",
      "17413         0.0         0.0     3.0  \n"
     ]
    }
   ],
   "source": [
    "print(df.head())\n",
    "print(df.tail())"
   ]
  },
  {
   "cell_type": "markdown",
   "id": "332918e1",
   "metadata": {},
   "source": [
    "## Exercise 3\n",
    "#### The df DataFrame is given below. Note that the timestamp column is of object type. Change it to datetime type.\n",
    "\n",
    "#### Using the pd.DataFrame.info() print some information about this DataFrame to the console.\n",
    "\n",
    "Tip: Use the pd.to_datetime() function."
   ]
  },
  {
   "cell_type": "code",
   "execution_count": 6,
   "id": "c6f1f668",
   "metadata": {},
   "outputs": [
    {
     "name": "stdout",
     "output_type": "stream",
     "text": [
      "<class 'pandas.core.frame.DataFrame'>\n",
      "RangeIndex: 17414 entries, 0 to 17413\n",
      "Data columns (total 10 columns):\n",
      " #   Column        Non-Null Count  Dtype         \n",
      "---  ------        --------------  -----         \n",
      " 0   timestamp     17414 non-null  datetime64[ns]\n",
      " 1   cnt           17414 non-null  int64         \n",
      " 2   t1            17414 non-null  float64       \n",
      " 3   t2            17414 non-null  float64       \n",
      " 4   hum           17414 non-null  float64       \n",
      " 5   wind_speed    17414 non-null  float64       \n",
      " 6   weather_code  17414 non-null  float64       \n",
      " 7   is_holiday    17414 non-null  float64       \n",
      " 8   is_weekend    17414 non-null  float64       \n",
      " 9   season        17414 non-null  float64       \n",
      "dtypes: datetime64[ns](1), float64(8), int64(1)\n",
      "memory usage: 1.3 MB\n",
      "None\n"
     ]
    }
   ],
   "source": [
    "df['timestamp'] = pd.to_datetime(df['timestamp'])\n",
    "\n",
    "print(df.info())"
   ]
  }
 ],
 "metadata": {
  "kernelspec": {
   "display_name": "Python 3 (ipykernel)",
   "language": "python",
   "name": "python3"
  },
  "language_info": {
   "codemirror_mode": {
    "name": "ipython",
    "version": 3
   },
   "file_extension": ".py",
   "mimetype": "text/x-python",
   "name": "python",
   "nbconvert_exporter": "python",
   "pygments_lexer": "ipython3",
   "version": "3.9.13"
  }
 },
 "nbformat": 4,
 "nbformat_minor": 5
}
