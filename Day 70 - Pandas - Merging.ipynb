{
 "cells": [
  {
   "cell_type": "markdown",
   "id": "b7d35839",
   "metadata": {},
   "source": [
    "## Exercise 1\n",
    "#### Using the given products DataFrame and orders DataFrame:\n",
    "\n",
    "#### Create the following DataFrame object and assign to the result variable (use product_id key).\n",
    "\n",
    "#### In response, print a result DataFrame to the console."
   ]
  },
  {
   "cell_type": "code",
   "execution_count": 2,
   "id": "772c6348",
   "metadata": {},
   "outputs": [
    {
     "name": "stdout",
     "output_type": "stream",
     "text": [
      "  product_id          name    price order_id  quantity\n",
      "0        001  mobile phone  1490.00     1002         1\n",
      "1        001  mobile phone  1490.00     1003         1\n",
      "2        001  mobile phone  1490.00     1006         1\n",
      "3        004        laptop  3400.00     1001         2\n",
      "4        007         mouse    59.99     1004         3\n",
      "5        007         mouse    59.99     1007         1\n",
      "6        010        tablet   999.00     1005         2\n"
     ]
    },
    {
     "name": "stderr",
     "output_type": "stream",
     "text": [
      "C:\\Users\\andre\\AppData\\Local\\Temp\\ipykernel_68884\\1098632988.py:25: FutureWarning: The frame.append method is deprecated and will be removed from pandas in a future version. Use pandas.concat instead.\n",
      "  orders = orders_day_1.append(orders_day_2, ignore_index=True)\n"
     ]
    }
   ],
   "source": [
    "import pandas as pd\n",
    "\n",
    "\n",
    "products_dict = {\n",
    "    'product_id': ['001', '004', '007', '010'],\n",
    "    'name': ['mobile phone', 'laptop', 'mouse', 'tablet'],\n",
    "    'price': [1490.0, 3400.0, 59.99, 999.00]\n",
    "}\n",
    "\n",
    "orders_day_1_dict = {\n",
    "    'order_id': ['1001', '1002', '1003', '1004'],\n",
    "    'product_id': ['004', '001', '001', '007'],\n",
    "    'quantity': [2, 1, 1, 3]\n",
    "}       \n",
    "\n",
    "orders_day_2_dict = {\n",
    "    'order_id': ['1005', '1006', '1007'],\n",
    "    'product_id': ['010', '001', '007'],\n",
    "    'quantity': [2, 1, 1]\n",
    "}                \n",
    "\n",
    "products = pd.DataFrame(products_dict)\n",
    "orders_day_1 = pd.DataFrame(orders_day_1_dict)\n",
    "orders_day_2 = pd.DataFrame(orders_day_2_dict)\n",
    "orders = orders_day_1.append(orders_day_2, ignore_index=True)\n",
    "\n",
    "result = pd.merge(products, orders, on = 'product_id')\n",
    "\n",
    "print(result)"
   ]
  },
  {
   "cell_type": "markdown",
   "id": "61d53a06",
   "metadata": {},
   "source": [
    "## Exercise 2:\n",
    "\n",
    "#### Based on the quantity and price columns, calculate a new column 'total' that stores the total amount for each order as shown below.\n",
    "\n",
    "#### In response, print a result DataFrame to the console."
   ]
  },
  {
   "cell_type": "code",
   "execution_count": 3,
   "id": "7927e449",
   "metadata": {},
   "outputs": [
    {
     "name": "stdout",
     "output_type": "stream",
     "text": [
      "  product_id          name    price order_id  quantity    total\n",
      "0        001  mobile phone  1490.00     1002         1  1490.00\n",
      "1        001  mobile phone  1490.00     1003         1  1490.00\n",
      "2        001  mobile phone  1490.00     1006         1  1490.00\n",
      "3        004        laptop  3400.00     1001         2  6800.00\n",
      "4        007         mouse    59.99     1004         3   179.97\n",
      "5        007         mouse    59.99     1007         1    59.99\n",
      "6        010        tablet   999.00     1005         2  1998.00\n"
     ]
    }
   ],
   "source": [
    "result['total'] = result['price']*result['quantity']\n",
    "\n",
    "print(result)"
   ]
  },
  {
   "cell_type": "markdown",
   "id": "3dbb900e",
   "metadata": {},
   "source": [
    "## Exercise 3:\n",
    "\n",
    "#### Save this DataFrame to the following files:\n",
    "\n",
    "- 'result.csv' -> skip index\n",
    "\n",
    "- 'result.html'\n",
    "\n",
    "- 'result.json' -> set indent to 4 spaces"
   ]
  },
  {
   "cell_type": "code",
   "execution_count": 4,
   "id": "27e78bc0",
   "metadata": {},
   "outputs": [],
   "source": [
    "result.to_csv('result.csv', index = False)\n",
    "result.to_html('result.html')\n",
    "result.to_json('result.json', indent =4)"
   ]
  }
 ],
 "metadata": {
  "kernelspec": {
   "display_name": "Python 3 (ipykernel)",
   "language": "python",
   "name": "python3"
  },
  "language_info": {
   "codemirror_mode": {
    "name": "ipython",
    "version": 3
   },
   "file_extension": ".py",
   "mimetype": "text/x-python",
   "name": "python",
   "nbconvert_exporter": "python",
   "pygments_lexer": "ipython3",
   "version": "3.9.13"
  }
 },
 "nbformat": 4,
 "nbformat_minor": 5
}
