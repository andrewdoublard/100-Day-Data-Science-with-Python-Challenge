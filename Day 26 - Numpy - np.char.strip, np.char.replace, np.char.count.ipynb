{
 "cells": [
  {
   "cell_type": "markdown",
   "id": "4ef0fba8",
   "metadata": {},
   "source": [
    "## Exercise 1\n",
    "#### The following array is given:\n",
    "\n",
    "A = np.array([['#summer#time#mood'],\n",
    "              ['#sport#time']])\n",
    "\n",
    "\n",
    "#### Replace all # characters with spaces and then strip all unnecessary white characters around the text as shown below. In response, print this array to the console.\n",
    "\n",
    "Tip: Use np.char.replace() and np.char.strip() function."
   ]
  },
  {
   "cell_type": "code",
   "execution_count": 2,
   "id": "a8ac3290",
   "metadata": {},
   "outputs": [
    {
     "name": "stdout",
     "output_type": "stream",
     "text": [
      "[['summer time mood']\n",
      " ['sport time']]\n"
     ]
    }
   ],
   "source": [
    "import numpy as np\n",
    "\n",
    "A = np.array([['#summer#time#mood'],\n",
    "              ['#sport#time']])\n",
    "\n",
    "A = np.char.replace(A, '#', ' ')\n",
    "\n",
    "E1 = np.char.strip(A)\n",
    "\n",
    "print(E1)"
   ]
  },
  {
   "cell_type": "markdown",
   "id": "b1aee55b",
   "metadata": {},
   "source": [
    "#### Notes:\n",
    "\n",
    "- np.char.replace is used to replace occurrences of a substring within each element of an array of strings with another substring. (array, substring to change, replacement substring).\n",
    "- np.char.strip is another function  that handles string operations on arrays of strings. It is used to remove leading and trailing characters from each element of an array of strings. ( Array, chars: str or unicode optional)\n",
    "    - Chars = The set of characters to remove. If not provided, it defaults to removing whitespace."
   ]
  },
  {
   "cell_type": "markdown",
   "id": "7fcbe94f",
   "metadata": {},
   "source": [
    "## Exercise 2\n",
    "#### The following array is given:\n",
    "\n",
    "A = np.array(\n",
    "    [\n",
    "        ['#summer#time#mood', '#vibe'],\n",
    "        ['#sport#time', '#good#time'],\n",
    "        ['#event#summer', '#fast#move'],\n",
    "    ]\n",
    ")\n",
    "\n",
    "\n",
    "#### Count the number of occurrences of the word 'time' in each element of this array.\n",
    "\n",
    "Tip: Use the np.char.count() function."
   ]
  },
  {
   "cell_type": "code",
   "execution_count": 3,
   "id": "8977a7ca",
   "metadata": {},
   "outputs": [
    {
     "name": "stdout",
     "output_type": "stream",
     "text": [
      "[[1 0]\n",
      " [1 1]\n",
      " [0 0]]\n"
     ]
    }
   ],
   "source": [
    "A = np.array(\n",
    "    [\n",
    "        ['#summer#time#mood', '#vibe'],\n",
    "        ['#sport#time', '#good#time'],\n",
    "        ['#event#summer', '#fast#move'],\n",
    "    ]\n",
    ")\n",
    "\n",
    "print(np.char.count(A, 'time'))"
   ]
  },
  {
   "cell_type": "markdown",
   "id": "518cdb61",
   "metadata": {},
   "source": [
    "#### Note:\n",
    "\n",
    "- np.char.count is a function used to count the number of non-overlapping occurrences of a substring in each element of an array of strings."
   ]
  },
  {
   "cell_type": "markdown",
   "id": "27f26b88",
   "metadata": {},
   "source": [
    "## Exercise 3\n",
    "#### The following text is given:\n",
    "\n",
    "#### Columns mean:\n",
    "\n",
    "Instrument | ISIN code | Package | Package (PLN) | Share in portfolio (%) | Share in trading shares and PDAs per session (%) | Average spread per session\n",
    "\n",
    "#### Split text into lines. Then split each line by the tab character \\t and create an array (without headers) containing the following data as shown below. Assign this array to the result variable and print it to the console."
   ]
  },
  {
   "cell_type": "code",
   "execution_count": 6,
   "id": "c9043919",
   "metadata": {},
   "outputs": [
    {
     "name": "stdout",
     "output_type": "stream",
     "text": [
      "[['ALIOR    PLALIOR00045    88 860 000    1 386 216 000    0,891    2,16    14']\n",
      " ['CCC    PLCCC0000016    27 918 000    1 292 603 400    0,831    5,28    42']\n",
      " ['CDPROJEKT    PLOPTTC00011    67 348 000    22 864 646 000    14,702    7,39    7']\n",
      " ['CYFRPLSAT    PLCFRPT00013    275 301 000    6 854 994 900    4,408    1,17    14']\n",
      " ['DINOPL    PLDINPL00011    47 937 000    8 916 282 000    5,733    9,13    12']\n",
      " ['JSW    PLJSW0000015    52 636 000    716 902 320    0,461    1,51    24']\n",
      " ['KGHM    PLKGHM000017    136 410 000    9 881 540 400    6,354    4,78    8']\n",
      " ['LOTOS    PLLOTOS00025    86 543 000    5 609 717 260    3,607    2,91    16']\n",
      " ['LPP    PLLPP0000011    1 306 000    7 444 200 000    4,787    1,43    19']\n",
      " ['MBANK    PLBRE0000012    12 997 000    2 830 746 600    1,820    0,42    24']\n",
      " ['ORANGEPL    PLTLKPL00017    647 357 000    4 285 503 340    2,756    1,16    13']\n",
      " ['PEKAO    PLPEKAO00016    176 379 000    9 619 710 660    6,185    5,27    9']\n",
      " ['PGE    PLPGER000010    796 776 000    3 561 588 720    2,290    2,88    18']\n",
      " ['PGNIG    PLPGNIG00014    1 624 608 000    6 072 784 704    3,905    1,56    12']\n",
      " ['PKNORLEN    PLPKN0000018    289 049 000    17 701 360 760    11,382    12,44    8']\n",
      " ['PKOBP    PLPKO0000016    857 593 000    18 807 014 490    12,093    10,49    9']\n",
      " ['PLAY    LU1642887738    114 151 000    3 696 209 380    2,377    1,47    16']\n",
      " ['PZU    PLPZU0000011    568 305 000    17 515 160 100    11,262    6,64    6']\n",
      " ['SANPL    PLBZ00000044    33 207 000    5 213 499 000    3,352    1,91    18']\n",
      " ['TAURONPE    PLTAURN00011    1 043 590 000    1 252 308 000    0,805    1,21    33']]\n"
     ]
    }
   ],
   "source": [
    "text = \"\"\"ALIOR    PLALIOR00045    88 860 000    1 386 216 000    0,891    2,16    14\n",
    "CCC    PLCCC0000016    27 918 000    1 292 603 400    0,831    5,28    42\n",
    "CDPROJEKT    PLOPTTC00011    67 348 000    22 864 646 000    14,702    7,39    7\n",
    "CYFRPLSAT    PLCFRPT00013    275 301 000    6 854 994 900    4,408    1,17    14\n",
    "DINOPL    PLDINPL00011    47 937 000    8 916 282 000    5,733    9,13    12\n",
    "JSW    PLJSW0000015    52 636 000    716 902 320    0,461    1,51    24\n",
    "KGHM    PLKGHM000017    136 410 000    9 881 540 400    6,354    4,78    8\n",
    "LOTOS    PLLOTOS00025    86 543 000    5 609 717 260    3,607    2,91    16\n",
    "LPP    PLLPP0000011    1 306 000    7 444 200 000    4,787    1,43    19\n",
    "MBANK    PLBRE0000012    12 997 000    2 830 746 600    1,820    0,42    24\n",
    "ORANGEPL    PLTLKPL00017    647 357 000    4 285 503 340    2,756    1,16    13\n",
    "PEKAO    PLPEKAO00016    176 379 000    9 619 710 660    6,185    5,27    9\n",
    "PGE    PLPGER000010    796 776 000    3 561 588 720    2,290    2,88    18\n",
    "PGNIG    PLPGNIG00014    1 624 608 000    6 072 784 704    3,905    1,56    12\n",
    "PKNORLEN    PLPKN0000018    289 049 000    17 701 360 760    11,382    12,44    8\n",
    "PKOBP    PLPKO0000016    857 593 000    18 807 014 490    12,093    10,49    9\n",
    "PLAY    LU1642887738    114 151 000    3 696 209 380    2,377    1,47    16\n",
    "PZU    PLPZU0000011    568 305 000    17 515 160 100    11,262    6,64    6\n",
    "SANPL    PLBZ00000044    33 207 000    5 213 499 000    3,352    1,91    18\n",
    "TAURONPE    PLTAURN00011    1 043 590 000    1 252 308 000    0,805    1,21    33\"\"\"\n",
    "\n",
    "lines = text.splitlines()\n",
    "\n",
    "lines = [line.split('\\t') for line in lines]\n",
    "\n",
    "E3 = np.array(lines, dtype=str)\n",
    "\n",
    "print(E3)"
   ]
  },
  {
   "cell_type": "markdown",
   "id": "dacf6cc7",
   "metadata": {},
   "source": [
    "#### Note:\n",
    "\n",
    "- The method .splitlines() belongs to Python's built-in string class (str). It is not part of an external library, but rather a method that can be used directly on any string object in Python.\n",
    "- The method .split() also belongs to Python's built-in string class (str). It is used to split a string into a list of substrings based on a specified delimiter. If no delimiter is specified, it defaults to splitting by any whitespace."
   ]
  }
 ],
 "metadata": {
  "kernelspec": {
   "display_name": "Python 3 (ipykernel)",
   "language": "python",
   "name": "python3"
  },
  "language_info": {
   "codemirror_mode": {
    "name": "ipython",
    "version": 3
   },
   "file_extension": ".py",
   "mimetype": "text/x-python",
   "name": "python",
   "nbconvert_exporter": "python",
   "pygments_lexer": "ipython3",
   "version": "3.9.13"
  }
 },
 "nbformat": 4,
 "nbformat_minor": 5
}
