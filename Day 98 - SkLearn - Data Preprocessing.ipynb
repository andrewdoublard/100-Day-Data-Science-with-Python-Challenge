{
 "cells": [
  {
   "cell_type": "markdown",
   "id": "8918225b",
   "metadata": {},
   "source": [
    "## Exercise 1:\n",
    "#### Set the pandas package options to display 15 columns of DataFrame and to display the line length of 150 characters.\n",
    "\n",
    "#### Then using the load_boston() function load the data into the raw_data variable. Based on the 'data' and 'target' keys of the raw_data variable, prepare the following DataFrame and assign to df variable:\n",
    "\n",
    "#### In response, print the first five rows of the df object to the console."
   ]
  },
  {
   "cell_type": "code",
   "execution_count": 9,
   "id": "8a973b0b",
   "metadata": {},
   "outputs": [
    {
     "name": "stdout",
     "output_type": "stream",
     "text": [
      "   MedInc  HouseAge  AveRooms  ...  Latitude  Longitude  target\n",
      "0  8.3252      41.0  6.984127  ...     37.88    -122.23   4.526\n",
      "1  8.3014      21.0  6.238137  ...     37.86    -122.22   3.585\n",
      "2  7.2574      52.0  8.288136  ...     37.85    -122.24   3.521\n",
      "3  5.6431      52.0  5.817352  ...     37.85    -122.25   3.413\n",
      "4  3.8462      52.0  6.281853  ...     37.85    -122.25   3.422\n",
      "\n",
      "[5 rows x 9 columns]\n"
     ]
    }
   ],
   "source": [
    "import pandas as pd\n",
    "import numpy as np\n",
    "from sklearn.datasets import fetch_california_housing ## Changed due to unethical nature of load_boston\n",
    "\n",
    "pd.set_option(\"display.max_columns\", 7)\n",
    "pd.set_option(\"display.width\", 150)\n",
    "\n",
    "raw_data = fetch_california_housing()\n",
    "\n",
    "df = pd.DataFrame(\n",
    "    data=np.c_[raw_data.data, raw_data.target],\n",
    "    columns=list(raw_data.feature_names) + ['target'],\n",
    ")\n",
    "\n",
    "print(df.head())"
   ]
  },
  {
   "cell_type": "markdown",
   "id": "82e48362",
   "metadata": {},
   "source": [
    "## Exercise 2:\n",
    "- Calculate the correlation of variables with the target variable (in descending order). Print the result to the console as shown below."
   ]
  },
  {
   "cell_type": "code",
   "execution_count": 15,
   "id": "f08bdcd6",
   "metadata": {},
   "outputs": [
    {
     "name": "stdout",
     "output_type": "stream",
     "text": [
      "MedInc        0.688075\n",
      "AveRooms      0.151948\n",
      "HouseAge      0.105623\n",
      "AveOccup     -0.023737\n",
      "Population   -0.024650\n",
      "Longitude    -0.045967\n",
      "AveBedrms    -0.046701\n",
      "Latitude     -0.144160\n",
      "Name: target, dtype: float64\n"
     ]
    }
   ],
   "source": [
    "df_corr = df.corr()\n",
    "\n",
    "df_corr = df_corr['target'].sort_values(ascending = False)\n",
    "\n",
    "print(df_corr[1:])"
   ]
  },
  {
   "cell_type": "markdown",
   "id": "9f5e3282",
   "metadata": {},
   "source": [
    "## Exercise 3:\n",
    "\n",
    "#### Copy the df DataFrame into the data variable. Then pop the target column out of the data object and assign to the target variable.\n",
    "\n",
    "#### In response, print the first five rows of the data object, then print a blank line and the first five rows of the target object as shown below."
   ]
  },
  {
   "cell_type": "code",
   "execution_count": 16,
   "id": "c5f48bb8",
   "metadata": {},
   "outputs": [
    {
     "name": "stdout",
     "output_type": "stream",
     "text": [
      "   MedInc  HouseAge  AveRooms  ...  AveOccup  Latitude  Longitude\n",
      "0  8.3252      41.0  6.984127  ...  2.555556     37.88    -122.23\n",
      "1  8.3014      21.0  6.238137  ...  2.109842     37.86    -122.22\n",
      "2  7.2574      52.0  8.288136  ...  2.802260     37.85    -122.24\n",
      "3  5.6431      52.0  5.817352  ...  2.547945     37.85    -122.25\n",
      "4  3.8462      52.0  6.281853  ...  2.181467     37.85    -122.25\n",
      "\n",
      "[5 rows x 8 columns]\n",
      "\n",
      "0    4.526\n",
      "1    3.585\n",
      "2    3.521\n",
      "3    3.413\n",
      "4    3.422\n",
      "Name: target, dtype: float64\n"
     ]
    }
   ],
   "source": [
    "data = df.drop(columns = ['target'])\n",
    "target = df['target']\n",
    "\n",
    "print(data.head())\n",
    "print()\n",
    "print(target.head())"
   ]
  }
 ],
 "metadata": {
  "kernelspec": {
   "display_name": "Python 3 (ipykernel)",
   "language": "python",
   "name": "python3"
  },
  "language_info": {
   "codemirror_mode": {
    "name": "ipython",
    "version": 3
   },
   "file_extension": ".py",
   "mimetype": "text/x-python",
   "name": "python",
   "nbconvert_exporter": "python",
   "pygments_lexer": "ipython3",
   "version": "3.9.13"
  }
 },
 "nbformat": 4,
 "nbformat_minor": 5
}
