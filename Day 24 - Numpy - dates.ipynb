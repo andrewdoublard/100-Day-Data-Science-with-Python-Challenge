{
 "cells": [
  {
   "cell_type": "markdown",
   "id": "8fd88a7a",
   "metadata": {},
   "source": [
    "## Exercise 1\n",
    "#### Using the np.arange() function, generate the following array:"
   ]
  },
  {
   "cell_type": "code",
   "execution_count": 2,
   "id": "b71323a9",
   "metadata": {},
   "outputs": [
    {
     "name": "stdout",
     "output_type": "stream",
     "text": [
      "['2021-01-01' '2021-01-02' '2021-01-03' '2021-01-04' '2021-01-05'\n",
      " '2021-01-06' '2021-01-07' '2021-01-08' '2021-01-09' '2021-01-10'\n",
      " '2021-01-11' '2021-01-12' '2021-01-13' '2021-01-14' '2021-01-15'\n",
      " '2021-01-16' '2021-01-17' '2021-01-18' '2021-01-19' '2021-01-20'\n",
      " '2021-01-21' '2021-01-22' '2021-01-23' '2021-01-24' '2021-01-25'\n",
      " '2021-01-26' '2021-01-27' '2021-01-28' '2021-01-29' '2021-01-30'\n",
      " '2021-01-31']\n"
     ]
    }
   ],
   "source": [
    "import numpy as np\n",
    "\n",
    "E1 = np.arange('2021-01-01', '2021-02-01', dtype='datetime64[D]')\n",
    "\n",
    "print(E1)"
   ]
  },
  {
   "cell_type": "markdown",
   "id": "09d4864b",
   "metadata": {},
   "source": [
    "#### Note:\n",
    "\n",
    "- Must specify the dtype to get an arange of dates."
   ]
  },
  {
   "cell_type": "markdown",
   "id": "756b4253",
   "metadata": {},
   "source": [
    "## Exercise 2\n",
    "#### Using the np.arange() function, generate the following array:\n",
    "\n",
    "\n",
    "\n",
    "[['2021-01' '2021-02' '2021-03']\n",
    " ['2021-04' '2021-05' '2021-06']\n",
    " ['2021-07' '2021-08' '2021-09']\n",
    " ['2021-10' '2021-11' '2021-12']]\n",
    "\n",
    "\n",
    "In response, print this array to the console."
   ]
  },
  {
   "cell_type": "code",
   "execution_count": 4,
   "id": "bb09de22",
   "metadata": {
    "scrolled": true
   },
   "outputs": [
    {
     "name": "stdout",
     "output_type": "stream",
     "text": [
      "[['2021-01' '2021-02' '2021-03']\n",
      " ['2021-04' '2021-05' '2021-06']\n",
      " ['2021-07' '2021-08' '2021-09']\n",
      " ['2021-10' '2021-11' '2021-12']]\n"
     ]
    }
   ],
   "source": [
    "E1 = np.arange('2021-01', '2022-01', dtype='datetime64[M]')\n",
    "\n",
    "E1 = E1.reshape(4,3)\n",
    "\n",
    "print(E1)"
   ]
  },
  {
   "cell_type": "markdown",
   "id": "4998fec4",
   "metadata": {},
   "source": [
    "#### Note:\n",
    "\n",
    "- [M] determines the dates will be of monthly frequency."
   ]
  },
  {
   "cell_type": "markdown",
   "id": "52a57b82",
   "metadata": {},
   "source": [
    "## Exercise 3\n",
    "#### Using the np.datetime64() function, generate today's date and print result to the console."
   ]
  },
  {
   "cell_type": "code",
   "execution_count": 5,
   "id": "500e1b89",
   "metadata": {},
   "outputs": [
    {
     "name": "stdout",
     "output_type": "stream",
     "text": [
      "2024-07-21\n"
     ]
    }
   ],
   "source": [
    "E3 = np.datetime64('today', 'D')\n",
    "print(E3) "
   ]
  }
 ],
 "metadata": {
  "kernelspec": {
   "display_name": "Python 3 (ipykernel)",
   "language": "python",
   "name": "python3"
  },
  "language_info": {
   "codemirror_mode": {
    "name": "ipython",
    "version": 3
   },
   "file_extension": ".py",
   "mimetype": "text/x-python",
   "name": "python",
   "nbconvert_exporter": "python",
   "pygments_lexer": "ipython3",
   "version": "3.9.13"
  }
 },
 "nbformat": 4,
 "nbformat_minor": 5
}
