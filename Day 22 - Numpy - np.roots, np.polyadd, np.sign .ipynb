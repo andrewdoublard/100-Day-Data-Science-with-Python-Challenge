{
 "cells": [
  {
   "cell_type": "markdown",
   "id": "9db35ad2",
   "metadata": {},
   "source": [
    "## Exercise 1\n",
    "\n",
    "#### Calculate the roots of the following polynomials:\n",
    "\n",
    "#### In response print these roots to the console as shown below.\n",
    "\n",
    "Tip: Use the np.roots() function."
   ]
  },
  {
   "cell_type": "code",
   "execution_count": 3,
   "id": "450bb98c",
   "metadata": {},
   "outputs": [
    {
     "name": "stdout",
     "output_type": "stream",
     "text": [
      "Roots of Q are  [-2.91610583  0.65388685  0.26221898]\n",
      "Roots of R are  [-1.67298165  1.46961743  0.20336421]\n"
     ]
    }
   ],
   "source": [
    "import numpy as np \n",
    "\n",
    "## Q = 2x^3 + 4x^2 - 5x + 1\n",
    "## R = 2x^3 - 5x + 1\n",
    "\n",
    "Q_coeff = np.array([2,4,-5,1])\n",
    "R_coeff = np.array([2,0,-5,1])\n",
    "\n",
    "Q_roots = np.roots(Q_coeff)\n",
    "R_roots = np.roots(R_coeff)\n",
    "\n",
    "print('Roots of Q are ', Q_roots)\n",
    "print('Roots of R are ', R_roots)"
   ]
  },
  {
   "cell_type": "markdown",
   "id": "816d9525",
   "metadata": {},
   "source": [
    "#### Note:\n",
    "\n",
    "- Coefficients to save to a new numpy array, and you include a 0 in polynomials where there is 0x^2."
   ]
  },
  {
   "cell_type": "markdown",
   "id": "f55d40ad",
   "metadata": {},
   "source": [
    "## Exercise 2\n",
    "#### The following polynomials are given:\n",
    "#### Perform the following operations and print results to the console as shown below:"
   ]
  },
  {
   "cell_type": "code",
   "execution_count": 6,
   "id": "7970b257",
   "metadata": {},
   "outputs": [
    {
     "name": "stdout",
     "output_type": "stream",
     "text": [
      "A+B = [2 8 0 2]\n",
      "A-B = [-2  0 10  0]\n",
      "A*B = [  8  26   2 -17   0   1]\n",
      "A+2B = [ 4 12 -5  3]\n"
     ]
    }
   ],
   "source": [
    "## A = 4x^2 + 5x + 1\n",
    "## B = 2x^3 + 4x^2 - 5x + 1\n",
    "\n",
    "A_coeff = np.array([0,4,5,1])\n",
    "B_coeff = np.array([2,4,-5,1])\n",
    "\n",
    "# A + B\n",
    "\n",
    "print('A+B =', np.polyadd(A_coeff,B_coeff))\n",
    "\n",
    "# A - B\n",
    "\n",
    "print('A-B =', np.polysub(A_coeff,B_coeff))\n",
    "\n",
    "# A * B\n",
    "\n",
    "print('A*B =', np.polymul(A_coeff,B_coeff))\n",
    "\n",
    "# A + 2B\n",
    "\n",
    "print('A+2B =', np.polyadd(A_coeff,2*B_coeff))"
   ]
  },
  {
   "cell_type": "markdown",
   "id": "91983791",
   "metadata": {},
   "source": [
    "#### Note:\n",
    "\n",
    "- These functions are used specifically for polynomial functions."
   ]
  },
  {
   "cell_type": "markdown",
   "id": "979b3306",
   "metadata": {},
   "source": [
    "## Exercise 3\n",
    "#### The following array is given:\n",
    "\n",
    "A = np.array([[-4, 3, 0, 1, -5],\n",
    "              [6, -4, -2, 1, 3]])\n",
    "\n",
    "\n",
    "#### Use the sign function for this array.\n",
    "\n",
    "Reminder: The sign function works as follows: returns -1 for negative values, zero for zero, and 1 for positive values.\n",
    "\n",
    "Tip: Use the np.sign() function."
   ]
  },
  {
   "cell_type": "code",
   "execution_count": 7,
   "id": "5df506aa",
   "metadata": {},
   "outputs": [
    {
     "name": "stdout",
     "output_type": "stream",
     "text": [
      "[[-1  1  0  1 -1]\n",
      " [ 1 -1 -1  1  1]]\n"
     ]
    }
   ],
   "source": [
    "A = np.array([[-4, 3, 0, 1, -5],\n",
    "              [6, -4, -2, 1, 3]])\n",
    "\n",
    "print(np.sign(A))"
   ]
  },
  {
   "cell_type": "markdown",
   "id": "a3ee6fa4",
   "metadata": {},
   "source": [
    "#### Note:\n",
    "\n",
    "- The numpy.sign function is used to determine the sign of each element in an array. It returns an array with the same shape as the input, where each element is replaced by its sign:\n",
    "    -1 for negative numbers,\n",
    "    0 for zero,\n",
    "    1 for positive numbers"
   ]
  }
 ],
 "metadata": {
  "kernelspec": {
   "display_name": "Python 3 (ipykernel)",
   "language": "python",
   "name": "python3"
  },
  "language_info": {
   "codemirror_mode": {
    "name": "ipython",
    "version": 3
   },
   "file_extension": ".py",
   "mimetype": "text/x-python",
   "name": "python",
   "nbconvert_exporter": "python",
   "pygments_lexer": "ipython3",
   "version": "3.9.13"
  }
 },
 "nbformat": 4,
 "nbformat_minor": 5
}
