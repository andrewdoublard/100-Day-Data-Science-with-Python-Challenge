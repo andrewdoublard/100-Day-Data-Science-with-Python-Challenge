{
 "cells": [
  {
   "cell_type": "markdown",
   "id": "2158fd87",
   "metadata": {},
   "source": [
    "## Exercise 1\n",
    "#### The following array:\n",
    "\n",
    "\n",
    "\n",
    "array([[0, 0, 0, 0, 0, 0],\n",
    "       [0, 0, 0, 0, 0, 0],\n",
    "       [0, 0, 0, 0, 0, 0],\n",
    "       [0, 0, 0, 0, 0, 0],\n",
    "       [0, 0, 0, 0, 0, 0],\n",
    "       [0, 0, 0, 0, 0, 0]])\n",
    "\n",
    "\n",
    "#### transform to the following:\n",
    "\n",
    "\n",
    "\n",
    "array([[10,  0, 10,  0, 10,  0],\n",
    "       [ 5,  0,  5,  0,  5,  0],\n",
    "       [10,  0, 10,  0, 10,  0],\n",
    "       [ 5,  0,  5,  0,  5,  0],\n",
    "       [10,  0, 10,  0, 10,  0],\n",
    "       [ 5,  0,  5,  0,  5,  0]])\n",
    "\n",
    "\n",
    "#### In response, print transformed array to the console.\n",
    "\n",
    "\n",
    "\n",
    "Tip: Use the slice operator and assign the appropriate values.\n",
    "\n"
   ]
  },
  {
   "cell_type": "code",
   "execution_count": 2,
   "id": "78452e1a",
   "metadata": {},
   "outputs": [
    {
     "name": "stdout",
     "output_type": "stream",
     "text": [
      "[[10.  0. 10.  0. 10.  0.]\n",
      " [ 5.  0.  5.  0.  5.  0.]\n",
      " [10.  0. 10.  0. 10.  0.]\n",
      " [ 5.  0.  5.  0.  5.  0.]\n",
      " [10.  0. 10.  0. 10.  0.]\n",
      " [ 5.  0.  5.  0.  5.  0.]]\n"
     ]
    }
   ],
   "source": [
    "import numpy as np\n",
    "\n",
    "A = np.zeros((6,6))\n",
    "\n",
    "A[::2, ::2] = 10\n",
    "A[1::2, ::2] = 5\n",
    "\n",
    "print(A)"
   ]
  },
  {
   "cell_type": "markdown",
   "id": "7d2ee1d1",
   "metadata": {},
   "source": [
    "#### Notes:\n",
    "\n",
    "1) A[::2, ::2] = 10: Sets every second element in both dimensions starting from (0,0) to 10.\n",
    "\n",
    "2) A[1::2, ::2] = 5: Sets every second element in rows starting from 1 and every second element in columns starting from 0 to 5."
   ]
  },
  {
   "cell_type": "markdown",
   "id": "85caf108",
   "metadata": {},
   "source": [
    "## Exercise 2\n",
    "#### Combine the following arrays into one as shown below and print it to the console.\n",
    "\n",
    "A = np.arange(12).reshape(-1, 4)\n",
    "B = np.array([[4, 3, 7, 2],\n",
    "              [0, 5, 2, 6]])\n",
    "\n",
    "\n",
    "Tip: Use the np.append() function."
   ]
  },
  {
   "cell_type": "code",
   "execution_count": 5,
   "id": "4d96e6da",
   "metadata": {},
   "outputs": [
    {
     "name": "stdout",
     "output_type": "stream",
     "text": [
      "[[ 0  1  2  3]\n",
      " [ 4  5  6  7]\n",
      " [ 8  9 10 11]\n",
      " [ 4  3  7  2]\n",
      " [ 0  5  2  6]]\n"
     ]
    }
   ],
   "source": [
    "A = np.arange(12).reshape(-1, 4) \n",
    "B = np.array([[4, 3, 7, 2], [0, 5, 2, 6]])\n",
    "\n",
    "C = np.append(A,B, axis = 0)\n",
    "\n",
    "print(C)"
   ]
  },
  {
   "cell_type": "markdown",
   "id": "bd4fc0c3",
   "metadata": {},
   "source": [
    "#### Notes:\n",
    "\n",
    "The np.append() function in NumPy is used to add values to the end of an array. It can append values along a specified axis of an array, or to a flattened version of the array if no axis is specified.\n",
    "\n",
    "- Parameters:\n",
    "    1) The array to which values will be appended.\n",
    "    2) The values to be appended to the array.\n",
    "    3) The axis along which to append the values. If None, both arr and values are flattened before use. Default is None."
   ]
  },
  {
   "cell_type": "markdown",
   "id": "0d81c9bd",
   "metadata": {},
   "source": [
    "## Exercise 3\n",
    "#### The following arrays are given:\n",
    "\n",
    "A = np.arange(8).reshape(-1, 4)\n",
    "B = np.array([[9, 10, 11, 3],\n",
    "              [2, 8, 0, 9]])      \n",
    "\n",
    "\n",
    "#### Extract the same elements (intersection) of the arrays as a list and print result to the console.\n",
    "\n",
    "Tip: Use the np.intersect1d() function."
   ]
  },
  {
   "cell_type": "code",
   "execution_count": 6,
   "id": "89ae8f72",
   "metadata": {},
   "outputs": [
    {
     "name": "stdout",
     "output_type": "stream",
     "text": [
      "[0 2 3]\n"
     ]
    }
   ],
   "source": [
    "A = np.arange(8).reshape(-1, 4) \n",
    "B = np.array([[9, 10, 11, 3], [2, 8, 0, 9]])\n",
    "\n",
    "C = np.intersect1d(A, B) \n",
    "\n",
    "print(C)"
   ]
  },
  {
   "cell_type": "markdown",
   "id": "f628955a",
   "metadata": {},
   "source": [
    "#### Note:\n",
    "\n",
    "The np.intersect1d() function in NumPy finds the intersection of two arrays, returning the sorted, unique values that are common to both input arrays. This is useful for identifying common elements in datasets."
   ]
  }
 ],
 "metadata": {
  "kernelspec": {
   "display_name": "Python 3 (ipykernel)",
   "language": "python",
   "name": "python3"
  },
  "language_info": {
   "codemirror_mode": {
    "name": "ipython",
    "version": 3
   },
   "file_extension": ".py",
   "mimetype": "text/x-python",
   "name": "python",
   "nbconvert_exporter": "python",
   "pygments_lexer": "ipython3",
   "version": "3.9.13"
  }
 },
 "nbformat": 4,
 "nbformat_minor": 5
}
