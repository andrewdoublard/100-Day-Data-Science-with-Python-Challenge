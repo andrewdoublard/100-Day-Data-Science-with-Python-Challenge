{
 "cells": [
  {
   "cell_type": "markdown",
   "id": "31bd9e9f",
   "metadata": {},
   "source": [
    "## Exercise 1\n",
    "#### The following array is given:\n",
    "\n",
    "#### Calculate the new column: the difference between the highest and lowest price.\n",
    "\n",
    "#### Steps:\n",
    "\n",
    "- Assign the calculated difference to the max_min_diff variable\n",
    "\n",
    "- Add the calculated column (variable max_min_diff) to the array playway_values at the end.\n",
    "\n",
    "#### In response, print result to the console."
   ]
  },
  {
   "cell_type": "code",
   "execution_count": 6,
   "id": "1e7141a0",
   "metadata": {},
   "outputs": [
    {
     "name": "stdout",
     "output_type": "stream",
     "text": [
      "[[   305.     324.5    283.5    310.   64081.      41. ]\n",
      " [   325.5    340.5    320.     340.5  55496.      20.5]\n",
      " [   324.     340.5    315.     330.   36152.      25.5]\n",
      " [   344.     344.     310.     315.   35992.      34. ]\n",
      " [   306.5    307.     291.     305.   32539.      16. ]\n",
      " [   274.     291.     250.     258.   79402.      41. ]\n",
      " [   278.     284.5    256.     264.   35700.      28.5]\n",
      " [   270.     270.     238.5    245.   60445.      31.5]\n",
      " [   218.     228.     196.     197.   94031.      32. ]\n",
      " [   210.     229.     198.8    211.  100412.      30.2]\n",
      " [   205.     248.     197.8    240.5  50659.      50.2]\n",
      " [   245.     269.     232.5    264.   99480.      36.5]\n",
      " [   264.     280.     251.     270.   70136.      29. ]\n",
      " [   267.     280.     267.     279.5  30732.      13. ]\n",
      " [   297.5    307.     280.     280.5  43426.      27. ]\n",
      " [   274.     289.     258.     285.   37098.      31. ]\n",
      " [   305.     309.     296.5    309.   31939.      12.5]\n",
      " [   313.     330.     295.     304.   46724.      35. ]\n",
      " [   300.     309.     295.5    300.   27213.      13.5]\n",
      " [   302.     306.5    290.     296.   13466.      16.5]\n",
      " [   299.     300.     287.     300.   10316.      13. ]\n",
      " [   302.5    309.     302.     306.5  15698.       7. ]]\n"
     ]
    }
   ],
   "source": [
    "import numpy as np\n",
    "\n",
    "\n",
    "np.set_printoptions(suppress=True)\n",
    "playway_values = np.array(\n",
    "    [\n",
    "        [305.0, 324.5, 283.5, 310.0, 64081.0],\n",
    "        [325.5, 340.5, 320.0, 340.5, 55496.0],\n",
    "        [324.0, 340.5, 315.0, 330.0, 36152.0],\n",
    "        [344.0, 344.0, 310.0, 315.0, 35992.0],\n",
    "        [306.5, 307.0, 291.0, 305.0, 32539.0],\n",
    "        [274.0, 291.0, 250.0, 258.0, 79402.0],\n",
    "        [278.0, 284.5, 256.0, 264.0, 35700.0],\n",
    "        [270.0, 270.0, 238.5, 245.0, 60445.0],\n",
    "        [218.0, 228.0, 196.0, 197.0, 94031.0],\n",
    "        [210.0, 229.0, 198.8, 211.0, 100412.0],\n",
    "        [205.0, 248.0, 197.8, 240.5, 50659.0],\n",
    "        [245.0, 269.0, 232.5, 264.0, 99480.0],\n",
    "        [264.0, 280.0, 251.0, 270.0, 70136.0],\n",
    "        [267.0, 280.0, 267.0, 279.5, 30732.0],\n",
    "        [297.5, 307.0, 280.0, 280.5, 43426.0],\n",
    "        [274.0, 289.0, 258.0, 285.0, 37098.0],\n",
    "        [305.0, 309.0, 296.5, 309.0, 31939.0],\n",
    "        [313.0, 330.0, 295.0, 304.0, 46724.0],\n",
    "        [300.0, 309.0, 295.5, 300.0, 27213.0],\n",
    "        [302.0, 306.5, 290.0, 296.0, 13466.0],\n",
    "        [299.0, 300.0, 287.0, 300.0, 10316.0],\n",
    "        [302.5, 309.0, 302.0, 306.5, 15698.0],\n",
    "    ]\n",
    ")\n",
    "\n",
    "max_min_diff = playway_values[:,1] - playway_values[:,2] ## Using slicing to minus the High by the low, thus the difference.\n",
    "\n",
    "max_min_diff = max_min_diff.reshape(22,1) ## Reshaping to a 2D Array so I can append it to the original\n",
    "\n",
    "playway_values = np.append(playway_values, max_min_diff, axis = 1) ## Apending by adding a column to the end.\n",
    "print(playway_values)"
   ]
  },
  {
   "cell_type": "markdown",
   "id": "0d7a6f4b",
   "metadata": {},
   "source": [
    "#### Note:\n",
    "\n",
    "- Could have also used playway_values = np.concatenate((playway_values, max_min_diff), axis=1)"
   ]
  },
  {
   "cell_type": "markdown",
   "id": "26caed0c",
   "metadata": {},
   "source": [
    "## Exercise 2\n",
    "#### The following array is given:\n",
    "\n",
    "#### Extract rows from this array where closing price (column with index 3) is greater than 300.0. In response, print result to the console."
   ]
  },
  {
   "cell_type": "code",
   "execution_count": 13,
   "id": "fedf2a24",
   "metadata": {},
   "outputs": [
    {
     "name": "stdout",
     "output_type": "stream",
     "text": [
      "[[  305.    324.5   283.5   310.  64081.     41. ]\n",
      " [  325.5   340.5   320.    340.5 55496.     20.5]\n",
      " [  324.    340.5   315.    330.  36152.     25.5]\n",
      " [  344.    344.    310.    315.  35992.     34. ]\n",
      " [  306.5   307.    291.    305.  32539.     16. ]\n",
      " [  305.    309.    296.5   309.  31939.     12.5]\n",
      " [  313.    330.    295.    304.  46724.     35. ]\n",
      " [  302.5   309.    302.    306.5 15698.      7. ]]\n"
     ]
    }
   ],
   "source": [
    "\n",
    "np.set_printoptions(suppress=True)\n",
    "playway_values = np.array(\n",
    "    [\n",
    "        [305.0, 324.5, 283.5, 310.0, 64081.0, 41.0],\n",
    "        [325.5, 340.5, 320.0, 340.5, 55496.0, 20.5],\n",
    "        [324.0, 340.5, 315.0, 330.0, 36152.0, 25.5],\n",
    "        [344.0, 344.0, 310.0, 315.0, 35992.0, 34.0],\n",
    "        [306.5, 307.0, 291.0, 305.0, 32539.0, 16.0],\n",
    "        [274.0, 291.0, 250.0, 258.0, 79402.0, 41.0],\n",
    "        [278.0, 284.5, 256.0, 264.0, 35700.0, 28.5],\n",
    "        [270.0, 270.0, 238.5, 245.0, 60445.0, 31.5],\n",
    "        [218.0, 228.0, 196.0, 197.0, 94031.0, 32.0],\n",
    "        [210.0, 229.0, 198.8, 211.0, 100412.0, 30.2],\n",
    "        [205.0, 248.0, 197.8, 240.5, 50659.0, 50.2],\n",
    "        [245.0, 269.0, 232.5, 264.0, 99480.0, 36.5],\n",
    "        [264.0, 280.0, 251.0, 270.0, 70136.0, 29.0],\n",
    "        [267.0, 280.0, 267.0, 279.5, 30732.0, 13.0],\n",
    "        [297.5, 307.0, 280.0, 280.5, 43426.0, 27.0],\n",
    "        [274.0, 289.0, 258.0, 285.0, 37098.0, 31.0],\n",
    "        [305.0, 309.0, 296.5, 309.0, 31939.0, 12.5],\n",
    "        [313.0, 330.0, 295.0, 304.0, 46724.0, 35.0],\n",
    "        [300.0, 309.0, 295.5, 300.0, 27213.0, 13.5],\n",
    "        [302.0, 306.5, 290.0, 296.0, 13466.0, 16.5],\n",
    "        [299.0, 300.0, 287.0, 300.0, 10316.0, 13.0],\n",
    "        [302.5, 309.0, 302.0, 306.5, 15698.0, 7.0],\n",
    "    ]\n",
    ")\n",
    "\n",
    "E2 = playway_values[playway_values[:, 3] > 300]\n",
    "\n",
    "print(E2)"
   ]
  },
  {
   "cell_type": "markdown",
   "id": "569c980d",
   "metadata": {},
   "source": [
    "#### Notes:\n",
    "\n",
    "- playway_values[:, 3] > 300 creates a boolean array where each element is True if the corresponding value in the fourth column is greater than 300 and False otherwise.\n",
    "- playway_values[playway_values[:, 3] > 300] uses this boolean array to index the original array, returning only the rows where the condition is True."
   ]
  },
  {
   "cell_type": "markdown",
   "id": "23b69cb7",
   "metadata": {},
   "source": [
    "## Exercise 3\n",
    "#### The following array is given:\n",
    "\n",
    "#### From this array extract the first 10 rows with the highest volume sorted in descending order.\n",
    "\n"
   ]
  },
  {
   "cell_type": "code",
   "execution_count": 18,
   "id": "dc11acc8",
   "metadata": {},
   "outputs": [
    {
     "name": "stdout",
     "output_type": "stream",
     "text": [
      "[[   210.     229.     198.8    211.  100412.      30.2]\n",
      " [   245.     269.     232.5    264.   99480.      36.5]\n",
      " [   218.     228.     196.     197.   94031.      32. ]\n",
      " [   274.     291.     250.     258.   79402.      41. ]\n",
      " [   264.     280.     251.     270.   70136.      29. ]\n",
      " [   305.     324.5    283.5    310.   64081.      41. ]\n",
      " [   270.     270.     238.5    245.   60445.      31.5]\n",
      " [   325.5    340.5    320.     340.5  55496.      20.5]\n",
      " [   205.     248.     197.8    240.5  50659.      50.2]\n",
      " [   313.     330.     295.     304.   46724.      35. ]]\n"
     ]
    }
   ],
   "source": [
    "np.set_printoptions(suppress=True)\n",
    "playway_values = np.array(\n",
    "    [\n",
    "        [305.0, 324.5, 283.5, 310.0, 64081.0, 41.0],\n",
    "        [325.5, 340.5, 320.0, 340.5, 55496.0, 20.5],\n",
    "        [324.0, 340.5, 315.0, 330.0, 36152.0, 25.5],\n",
    "        [344.0, 344.0, 310.0, 315.0, 35992.0, 34.0],\n",
    "        [306.5, 307.0, 291.0, 305.0, 32539.0, 16.0],\n",
    "        [274.0, 291.0, 250.0, 258.0, 79402.0, 41.0],\n",
    "        [278.0, 284.5, 256.0, 264.0, 35700.0, 28.5],\n",
    "        [270.0, 270.0, 238.5, 245.0, 60445.0, 31.5],\n",
    "        [218.0, 228.0, 196.0, 197.0, 94031.0, 32.0],\n",
    "        [210.0, 229.0, 198.8, 211.0, 100412.0, 30.2],\n",
    "        [205.0, 248.0, 197.8, 240.5, 50659.0, 50.2],\n",
    "        [245.0, 269.0, 232.5, 264.0, 99480.0, 36.5],\n",
    "        [264.0, 280.0, 251.0, 270.0, 70136.0, 29.0],\n",
    "        [267.0, 280.0, 267.0, 279.5, 30732.0, 13.0],\n",
    "        [297.5, 307.0, 280.0, 280.5, 43426.0, 27.0],\n",
    "        [274.0, 289.0, 258.0, 285.0, 37098.0, 31.0],\n",
    "        [305.0, 309.0, 296.5, 309.0, 31939.0, 12.5],\n",
    "        [313.0, 330.0, 295.0, 304.0, 46724.0, 35.0],\n",
    "        [300.0, 309.0, 295.5, 300.0, 27213.0, 13.5],\n",
    "        [302.0, 306.5, 290.0, 296.0, 13466.0, 16.5],\n",
    "        [299.0, 300.0, 287.0, 300.0, 10316.0, 13.0],\n",
    "        [302.5, 309.0, 302.0, 306.5, 15698.0, 7.0],\n",
    "    ]\n",
    ")\n",
    "\n",
    "sorted_indices = np.argsort(playway_values[:, 4])\n",
    "\n",
    "E3 = playway_values[sorted_indices[::-1]]\n",
    "\n",
    "E3 = E3[0:10,:]\n",
    "\n",
    "print(E3)"
   ]
  },
  {
   "cell_type": "markdown",
   "id": "e2321ccc",
   "metadata": {},
   "source": [
    "#### Notes:\n",
    "\n",
    "- Calculates the indices that would sort the array playway_values based on the values in the fifth column (index 4).\n",
    "- Reorders the rows of playway_values in descending order based on the previously calculated sorted indices. The [::-1] part reverses the order to achieve descending sorting.\n",
    "- The np.argsort() function returns the indices that would sort an array. It does not return the sorted values directly; instead, it returns the indices of the elements in the array in sorted order."
   ]
  },
  {
   "cell_type": "markdown",
   "id": "c315c3ec",
   "metadata": {},
   "source": [
    "## Exercise 4\n",
    "#### The following array is given:\n",
    "\n",
    "#### Add to this array column that returns 1 in case the close price is higher than the open price, otherwise 0."
   ]
  },
  {
   "cell_type": "code",
   "execution_count": 24,
   "id": "e52c2f71",
   "metadata": {},
   "outputs": [
    {
     "name": "stdout",
     "output_type": "stream",
     "text": [
      "[[   305.     324.5    283.5    310.   64081.      41.       1. ]\n",
      " [   325.5    340.5    320.     340.5  55496.      20.5      1. ]\n",
      " [   324.     340.5    315.     330.   36152.      25.5      1. ]\n",
      " [   344.     344.     310.     315.   35992.      34.       0. ]\n",
      " [   306.5    307.     291.     305.   32539.      16.       0. ]\n",
      " [   274.     291.     250.     258.   79402.      41.       0. ]\n",
      " [   278.     284.5    256.     264.   35700.      28.5      0. ]\n",
      " [   270.     270.     238.5    245.   60445.      31.5      0. ]\n",
      " [   218.     228.     196.     197.   94031.      32.       0. ]\n",
      " [   210.     229.     198.8    211.  100412.      30.2      1. ]\n",
      " [   205.     248.     197.8    240.5  50659.      50.2      1. ]\n",
      " [   245.     269.     232.5    264.   99480.      36.5      1. ]\n",
      " [   264.     280.     251.     270.   70136.      29.       1. ]\n",
      " [   267.     280.     267.     279.5  30732.      13.       1. ]\n",
      " [   297.5    307.     280.     280.5  43426.      27.       0. ]\n",
      " [   274.     289.     258.     285.   37098.      31.       1. ]\n",
      " [   305.     309.     296.5    309.   31939.      12.5      1. ]\n",
      " [   313.     330.     295.     304.   46724.      35.       0. ]\n",
      " [   300.     309.     295.5    300.   27213.      13.5      0. ]\n",
      " [   302.     306.5    290.     296.   13466.      16.5      0. ]\n",
      " [   299.     300.     287.     300.   10316.      13.       1. ]\n",
      " [   302.5    309.     302.     306.5  15698.       7.       1. ]]\n"
     ]
    }
   ],
   "source": [
    "np.set_printoptions(suppress=True)\n",
    "playway_values = np.array(\n",
    "    [\n",
    "        [305.0, 324.5, 283.5, 310.0, 64081.0, 41.0],\n",
    "        [325.5, 340.5, 320.0, 340.5, 55496.0, 20.5],\n",
    "        [324.0, 340.5, 315.0, 330.0, 36152.0, 25.5],\n",
    "        [344.0, 344.0, 310.0, 315.0, 35992.0, 34.0],\n",
    "        [306.5, 307.0, 291.0, 305.0, 32539.0, 16.0],\n",
    "        [274.0, 291.0, 250.0, 258.0, 79402.0, 41.0],\n",
    "        [278.0, 284.5, 256.0, 264.0, 35700.0, 28.5],\n",
    "        [270.0, 270.0, 238.5, 245.0, 60445.0, 31.5],\n",
    "        [218.0, 228.0, 196.0, 197.0, 94031.0, 32.0],\n",
    "        [210.0, 229.0, 198.8, 211.0, 100412.0, 30.2],\n",
    "        [205.0, 248.0, 197.8, 240.5, 50659.0, 50.2],\n",
    "        [245.0, 269.0, 232.5, 264.0, 99480.0, 36.5],\n",
    "        [264.0, 280.0, 251.0, 270.0, 70136.0, 29.0],\n",
    "        [267.0, 280.0, 267.0, 279.5, 30732.0, 13.0],\n",
    "        [297.5, 307.0, 280.0, 280.5, 43426.0, 27.0],\n",
    "        [274.0, 289.0, 258.0, 285.0, 37098.0, 31.0],\n",
    "        [305.0, 309.0, 296.5, 309.0, 31939.0, 12.5],\n",
    "        [313.0, 330.0, 295.0, 304.0, 46724.0, 35.0],\n",
    "        [300.0, 309.0, 295.5, 300.0, 27213.0, 13.5],\n",
    "        [302.0, 306.5, 290.0, 296.0, 13466.0, 16.5],\n",
    "        [299.0, 300.0, 287.0, 300.0, 10316.0, 13.0],\n",
    "        [302.5, 309.0, 302.0, 306.5, 15698.0, 7.0],\n",
    "    ]\n",
    ")\n",
    "\n",
    "results = [1 if row[3] > row[0] else 0 for row in playway_values]\n",
    "\n",
    "results_array = np.array(results).reshape(-1, 1)\n",
    "\n",
    "E4 = np.concatenate((playway_values, results_array), axis = 1)\n",
    "\n",
    "print(E4)"
   ]
  },
  {
   "cell_type": "markdown",
   "id": "3a1696a1",
   "metadata": {},
   "source": [
    "#### Notes:\n",
    "\n",
    "- Creates a list results where each element is 1 if the value in the fourth column of a row is greater than the value in the first column of the same row, and 0 otherwise.\n",
    "- Converts to numpy array so it can be concatenated as a last column. (Remember the '-1' means any number of rows in (-1,1)).\n",
    "- Can also use: flag = playway_values[:, [0]] < playway_values[:, [3]]\n",
    "   - This creates a boolean array which you can then turn into a 1 or 0 via astype(int)."
   ]
  }
 ],
 "metadata": {
  "kernelspec": {
   "display_name": "Python 3 (ipykernel)",
   "language": "python",
   "name": "python3"
  },
  "language_info": {
   "codemirror_mode": {
    "name": "ipython",
    "version": 3
   },
   "file_extension": ".py",
   "mimetype": "text/x-python",
   "name": "python",
   "nbconvert_exporter": "python",
   "pygments_lexer": "ipython3",
   "version": "3.9.13"
  }
 },
 "nbformat": 4,
 "nbformat_minor": 5
}
