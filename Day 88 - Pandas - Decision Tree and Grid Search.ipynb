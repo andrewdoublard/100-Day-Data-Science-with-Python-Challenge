{
 "cells": [
  {
   "cell_type": "markdown",
   "id": "23023108",
   "metadata": {},
   "source": [
    "## Exercise 1:\n",
    "#### The following arrays are given:\n",
    "\n",
    "- X_train, y_train\n",
    "\n",
    "- X_test, y_test\n",
    "\n",
    "#### Using the DecisionTreeClassifier class from the scikit-learn package, create classification model (set max_depth=6). Train the model on the train set and evaluate on the test set.\n",
    "\n",
    "#### In response, print the model accuracy (up to four decimal places) to the console as shown below."
   ]
  },
  {
   "cell_type": "code",
   "execution_count": 2,
   "id": "081d2a7d",
   "metadata": {},
   "outputs": [
    {
     "name": "stdout",
     "output_type": "stream",
     "text": [
      "Accuracy = 0.9280\n"
     ]
    }
   ],
   "source": [
    "import numpy as np\n",
    "import pandas as pd\n",
    "\n",
    "from sklearn.datasets import make_moons\n",
    "from sklearn.model_selection import train_test_split\n",
    "from sklearn.tree import DecisionTreeClassifier\n",
    "\n",
    "\n",
    "np.random.seed(42)\n",
    "raw_data = make_moons(n_samples=2000, noise=0.25, random_state=42)\n",
    "data = raw_data[0]\n",
    "target = raw_data[1]\n",
    "\n",
    "X_train, X_test, y_train, y_test = train_test_split(data, target)\n",
    "\n",
    "dtc = DecisionTreeClassifier(max_depth = 6)\n",
    "\n",
    "dtc.fit(X_train, y_train)\n",
    "\n",
    "score = dtc.score(X_test, y_test)\n",
    "\n",
    "print(f'Accuracy = {score:.4f}')"
   ]
  },
  {
   "cell_type": "markdown",
   "id": "f48d4896",
   "metadata": {},
   "source": [
    "## Exercise 2:\n",
    "\n",
    "#### Using the DecisionTreeClassifier class from the scikit-learn package, create a classification model (set max_depth=6 and min_samples_leaf=6). Train the model on the train set and evaluate on the test set.\n",
    "\n",
    "#### In response, print the model accuracy (up to four decimal places) to the console as shown below."
   ]
  },
  {
   "cell_type": "code",
   "execution_count": 3,
   "id": "f035e708",
   "metadata": {},
   "outputs": [
    {
     "name": "stdout",
     "output_type": "stream",
     "text": [
      "Accuracy = 0.9300\n"
     ]
    }
   ],
   "source": [
    "dtc = DecisionTreeClassifier(max_depth = 6, min_samples_leaf = 6)\n",
    "\n",
    "dtc.fit(X_train, y_train)\n",
    "\n",
    "score = dtc.score(X_test, y_test)\n",
    "\n",
    "print(f'Accuracy = {score:.4f}')"
   ]
  },
  {
   "cell_type": "markdown",
   "id": "782b28d0",
   "metadata": {},
   "source": [
    "## Exercise 3:\n",
    "\n",
    "#### Using the DecisionTreeClassifier class and grid search method (GridSearchCV class - set scoring='accuracy', cv=5) find the optimal values of the max_depth and min_samples_leaf arguments. Search for parameter values from the following:\n",
    "\n",
    "- for max_depth -> np.arange(1, 10)\n",
    "\n",
    "- for min_samples_leaf -> [1, 2, 3, 4, 5, 6, 7, 8, 9, 10, 15, 20]\n",
    "\n",
    "#### Train the model on the train set and evaluate on the test set. In response, print founded optimal values of max_depth and min_samples_leaf to the console."
   ]
  },
  {
   "cell_type": "code",
   "execution_count": 4,
   "id": "d54cf022",
   "metadata": {},
   "outputs": [
    {
     "name": "stdout",
     "output_type": "stream",
     "text": [
      "{'max_depth': 6, 'min_samples_leaf': 6}\n"
     ]
    }
   ],
   "source": [
    "from sklearn.model_selection import GridSearchCV\n",
    "\n",
    "dtc = DecisionTreeClassifier()\n",
    "\n",
    "params = {\n",
    "    'max_depth': np.arange(1, 10),\n",
    "    'min_samples_leaf': [1, 2, 3, 4, 5, 6, 7, 8, 9, 10, 15, 20],\n",
    "}\n",
    " \n",
    "grid_search = GridSearchCV(\n",
    "    dtc, param_grid=params, scoring='accuracy', cv=5\n",
    ")\n",
    "\n",
    "grid_search.fit(X_train, y_train)\n",
    "\n",
    "print(grid_search.best_params_)"
   ]
  },
  {
   "cell_type": "markdown",
   "id": "94c6365b",
   "metadata": {},
   "source": [
    "#### Notes:\n",
    "\n",
    "- GridSearchCV() exhaustively searches over a specified grid of hyperparameters to find the best model configuration by using cross-validation.\n",
    "    - Main Arguments:\n",
    "        - estimator: The model or pipeline you want to tune (e.g., RandomForestClassifier()).\n",
    "        - param_grid: Dictionary where keys are parameter names and values are lists of parameter settings to try.\n",
    "        - cv: Number of cross-validation folds (e.g., cv=5).\n",
    "        - scoring: Metric to evaluate model performance (e.g., scoring='accuracy').\n",
    "        - Execution: Use grid.fit(X, y) to perform the grid search.\n",
    "\n",
    "- gridsearch.best_params_: After fitting, this attribute returns the best combination of hyperparameters found during the search."
   ]
  }
 ],
 "metadata": {
  "kernelspec": {
   "display_name": "Python 3 (ipykernel)",
   "language": "python",
   "name": "python3"
  },
  "language_info": {
   "codemirror_mode": {
    "name": "ipython",
    "version": 3
   },
   "file_extension": ".py",
   "mimetype": "text/x-python",
   "name": "python",
   "nbconvert_exporter": "python",
   "pygments_lexer": "ipython3",
   "version": "3.9.13"
  }
 },
 "nbformat": 4,
 "nbformat_minor": 5
}
